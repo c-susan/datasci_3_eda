{
  "nbformat": 4,
  "nbformat_minor": 0,
  "metadata": {
    "colab": {
      "provenance": [],
      "authorship_tag": "ABX9TyN9ehd0aY8tzvecKhpYhqvu",
      "include_colab_link": true
    },
    "kernelspec": {
      "name": "python3",
      "display_name": "Python 3"
    },
    "language_info": {
      "name": "python"
    },
    "widgets": {
      "application/vnd.jupyter.widget-state+json": {
        "424367c7fa7848849b543850e336bd66": {
          "model_module": "@jupyter-widgets/controls",
          "model_name": "HBoxModel",
          "model_module_version": "1.5.0",
          "state": {
            "_dom_classes": [],
            "_model_module": "@jupyter-widgets/controls",
            "_model_module_version": "1.5.0",
            "_model_name": "HBoxModel",
            "_view_count": null,
            "_view_module": "@jupyter-widgets/controls",
            "_view_module_version": "1.5.0",
            "_view_name": "HBoxView",
            "box_style": "",
            "children": [
              "IPY_MODEL_85cec010d67c4016bbf9f116bc34676c",
              "IPY_MODEL_4474157d28dd4479a26478c101802c66",
              "IPY_MODEL_4929888aab124e6190c9c31ce6096128"
            ],
            "layout": "IPY_MODEL_93c6c296277f400fa975020dc4902d4b"
          }
        },
        "85cec010d67c4016bbf9f116bc34676c": {
          "model_module": "@jupyter-widgets/controls",
          "model_name": "HTMLModel",
          "model_module_version": "1.5.0",
          "state": {
            "_dom_classes": [],
            "_model_module": "@jupyter-widgets/controls",
            "_model_module_version": "1.5.0",
            "_model_name": "HTMLModel",
            "_view_count": null,
            "_view_module": "@jupyter-widgets/controls",
            "_view_module_version": "1.5.0",
            "_view_name": "HTMLView",
            "description": "",
            "description_tooltip": null,
            "layout": "IPY_MODEL_3bc3a39754b848c0b53452d5d5b2f9d0",
            "placeholder": "​",
            "style": "IPY_MODEL_a8f8d9e3fb154c0399b93c9a46dfbe01",
            "value": "Summarize dataset: 100%"
          }
        },
        "4474157d28dd4479a26478c101802c66": {
          "model_module": "@jupyter-widgets/controls",
          "model_name": "FloatProgressModel",
          "model_module_version": "1.5.0",
          "state": {
            "_dom_classes": [],
            "_model_module": "@jupyter-widgets/controls",
            "_model_module_version": "1.5.0",
            "_model_name": "FloatProgressModel",
            "_view_count": null,
            "_view_module": "@jupyter-widgets/controls",
            "_view_module_version": "1.5.0",
            "_view_name": "ProgressView",
            "bar_style": "success",
            "description": "",
            "description_tooltip": null,
            "layout": "IPY_MODEL_f434da9cae3d4e05888dfd24811ead65",
            "max": 5,
            "min": 0,
            "orientation": "horizontal",
            "style": "IPY_MODEL_600c3507bae44b6291ad98a235134705",
            "value": 5
          }
        },
        "4929888aab124e6190c9c31ce6096128": {
          "model_module": "@jupyter-widgets/controls",
          "model_name": "HTMLModel",
          "model_module_version": "1.5.0",
          "state": {
            "_dom_classes": [],
            "_model_module": "@jupyter-widgets/controls",
            "_model_module_version": "1.5.0",
            "_model_name": "HTMLModel",
            "_view_count": null,
            "_view_module": "@jupyter-widgets/controls",
            "_view_module_version": "1.5.0",
            "_view_name": "HTMLView",
            "description": "",
            "description_tooltip": null,
            "layout": "IPY_MODEL_8d36555241ed416bbd8f936a8dea78f0",
            "placeholder": "​",
            "style": "IPY_MODEL_693f8b5bed3f4f41b1b2c658319d835a",
            "value": " 75/75 [00:23&lt;00:00,  2.52it/s, Completed]"
          }
        },
        "93c6c296277f400fa975020dc4902d4b": {
          "model_module": "@jupyter-widgets/base",
          "model_name": "LayoutModel",
          "model_module_version": "1.2.0",
          "state": {
            "_model_module": "@jupyter-widgets/base",
            "_model_module_version": "1.2.0",
            "_model_name": "LayoutModel",
            "_view_count": null,
            "_view_module": "@jupyter-widgets/base",
            "_view_module_version": "1.2.0",
            "_view_name": "LayoutView",
            "align_content": null,
            "align_items": null,
            "align_self": null,
            "border": null,
            "bottom": null,
            "display": null,
            "flex": null,
            "flex_flow": null,
            "grid_area": null,
            "grid_auto_columns": null,
            "grid_auto_flow": null,
            "grid_auto_rows": null,
            "grid_column": null,
            "grid_gap": null,
            "grid_row": null,
            "grid_template_areas": null,
            "grid_template_columns": null,
            "grid_template_rows": null,
            "height": null,
            "justify_content": null,
            "justify_items": null,
            "left": null,
            "margin": null,
            "max_height": null,
            "max_width": null,
            "min_height": null,
            "min_width": null,
            "object_fit": null,
            "object_position": null,
            "order": null,
            "overflow": null,
            "overflow_x": null,
            "overflow_y": null,
            "padding": null,
            "right": null,
            "top": null,
            "visibility": null,
            "width": null
          }
        },
        "3bc3a39754b848c0b53452d5d5b2f9d0": {
          "model_module": "@jupyter-widgets/base",
          "model_name": "LayoutModel",
          "model_module_version": "1.2.0",
          "state": {
            "_model_module": "@jupyter-widgets/base",
            "_model_module_version": "1.2.0",
            "_model_name": "LayoutModel",
            "_view_count": null,
            "_view_module": "@jupyter-widgets/base",
            "_view_module_version": "1.2.0",
            "_view_name": "LayoutView",
            "align_content": null,
            "align_items": null,
            "align_self": null,
            "border": null,
            "bottom": null,
            "display": null,
            "flex": null,
            "flex_flow": null,
            "grid_area": null,
            "grid_auto_columns": null,
            "grid_auto_flow": null,
            "grid_auto_rows": null,
            "grid_column": null,
            "grid_gap": null,
            "grid_row": null,
            "grid_template_areas": null,
            "grid_template_columns": null,
            "grid_template_rows": null,
            "height": null,
            "justify_content": null,
            "justify_items": null,
            "left": null,
            "margin": null,
            "max_height": null,
            "max_width": null,
            "min_height": null,
            "min_width": null,
            "object_fit": null,
            "object_position": null,
            "order": null,
            "overflow": null,
            "overflow_x": null,
            "overflow_y": null,
            "padding": null,
            "right": null,
            "top": null,
            "visibility": null,
            "width": null
          }
        },
        "a8f8d9e3fb154c0399b93c9a46dfbe01": {
          "model_module": "@jupyter-widgets/controls",
          "model_name": "DescriptionStyleModel",
          "model_module_version": "1.5.0",
          "state": {
            "_model_module": "@jupyter-widgets/controls",
            "_model_module_version": "1.5.0",
            "_model_name": "DescriptionStyleModel",
            "_view_count": null,
            "_view_module": "@jupyter-widgets/base",
            "_view_module_version": "1.2.0",
            "_view_name": "StyleView",
            "description_width": ""
          }
        },
        "f434da9cae3d4e05888dfd24811ead65": {
          "model_module": "@jupyter-widgets/base",
          "model_name": "LayoutModel",
          "model_module_version": "1.2.0",
          "state": {
            "_model_module": "@jupyter-widgets/base",
            "_model_module_version": "1.2.0",
            "_model_name": "LayoutModel",
            "_view_count": null,
            "_view_module": "@jupyter-widgets/base",
            "_view_module_version": "1.2.0",
            "_view_name": "LayoutView",
            "align_content": null,
            "align_items": null,
            "align_self": null,
            "border": null,
            "bottom": null,
            "display": null,
            "flex": null,
            "flex_flow": null,
            "grid_area": null,
            "grid_auto_columns": null,
            "grid_auto_flow": null,
            "grid_auto_rows": null,
            "grid_column": null,
            "grid_gap": null,
            "grid_row": null,
            "grid_template_areas": null,
            "grid_template_columns": null,
            "grid_template_rows": null,
            "height": null,
            "justify_content": null,
            "justify_items": null,
            "left": null,
            "margin": null,
            "max_height": null,
            "max_width": null,
            "min_height": null,
            "min_width": null,
            "object_fit": null,
            "object_position": null,
            "order": null,
            "overflow": null,
            "overflow_x": null,
            "overflow_y": null,
            "padding": null,
            "right": null,
            "top": null,
            "visibility": null,
            "width": null
          }
        },
        "600c3507bae44b6291ad98a235134705": {
          "model_module": "@jupyter-widgets/controls",
          "model_name": "ProgressStyleModel",
          "model_module_version": "1.5.0",
          "state": {
            "_model_module": "@jupyter-widgets/controls",
            "_model_module_version": "1.5.0",
            "_model_name": "ProgressStyleModel",
            "_view_count": null,
            "_view_module": "@jupyter-widgets/base",
            "_view_module_version": "1.2.0",
            "_view_name": "StyleView",
            "bar_color": null,
            "description_width": ""
          }
        },
        "8d36555241ed416bbd8f936a8dea78f0": {
          "model_module": "@jupyter-widgets/base",
          "model_name": "LayoutModel",
          "model_module_version": "1.2.0",
          "state": {
            "_model_module": "@jupyter-widgets/base",
            "_model_module_version": "1.2.0",
            "_model_name": "LayoutModel",
            "_view_count": null,
            "_view_module": "@jupyter-widgets/base",
            "_view_module_version": "1.2.0",
            "_view_name": "LayoutView",
            "align_content": null,
            "align_items": null,
            "align_self": null,
            "border": null,
            "bottom": null,
            "display": null,
            "flex": null,
            "flex_flow": null,
            "grid_area": null,
            "grid_auto_columns": null,
            "grid_auto_flow": null,
            "grid_auto_rows": null,
            "grid_column": null,
            "grid_gap": null,
            "grid_row": null,
            "grid_template_areas": null,
            "grid_template_columns": null,
            "grid_template_rows": null,
            "height": null,
            "justify_content": null,
            "justify_items": null,
            "left": null,
            "margin": null,
            "max_height": null,
            "max_width": null,
            "min_height": null,
            "min_width": null,
            "object_fit": null,
            "object_position": null,
            "order": null,
            "overflow": null,
            "overflow_x": null,
            "overflow_y": null,
            "padding": null,
            "right": null,
            "top": null,
            "visibility": null,
            "width": null
          }
        },
        "693f8b5bed3f4f41b1b2c658319d835a": {
          "model_module": "@jupyter-widgets/controls",
          "model_name": "DescriptionStyleModel",
          "model_module_version": "1.5.0",
          "state": {
            "_model_module": "@jupyter-widgets/controls",
            "_model_module_version": "1.5.0",
            "_model_name": "DescriptionStyleModel",
            "_view_count": null,
            "_view_module": "@jupyter-widgets/base",
            "_view_module_version": "1.2.0",
            "_view_name": "StyleView",
            "description_width": ""
          }
        },
        "06d0645a4f5a46c7b472533ab5ec8422": {
          "model_module": "@jupyter-widgets/controls",
          "model_name": "HBoxModel",
          "model_module_version": "1.5.0",
          "state": {
            "_dom_classes": [],
            "_model_module": "@jupyter-widgets/controls",
            "_model_module_version": "1.5.0",
            "_model_name": "HBoxModel",
            "_view_count": null,
            "_view_module": "@jupyter-widgets/controls",
            "_view_module_version": "1.5.0",
            "_view_name": "HBoxView",
            "box_style": "",
            "children": [
              "IPY_MODEL_acb2950ca53345abafbbaa8bf7a3a767",
              "IPY_MODEL_9fbf7717ab024629945346e92ae7086e",
              "IPY_MODEL_0f561ab6e86946ab876ccfd86224c973"
            ],
            "layout": "IPY_MODEL_d162797e17254072b4492667a57844cc"
          }
        },
        "acb2950ca53345abafbbaa8bf7a3a767": {
          "model_module": "@jupyter-widgets/controls",
          "model_name": "HTMLModel",
          "model_module_version": "1.5.0",
          "state": {
            "_dom_classes": [],
            "_model_module": "@jupyter-widgets/controls",
            "_model_module_version": "1.5.0",
            "_model_name": "HTMLModel",
            "_view_count": null,
            "_view_module": "@jupyter-widgets/controls",
            "_view_module_version": "1.5.0",
            "_view_name": "HTMLView",
            "description": "",
            "description_tooltip": null,
            "layout": "IPY_MODEL_8ad0505168f64a15b13a47d187e2e943",
            "placeholder": "​",
            "style": "IPY_MODEL_16001de6a4b04bc3aa95112b2bc065aa",
            "value": "Generate report structure: 100%"
          }
        },
        "9fbf7717ab024629945346e92ae7086e": {
          "model_module": "@jupyter-widgets/controls",
          "model_name": "FloatProgressModel",
          "model_module_version": "1.5.0",
          "state": {
            "_dom_classes": [],
            "_model_module": "@jupyter-widgets/controls",
            "_model_module_version": "1.5.0",
            "_model_name": "FloatProgressModel",
            "_view_count": null,
            "_view_module": "@jupyter-widgets/controls",
            "_view_module_version": "1.5.0",
            "_view_name": "ProgressView",
            "bar_style": "success",
            "description": "",
            "description_tooltip": null,
            "layout": "IPY_MODEL_c12b13ecfb9c456e9281075c1a52d527",
            "max": 1,
            "min": 0,
            "orientation": "horizontal",
            "style": "IPY_MODEL_6cb8aed003e34e9494fe88a2cbc678d3",
            "value": 1
          }
        },
        "0f561ab6e86946ab876ccfd86224c973": {
          "model_module": "@jupyter-widgets/controls",
          "model_name": "HTMLModel",
          "model_module_version": "1.5.0",
          "state": {
            "_dom_classes": [],
            "_model_module": "@jupyter-widgets/controls",
            "_model_module_version": "1.5.0",
            "_model_name": "HTMLModel",
            "_view_count": null,
            "_view_module": "@jupyter-widgets/controls",
            "_view_module_version": "1.5.0",
            "_view_name": "HTMLView",
            "description": "",
            "description_tooltip": null,
            "layout": "IPY_MODEL_b0d267c21d8a4433a8f76a0bb33a80ca",
            "placeholder": "​",
            "style": "IPY_MODEL_7295ab3ceadc4a9ca1bcf4d1b6e7c408",
            "value": " 1/1 [00:14&lt;00:00, 14.31s/it]"
          }
        },
        "d162797e17254072b4492667a57844cc": {
          "model_module": "@jupyter-widgets/base",
          "model_name": "LayoutModel",
          "model_module_version": "1.2.0",
          "state": {
            "_model_module": "@jupyter-widgets/base",
            "_model_module_version": "1.2.0",
            "_model_name": "LayoutModel",
            "_view_count": null,
            "_view_module": "@jupyter-widgets/base",
            "_view_module_version": "1.2.0",
            "_view_name": "LayoutView",
            "align_content": null,
            "align_items": null,
            "align_self": null,
            "border": null,
            "bottom": null,
            "display": null,
            "flex": null,
            "flex_flow": null,
            "grid_area": null,
            "grid_auto_columns": null,
            "grid_auto_flow": null,
            "grid_auto_rows": null,
            "grid_column": null,
            "grid_gap": null,
            "grid_row": null,
            "grid_template_areas": null,
            "grid_template_columns": null,
            "grid_template_rows": null,
            "height": null,
            "justify_content": null,
            "justify_items": null,
            "left": null,
            "margin": null,
            "max_height": null,
            "max_width": null,
            "min_height": null,
            "min_width": null,
            "object_fit": null,
            "object_position": null,
            "order": null,
            "overflow": null,
            "overflow_x": null,
            "overflow_y": null,
            "padding": null,
            "right": null,
            "top": null,
            "visibility": null,
            "width": null
          }
        },
        "8ad0505168f64a15b13a47d187e2e943": {
          "model_module": "@jupyter-widgets/base",
          "model_name": "LayoutModel",
          "model_module_version": "1.2.0",
          "state": {
            "_model_module": "@jupyter-widgets/base",
            "_model_module_version": "1.2.0",
            "_model_name": "LayoutModel",
            "_view_count": null,
            "_view_module": "@jupyter-widgets/base",
            "_view_module_version": "1.2.0",
            "_view_name": "LayoutView",
            "align_content": null,
            "align_items": null,
            "align_self": null,
            "border": null,
            "bottom": null,
            "display": null,
            "flex": null,
            "flex_flow": null,
            "grid_area": null,
            "grid_auto_columns": null,
            "grid_auto_flow": null,
            "grid_auto_rows": null,
            "grid_column": null,
            "grid_gap": null,
            "grid_row": null,
            "grid_template_areas": null,
            "grid_template_columns": null,
            "grid_template_rows": null,
            "height": null,
            "justify_content": null,
            "justify_items": null,
            "left": null,
            "margin": null,
            "max_height": null,
            "max_width": null,
            "min_height": null,
            "min_width": null,
            "object_fit": null,
            "object_position": null,
            "order": null,
            "overflow": null,
            "overflow_x": null,
            "overflow_y": null,
            "padding": null,
            "right": null,
            "top": null,
            "visibility": null,
            "width": null
          }
        },
        "16001de6a4b04bc3aa95112b2bc065aa": {
          "model_module": "@jupyter-widgets/controls",
          "model_name": "DescriptionStyleModel",
          "model_module_version": "1.5.0",
          "state": {
            "_model_module": "@jupyter-widgets/controls",
            "_model_module_version": "1.5.0",
            "_model_name": "DescriptionStyleModel",
            "_view_count": null,
            "_view_module": "@jupyter-widgets/base",
            "_view_module_version": "1.2.0",
            "_view_name": "StyleView",
            "description_width": ""
          }
        },
        "c12b13ecfb9c456e9281075c1a52d527": {
          "model_module": "@jupyter-widgets/base",
          "model_name": "LayoutModel",
          "model_module_version": "1.2.0",
          "state": {
            "_model_module": "@jupyter-widgets/base",
            "_model_module_version": "1.2.0",
            "_model_name": "LayoutModel",
            "_view_count": null,
            "_view_module": "@jupyter-widgets/base",
            "_view_module_version": "1.2.0",
            "_view_name": "LayoutView",
            "align_content": null,
            "align_items": null,
            "align_self": null,
            "border": null,
            "bottom": null,
            "display": null,
            "flex": null,
            "flex_flow": null,
            "grid_area": null,
            "grid_auto_columns": null,
            "grid_auto_flow": null,
            "grid_auto_rows": null,
            "grid_column": null,
            "grid_gap": null,
            "grid_row": null,
            "grid_template_areas": null,
            "grid_template_columns": null,
            "grid_template_rows": null,
            "height": null,
            "justify_content": null,
            "justify_items": null,
            "left": null,
            "margin": null,
            "max_height": null,
            "max_width": null,
            "min_height": null,
            "min_width": null,
            "object_fit": null,
            "object_position": null,
            "order": null,
            "overflow": null,
            "overflow_x": null,
            "overflow_y": null,
            "padding": null,
            "right": null,
            "top": null,
            "visibility": null,
            "width": null
          }
        },
        "6cb8aed003e34e9494fe88a2cbc678d3": {
          "model_module": "@jupyter-widgets/controls",
          "model_name": "ProgressStyleModel",
          "model_module_version": "1.5.0",
          "state": {
            "_model_module": "@jupyter-widgets/controls",
            "_model_module_version": "1.5.0",
            "_model_name": "ProgressStyleModel",
            "_view_count": null,
            "_view_module": "@jupyter-widgets/base",
            "_view_module_version": "1.2.0",
            "_view_name": "StyleView",
            "bar_color": null,
            "description_width": ""
          }
        },
        "b0d267c21d8a4433a8f76a0bb33a80ca": {
          "model_module": "@jupyter-widgets/base",
          "model_name": "LayoutModel",
          "model_module_version": "1.2.0",
          "state": {
            "_model_module": "@jupyter-widgets/base",
            "_model_module_version": "1.2.0",
            "_model_name": "LayoutModel",
            "_view_count": null,
            "_view_module": "@jupyter-widgets/base",
            "_view_module_version": "1.2.0",
            "_view_name": "LayoutView",
            "align_content": null,
            "align_items": null,
            "align_self": null,
            "border": null,
            "bottom": null,
            "display": null,
            "flex": null,
            "flex_flow": null,
            "grid_area": null,
            "grid_auto_columns": null,
            "grid_auto_flow": null,
            "grid_auto_rows": null,
            "grid_column": null,
            "grid_gap": null,
            "grid_row": null,
            "grid_template_areas": null,
            "grid_template_columns": null,
            "grid_template_rows": null,
            "height": null,
            "justify_content": null,
            "justify_items": null,
            "left": null,
            "margin": null,
            "max_height": null,
            "max_width": null,
            "min_height": null,
            "min_width": null,
            "object_fit": null,
            "object_position": null,
            "order": null,
            "overflow": null,
            "overflow_x": null,
            "overflow_y": null,
            "padding": null,
            "right": null,
            "top": null,
            "visibility": null,
            "width": null
          }
        },
        "7295ab3ceadc4a9ca1bcf4d1b6e7c408": {
          "model_module": "@jupyter-widgets/controls",
          "model_name": "DescriptionStyleModel",
          "model_module_version": "1.5.0",
          "state": {
            "_model_module": "@jupyter-widgets/controls",
            "_model_module_version": "1.5.0",
            "_model_name": "DescriptionStyleModel",
            "_view_count": null,
            "_view_module": "@jupyter-widgets/base",
            "_view_module_version": "1.2.0",
            "_view_name": "StyleView",
            "description_width": ""
          }
        },
        "74b1871ab26541b8b6482ed249a901ca": {
          "model_module": "@jupyter-widgets/controls",
          "model_name": "HBoxModel",
          "model_module_version": "1.5.0",
          "state": {
            "_dom_classes": [],
            "_model_module": "@jupyter-widgets/controls",
            "_model_module_version": "1.5.0",
            "_model_name": "HBoxModel",
            "_view_count": null,
            "_view_module": "@jupyter-widgets/controls",
            "_view_module_version": "1.5.0",
            "_view_name": "HBoxView",
            "box_style": "",
            "children": [
              "IPY_MODEL_b3a2d9c06b8849af9f3df680a81cd835",
              "IPY_MODEL_732480fabe2a49b2b4e69e7e38193afa",
              "IPY_MODEL_c14915f47d724f22a819d9a866135bdf"
            ],
            "layout": "IPY_MODEL_a93d9abac83c46a58fe9ee82cd911a0c"
          }
        },
        "b3a2d9c06b8849af9f3df680a81cd835": {
          "model_module": "@jupyter-widgets/controls",
          "model_name": "HTMLModel",
          "model_module_version": "1.5.0",
          "state": {
            "_dom_classes": [],
            "_model_module": "@jupyter-widgets/controls",
            "_model_module_version": "1.5.0",
            "_model_name": "HTMLModel",
            "_view_count": null,
            "_view_module": "@jupyter-widgets/controls",
            "_view_module_version": "1.5.0",
            "_view_name": "HTMLView",
            "description": "",
            "description_tooltip": null,
            "layout": "IPY_MODEL_2b0c84bd182c42d982283347df2aab10",
            "placeholder": "​",
            "style": "IPY_MODEL_ee51f3ce8ecd43bfb3ede83ce66abc28",
            "value": "Render HTML: 100%"
          }
        },
        "732480fabe2a49b2b4e69e7e38193afa": {
          "model_module": "@jupyter-widgets/controls",
          "model_name": "FloatProgressModel",
          "model_module_version": "1.5.0",
          "state": {
            "_dom_classes": [],
            "_model_module": "@jupyter-widgets/controls",
            "_model_module_version": "1.5.0",
            "_model_name": "FloatProgressModel",
            "_view_count": null,
            "_view_module": "@jupyter-widgets/controls",
            "_view_module_version": "1.5.0",
            "_view_name": "ProgressView",
            "bar_style": "success",
            "description": "",
            "description_tooltip": null,
            "layout": "IPY_MODEL_a769df5fb6084c2c9c98d59bc95b7681",
            "max": 1,
            "min": 0,
            "orientation": "horizontal",
            "style": "IPY_MODEL_0848f83475804954a0f5b8e745ba6ca2",
            "value": 1
          }
        },
        "c14915f47d724f22a819d9a866135bdf": {
          "model_module": "@jupyter-widgets/controls",
          "model_name": "HTMLModel",
          "model_module_version": "1.5.0",
          "state": {
            "_dom_classes": [],
            "_model_module": "@jupyter-widgets/controls",
            "_model_module_version": "1.5.0",
            "_model_name": "HTMLModel",
            "_view_count": null,
            "_view_module": "@jupyter-widgets/controls",
            "_view_module_version": "1.5.0",
            "_view_name": "HTMLView",
            "description": "",
            "description_tooltip": null,
            "layout": "IPY_MODEL_4d76a774013e406ba91e6edc8a021816",
            "placeholder": "​",
            "style": "IPY_MODEL_15826a09c0ce4beb98684f563ca9712f",
            "value": " 1/1 [00:03&lt;00:00,  3.37s/it]"
          }
        },
        "a93d9abac83c46a58fe9ee82cd911a0c": {
          "model_module": "@jupyter-widgets/base",
          "model_name": "LayoutModel",
          "model_module_version": "1.2.0",
          "state": {
            "_model_module": "@jupyter-widgets/base",
            "_model_module_version": "1.2.0",
            "_model_name": "LayoutModel",
            "_view_count": null,
            "_view_module": "@jupyter-widgets/base",
            "_view_module_version": "1.2.0",
            "_view_name": "LayoutView",
            "align_content": null,
            "align_items": null,
            "align_self": null,
            "border": null,
            "bottom": null,
            "display": null,
            "flex": null,
            "flex_flow": null,
            "grid_area": null,
            "grid_auto_columns": null,
            "grid_auto_flow": null,
            "grid_auto_rows": null,
            "grid_column": null,
            "grid_gap": null,
            "grid_row": null,
            "grid_template_areas": null,
            "grid_template_columns": null,
            "grid_template_rows": null,
            "height": null,
            "justify_content": null,
            "justify_items": null,
            "left": null,
            "margin": null,
            "max_height": null,
            "max_width": null,
            "min_height": null,
            "min_width": null,
            "object_fit": null,
            "object_position": null,
            "order": null,
            "overflow": null,
            "overflow_x": null,
            "overflow_y": null,
            "padding": null,
            "right": null,
            "top": null,
            "visibility": null,
            "width": null
          }
        },
        "2b0c84bd182c42d982283347df2aab10": {
          "model_module": "@jupyter-widgets/base",
          "model_name": "LayoutModel",
          "model_module_version": "1.2.0",
          "state": {
            "_model_module": "@jupyter-widgets/base",
            "_model_module_version": "1.2.0",
            "_model_name": "LayoutModel",
            "_view_count": null,
            "_view_module": "@jupyter-widgets/base",
            "_view_module_version": "1.2.0",
            "_view_name": "LayoutView",
            "align_content": null,
            "align_items": null,
            "align_self": null,
            "border": null,
            "bottom": null,
            "display": null,
            "flex": null,
            "flex_flow": null,
            "grid_area": null,
            "grid_auto_columns": null,
            "grid_auto_flow": null,
            "grid_auto_rows": null,
            "grid_column": null,
            "grid_gap": null,
            "grid_row": null,
            "grid_template_areas": null,
            "grid_template_columns": null,
            "grid_template_rows": null,
            "height": null,
            "justify_content": null,
            "justify_items": null,
            "left": null,
            "margin": null,
            "max_height": null,
            "max_width": null,
            "min_height": null,
            "min_width": null,
            "object_fit": null,
            "object_position": null,
            "order": null,
            "overflow": null,
            "overflow_x": null,
            "overflow_y": null,
            "padding": null,
            "right": null,
            "top": null,
            "visibility": null,
            "width": null
          }
        },
        "ee51f3ce8ecd43bfb3ede83ce66abc28": {
          "model_module": "@jupyter-widgets/controls",
          "model_name": "DescriptionStyleModel",
          "model_module_version": "1.5.0",
          "state": {
            "_model_module": "@jupyter-widgets/controls",
            "_model_module_version": "1.5.0",
            "_model_name": "DescriptionStyleModel",
            "_view_count": null,
            "_view_module": "@jupyter-widgets/base",
            "_view_module_version": "1.2.0",
            "_view_name": "StyleView",
            "description_width": ""
          }
        },
        "a769df5fb6084c2c9c98d59bc95b7681": {
          "model_module": "@jupyter-widgets/base",
          "model_name": "LayoutModel",
          "model_module_version": "1.2.0",
          "state": {
            "_model_module": "@jupyter-widgets/base",
            "_model_module_version": "1.2.0",
            "_model_name": "LayoutModel",
            "_view_count": null,
            "_view_module": "@jupyter-widgets/base",
            "_view_module_version": "1.2.0",
            "_view_name": "LayoutView",
            "align_content": null,
            "align_items": null,
            "align_self": null,
            "border": null,
            "bottom": null,
            "display": null,
            "flex": null,
            "flex_flow": null,
            "grid_area": null,
            "grid_auto_columns": null,
            "grid_auto_flow": null,
            "grid_auto_rows": null,
            "grid_column": null,
            "grid_gap": null,
            "grid_row": null,
            "grid_template_areas": null,
            "grid_template_columns": null,
            "grid_template_rows": null,
            "height": null,
            "justify_content": null,
            "justify_items": null,
            "left": null,
            "margin": null,
            "max_height": null,
            "max_width": null,
            "min_height": null,
            "min_width": null,
            "object_fit": null,
            "object_position": null,
            "order": null,
            "overflow": null,
            "overflow_x": null,
            "overflow_y": null,
            "padding": null,
            "right": null,
            "top": null,
            "visibility": null,
            "width": null
          }
        },
        "0848f83475804954a0f5b8e745ba6ca2": {
          "model_module": "@jupyter-widgets/controls",
          "model_name": "ProgressStyleModel",
          "model_module_version": "1.5.0",
          "state": {
            "_model_module": "@jupyter-widgets/controls",
            "_model_module_version": "1.5.0",
            "_model_name": "ProgressStyleModel",
            "_view_count": null,
            "_view_module": "@jupyter-widgets/base",
            "_view_module_version": "1.2.0",
            "_view_name": "StyleView",
            "bar_color": null,
            "description_width": ""
          }
        },
        "4d76a774013e406ba91e6edc8a021816": {
          "model_module": "@jupyter-widgets/base",
          "model_name": "LayoutModel",
          "model_module_version": "1.2.0",
          "state": {
            "_model_module": "@jupyter-widgets/base",
            "_model_module_version": "1.2.0",
            "_model_name": "LayoutModel",
            "_view_count": null,
            "_view_module": "@jupyter-widgets/base",
            "_view_module_version": "1.2.0",
            "_view_name": "LayoutView",
            "align_content": null,
            "align_items": null,
            "align_self": null,
            "border": null,
            "bottom": null,
            "display": null,
            "flex": null,
            "flex_flow": null,
            "grid_area": null,
            "grid_auto_columns": null,
            "grid_auto_flow": null,
            "grid_auto_rows": null,
            "grid_column": null,
            "grid_gap": null,
            "grid_row": null,
            "grid_template_areas": null,
            "grid_template_columns": null,
            "grid_template_rows": null,
            "height": null,
            "justify_content": null,
            "justify_items": null,
            "left": null,
            "margin": null,
            "max_height": null,
            "max_width": null,
            "min_height": null,
            "min_width": null,
            "object_fit": null,
            "object_position": null,
            "order": null,
            "overflow": null,
            "overflow_x": null,
            "overflow_y": null,
            "padding": null,
            "right": null,
            "top": null,
            "visibility": null,
            "width": null
          }
        },
        "15826a09c0ce4beb98684f563ca9712f": {
          "model_module": "@jupyter-widgets/controls",
          "model_name": "DescriptionStyleModel",
          "model_module_version": "1.5.0",
          "state": {
            "_model_module": "@jupyter-widgets/controls",
            "_model_module_version": "1.5.0",
            "_model_name": "DescriptionStyleModel",
            "_view_count": null,
            "_view_module": "@jupyter-widgets/base",
            "_view_module_version": "1.2.0",
            "_view_name": "StyleView",
            "description_width": ""
          }
        },
        "40b906ecebc2498bb6e0d4584d1be047": {
          "model_module": "@jupyter-widgets/controls",
          "model_name": "HBoxModel",
          "model_module_version": "1.5.0",
          "state": {
            "_dom_classes": [],
            "_model_module": "@jupyter-widgets/controls",
            "_model_module_version": "1.5.0",
            "_model_name": "HBoxModel",
            "_view_count": null,
            "_view_module": "@jupyter-widgets/controls",
            "_view_module_version": "1.5.0",
            "_view_name": "HBoxView",
            "box_style": "",
            "children": [
              "IPY_MODEL_d7581237cb914f3785576640bf99efbd",
              "IPY_MODEL_d6c8f123efdf4f5c9e2b8bc4f204bc82",
              "IPY_MODEL_8cbf96c98b1f4244a253fea515ef0a10"
            ],
            "layout": "IPY_MODEL_bec72189b89f44deafbdc5bc853e26cb"
          }
        },
        "d7581237cb914f3785576640bf99efbd": {
          "model_module": "@jupyter-widgets/controls",
          "model_name": "HTMLModel",
          "model_module_version": "1.5.0",
          "state": {
            "_dom_classes": [],
            "_model_module": "@jupyter-widgets/controls",
            "_model_module_version": "1.5.0",
            "_model_name": "HTMLModel",
            "_view_count": null,
            "_view_module": "@jupyter-widgets/controls",
            "_view_module_version": "1.5.0",
            "_view_name": "HTMLView",
            "description": "",
            "description_tooltip": null,
            "layout": "IPY_MODEL_cd94381f4c3c4083964c76be9c125ac2",
            "placeholder": "​",
            "style": "IPY_MODEL_c7f0acbce1354358bd08f2878b75def8",
            "value": "Export report to file: 100%"
          }
        },
        "d6c8f123efdf4f5c9e2b8bc4f204bc82": {
          "model_module": "@jupyter-widgets/controls",
          "model_name": "FloatProgressModel",
          "model_module_version": "1.5.0",
          "state": {
            "_dom_classes": [],
            "_model_module": "@jupyter-widgets/controls",
            "_model_module_version": "1.5.0",
            "_model_name": "FloatProgressModel",
            "_view_count": null,
            "_view_module": "@jupyter-widgets/controls",
            "_view_module_version": "1.5.0",
            "_view_name": "ProgressView",
            "bar_style": "success",
            "description": "",
            "description_tooltip": null,
            "layout": "IPY_MODEL_cb8ed752cb7944ecae9c6c7b2b534496",
            "max": 1,
            "min": 0,
            "orientation": "horizontal",
            "style": "IPY_MODEL_0ef829756311460e9df505a7ebd212f5",
            "value": 1
          }
        },
        "8cbf96c98b1f4244a253fea515ef0a10": {
          "model_module": "@jupyter-widgets/controls",
          "model_name": "HTMLModel",
          "model_module_version": "1.5.0",
          "state": {
            "_dom_classes": [],
            "_model_module": "@jupyter-widgets/controls",
            "_model_module_version": "1.5.0",
            "_model_name": "HTMLModel",
            "_view_count": null,
            "_view_module": "@jupyter-widgets/controls",
            "_view_module_version": "1.5.0",
            "_view_name": "HTMLView",
            "description": "",
            "description_tooltip": null,
            "layout": "IPY_MODEL_afde966927704f668aa3958ca7683e39",
            "placeholder": "​",
            "style": "IPY_MODEL_529a03d9c0fe4a21a18d22fdb79107f2",
            "value": " 1/1 [00:00&lt;00:00, 11.81it/s]"
          }
        },
        "bec72189b89f44deafbdc5bc853e26cb": {
          "model_module": "@jupyter-widgets/base",
          "model_name": "LayoutModel",
          "model_module_version": "1.2.0",
          "state": {
            "_model_module": "@jupyter-widgets/base",
            "_model_module_version": "1.2.0",
            "_model_name": "LayoutModel",
            "_view_count": null,
            "_view_module": "@jupyter-widgets/base",
            "_view_module_version": "1.2.0",
            "_view_name": "LayoutView",
            "align_content": null,
            "align_items": null,
            "align_self": null,
            "border": null,
            "bottom": null,
            "display": null,
            "flex": null,
            "flex_flow": null,
            "grid_area": null,
            "grid_auto_columns": null,
            "grid_auto_flow": null,
            "grid_auto_rows": null,
            "grid_column": null,
            "grid_gap": null,
            "grid_row": null,
            "grid_template_areas": null,
            "grid_template_columns": null,
            "grid_template_rows": null,
            "height": null,
            "justify_content": null,
            "justify_items": null,
            "left": null,
            "margin": null,
            "max_height": null,
            "max_width": null,
            "min_height": null,
            "min_width": null,
            "object_fit": null,
            "object_position": null,
            "order": null,
            "overflow": null,
            "overflow_x": null,
            "overflow_y": null,
            "padding": null,
            "right": null,
            "top": null,
            "visibility": null,
            "width": null
          }
        },
        "cd94381f4c3c4083964c76be9c125ac2": {
          "model_module": "@jupyter-widgets/base",
          "model_name": "LayoutModel",
          "model_module_version": "1.2.0",
          "state": {
            "_model_module": "@jupyter-widgets/base",
            "_model_module_version": "1.2.0",
            "_model_name": "LayoutModel",
            "_view_count": null,
            "_view_module": "@jupyter-widgets/base",
            "_view_module_version": "1.2.0",
            "_view_name": "LayoutView",
            "align_content": null,
            "align_items": null,
            "align_self": null,
            "border": null,
            "bottom": null,
            "display": null,
            "flex": null,
            "flex_flow": null,
            "grid_area": null,
            "grid_auto_columns": null,
            "grid_auto_flow": null,
            "grid_auto_rows": null,
            "grid_column": null,
            "grid_gap": null,
            "grid_row": null,
            "grid_template_areas": null,
            "grid_template_columns": null,
            "grid_template_rows": null,
            "height": null,
            "justify_content": null,
            "justify_items": null,
            "left": null,
            "margin": null,
            "max_height": null,
            "max_width": null,
            "min_height": null,
            "min_width": null,
            "object_fit": null,
            "object_position": null,
            "order": null,
            "overflow": null,
            "overflow_x": null,
            "overflow_y": null,
            "padding": null,
            "right": null,
            "top": null,
            "visibility": null,
            "width": null
          }
        },
        "c7f0acbce1354358bd08f2878b75def8": {
          "model_module": "@jupyter-widgets/controls",
          "model_name": "DescriptionStyleModel",
          "model_module_version": "1.5.0",
          "state": {
            "_model_module": "@jupyter-widgets/controls",
            "_model_module_version": "1.5.0",
            "_model_name": "DescriptionStyleModel",
            "_view_count": null,
            "_view_module": "@jupyter-widgets/base",
            "_view_module_version": "1.2.0",
            "_view_name": "StyleView",
            "description_width": ""
          }
        },
        "cb8ed752cb7944ecae9c6c7b2b534496": {
          "model_module": "@jupyter-widgets/base",
          "model_name": "LayoutModel",
          "model_module_version": "1.2.0",
          "state": {
            "_model_module": "@jupyter-widgets/base",
            "_model_module_version": "1.2.0",
            "_model_name": "LayoutModel",
            "_view_count": null,
            "_view_module": "@jupyter-widgets/base",
            "_view_module_version": "1.2.0",
            "_view_name": "LayoutView",
            "align_content": null,
            "align_items": null,
            "align_self": null,
            "border": null,
            "bottom": null,
            "display": null,
            "flex": null,
            "flex_flow": null,
            "grid_area": null,
            "grid_auto_columns": null,
            "grid_auto_flow": null,
            "grid_auto_rows": null,
            "grid_column": null,
            "grid_gap": null,
            "grid_row": null,
            "grid_template_areas": null,
            "grid_template_columns": null,
            "grid_template_rows": null,
            "height": null,
            "justify_content": null,
            "justify_items": null,
            "left": null,
            "margin": null,
            "max_height": null,
            "max_width": null,
            "min_height": null,
            "min_width": null,
            "object_fit": null,
            "object_position": null,
            "order": null,
            "overflow": null,
            "overflow_x": null,
            "overflow_y": null,
            "padding": null,
            "right": null,
            "top": null,
            "visibility": null,
            "width": null
          }
        },
        "0ef829756311460e9df505a7ebd212f5": {
          "model_module": "@jupyter-widgets/controls",
          "model_name": "ProgressStyleModel",
          "model_module_version": "1.5.0",
          "state": {
            "_model_module": "@jupyter-widgets/controls",
            "_model_module_version": "1.5.0",
            "_model_name": "ProgressStyleModel",
            "_view_count": null,
            "_view_module": "@jupyter-widgets/base",
            "_view_module_version": "1.2.0",
            "_view_name": "StyleView",
            "bar_color": null,
            "description_width": ""
          }
        },
        "afde966927704f668aa3958ca7683e39": {
          "model_module": "@jupyter-widgets/base",
          "model_name": "LayoutModel",
          "model_module_version": "1.2.0",
          "state": {
            "_model_module": "@jupyter-widgets/base",
            "_model_module_version": "1.2.0",
            "_model_name": "LayoutModel",
            "_view_count": null,
            "_view_module": "@jupyter-widgets/base",
            "_view_module_version": "1.2.0",
            "_view_name": "LayoutView",
            "align_content": null,
            "align_items": null,
            "align_self": null,
            "border": null,
            "bottom": null,
            "display": null,
            "flex": null,
            "flex_flow": null,
            "grid_area": null,
            "grid_auto_columns": null,
            "grid_auto_flow": null,
            "grid_auto_rows": null,
            "grid_column": null,
            "grid_gap": null,
            "grid_row": null,
            "grid_template_areas": null,
            "grid_template_columns": null,
            "grid_template_rows": null,
            "height": null,
            "justify_content": null,
            "justify_items": null,
            "left": null,
            "margin": null,
            "max_height": null,
            "max_width": null,
            "min_height": null,
            "min_width": null,
            "object_fit": null,
            "object_position": null,
            "order": null,
            "overflow": null,
            "overflow_x": null,
            "overflow_y": null,
            "padding": null,
            "right": null,
            "top": null,
            "visibility": null,
            "width": null
          }
        },
        "529a03d9c0fe4a21a18d22fdb79107f2": {
          "model_module": "@jupyter-widgets/controls",
          "model_name": "DescriptionStyleModel",
          "model_module_version": "1.5.0",
          "state": {
            "_model_module": "@jupyter-widgets/controls",
            "_model_module_version": "1.5.0",
            "_model_name": "DescriptionStyleModel",
            "_view_count": null,
            "_view_module": "@jupyter-widgets/base",
            "_view_module_version": "1.2.0",
            "_view_name": "StyleView",
            "description_width": ""
          }
        }
      }
    }
  },
  "cells": [
    {
      "cell_type": "markdown",
      "metadata": {
        "id": "view-in-github",
        "colab_type": "text"
      },
      "source": [
        "<a href=\"https://colab.research.google.com/github/c-susan/datasci_3_eda/blob/main/hha507assignment3.ipynb\" target=\"_parent\"><img src=\"https://colab.research.google.com/assets/colab-badge.svg\" alt=\"Open In Colab\"/></a>"
      ]
    },
    {
      "cell_type": "markdown",
      "source": [
        "## Load Packages"
      ],
      "metadata": {
        "id": "lt5vjdNYAPap"
      }
    },
    {
      "cell_type": "code",
      "source": [
        "!pip install pandas_profiling"
      ],
      "metadata": {
        "id": "Vhk4SUF9bht1"
      },
      "execution_count": null,
      "outputs": []
    },
    {
      "cell_type": "code",
      "source": [
        "import pandas as pd\n",
        "import matplotlib.pyplot as plt\n",
        "import seaborn as sns\n",
        "import numpy as np\n",
        "import pandas as pd\n",
        "from pandas_profiling import ProfileReport"
      ],
      "metadata": {
        "id": "DxGVkQLECCSw",
        "colab": {
          "base_uri": "https://localhost:8080/"
        },
        "outputId": "6ec19450-76b8-4a22-f63b-06c02a6537a4"
      },
      "execution_count": 4,
      "outputs": [
        {
          "output_type": "stream",
          "name": "stderr",
          "text": [
            "<ipython-input-4-fda579b4c779>:6: DeprecationWarning: `import pandas_profiling` is going to be deprecated by April 1st. Please use `import ydata_profiling` instead.\n",
            "  from pandas_profiling import ProfileReport\n"
          ]
        }
      ]
    },
    {
      "cell_type": "markdown",
      "source": [
        "## Loading and Cleaning Dataset"
      ],
      "metadata": {
        "id": "x3X9cDLeATYf"
      }
    },
    {
      "cell_type": "code",
      "source": [
        "df = pd.read_csv('https://raw.githubusercontent.com/c-susan/datasci_3_eda/main/datasets/medicare_telehealth_trends_q12023.csv')"
      ],
      "metadata": {
        "id": "5zoCWuIWCCwM"
      },
      "execution_count": 6,
      "outputs": []
    },
    {
      "cell_type": "code",
      "source": [
        "# Checking for number of rows and columns\n",
        "print(f'Rows: {df.shape[0]}')\n",
        "print(f'Columns: {df.shape[1]}')"
      ],
      "metadata": {
        "colab": {
          "base_uri": "https://localhost:8080/"
        },
        "id": "sMH432EA00oH",
        "outputId": "649c5980-df00-463a-996e-d6ace1b5e688"
      },
      "execution_count": 7,
      "outputs": [
        {
          "output_type": "stream",
          "name": "stdout",
          "text": [
            "Rows: 19264\n",
            "Columns: 13\n"
          ]
        }
      ]
    },
    {
      "cell_type": "code",
      "source": [
        "# Preview of data\n",
        "df.sample(10)"
      ],
      "metadata": {
        "colab": {
          "base_uri": "https://localhost:8080/",
          "height": 413
        },
        "id": "NecP0Oto02Pf",
        "outputId": "6b005368-2322-4a76-9d23-a8bcfd7e0f82"
      },
      "execution_count": 8,
      "outputs": [
        {
          "output_type": "execute_result",
          "data": {
            "text/plain": [
              "       Year  quarter   Bene_Geo_Desc Bene_Mdcd_Mdcr_Enrl_Stus  \\\n",
              "15223  2022        3      New Jersey                      All   \n",
              "14232  2022        2  South Carolina                      All   \n",
              "9650   2021        4         Alabama                      All   \n",
              "16031  2022        4       Louisiana                      All   \n",
              "17899  2022  Overall           Texas                      All   \n",
              "13461  2022        2         Georgia                      All   \n",
              "9891   2021        4           Idaho                      All   \n",
              "6722   2021        1        Nebraska                      All   \n",
              "818    2020        1        New York                      All   \n",
              "12759  2022        1          Nevada                      All   \n",
              "\n",
              "               Bene_Race_Desc Bene_Sex_Desc Bene_Mdcr_Entlmt_Stus  \\\n",
              "15223  Black/African American           All                   All   \n",
              "14232      Non-Hispanic White           All                   All   \n",
              "9650            Other/Unknown           All                   All   \n",
              "16031                     All           All                   All   \n",
              "17899                     All           All                   All   \n",
              "13461                     All           All                   All   \n",
              "9891                      All           All                   All   \n",
              "6722                      All           All                   All   \n",
              "818                  Hispanic           All                   All   \n",
              "12759                     All           All                   All   \n",
              "\n",
              "      Bene_Age_Desc Bene_RUCA_Desc  Total_Bene_TH_Elig  Total_PartB_Enrl  \\\n",
              "15223           All            All             51422.0           67701.0   \n",
              "14232           All            All            409712.0          500612.0   \n",
              "9650            All            All                 NaN               NaN   \n",
              "16031          0-64            All             39290.0           54737.0   \n",
              "17899           All          Urban           1478196.0         1530299.0   \n",
              "13461           All        Unknown                 NaN               NaN   \n",
              "9891            All        Unknown                 NaN               NaN   \n",
              "6722            All            All            173192.0          242982.0   \n",
              "818             All            All             88863.0          126267.0   \n",
              "12759          0-64            All             17777.0           25166.0   \n",
              "\n",
              "       Total_Bene_Telehealth  Pct_Telehealth  \n",
              "15223                 9242.0          0.1797  \n",
              "14232                35803.0          0.0874  \n",
              "9650                     NaN             NaN  \n",
              "16031                 5629.0          0.1433  \n",
              "17899               481915.0          0.3260  \n",
              "13461                    NaN             NaN  \n",
              "9891                     NaN             NaN  \n",
              "6722                 22313.0          0.1288  \n",
              "818                   9304.0          0.1047  \n",
              "12759                 6320.0          0.3555  "
            ],
            "text/html": [
              "\n",
              "  <div id=\"df-a44460d6-dd53-4472-a84f-9c63bc33214a\" class=\"colab-df-container\">\n",
              "    <div>\n",
              "<style scoped>\n",
              "    .dataframe tbody tr th:only-of-type {\n",
              "        vertical-align: middle;\n",
              "    }\n",
              "\n",
              "    .dataframe tbody tr th {\n",
              "        vertical-align: top;\n",
              "    }\n",
              "\n",
              "    .dataframe thead th {\n",
              "        text-align: right;\n",
              "    }\n",
              "</style>\n",
              "<table border=\"1\" class=\"dataframe\">\n",
              "  <thead>\n",
              "    <tr style=\"text-align: right;\">\n",
              "      <th></th>\n",
              "      <th>Year</th>\n",
              "      <th>quarter</th>\n",
              "      <th>Bene_Geo_Desc</th>\n",
              "      <th>Bene_Mdcd_Mdcr_Enrl_Stus</th>\n",
              "      <th>Bene_Race_Desc</th>\n",
              "      <th>Bene_Sex_Desc</th>\n",
              "      <th>Bene_Mdcr_Entlmt_Stus</th>\n",
              "      <th>Bene_Age_Desc</th>\n",
              "      <th>Bene_RUCA_Desc</th>\n",
              "      <th>Total_Bene_TH_Elig</th>\n",
              "      <th>Total_PartB_Enrl</th>\n",
              "      <th>Total_Bene_Telehealth</th>\n",
              "      <th>Pct_Telehealth</th>\n",
              "    </tr>\n",
              "  </thead>\n",
              "  <tbody>\n",
              "    <tr>\n",
              "      <th>15223</th>\n",
              "      <td>2022</td>\n",
              "      <td>3</td>\n",
              "      <td>New Jersey</td>\n",
              "      <td>All</td>\n",
              "      <td>Black/African American</td>\n",
              "      <td>All</td>\n",
              "      <td>All</td>\n",
              "      <td>All</td>\n",
              "      <td>All</td>\n",
              "      <td>51422.0</td>\n",
              "      <td>67701.0</td>\n",
              "      <td>9242.0</td>\n",
              "      <td>0.1797</td>\n",
              "    </tr>\n",
              "    <tr>\n",
              "      <th>14232</th>\n",
              "      <td>2022</td>\n",
              "      <td>2</td>\n",
              "      <td>South Carolina</td>\n",
              "      <td>All</td>\n",
              "      <td>Non-Hispanic White</td>\n",
              "      <td>All</td>\n",
              "      <td>All</td>\n",
              "      <td>All</td>\n",
              "      <td>All</td>\n",
              "      <td>409712.0</td>\n",
              "      <td>500612.0</td>\n",
              "      <td>35803.0</td>\n",
              "      <td>0.0874</td>\n",
              "    </tr>\n",
              "    <tr>\n",
              "      <th>9650</th>\n",
              "      <td>2021</td>\n",
              "      <td>4</td>\n",
              "      <td>Alabama</td>\n",
              "      <td>All</td>\n",
              "      <td>Other/Unknown</td>\n",
              "      <td>All</td>\n",
              "      <td>All</td>\n",
              "      <td>All</td>\n",
              "      <td>All</td>\n",
              "      <td>NaN</td>\n",
              "      <td>NaN</td>\n",
              "      <td>NaN</td>\n",
              "      <td>NaN</td>\n",
              "    </tr>\n",
              "    <tr>\n",
              "      <th>16031</th>\n",
              "      <td>2022</td>\n",
              "      <td>4</td>\n",
              "      <td>Louisiana</td>\n",
              "      <td>All</td>\n",
              "      <td>All</td>\n",
              "      <td>All</td>\n",
              "      <td>All</td>\n",
              "      <td>0-64</td>\n",
              "      <td>All</td>\n",
              "      <td>39290.0</td>\n",
              "      <td>54737.0</td>\n",
              "      <td>5629.0</td>\n",
              "      <td>0.1433</td>\n",
              "    </tr>\n",
              "    <tr>\n",
              "      <th>17899</th>\n",
              "      <td>2022</td>\n",
              "      <td>Overall</td>\n",
              "      <td>Texas</td>\n",
              "      <td>All</td>\n",
              "      <td>All</td>\n",
              "      <td>All</td>\n",
              "      <td>All</td>\n",
              "      <td>All</td>\n",
              "      <td>Urban</td>\n",
              "      <td>1478196.0</td>\n",
              "      <td>1530299.0</td>\n",
              "      <td>481915.0</td>\n",
              "      <td>0.3260</td>\n",
              "    </tr>\n",
              "    <tr>\n",
              "      <th>13461</th>\n",
              "      <td>2022</td>\n",
              "      <td>2</td>\n",
              "      <td>Georgia</td>\n",
              "      <td>All</td>\n",
              "      <td>All</td>\n",
              "      <td>All</td>\n",
              "      <td>All</td>\n",
              "      <td>All</td>\n",
              "      <td>Unknown</td>\n",
              "      <td>NaN</td>\n",
              "      <td>NaN</td>\n",
              "      <td>NaN</td>\n",
              "      <td>NaN</td>\n",
              "    </tr>\n",
              "    <tr>\n",
              "      <th>9891</th>\n",
              "      <td>2021</td>\n",
              "      <td>4</td>\n",
              "      <td>Idaho</td>\n",
              "      <td>All</td>\n",
              "      <td>All</td>\n",
              "      <td>All</td>\n",
              "      <td>All</td>\n",
              "      <td>All</td>\n",
              "      <td>Unknown</td>\n",
              "      <td>NaN</td>\n",
              "      <td>NaN</td>\n",
              "      <td>NaN</td>\n",
              "      <td>NaN</td>\n",
              "    </tr>\n",
              "    <tr>\n",
              "      <th>6722</th>\n",
              "      <td>2021</td>\n",
              "      <td>1</td>\n",
              "      <td>Nebraska</td>\n",
              "      <td>All</td>\n",
              "      <td>All</td>\n",
              "      <td>All</td>\n",
              "      <td>All</td>\n",
              "      <td>All</td>\n",
              "      <td>All</td>\n",
              "      <td>173192.0</td>\n",
              "      <td>242982.0</td>\n",
              "      <td>22313.0</td>\n",
              "      <td>0.1288</td>\n",
              "    </tr>\n",
              "    <tr>\n",
              "      <th>818</th>\n",
              "      <td>2020</td>\n",
              "      <td>1</td>\n",
              "      <td>New York</td>\n",
              "      <td>All</td>\n",
              "      <td>Hispanic</td>\n",
              "      <td>All</td>\n",
              "      <td>All</td>\n",
              "      <td>All</td>\n",
              "      <td>All</td>\n",
              "      <td>88863.0</td>\n",
              "      <td>126267.0</td>\n",
              "      <td>9304.0</td>\n",
              "      <td>0.1047</td>\n",
              "    </tr>\n",
              "    <tr>\n",
              "      <th>12759</th>\n",
              "      <td>2022</td>\n",
              "      <td>1</td>\n",
              "      <td>Nevada</td>\n",
              "      <td>All</td>\n",
              "      <td>All</td>\n",
              "      <td>All</td>\n",
              "      <td>All</td>\n",
              "      <td>0-64</td>\n",
              "      <td>All</td>\n",
              "      <td>17777.0</td>\n",
              "      <td>25166.0</td>\n",
              "      <td>6320.0</td>\n",
              "      <td>0.3555</td>\n",
              "    </tr>\n",
              "  </tbody>\n",
              "</table>\n",
              "</div>\n",
              "    <div class=\"colab-df-buttons\">\n",
              "\n",
              "  <div class=\"colab-df-container\">\n",
              "    <button class=\"colab-df-convert\" onclick=\"convertToInteractive('df-a44460d6-dd53-4472-a84f-9c63bc33214a')\"\n",
              "            title=\"Convert this dataframe to an interactive table.\"\n",
              "            style=\"display:none;\">\n",
              "\n",
              "  <svg xmlns=\"http://www.w3.org/2000/svg\" height=\"24px\" viewBox=\"0 -960 960 960\">\n",
              "    <path d=\"M120-120v-720h720v720H120Zm60-500h600v-160H180v160Zm220 220h160v-160H400v160Zm0 220h160v-160H400v160ZM180-400h160v-160H180v160Zm440 0h160v-160H620v160ZM180-180h160v-160H180v160Zm440 0h160v-160H620v160Z\"/>\n",
              "  </svg>\n",
              "    </button>\n",
              "\n",
              "  <style>\n",
              "    .colab-df-container {\n",
              "      display:flex;\n",
              "      gap: 12px;\n",
              "    }\n",
              "\n",
              "    .colab-df-convert {\n",
              "      background-color: #E8F0FE;\n",
              "      border: none;\n",
              "      border-radius: 50%;\n",
              "      cursor: pointer;\n",
              "      display: none;\n",
              "      fill: #1967D2;\n",
              "      height: 32px;\n",
              "      padding: 0 0 0 0;\n",
              "      width: 32px;\n",
              "    }\n",
              "\n",
              "    .colab-df-convert:hover {\n",
              "      background-color: #E2EBFA;\n",
              "      box-shadow: 0px 1px 2px rgba(60, 64, 67, 0.3), 0px 1px 3px 1px rgba(60, 64, 67, 0.15);\n",
              "      fill: #174EA6;\n",
              "    }\n",
              "\n",
              "    .colab-df-buttons div {\n",
              "      margin-bottom: 4px;\n",
              "    }\n",
              "\n",
              "    [theme=dark] .colab-df-convert {\n",
              "      background-color: #3B4455;\n",
              "      fill: #D2E3FC;\n",
              "    }\n",
              "\n",
              "    [theme=dark] .colab-df-convert:hover {\n",
              "      background-color: #434B5C;\n",
              "      box-shadow: 0px 1px 3px 1px rgba(0, 0, 0, 0.15);\n",
              "      filter: drop-shadow(0px 1px 2px rgba(0, 0, 0, 0.3));\n",
              "      fill: #FFFFFF;\n",
              "    }\n",
              "  </style>\n",
              "\n",
              "    <script>\n",
              "      const buttonEl =\n",
              "        document.querySelector('#df-a44460d6-dd53-4472-a84f-9c63bc33214a button.colab-df-convert');\n",
              "      buttonEl.style.display =\n",
              "        google.colab.kernel.accessAllowed ? 'block' : 'none';\n",
              "\n",
              "      async function convertToInteractive(key) {\n",
              "        const element = document.querySelector('#df-a44460d6-dd53-4472-a84f-9c63bc33214a');\n",
              "        const dataTable =\n",
              "          await google.colab.kernel.invokeFunction('convertToInteractive',\n",
              "                                                    [key], {});\n",
              "        if (!dataTable) return;\n",
              "\n",
              "        const docLinkHtml = 'Like what you see? Visit the ' +\n",
              "          '<a target=\"_blank\" href=https://colab.research.google.com/notebooks/data_table.ipynb>data table notebook</a>'\n",
              "          + ' to learn more about interactive tables.';\n",
              "        element.innerHTML = '';\n",
              "        dataTable['output_type'] = 'display_data';\n",
              "        await google.colab.output.renderOutput(dataTable, element);\n",
              "        const docLink = document.createElement('div');\n",
              "        docLink.innerHTML = docLinkHtml;\n",
              "        element.appendChild(docLink);\n",
              "      }\n",
              "    </script>\n",
              "  </div>\n",
              "\n",
              "\n",
              "<div id=\"df-c989d154-3110-40dc-bdd9-7053342c48f2\">\n",
              "  <button class=\"colab-df-quickchart\" onclick=\"quickchart('df-c989d154-3110-40dc-bdd9-7053342c48f2')\"\n",
              "            title=\"Suggest charts.\"\n",
              "            style=\"display:none;\">\n",
              "\n",
              "<svg xmlns=\"http://www.w3.org/2000/svg\" height=\"24px\"viewBox=\"0 0 24 24\"\n",
              "     width=\"24px\">\n",
              "    <g>\n",
              "        <path d=\"M19 3H5c-1.1 0-2 .9-2 2v14c0 1.1.9 2 2 2h14c1.1 0 2-.9 2-2V5c0-1.1-.9-2-2-2zM9 17H7v-7h2v7zm4 0h-2V7h2v10zm4 0h-2v-4h2v4z\"/>\n",
              "    </g>\n",
              "</svg>\n",
              "  </button>\n",
              "\n",
              "<style>\n",
              "  .colab-df-quickchart {\n",
              "      --bg-color: #E8F0FE;\n",
              "      --fill-color: #1967D2;\n",
              "      --hover-bg-color: #E2EBFA;\n",
              "      --hover-fill-color: #174EA6;\n",
              "      --disabled-fill-color: #AAA;\n",
              "      --disabled-bg-color: #DDD;\n",
              "  }\n",
              "\n",
              "  [theme=dark] .colab-df-quickchart {\n",
              "      --bg-color: #3B4455;\n",
              "      --fill-color: #D2E3FC;\n",
              "      --hover-bg-color: #434B5C;\n",
              "      --hover-fill-color: #FFFFFF;\n",
              "      --disabled-bg-color: #3B4455;\n",
              "      --disabled-fill-color: #666;\n",
              "  }\n",
              "\n",
              "  .colab-df-quickchart {\n",
              "    background-color: var(--bg-color);\n",
              "    border: none;\n",
              "    border-radius: 50%;\n",
              "    cursor: pointer;\n",
              "    display: none;\n",
              "    fill: var(--fill-color);\n",
              "    height: 32px;\n",
              "    padding: 0;\n",
              "    width: 32px;\n",
              "  }\n",
              "\n",
              "  .colab-df-quickchart:hover {\n",
              "    background-color: var(--hover-bg-color);\n",
              "    box-shadow: 0 1px 2px rgba(60, 64, 67, 0.3), 0 1px 3px 1px rgba(60, 64, 67, 0.15);\n",
              "    fill: var(--button-hover-fill-color);\n",
              "  }\n",
              "\n",
              "  .colab-df-quickchart-complete:disabled,\n",
              "  .colab-df-quickchart-complete:disabled:hover {\n",
              "    background-color: var(--disabled-bg-color);\n",
              "    fill: var(--disabled-fill-color);\n",
              "    box-shadow: none;\n",
              "  }\n",
              "\n",
              "  .colab-df-spinner {\n",
              "    border: 2px solid var(--fill-color);\n",
              "    border-color: transparent;\n",
              "    border-bottom-color: var(--fill-color);\n",
              "    animation:\n",
              "      spin 1s steps(1) infinite;\n",
              "  }\n",
              "\n",
              "  @keyframes spin {\n",
              "    0% {\n",
              "      border-color: transparent;\n",
              "      border-bottom-color: var(--fill-color);\n",
              "      border-left-color: var(--fill-color);\n",
              "    }\n",
              "    20% {\n",
              "      border-color: transparent;\n",
              "      border-left-color: var(--fill-color);\n",
              "      border-top-color: var(--fill-color);\n",
              "    }\n",
              "    30% {\n",
              "      border-color: transparent;\n",
              "      border-left-color: var(--fill-color);\n",
              "      border-top-color: var(--fill-color);\n",
              "      border-right-color: var(--fill-color);\n",
              "    }\n",
              "    40% {\n",
              "      border-color: transparent;\n",
              "      border-right-color: var(--fill-color);\n",
              "      border-top-color: var(--fill-color);\n",
              "    }\n",
              "    60% {\n",
              "      border-color: transparent;\n",
              "      border-right-color: var(--fill-color);\n",
              "    }\n",
              "    80% {\n",
              "      border-color: transparent;\n",
              "      border-right-color: var(--fill-color);\n",
              "      border-bottom-color: var(--fill-color);\n",
              "    }\n",
              "    90% {\n",
              "      border-color: transparent;\n",
              "      border-bottom-color: var(--fill-color);\n",
              "    }\n",
              "  }\n",
              "</style>\n",
              "\n",
              "  <script>\n",
              "    async function quickchart(key) {\n",
              "      const quickchartButtonEl =\n",
              "        document.querySelector('#' + key + ' button');\n",
              "      quickchartButtonEl.disabled = true;  // To prevent multiple clicks.\n",
              "      quickchartButtonEl.classList.add('colab-df-spinner');\n",
              "      try {\n",
              "        const charts = await google.colab.kernel.invokeFunction(\n",
              "            'suggestCharts', [key], {});\n",
              "      } catch (error) {\n",
              "        console.error('Error during call to suggestCharts:', error);\n",
              "      }\n",
              "      quickchartButtonEl.classList.remove('colab-df-spinner');\n",
              "      quickchartButtonEl.classList.add('colab-df-quickchart-complete');\n",
              "    }\n",
              "    (() => {\n",
              "      let quickchartButtonEl =\n",
              "        document.querySelector('#df-c989d154-3110-40dc-bdd9-7053342c48f2 button');\n",
              "      quickchartButtonEl.style.display =\n",
              "        google.colab.kernel.accessAllowed ? 'block' : 'none';\n",
              "    })();\n",
              "  </script>\n",
              "</div>\n",
              "    </div>\n",
              "  </div>\n"
            ]
          },
          "metadata": {},
          "execution_count": 8
        }
      ]
    },
    {
      "cell_type": "code",
      "source": [
        "# Cleaning column names\n",
        "columnNames = list(df)\n",
        "df.columns = [name.strip().lower() for name in columnNames]\n",
        "df"
      ],
      "metadata": {
        "colab": {
          "base_uri": "https://localhost:8080/",
          "height": 456
        },
        "id": "FVo1ELOm1UXz",
        "outputId": "7400fcb9-aa7d-4c32-dd9e-c77b16d61670"
      },
      "execution_count": 9,
      "outputs": [
        {
          "output_type": "execute_result",
          "data": {
            "text/plain": [
              "       year quarter bene_geo_desc bene_mdcd_mdcr_enrl_stus  \\\n",
              "0      2020       1       Alabama                      All   \n",
              "1      2020       1       Alabama                      All   \n",
              "2      2020       1       Alabama                      All   \n",
              "3      2020       1       Alabama                      All   \n",
              "4      2020       1       Alabama                      All   \n",
              "...     ...     ...           ...                      ...   \n",
              "19259  2023       1       Wyoming                      All   \n",
              "19260  2023       1       Wyoming                      All   \n",
              "19261  2023       1       Wyoming                      All   \n",
              "19262  2023       1       Wyoming      Medicare & Medicaid   \n",
              "19263  2023       1       Wyoming            Medicare Only   \n",
              "\n",
              "           bene_race_desc bene_sex_desc bene_mdcr_entlmt_stus bene_age_desc  \\\n",
              "0                     All           All                  Aged           All   \n",
              "1                     All           All                   All          0-64   \n",
              "2                     All           All                   All         65-74   \n",
              "3                     All           All                   All         75-84   \n",
              "4                     All           All                   All   85 and over   \n",
              "...                   ...           ...                   ...           ...   \n",
              "19259            Hispanic           All                   All           All   \n",
              "19260  Non-Hispanic White           All                   All           All   \n",
              "19261       Other/Unknown           All                   All           All   \n",
              "19262                 All           All                   All           All   \n",
              "19263                 All           All                   All           All   \n",
              "\n",
              "      bene_ruca_desc  total_bene_th_elig  total_partb_enrl  \\\n",
              "0                All            321952.0          410710.0   \n",
              "1                All             68081.0           93955.0   \n",
              "2                All            163291.0          217543.0   \n",
              "3                All            113008.0          136957.0   \n",
              "4                All             49169.0           59755.0   \n",
              "...              ...                 ...               ...   \n",
              "19259            All              2476.0            3786.0   \n",
              "19260            All             59795.0           89194.0   \n",
              "19261            All                 NaN               NaN   \n",
              "19262            All              7781.0           10302.0   \n",
              "19263            All             57582.0           87532.0   \n",
              "\n",
              "       total_bene_telehealth  pct_telehealth  \n",
              "0                    16321.0          0.0507  \n",
              "1                     5254.0          0.0772  \n",
              "2                     8652.0          0.0530  \n",
              "3                     5712.0          0.0505  \n",
              "4                     2178.0          0.0443  \n",
              "...                      ...             ...  \n",
              "19259                  213.0          0.0860  \n",
              "19260                 4813.0          0.0805  \n",
              "19261                    NaN             NaN  \n",
              "19262                 1373.0          0.1765  \n",
              "19263                 3976.0          0.0690  \n",
              "\n",
              "[19264 rows x 13 columns]"
            ],
            "text/html": [
              "\n",
              "  <div id=\"df-d49d96db-95a3-4b77-a7c6-c7a5b6cefc97\" class=\"colab-df-container\">\n",
              "    <div>\n",
              "<style scoped>\n",
              "    .dataframe tbody tr th:only-of-type {\n",
              "        vertical-align: middle;\n",
              "    }\n",
              "\n",
              "    .dataframe tbody tr th {\n",
              "        vertical-align: top;\n",
              "    }\n",
              "\n",
              "    .dataframe thead th {\n",
              "        text-align: right;\n",
              "    }\n",
              "</style>\n",
              "<table border=\"1\" class=\"dataframe\">\n",
              "  <thead>\n",
              "    <tr style=\"text-align: right;\">\n",
              "      <th></th>\n",
              "      <th>year</th>\n",
              "      <th>quarter</th>\n",
              "      <th>bene_geo_desc</th>\n",
              "      <th>bene_mdcd_mdcr_enrl_stus</th>\n",
              "      <th>bene_race_desc</th>\n",
              "      <th>bene_sex_desc</th>\n",
              "      <th>bene_mdcr_entlmt_stus</th>\n",
              "      <th>bene_age_desc</th>\n",
              "      <th>bene_ruca_desc</th>\n",
              "      <th>total_bene_th_elig</th>\n",
              "      <th>total_partb_enrl</th>\n",
              "      <th>total_bene_telehealth</th>\n",
              "      <th>pct_telehealth</th>\n",
              "    </tr>\n",
              "  </thead>\n",
              "  <tbody>\n",
              "    <tr>\n",
              "      <th>0</th>\n",
              "      <td>2020</td>\n",
              "      <td>1</td>\n",
              "      <td>Alabama</td>\n",
              "      <td>All</td>\n",
              "      <td>All</td>\n",
              "      <td>All</td>\n",
              "      <td>Aged</td>\n",
              "      <td>All</td>\n",
              "      <td>All</td>\n",
              "      <td>321952.0</td>\n",
              "      <td>410710.0</td>\n",
              "      <td>16321.0</td>\n",
              "      <td>0.0507</td>\n",
              "    </tr>\n",
              "    <tr>\n",
              "      <th>1</th>\n",
              "      <td>2020</td>\n",
              "      <td>1</td>\n",
              "      <td>Alabama</td>\n",
              "      <td>All</td>\n",
              "      <td>All</td>\n",
              "      <td>All</td>\n",
              "      <td>All</td>\n",
              "      <td>0-64</td>\n",
              "      <td>All</td>\n",
              "      <td>68081.0</td>\n",
              "      <td>93955.0</td>\n",
              "      <td>5254.0</td>\n",
              "      <td>0.0772</td>\n",
              "    </tr>\n",
              "    <tr>\n",
              "      <th>2</th>\n",
              "      <td>2020</td>\n",
              "      <td>1</td>\n",
              "      <td>Alabama</td>\n",
              "      <td>All</td>\n",
              "      <td>All</td>\n",
              "      <td>All</td>\n",
              "      <td>All</td>\n",
              "      <td>65-74</td>\n",
              "      <td>All</td>\n",
              "      <td>163291.0</td>\n",
              "      <td>217543.0</td>\n",
              "      <td>8652.0</td>\n",
              "      <td>0.0530</td>\n",
              "    </tr>\n",
              "    <tr>\n",
              "      <th>3</th>\n",
              "      <td>2020</td>\n",
              "      <td>1</td>\n",
              "      <td>Alabama</td>\n",
              "      <td>All</td>\n",
              "      <td>All</td>\n",
              "      <td>All</td>\n",
              "      <td>All</td>\n",
              "      <td>75-84</td>\n",
              "      <td>All</td>\n",
              "      <td>113008.0</td>\n",
              "      <td>136957.0</td>\n",
              "      <td>5712.0</td>\n",
              "      <td>0.0505</td>\n",
              "    </tr>\n",
              "    <tr>\n",
              "      <th>4</th>\n",
              "      <td>2020</td>\n",
              "      <td>1</td>\n",
              "      <td>Alabama</td>\n",
              "      <td>All</td>\n",
              "      <td>All</td>\n",
              "      <td>All</td>\n",
              "      <td>All</td>\n",
              "      <td>85 and over</td>\n",
              "      <td>All</td>\n",
              "      <td>49169.0</td>\n",
              "      <td>59755.0</td>\n",
              "      <td>2178.0</td>\n",
              "      <td>0.0443</td>\n",
              "    </tr>\n",
              "    <tr>\n",
              "      <th>...</th>\n",
              "      <td>...</td>\n",
              "      <td>...</td>\n",
              "      <td>...</td>\n",
              "      <td>...</td>\n",
              "      <td>...</td>\n",
              "      <td>...</td>\n",
              "      <td>...</td>\n",
              "      <td>...</td>\n",
              "      <td>...</td>\n",
              "      <td>...</td>\n",
              "      <td>...</td>\n",
              "      <td>...</td>\n",
              "      <td>...</td>\n",
              "    </tr>\n",
              "    <tr>\n",
              "      <th>19259</th>\n",
              "      <td>2023</td>\n",
              "      <td>1</td>\n",
              "      <td>Wyoming</td>\n",
              "      <td>All</td>\n",
              "      <td>Hispanic</td>\n",
              "      <td>All</td>\n",
              "      <td>All</td>\n",
              "      <td>All</td>\n",
              "      <td>All</td>\n",
              "      <td>2476.0</td>\n",
              "      <td>3786.0</td>\n",
              "      <td>213.0</td>\n",
              "      <td>0.0860</td>\n",
              "    </tr>\n",
              "    <tr>\n",
              "      <th>19260</th>\n",
              "      <td>2023</td>\n",
              "      <td>1</td>\n",
              "      <td>Wyoming</td>\n",
              "      <td>All</td>\n",
              "      <td>Non-Hispanic White</td>\n",
              "      <td>All</td>\n",
              "      <td>All</td>\n",
              "      <td>All</td>\n",
              "      <td>All</td>\n",
              "      <td>59795.0</td>\n",
              "      <td>89194.0</td>\n",
              "      <td>4813.0</td>\n",
              "      <td>0.0805</td>\n",
              "    </tr>\n",
              "    <tr>\n",
              "      <th>19261</th>\n",
              "      <td>2023</td>\n",
              "      <td>1</td>\n",
              "      <td>Wyoming</td>\n",
              "      <td>All</td>\n",
              "      <td>Other/Unknown</td>\n",
              "      <td>All</td>\n",
              "      <td>All</td>\n",
              "      <td>All</td>\n",
              "      <td>All</td>\n",
              "      <td>NaN</td>\n",
              "      <td>NaN</td>\n",
              "      <td>NaN</td>\n",
              "      <td>NaN</td>\n",
              "    </tr>\n",
              "    <tr>\n",
              "      <th>19262</th>\n",
              "      <td>2023</td>\n",
              "      <td>1</td>\n",
              "      <td>Wyoming</td>\n",
              "      <td>Medicare &amp; Medicaid</td>\n",
              "      <td>All</td>\n",
              "      <td>All</td>\n",
              "      <td>All</td>\n",
              "      <td>All</td>\n",
              "      <td>All</td>\n",
              "      <td>7781.0</td>\n",
              "      <td>10302.0</td>\n",
              "      <td>1373.0</td>\n",
              "      <td>0.1765</td>\n",
              "    </tr>\n",
              "    <tr>\n",
              "      <th>19263</th>\n",
              "      <td>2023</td>\n",
              "      <td>1</td>\n",
              "      <td>Wyoming</td>\n",
              "      <td>Medicare Only</td>\n",
              "      <td>All</td>\n",
              "      <td>All</td>\n",
              "      <td>All</td>\n",
              "      <td>All</td>\n",
              "      <td>All</td>\n",
              "      <td>57582.0</td>\n",
              "      <td>87532.0</td>\n",
              "      <td>3976.0</td>\n",
              "      <td>0.0690</td>\n",
              "    </tr>\n",
              "  </tbody>\n",
              "</table>\n",
              "<p>19264 rows × 13 columns</p>\n",
              "</div>\n",
              "    <div class=\"colab-df-buttons\">\n",
              "\n",
              "  <div class=\"colab-df-container\">\n",
              "    <button class=\"colab-df-convert\" onclick=\"convertToInteractive('df-d49d96db-95a3-4b77-a7c6-c7a5b6cefc97')\"\n",
              "            title=\"Convert this dataframe to an interactive table.\"\n",
              "            style=\"display:none;\">\n",
              "\n",
              "  <svg xmlns=\"http://www.w3.org/2000/svg\" height=\"24px\" viewBox=\"0 -960 960 960\">\n",
              "    <path d=\"M120-120v-720h720v720H120Zm60-500h600v-160H180v160Zm220 220h160v-160H400v160Zm0 220h160v-160H400v160ZM180-400h160v-160H180v160Zm440 0h160v-160H620v160ZM180-180h160v-160H180v160Zm440 0h160v-160H620v160Z\"/>\n",
              "  </svg>\n",
              "    </button>\n",
              "\n",
              "  <style>\n",
              "    .colab-df-container {\n",
              "      display:flex;\n",
              "      gap: 12px;\n",
              "    }\n",
              "\n",
              "    .colab-df-convert {\n",
              "      background-color: #E8F0FE;\n",
              "      border: none;\n",
              "      border-radius: 50%;\n",
              "      cursor: pointer;\n",
              "      display: none;\n",
              "      fill: #1967D2;\n",
              "      height: 32px;\n",
              "      padding: 0 0 0 0;\n",
              "      width: 32px;\n",
              "    }\n",
              "\n",
              "    .colab-df-convert:hover {\n",
              "      background-color: #E2EBFA;\n",
              "      box-shadow: 0px 1px 2px rgba(60, 64, 67, 0.3), 0px 1px 3px 1px rgba(60, 64, 67, 0.15);\n",
              "      fill: #174EA6;\n",
              "    }\n",
              "\n",
              "    .colab-df-buttons div {\n",
              "      margin-bottom: 4px;\n",
              "    }\n",
              "\n",
              "    [theme=dark] .colab-df-convert {\n",
              "      background-color: #3B4455;\n",
              "      fill: #D2E3FC;\n",
              "    }\n",
              "\n",
              "    [theme=dark] .colab-df-convert:hover {\n",
              "      background-color: #434B5C;\n",
              "      box-shadow: 0px 1px 3px 1px rgba(0, 0, 0, 0.15);\n",
              "      filter: drop-shadow(0px 1px 2px rgba(0, 0, 0, 0.3));\n",
              "      fill: #FFFFFF;\n",
              "    }\n",
              "  </style>\n",
              "\n",
              "    <script>\n",
              "      const buttonEl =\n",
              "        document.querySelector('#df-d49d96db-95a3-4b77-a7c6-c7a5b6cefc97 button.colab-df-convert');\n",
              "      buttonEl.style.display =\n",
              "        google.colab.kernel.accessAllowed ? 'block' : 'none';\n",
              "\n",
              "      async function convertToInteractive(key) {\n",
              "        const element = document.querySelector('#df-d49d96db-95a3-4b77-a7c6-c7a5b6cefc97');\n",
              "        const dataTable =\n",
              "          await google.colab.kernel.invokeFunction('convertToInteractive',\n",
              "                                                    [key], {});\n",
              "        if (!dataTable) return;\n",
              "\n",
              "        const docLinkHtml = 'Like what you see? Visit the ' +\n",
              "          '<a target=\"_blank\" href=https://colab.research.google.com/notebooks/data_table.ipynb>data table notebook</a>'\n",
              "          + ' to learn more about interactive tables.';\n",
              "        element.innerHTML = '';\n",
              "        dataTable['output_type'] = 'display_data';\n",
              "        await google.colab.output.renderOutput(dataTable, element);\n",
              "        const docLink = document.createElement('div');\n",
              "        docLink.innerHTML = docLinkHtml;\n",
              "        element.appendChild(docLink);\n",
              "      }\n",
              "    </script>\n",
              "  </div>\n",
              "\n",
              "\n",
              "<div id=\"df-546532af-42c8-4cfe-a3ea-86dfef14fc70\">\n",
              "  <button class=\"colab-df-quickchart\" onclick=\"quickchart('df-546532af-42c8-4cfe-a3ea-86dfef14fc70')\"\n",
              "            title=\"Suggest charts.\"\n",
              "            style=\"display:none;\">\n",
              "\n",
              "<svg xmlns=\"http://www.w3.org/2000/svg\" height=\"24px\"viewBox=\"0 0 24 24\"\n",
              "     width=\"24px\">\n",
              "    <g>\n",
              "        <path d=\"M19 3H5c-1.1 0-2 .9-2 2v14c0 1.1.9 2 2 2h14c1.1 0 2-.9 2-2V5c0-1.1-.9-2-2-2zM9 17H7v-7h2v7zm4 0h-2V7h2v10zm4 0h-2v-4h2v4z\"/>\n",
              "    </g>\n",
              "</svg>\n",
              "  </button>\n",
              "\n",
              "<style>\n",
              "  .colab-df-quickchart {\n",
              "      --bg-color: #E8F0FE;\n",
              "      --fill-color: #1967D2;\n",
              "      --hover-bg-color: #E2EBFA;\n",
              "      --hover-fill-color: #174EA6;\n",
              "      --disabled-fill-color: #AAA;\n",
              "      --disabled-bg-color: #DDD;\n",
              "  }\n",
              "\n",
              "  [theme=dark] .colab-df-quickchart {\n",
              "      --bg-color: #3B4455;\n",
              "      --fill-color: #D2E3FC;\n",
              "      --hover-bg-color: #434B5C;\n",
              "      --hover-fill-color: #FFFFFF;\n",
              "      --disabled-bg-color: #3B4455;\n",
              "      --disabled-fill-color: #666;\n",
              "  }\n",
              "\n",
              "  .colab-df-quickchart {\n",
              "    background-color: var(--bg-color);\n",
              "    border: none;\n",
              "    border-radius: 50%;\n",
              "    cursor: pointer;\n",
              "    display: none;\n",
              "    fill: var(--fill-color);\n",
              "    height: 32px;\n",
              "    padding: 0;\n",
              "    width: 32px;\n",
              "  }\n",
              "\n",
              "  .colab-df-quickchart:hover {\n",
              "    background-color: var(--hover-bg-color);\n",
              "    box-shadow: 0 1px 2px rgba(60, 64, 67, 0.3), 0 1px 3px 1px rgba(60, 64, 67, 0.15);\n",
              "    fill: var(--button-hover-fill-color);\n",
              "  }\n",
              "\n",
              "  .colab-df-quickchart-complete:disabled,\n",
              "  .colab-df-quickchart-complete:disabled:hover {\n",
              "    background-color: var(--disabled-bg-color);\n",
              "    fill: var(--disabled-fill-color);\n",
              "    box-shadow: none;\n",
              "  }\n",
              "\n",
              "  .colab-df-spinner {\n",
              "    border: 2px solid var(--fill-color);\n",
              "    border-color: transparent;\n",
              "    border-bottom-color: var(--fill-color);\n",
              "    animation:\n",
              "      spin 1s steps(1) infinite;\n",
              "  }\n",
              "\n",
              "  @keyframes spin {\n",
              "    0% {\n",
              "      border-color: transparent;\n",
              "      border-bottom-color: var(--fill-color);\n",
              "      border-left-color: var(--fill-color);\n",
              "    }\n",
              "    20% {\n",
              "      border-color: transparent;\n",
              "      border-left-color: var(--fill-color);\n",
              "      border-top-color: var(--fill-color);\n",
              "    }\n",
              "    30% {\n",
              "      border-color: transparent;\n",
              "      border-left-color: var(--fill-color);\n",
              "      border-top-color: var(--fill-color);\n",
              "      border-right-color: var(--fill-color);\n",
              "    }\n",
              "    40% {\n",
              "      border-color: transparent;\n",
              "      border-right-color: var(--fill-color);\n",
              "      border-top-color: var(--fill-color);\n",
              "    }\n",
              "    60% {\n",
              "      border-color: transparent;\n",
              "      border-right-color: var(--fill-color);\n",
              "    }\n",
              "    80% {\n",
              "      border-color: transparent;\n",
              "      border-right-color: var(--fill-color);\n",
              "      border-bottom-color: var(--fill-color);\n",
              "    }\n",
              "    90% {\n",
              "      border-color: transparent;\n",
              "      border-bottom-color: var(--fill-color);\n",
              "    }\n",
              "  }\n",
              "</style>\n",
              "\n",
              "  <script>\n",
              "    async function quickchart(key) {\n",
              "      const quickchartButtonEl =\n",
              "        document.querySelector('#' + key + ' button');\n",
              "      quickchartButtonEl.disabled = true;  // To prevent multiple clicks.\n",
              "      quickchartButtonEl.classList.add('colab-df-spinner');\n",
              "      try {\n",
              "        const charts = await google.colab.kernel.invokeFunction(\n",
              "            'suggestCharts', [key], {});\n",
              "      } catch (error) {\n",
              "        console.error('Error during call to suggestCharts:', error);\n",
              "      }\n",
              "      quickchartButtonEl.classList.remove('colab-df-spinner');\n",
              "      quickchartButtonEl.classList.add('colab-df-quickchart-complete');\n",
              "    }\n",
              "    (() => {\n",
              "      let quickchartButtonEl =\n",
              "        document.querySelector('#df-546532af-42c8-4cfe-a3ea-86dfef14fc70 button');\n",
              "      quickchartButtonEl.style.display =\n",
              "        google.colab.kernel.accessAllowed ? 'block' : 'none';\n",
              "    })();\n",
              "  </script>\n",
              "</div>\n",
              "    </div>\n",
              "  </div>\n"
            ]
          },
          "metadata": {},
          "execution_count": 9
        }
      ]
    },
    {
      "cell_type": "code",
      "source": [
        "# Look for missingness in data\n",
        "df.isnull().sum()"
      ],
      "metadata": {
        "colab": {
          "base_uri": "https://localhost:8080/"
        },
        "id": "cTzQIfQ14oUD",
        "outputId": "b0c4518f-eed8-4f98-d7db-266f46cb2571"
      },
      "execution_count": 10,
      "outputs": [
        {
          "output_type": "execute_result",
          "data": {
            "text/plain": [
              "year                           0\n",
              "quarter                        0\n",
              "bene_geo_desc                  0\n",
              "bene_mdcd_mdcr_enrl_stus       0\n",
              "bene_race_desc                 0\n",
              "bene_sex_desc                  0\n",
              "bene_mdcr_entlmt_stus          0\n",
              "bene_age_desc                  0\n",
              "bene_ruca_desc                 0\n",
              "total_bene_th_elig          2040\n",
              "total_partb_enrl            2040\n",
              "total_bene_telehealth       2058\n",
              "pct_telehealth              2061\n",
              "dtype: int64"
            ]
          },
          "metadata": {},
          "execution_count": 10
        }
      ]
    },
    {
      "cell_type": "code",
      "source": [
        "df.dtypes"
      ],
      "metadata": {
        "colab": {
          "base_uri": "https://localhost:8080/"
        },
        "id": "29jNhi54LIIT",
        "outputId": "cc9d0ea6-852b-4782-e235-297145ed247d"
      },
      "execution_count": 11,
      "outputs": [
        {
          "output_type": "execute_result",
          "data": {
            "text/plain": [
              "year                          int64\n",
              "quarter                      object\n",
              "bene_geo_desc                object\n",
              "bene_mdcd_mdcr_enrl_stus     object\n",
              "bene_race_desc               object\n",
              "bene_sex_desc                object\n",
              "bene_mdcr_entlmt_stus        object\n",
              "bene_age_desc                object\n",
              "bene_ruca_desc               object\n",
              "total_bene_th_elig          float64\n",
              "total_partb_enrl            float64\n",
              "total_bene_telehealth       float64\n",
              "pct_telehealth              float64\n",
              "dtype: object"
            ]
          },
          "metadata": {},
          "execution_count": 11
        }
      ]
    },
    {
      "cell_type": "code",
      "source": [
        "# Converting the 'year' column to a string variable instead of an integer.\n",
        "df['year'] = df['year'].astype(str)\n",
        "df.dtypes"
      ],
      "metadata": {
        "colab": {
          "base_uri": "https://localhost:8080/"
        },
        "id": "zdIXVxPy8HuM",
        "outputId": "21092522-b114-4b2b-9d94-439fb3b556ad"
      },
      "execution_count": 12,
      "outputs": [
        {
          "output_type": "execute_result",
          "data": {
            "text/plain": [
              "year                         object\n",
              "quarter                      object\n",
              "bene_geo_desc                object\n",
              "bene_mdcd_mdcr_enrl_stus     object\n",
              "bene_race_desc               object\n",
              "bene_sex_desc                object\n",
              "bene_mdcr_entlmt_stus        object\n",
              "bene_age_desc                object\n",
              "bene_ruca_desc               object\n",
              "total_bene_th_elig          float64\n",
              "total_partb_enrl            float64\n",
              "total_bene_telehealth       float64\n",
              "pct_telehealth              float64\n",
              "dtype: object"
            ]
          },
          "metadata": {},
          "execution_count": 12
        }
      ]
    },
    {
      "cell_type": "markdown",
      "source": [
        "**____________________________________________________________________________________________________________**"
      ],
      "metadata": {
        "id": "m2Ui5yhmVSbW"
      }
    },
    {
      "cell_type": "markdown",
      "source": [
        "# **1. Univariate Analysis**\n",
        "\n",
        ">Performing a univariate analysis of each numerical variable\n",
        "\n"
      ],
      "metadata": {
        "id": "ca1u3yqjBf7y"
      }
    },
    {
      "cell_type": "code",
      "source": [
        "# Summary of statistical measures\n",
        "df[['total_bene_th_elig','total_partb_enrl','total_bene_telehealth','pct_telehealth']].describe()"
      ],
      "metadata": {
        "colab": {
          "base_uri": "https://localhost:8080/",
          "height": 297
        },
        "id": "6yoPTnQvBuMT",
        "outputId": "af6dad89-cf31-4ede-956a-7b0b37c95b93"
      },
      "execution_count": 16,
      "outputs": [
        {
          "output_type": "execute_result",
          "data": {
            "text/plain": [
              "       total_bene_th_elig  total_partb_enrl  total_bene_telehealth  \\\n",
              "count        1.722400e+04      1.722400e+04           1.720600e+04   \n",
              "mean         5.152660e+05      6.501606e+05           1.250889e+05   \n",
              "std          2.107823e+06      2.635736e+06           5.707911e+05   \n",
              "min          1.100000e+01      1.700000e+01           0.000000e+00   \n",
              "25%          1.831050e+04      2.393050e+04           3.783250e+03   \n",
              "50%          8.157700e+04      1.050960e+05           1.581000e+04   \n",
              "75%          2.666505e+05      3.438480e+05           5.468900e+04   \n",
              "max          3.094687e+07      3.234595e+07           1.482693e+07   \n",
              "\n",
              "       pct_telehealth  \n",
              "count    17203.000000  \n",
              "mean         0.244604  \n",
              "std          0.143762  \n",
              "min          0.000000  \n",
              "25%          0.132600  \n",
              "50%          0.211700  \n",
              "75%          0.331850  \n",
              "max          0.820200  "
            ],
            "text/html": [
              "\n",
              "  <div id=\"df-eb1e411f-1984-484d-98cf-f9c2918a2637\" class=\"colab-df-container\">\n",
              "    <div>\n",
              "<style scoped>\n",
              "    .dataframe tbody tr th:only-of-type {\n",
              "        vertical-align: middle;\n",
              "    }\n",
              "\n",
              "    .dataframe tbody tr th {\n",
              "        vertical-align: top;\n",
              "    }\n",
              "\n",
              "    .dataframe thead th {\n",
              "        text-align: right;\n",
              "    }\n",
              "</style>\n",
              "<table border=\"1\" class=\"dataframe\">\n",
              "  <thead>\n",
              "    <tr style=\"text-align: right;\">\n",
              "      <th></th>\n",
              "      <th>total_bene_th_elig</th>\n",
              "      <th>total_partb_enrl</th>\n",
              "      <th>total_bene_telehealth</th>\n",
              "      <th>pct_telehealth</th>\n",
              "    </tr>\n",
              "  </thead>\n",
              "  <tbody>\n",
              "    <tr>\n",
              "      <th>count</th>\n",
              "      <td>1.722400e+04</td>\n",
              "      <td>1.722400e+04</td>\n",
              "      <td>1.720600e+04</td>\n",
              "      <td>17203.000000</td>\n",
              "    </tr>\n",
              "    <tr>\n",
              "      <th>mean</th>\n",
              "      <td>5.152660e+05</td>\n",
              "      <td>6.501606e+05</td>\n",
              "      <td>1.250889e+05</td>\n",
              "      <td>0.244604</td>\n",
              "    </tr>\n",
              "    <tr>\n",
              "      <th>std</th>\n",
              "      <td>2.107823e+06</td>\n",
              "      <td>2.635736e+06</td>\n",
              "      <td>5.707911e+05</td>\n",
              "      <td>0.143762</td>\n",
              "    </tr>\n",
              "    <tr>\n",
              "      <th>min</th>\n",
              "      <td>1.100000e+01</td>\n",
              "      <td>1.700000e+01</td>\n",
              "      <td>0.000000e+00</td>\n",
              "      <td>0.000000</td>\n",
              "    </tr>\n",
              "    <tr>\n",
              "      <th>25%</th>\n",
              "      <td>1.831050e+04</td>\n",
              "      <td>2.393050e+04</td>\n",
              "      <td>3.783250e+03</td>\n",
              "      <td>0.132600</td>\n",
              "    </tr>\n",
              "    <tr>\n",
              "      <th>50%</th>\n",
              "      <td>8.157700e+04</td>\n",
              "      <td>1.050960e+05</td>\n",
              "      <td>1.581000e+04</td>\n",
              "      <td>0.211700</td>\n",
              "    </tr>\n",
              "    <tr>\n",
              "      <th>75%</th>\n",
              "      <td>2.666505e+05</td>\n",
              "      <td>3.438480e+05</td>\n",
              "      <td>5.468900e+04</td>\n",
              "      <td>0.331850</td>\n",
              "    </tr>\n",
              "    <tr>\n",
              "      <th>max</th>\n",
              "      <td>3.094687e+07</td>\n",
              "      <td>3.234595e+07</td>\n",
              "      <td>1.482693e+07</td>\n",
              "      <td>0.820200</td>\n",
              "    </tr>\n",
              "  </tbody>\n",
              "</table>\n",
              "</div>\n",
              "    <div class=\"colab-df-buttons\">\n",
              "\n",
              "  <div class=\"colab-df-container\">\n",
              "    <button class=\"colab-df-convert\" onclick=\"convertToInteractive('df-eb1e411f-1984-484d-98cf-f9c2918a2637')\"\n",
              "            title=\"Convert this dataframe to an interactive table.\"\n",
              "            style=\"display:none;\">\n",
              "\n",
              "  <svg xmlns=\"http://www.w3.org/2000/svg\" height=\"24px\" viewBox=\"0 -960 960 960\">\n",
              "    <path d=\"M120-120v-720h720v720H120Zm60-500h600v-160H180v160Zm220 220h160v-160H400v160Zm0 220h160v-160H400v160ZM180-400h160v-160H180v160Zm440 0h160v-160H620v160ZM180-180h160v-160H180v160Zm440 0h160v-160H620v160Z\"/>\n",
              "  </svg>\n",
              "    </button>\n",
              "\n",
              "  <style>\n",
              "    .colab-df-container {\n",
              "      display:flex;\n",
              "      gap: 12px;\n",
              "    }\n",
              "\n",
              "    .colab-df-convert {\n",
              "      background-color: #E8F0FE;\n",
              "      border: none;\n",
              "      border-radius: 50%;\n",
              "      cursor: pointer;\n",
              "      display: none;\n",
              "      fill: #1967D2;\n",
              "      height: 32px;\n",
              "      padding: 0 0 0 0;\n",
              "      width: 32px;\n",
              "    }\n",
              "\n",
              "    .colab-df-convert:hover {\n",
              "      background-color: #E2EBFA;\n",
              "      box-shadow: 0px 1px 2px rgba(60, 64, 67, 0.3), 0px 1px 3px 1px rgba(60, 64, 67, 0.15);\n",
              "      fill: #174EA6;\n",
              "    }\n",
              "\n",
              "    .colab-df-buttons div {\n",
              "      margin-bottom: 4px;\n",
              "    }\n",
              "\n",
              "    [theme=dark] .colab-df-convert {\n",
              "      background-color: #3B4455;\n",
              "      fill: #D2E3FC;\n",
              "    }\n",
              "\n",
              "    [theme=dark] .colab-df-convert:hover {\n",
              "      background-color: #434B5C;\n",
              "      box-shadow: 0px 1px 3px 1px rgba(0, 0, 0, 0.15);\n",
              "      filter: drop-shadow(0px 1px 2px rgba(0, 0, 0, 0.3));\n",
              "      fill: #FFFFFF;\n",
              "    }\n",
              "  </style>\n",
              "\n",
              "    <script>\n",
              "      const buttonEl =\n",
              "        document.querySelector('#df-eb1e411f-1984-484d-98cf-f9c2918a2637 button.colab-df-convert');\n",
              "      buttonEl.style.display =\n",
              "        google.colab.kernel.accessAllowed ? 'block' : 'none';\n",
              "\n",
              "      async function convertToInteractive(key) {\n",
              "        const element = document.querySelector('#df-eb1e411f-1984-484d-98cf-f9c2918a2637');\n",
              "        const dataTable =\n",
              "          await google.colab.kernel.invokeFunction('convertToInteractive',\n",
              "                                                    [key], {});\n",
              "        if (!dataTable) return;\n",
              "\n",
              "        const docLinkHtml = 'Like what you see? Visit the ' +\n",
              "          '<a target=\"_blank\" href=https://colab.research.google.com/notebooks/data_table.ipynb>data table notebook</a>'\n",
              "          + ' to learn more about interactive tables.';\n",
              "        element.innerHTML = '';\n",
              "        dataTable['output_type'] = 'display_data';\n",
              "        await google.colab.output.renderOutput(dataTable, element);\n",
              "        const docLink = document.createElement('div');\n",
              "        docLink.innerHTML = docLinkHtml;\n",
              "        element.appendChild(docLink);\n",
              "      }\n",
              "    </script>\n",
              "  </div>\n",
              "\n",
              "\n",
              "<div id=\"df-51a0f59e-3670-4973-be48-307559d4bc53\">\n",
              "  <button class=\"colab-df-quickchart\" onclick=\"quickchart('df-51a0f59e-3670-4973-be48-307559d4bc53')\"\n",
              "            title=\"Suggest charts.\"\n",
              "            style=\"display:none;\">\n",
              "\n",
              "<svg xmlns=\"http://www.w3.org/2000/svg\" height=\"24px\"viewBox=\"0 0 24 24\"\n",
              "     width=\"24px\">\n",
              "    <g>\n",
              "        <path d=\"M19 3H5c-1.1 0-2 .9-2 2v14c0 1.1.9 2 2 2h14c1.1 0 2-.9 2-2V5c0-1.1-.9-2-2-2zM9 17H7v-7h2v7zm4 0h-2V7h2v10zm4 0h-2v-4h2v4z\"/>\n",
              "    </g>\n",
              "</svg>\n",
              "  </button>\n",
              "\n",
              "<style>\n",
              "  .colab-df-quickchart {\n",
              "      --bg-color: #E8F0FE;\n",
              "      --fill-color: #1967D2;\n",
              "      --hover-bg-color: #E2EBFA;\n",
              "      --hover-fill-color: #174EA6;\n",
              "      --disabled-fill-color: #AAA;\n",
              "      --disabled-bg-color: #DDD;\n",
              "  }\n",
              "\n",
              "  [theme=dark] .colab-df-quickchart {\n",
              "      --bg-color: #3B4455;\n",
              "      --fill-color: #D2E3FC;\n",
              "      --hover-bg-color: #434B5C;\n",
              "      --hover-fill-color: #FFFFFF;\n",
              "      --disabled-bg-color: #3B4455;\n",
              "      --disabled-fill-color: #666;\n",
              "  }\n",
              "\n",
              "  .colab-df-quickchart {\n",
              "    background-color: var(--bg-color);\n",
              "    border: none;\n",
              "    border-radius: 50%;\n",
              "    cursor: pointer;\n",
              "    display: none;\n",
              "    fill: var(--fill-color);\n",
              "    height: 32px;\n",
              "    padding: 0;\n",
              "    width: 32px;\n",
              "  }\n",
              "\n",
              "  .colab-df-quickchart:hover {\n",
              "    background-color: var(--hover-bg-color);\n",
              "    box-shadow: 0 1px 2px rgba(60, 64, 67, 0.3), 0 1px 3px 1px rgba(60, 64, 67, 0.15);\n",
              "    fill: var(--button-hover-fill-color);\n",
              "  }\n",
              "\n",
              "  .colab-df-quickchart-complete:disabled,\n",
              "  .colab-df-quickchart-complete:disabled:hover {\n",
              "    background-color: var(--disabled-bg-color);\n",
              "    fill: var(--disabled-fill-color);\n",
              "    box-shadow: none;\n",
              "  }\n",
              "\n",
              "  .colab-df-spinner {\n",
              "    border: 2px solid var(--fill-color);\n",
              "    border-color: transparent;\n",
              "    border-bottom-color: var(--fill-color);\n",
              "    animation:\n",
              "      spin 1s steps(1) infinite;\n",
              "  }\n",
              "\n",
              "  @keyframes spin {\n",
              "    0% {\n",
              "      border-color: transparent;\n",
              "      border-bottom-color: var(--fill-color);\n",
              "      border-left-color: var(--fill-color);\n",
              "    }\n",
              "    20% {\n",
              "      border-color: transparent;\n",
              "      border-left-color: var(--fill-color);\n",
              "      border-top-color: var(--fill-color);\n",
              "    }\n",
              "    30% {\n",
              "      border-color: transparent;\n",
              "      border-left-color: var(--fill-color);\n",
              "      border-top-color: var(--fill-color);\n",
              "      border-right-color: var(--fill-color);\n",
              "    }\n",
              "    40% {\n",
              "      border-color: transparent;\n",
              "      border-right-color: var(--fill-color);\n",
              "      border-top-color: var(--fill-color);\n",
              "    }\n",
              "    60% {\n",
              "      border-color: transparent;\n",
              "      border-right-color: var(--fill-color);\n",
              "    }\n",
              "    80% {\n",
              "      border-color: transparent;\n",
              "      border-right-color: var(--fill-color);\n",
              "      border-bottom-color: var(--fill-color);\n",
              "    }\n",
              "    90% {\n",
              "      border-color: transparent;\n",
              "      border-bottom-color: var(--fill-color);\n",
              "    }\n",
              "  }\n",
              "</style>\n",
              "\n",
              "  <script>\n",
              "    async function quickchart(key) {\n",
              "      const quickchartButtonEl =\n",
              "        document.querySelector('#' + key + ' button');\n",
              "      quickchartButtonEl.disabled = true;  // To prevent multiple clicks.\n",
              "      quickchartButtonEl.classList.add('colab-df-spinner');\n",
              "      try {\n",
              "        const charts = await google.colab.kernel.invokeFunction(\n",
              "            'suggestCharts', [key], {});\n",
              "      } catch (error) {\n",
              "        console.error('Error during call to suggestCharts:', error);\n",
              "      }\n",
              "      quickchartButtonEl.classList.remove('colab-df-spinner');\n",
              "      quickchartButtonEl.classList.add('colab-df-quickchart-complete');\n",
              "    }\n",
              "    (() => {\n",
              "      let quickchartButtonEl =\n",
              "        document.querySelector('#df-51a0f59e-3670-4973-be48-307559d4bc53 button');\n",
              "      quickchartButtonEl.style.display =\n",
              "        google.colab.kernel.accessAllowed ? 'block' : 'none';\n",
              "    })();\n",
              "  </script>\n",
              "</div>\n",
              "    </div>\n",
              "  </div>\n"
            ]
          },
          "metadata": {},
          "execution_count": 16
        }
      ]
    },
    {
      "cell_type": "markdown",
      "source": [
        "### total_bene_th_elig\n",
        "\"Total Telehealth Eligible Users\"\n",
        "\n",
        "This column represents the number of Medicare beneficiaries who received telehealth eligible services (either via Telehealth or non-telehealth)."
      ],
      "metadata": {
        "id": "-Hp2pnXoUNgz"
      }
    },
    {
      "cell_type": "code",
      "source": [
        "# Measures of central tendency\n",
        "mean_elig = df['total_bene_th_elig'].mean()\n",
        "median_elig = df['total_bene_th_elig'].median()\n",
        "mode_elig = df['total_bene_th_elig'].mode().iloc[0]\n",
        "print(f'Mean: {mean_elig} \\n Median: {median_elig} \\n Mode: {mode_elig}')"
      ],
      "metadata": {
        "colab": {
          "base_uri": "https://localhost:8080/"
        },
        "id": "k_g157qGPS_L",
        "outputId": "a1ba0fe2-ef80-409c-f979-94004163a8b1"
      },
      "execution_count": 17,
      "outputs": [
        {
          "output_type": "stream",
          "name": "stdout",
          "text": [
            "Mean: 515266.04638875986 \n",
            " Median: 81577.0 \n",
            " Mode: 339.0\n"
          ]
        }
      ]
    },
    {
      "cell_type": "code",
      "source": [
        "# Measures of spread\n",
        "range_elig = df['total_bene_th_elig'].max() - df['total_bene_th_elig'].min()\n",
        "variance_elig = df['total_bene_th_elig'].var()\n",
        "std_elig = df['total_bene_th_elig'].std()\n",
        "percentile25_elig = df['total_bene_th_elig'].quantile(0.25)\n",
        "percentile50_elig = df['total_bene_th_elig'].quantile(0.5)\n",
        "percentile75_elig = df['total_bene_th_elig'].quantile(0.75)\n",
        "iqr_elig = percentile75_elig - percentile25_elig\n",
        "print(f'Range: {range_elig} \\n Variance: {variance_elig} \\n Standard Deviation: {std_elig}')\n",
        "print(f'25th Percentile: {percentile25_elig} \\n 50th Percentile (Median): {percentile50_elig} \\n 75th Percentile {percentile75_elig} \\n Interquartile Range: {iqr_elig}')"
      ],
      "metadata": {
        "colab": {
          "base_uri": "https://localhost:8080/"
        },
        "id": "d_clq_5iPXGK",
        "outputId": "1e156dbe-d68e-4c92-fe43-c1dc9e2d9efc"
      },
      "execution_count": 18,
      "outputs": [
        {
          "output_type": "stream",
          "name": "stdout",
          "text": [
            "Range: 30946863.0 \n",
            " Variance: 4442918756419.851 \n",
            " Standard Deviation: 2107823.2270330098\n",
            "25th Percentile: 18310.5 \n",
            " 50th Percentile (Median): 81577.0 \n",
            " 75th Percentile 266650.5 \n",
            " Interquartile Range: 248340.0\n"
          ]
        }
      ]
    },
    {
      "cell_type": "code",
      "source": [
        "# Visualization\n",
        "# Used data transformed using log from section 3 \"Handling Outliers\"\n",
        "plt.hist(df['log_total_bene_th_elig'], bins=30, density=True, alpha=0.5, color='blue', label='Normal Distribution')\n",
        "plt.title('Distribution of Total Telehealth Eligible Users (Log)')\n",
        "plt.xlabel('Value')\n",
        "plt.ylabel('Probability Density')\n",
        "plt.legend()\n",
        "plt.grid(True)\n",
        "plt.show()\n"
      ],
      "metadata": {
        "colab": {
          "base_uri": "https://localhost:8080/",
          "height": 472
        },
        "id": "2ol8W02fVGLY",
        "outputId": "bb46c853-adf8-4a62-e41b-5249d63c0f05"
      },
      "execution_count": 32,
      "outputs": [
        {
          "output_type": "display_data",
          "data": {
            "text/plain": [
              "<Figure size 640x480 with 1 Axes>"
            ],
            "image/png": "[encoded data removed]"
          },
          "metadata": {}
        }
      ]
    },
    {
      "cell_type": "markdown",
      "source": [
        "### total_partb_enrl\n",
        "\"Total Medicare Part B Enrollment\"\n",
        "\n",
        "Represents the total Medicare population with Part B Fee-for-Service (FFS) Insurance."
      ],
      "metadata": {
        "id": "xG5EuMdAUxCy"
      }
    },
    {
      "cell_type": "code",
      "source": [
        "# Measures of central tendency\n",
        "mean_partb = df['total_partb_enrl'].mean()\n",
        "median_partb = df['total_partb_enrl'].median()\n",
        "mode_partb = df['total_partb_enrl'].mode().iloc[0]\n",
        "print(f'Mean: {mean_partb} \\n Median: {median_partb} \\n Mode: {mode_partb}')"
      ],
      "metadata": {
        "colab": {
          "base_uri": "https://localhost:8080/"
        },
        "id": "9-DfciZDUKiu",
        "outputId": "8cefa9f3-ed0f-4396-9c60-96e5ae47d438"
      },
      "execution_count": 19,
      "outputs": [
        {
          "output_type": "stream",
          "name": "stdout",
          "text": [
            "Mean: 650160.6333604273 \n",
            " Median: 105096.0 \n",
            " Mode: 436.0\n"
          ]
        }
      ]
    },
    {
      "cell_type": "code",
      "source": [
        "# Measures of spread\n",
        "range_partb = df['total_partb_enrl'].max() - df['total_partb_enrl'].min()\n",
        "variance_partb = df['total_partb_enrl'].var()\n",
        "std_partb = df['total_partb_enrl'].std()\n",
        "percentile25_partb = df['total_partb_enrl'].quantile(0.25)\n",
        "percentile50_partb = df['total_partb_enrl'].quantile(0.5)\n",
        "percentile75_partb = df['total_partb_enrl'].quantile(0.75)\n",
        "iqr_partb = percentile75_partb - percentile25_partb\n",
        "print(f'Range: {range_partb} \\n Variance: {variance_partb} \\n Standard Deviation: {std_partb}')\n",
        "print(f'25th Percentile: {percentile25_partb} \\n 50th Percentile (Median): {percentile50_partb} \\n 75th Percentile {percentile75_partb} \\n Interquartile Range: {iqr_partb}')"
      ],
      "metadata": {
        "colab": {
          "base_uri": "https://localhost:8080/"
        },
        "id": "wq4_rKwwVLmf",
        "outputId": "13501e13-3752-4736-8c52-189cec4c75d9"
      },
      "execution_count": 20,
      "outputs": [
        {
          "output_type": "stream",
          "name": "stdout",
          "text": [
            "Range: 32345936.0 \n",
            " Variance: 6947105630087.491 \n",
            " Standard Deviation: 2635736.2595843105\n",
            "25th Percentile: 23930.5 \n",
            " 50th Percentile (Median): 105096.0 \n",
            " 75th Percentile 343848.0 \n",
            " Interquartile Range: 319917.5\n"
          ]
        }
      ]
    },
    {
      "cell_type": "code",
      "source": [
        "# Visualization\n",
        "# Used data transformed using log from section 3 \"Handling Outliers\"\n",
        "plt.hist(df['log_total_partb_enrl'], bins=30, density=True, alpha=0.5, color='blue', label='Normal Distribution')\n",
        "plt.title('Distribution of Total Medicare Part B Enrollment (Log)')\n",
        "plt.xlabel('Value')\n",
        "plt.ylabel('Probability Density')\n",
        "plt.legend()\n",
        "plt.grid(True)\n",
        "plt.show()\n"
      ],
      "metadata": {
        "colab": {
          "base_uri": "https://localhost:8080/",
          "height": 472
        },
        "id": "vuCEvloKVLdZ",
        "outputId": "548c0b0a-af15-4270-d233-e9821f512611"
      },
      "execution_count": 33,
      "outputs": [
        {
          "output_type": "display_data",
          "data": {
            "text/plain": [
              "<Figure size 640x480 with 1 Axes>"
            ],
            "image/png": "[encoded data removed]"
          },
          "metadata": {}
        }
      ]
    },
    {
      "cell_type": "markdown",
      "source": [
        "### total_bene_telehealth\n",
        "\"Total Telehealth Users\"\n",
        "\n",
        "Represents the total number of Medicare beneficiaries with telehealth visit (includes audio-only telehealth visits)."
      ],
      "metadata": {
        "id": "67DKGJFzVujg"
      }
    },
    {
      "cell_type": "code",
      "source": [
        "# Measures of central tendency\n",
        "mean_telehealth = df['total_bene_telehealth'].mean()\n",
        "median_telehealth = df['total_bene_telehealth'].median()\n",
        "mode_telehealth = df['total_bene_telehealth'].mode().iloc[0]\n",
        "print(f'Mean: {mean_telehealth} \\n Median: {median_telehealth} \\n Mode: {mode_telehealth}')"
      ],
      "metadata": {
        "colab": {
          "base_uri": "https://localhost:8080/"
        },
        "id": "n3WRdnU5WCWM",
        "outputId": "f92b474f-ab16-4278-dd67-42241fc72851"
      },
      "execution_count": 21,
      "outputs": [
        {
          "output_type": "stream",
          "name": "stdout",
          "text": [
            "Mean: 125088.92031849355 \n",
            " Median: 15810.0 \n",
            " Mode: 23.0\n"
          ]
        }
      ]
    },
    {
      "cell_type": "code",
      "source": [
        "# Measures of spread\n",
        "range_telehealth = df['total_bene_telehealth'].max() - df['total_bene_telehealth'].min()\n",
        "variance_telehealth = df['total_bene_telehealth'].var()\n",
        "std_telehealth = df['total_bene_telehealth'].std()\n",
        "percentile25_telehealth = df['total_bene_telehealth'].quantile(0.25)\n",
        "percentile50_telehealth = df['total_bene_telehealth'].quantile(0.5)\n",
        "percentile75_telehealth = df['total_bene_telehealth'].quantile(0.75)\n",
        "iqr_telehealth = percentile75_telehealth - percentile25_telehealth\n",
        "print(f'Range: {range_telehealth} \\n Variance: {variance_telehealth} \\n Standard Deviation: {std_telehealth}')\n",
        "print(f'25th Percentile: {percentile25_telehealth} \\n 50th Percentile (Median): {percentile50_telehealth} \\n 75th Percentile {percentile75_telehealth} \\n Interquartile Range: {iqr_telehealth}')"
      ],
      "metadata": {
        "colab": {
          "base_uri": "https://localhost:8080/"
        },
        "id": "hPsmk_e0WC4w",
        "outputId": "258123a9-f3c8-4bc7-9ef2-3218e4db5ec1"
      },
      "execution_count": 22,
      "outputs": [
        {
          "output_type": "stream",
          "name": "stdout",
          "text": [
            "Range: 14826931.0 \n",
            " Variance: 325802495871.20233 \n",
            " Standard Deviation: 570791.1140436599\n",
            "25th Percentile: 3783.25 \n",
            " 50th Percentile (Median): 15810.0 \n",
            " 75th Percentile 54689.0 \n",
            " Interquartile Range: 50905.75\n"
          ]
        }
      ]
    },
    {
      "cell_type": "code",
      "source": [
        "# Visualization\n",
        "# Used data transformed using log from section 3 \"Handling Outliers\"\n",
        "plt.hist(df['log_total_bene_telehealth'], bins=30, density=True, alpha=0.5, color='blue', label='Normal Distribution')\n",
        "\n",
        "plt.xlim(0,20)\n",
        "\n",
        "plt.title('Distribution of Total Telehealth Users (Log)')\n",
        "plt.xlabel('Value')\n",
        "plt.ylabel('Probability Density')\n",
        "plt.legend()\n",
        "plt.grid(True)\n",
        "plt.show()\n"
      ],
      "metadata": {
        "colab": {
          "base_uri": "https://localhost:8080/",
          "height": 472
        },
        "id": "0ZZokHeJWCvs",
        "outputId": "6eb0e846-f7e9-4034-e2ef-a31e403b1ad6"
      },
      "execution_count": 34,
      "outputs": [
        {
          "output_type": "display_data",
          "data": {
            "text/plain": [
              "<Figure size 640x480 with 1 Axes>"
            ],
            "image/png": "[encoded data removed]"
          },
          "metadata": {}
        }
      ]
    },
    {
      "cell_type": "markdown",
      "source": [
        "### pct_telehealth\n",
        "\"Percentage of Medicare Users with a Telehealth Service\"\n",
        "\n",
        "Represents the percent of Medicare users with a telehealth service. Calculated by dividing Total Telehealth Users (total_bene_telehealth) by Total Telehealth Eligible Users (total_bene_th_elig)."
      ],
      "metadata": {
        "id": "m8FsckcWWKAI"
      }
    },
    {
      "cell_type": "code",
      "source": [
        "# Measures of central tendency\n",
        "mean_pct = df['pct_telehealth'].mean()\n",
        "median_pct = df['pct_telehealth'].median()\n",
        "mode_pct = df['pct_telehealth'].mode().iloc[0]\n",
        "print(f'Mean: {mean_pct} \\n Median: {median_pct} \\n Mode: {mode_pct}')"
      ],
      "metadata": {
        "colab": {
          "base_uri": "https://localhost:8080/"
        },
        "id": "fSwsTH1cXNDn",
        "outputId": "58f0aa54-708c-40fb-9fb8-3a4ba40e2f0c"
      },
      "execution_count": 23,
      "outputs": [
        {
          "output_type": "stream",
          "name": "stdout",
          "text": [
            "Mean: 0.2446041969423938 \n",
            " Median: 0.2117 \n",
            " Mode: 0.0668\n"
          ]
        }
      ]
    },
    {
      "cell_type": "code",
      "source": [
        "# Measures of spread\n",
        "range_pct = df['pct_telehealth'].max() - df['pct_telehealth'].min()\n",
        "variance_pct = df['pct_telehealth'].var()\n",
        "std_pct = df['pct_telehealth'].std()\n",
        "percentile25_pct = df['pct_telehealth'].quantile(0.25)\n",
        "percentile50_pct = df['pct_telehealth'].quantile(0.5)\n",
        "percentile75_pct = df['pct_telehealth'].quantile(0.75)\n",
        "iqr_pct = percentile75_pct - percentile25_pct\n",
        "print(f'Range: {range_pct} \\n Variance: {variance_pct} \\n Standard Deviation: {std_pct}')\n",
        "print(f'25th Percentile: {percentile25_pct} \\n 50th Percentile (Median): {percentile50_pct} \\n 75th Percentile {percentile75_pct} \\n Interquartile Range: {iqr_pct}')"
      ],
      "metadata": {
        "colab": {
          "base_uri": "https://localhost:8080/"
        },
        "id": "0A8kjRZTXM8j",
        "outputId": "05a1eec2-ae3d-470c-89c7-5cd879b25892"
      },
      "execution_count": 24,
      "outputs": [
        {
          "output_type": "stream",
          "name": "stdout",
          "text": [
            "Range: 0.8202 \n",
            " Variance: 0.020667650874141425 \n",
            " Standard Deviation: 0.143762480759555\n",
            "25th Percentile: 0.1326 \n",
            " 50th Percentile (Median): 0.2117 \n",
            " 75th Percentile 0.33185 \n",
            " Interquartile Range: 0.19924999999999998\n"
          ]
        }
      ]
    },
    {
      "cell_type": "code",
      "source": [
        "# Visualization\n",
        "plt.hist(df['pct_telehealth'], bins=50, density=True, alpha=0.5, color='blue', label='Normal Distribution')\n",
        "plt.title('Distribution of Total Medicare Part B Enrollment')\n",
        "plt.xlabel('Value')\n",
        "plt.ylabel('Probability Density')\n",
        "plt.legend()\n",
        "plt.grid(True)\n",
        "plt.show()\n"
      ],
      "metadata": {
        "colab": {
          "base_uri": "https://localhost:8080/",
          "height": 472
        },
        "id": "ygkR_iThXM0Q",
        "outputId": "4673c7d3-df89-43e4-b96c-cdb8f2cd39dd"
      },
      "execution_count": 35,
      "outputs": [
        {
          "output_type": "display_data",
          "data": {
            "text/plain": [
              "<Figure size 640x480 with 1 Axes>"
            ],
            "image/png": "[encoded data removed]"
          },
          "metadata": {}
        }
      ]
    },
    {
      "cell_type": "markdown",
      "source": [
        "**____________________________________________________________________________________________________________**"
      ],
      "metadata": {
        "id": "henj_B6vVakD"
      }
    },
    {
      "cell_type": "markdown",
      "source": [
        "# **2. Bivariate Analysis**"
      ],
      "metadata": {
        "id": "imqtcuXkBqJ-"
      }
    },
    {
      "cell_type": "code",
      "source": [
        "# Created a scatter plot of Total Medicare Part B Enrollment vs. Total Telehealth Users\n",
        "plt.scatter(df['total_partb_enrl'], df['total_bene_telehealth'])\n",
        "plt.xlabel('Total Medicare Part B Enrollment')\n",
        "plt.ylabel('Total Telehealth Users')\n",
        "plt.title('Scatter Plot of Total Medicare Part B Enrollment vs. Total Telehealth Users')\n",
        "plt.show()\n"
      ],
      "metadata": {
        "id": "Uu4F-n5mBydA",
        "colab": {
          "base_uri": "https://localhost:8080/",
          "height": 487
        },
        "outputId": "f27d176a-816d-421c-d0e4-719e71efede1"
      },
      "execution_count": 39,
      "outputs": [
        {
          "output_type": "display_data",
          "data": {
            "text/plain": [
              "<Figure size 640x480 with 1 Axes>"
            ],
            "image/png": "[encoded data removed]"
          },
          "metadata": {}
        }
      ]
    },
    {
      "cell_type": "code",
      "source": [
        "# Used Spearman correlation to measure correlation between Total Medicare Part B Enrollment and Total Telehealth Users\n",
        "spearman_corr = df[['total_partb_enrl','total_bene_telehealth']].corr(method='spearman')\n",
        "\n",
        "print(\"Spearman Correlation Matrix:\")\n",
        "print(spearman_corr)\n",
        "\n",
        "# Create a heatmap of the Spearman correlation matrix\n",
        "plt.figure(figsize=(8, 6))\n",
        "sns.heatmap(spearman_corr, annot=True, cmap='coolwarm')\n",
        "plt.title(\"Spearman Correlation Heatmap\")\n",
        "plt.show()\n"
      ],
      "metadata": {
        "colab": {
          "base_uri": "https://localhost:8080/",
          "height": 613
        },
        "id": "kvlKvY0nmt6y",
        "outputId": "dd556179-2742-438c-f0c6-89226eb01acf"
      },
      "execution_count": 47,
      "outputs": [
        {
          "output_type": "stream",
          "name": "stdout",
          "text": [
            "Spearman Correlation Matrix:\n",
            "                       total_partb_enrl  total_bene_telehealth\n",
            "total_partb_enrl               1.000000               0.933309\n",
            "total_bene_telehealth          0.933309               1.000000\n"
          ]
        },
        {
          "output_type": "display_data",
          "data": {
            "text/plain": [
              "<Figure size 800x600 with 2 Axes>"
            ],
            "image/png": "[encoded data removed]"
          },
          "metadata": {}
        }
      ]
    },
    {
      "cell_type": "markdown",
      "source": [
        "\n",
        "\n",
        "> **Summary of Heatmap**\n",
        "\n",
        "Spearman rank correlation was used to analyze the correlation between Total Medicare Part B Enrollment and Total Telehealth Users. Based on the heatmap above, it can be seen that there is a strong positive correlation between the two variables with a strength of 0.933.\n"
      ],
      "metadata": {
        "id": "4oUHy8qYoVLN"
      }
    },
    {
      "cell_type": "markdown",
      "source": [
        "**____________________________________________________________________________________________________________**"
      ],
      "metadata": {
        "id": "ombthxUlVg0F"
      }
    },
    {
      "cell_type": "markdown",
      "source": [
        "# **3. Handling Outliers**\n",
        "\n",
        "Handling outliers in each numerical column"
      ],
      "metadata": {
        "id": "StwUPpRGBymk"
      }
    },
    {
      "cell_type": "markdown",
      "source": [
        "### total_bene_th_elig\n",
        "\n",
        "Applied log to the values in \"total_bene_th_elig\" and contained the new values in a new column called \"log_elig\". This normalized distribution of the data and the histogram."
      ],
      "metadata": {
        "id": "mpZnq_xcyV24"
      }
    },
    {
      "cell_type": "code",
      "source": [
        "# Detecting Outliers\n",
        "threshold_lower = percentile25_elig - 1.5 * iqr_elig\n",
        "threshold_upper = percentile75_elig + 1.5 * iqr_elig\n",
        "\n",
        "outliers = [x for x in df['total_bene_th_elig'] if x < threshold_lower or x > threshold_upper]\n",
        "\n",
        "print(\"Outliers:\", outliers)"
      ],
      "metadata": {
        "id": "viUk1vTSB4vT",
        "colab": {
          "base_uri": "https://localhost:8080/"
        },
        "outputId": "6744ef48-98e0-4cb3-de35-f675e8a0c401"
      },
      "execution_count": 25,
      "outputs": [
        {
          "output_type": "stream",
          "name": "stdout",
          "text": [
            "Outliers: [1843472.0, 908469.0, 642601.0, 2119055.0, 1887093.0, 1201331.0, 917724.0, 1335517.0, 727038.0, 1392017.0, 1533410.0, 717368.0, 1702208.0, 1634015.0, 958405.0, 743803.0, 1398275.0, 1444008.0, 679370.0, 874708.0, 1008908.0, 823879.0, 805119.0, 797553.0, 654248.0, 703478.0, 20624210.0, 3163071.0, 10407056.0, 7070986.0, 3351317.0, 23992430.0, 5419130.0, 18521196.0, 2971037.0, 13608452.0, 10383978.0, 657700.0, 1405023.0, 815121.0, 2058420.0, 1751809.0, 1221387.0, 837033.0, 996870.0, 1330975.0, 1158910.0, 771600.0, 16966558.0, 2102171.0, 8272108.0, 5949662.0, 2844641.0, 19168582.0, 4753931.0, 14388915.0, 2040684.0, 10867506.0, 8301076.0, 2887191.0, 2012704.0, 1402227.0, 915289.0, 646900.0, 4977120.0, 1213154.0, 3752262.0, 1895825.0, 3006253.0, 1970867.0, 891607.0, 674798.0, 2902503.0, 17737019.0, 1150367.0, 9004829.0, 6155697.0, 2704417.0, 19015310.0, 4205976.0, 14768934.0, 1075212.0, 10602199.0, 8413111.0, 1166813.0, 656177.0, 16266079.0, 650703.0, 737395.0, 727451.0, 1128070.0, 1326481.0, 1169765.0, 759296.0, 1004231.0, 953197.0, 714786.0, 846325.0, 662631.0, 683128.0, 703971.0, 825468.0, 721246.0, 674374.0, 850524.0, 991357.0, 847393.0, 866583.0, 809562.0, 1358144.0, 701654.0, 1554488.0, 1241196.0, 876501.0, 677987.0, 1125309.0, 1288991.0, 684737.0, 770731.0, 667496.0, 1639773.0, 819548.0, 1896960.0, 1684370.0, 1069713.0, 827247.0, 1203039.0, 666524.0, 1230436.0, 1426765.0, 676047.0, 1585904.0, 1522412.0, 887561.0, 698343.0, 1308669.0, 1349061.0, 801621.0, 925756.0, 751076.0, 743993.0, 732532.0, 643925.0, 18863098.0, 2929273.0, 9629930.0, 6458970.0, 2967219.0, 21985392.0, 5044469.0, 16894932.0, 2743697.0, 12431316.0, 9554076.0, 1268146.0, 746137.0, 1869353.0, 1587511.0, 1107959.0, 761394.0, 884459.0, 1193355.0, 1035768.0, 690251.0, 15609966.0, 1954769.0, 7701902.0, 5471978.0, 2529298.0, 17657947.0, 4435038.0, 13199928.0, 1896366.0, 9980965.0, 7676982.0, 2603504.0, 1862788.0, 1287550.0, 818020.0, 4539102.0, 1119884.0, 3408602.0, 1747719.0, 2741354.0, 1797748.0, 812407.0, 2673425.0, 16259594.0, 1066485.0, 8342380.0, 5640950.0, 2396475.0, 17446290.0, 3924585.0, 13486330.0, 995978.0, 9689962.0, 7756328.0, 1056946.0, 14984522.0, 655779.0, 646965.0, 1028148.0, 1212716.0, 1063880.0, 690466.0, 926569.0, 871741.0, 653216.0, 775367.0, 662683.0, 773542.0, 678208.0, 775624.0, 905094.0, 769486.0, 794530.0, 740947.0, 1248982.0, 655203.0, 1433018.0, 1142233.0, 805723.0, 1040441.0, 1189469.0, 696195.0, 1790529.0, 918105.0, 2057196.0, 1828285.0, 1166272.0, 890924.0, 1304539.0, 696760.0, 1360436.0, 1507471.0, 736300.0, 1671627.0, 1604557.0, 939317.0, 732310.0, 1377076.0, 1431711.0, 673686.0, 904332.0, 1036892.0, 841546.0, 833874.0, 832442.0, 658176.0, 720097.0, 20756857.0, 3084913.0, 10899760.0, 6955427.0, 3085523.0, 24025623.0, 5499424.0, 18476569.0, 2897702.0, 13634419.0, 10391204.0, 646250.0, 1366584.0, 818844.0, 1989925.0, 1693293.0, 1181489.0, 808436.0, 971381.0, 1294323.0, 1124066.0, 751195.0, 17156366.0, 2058552.0, 8721587.0, 5890110.0, 2633067.0, 19303316.0, 4842656.0, 14435976.0, 1999851.0, 10955227.0, 8348089.0, 2686971.0, 1942628.0, 1364349.0, 837428.0, 4698032.0, 1159630.0, 3527827.0, 1828547.0, 2829199.0, 1868833.0, 829639.0, 2742909.0, 18069886.0, 1142285.0, 9535411.0, 6117999.0, 2531896.0, 19327591.0, 4339794.0, 14948742.0, 1069155.0, 10805220.0, 8522371.0, 1160286.0, 657069.0, 16560407.0, 648306.0, 731992.0, 722513.0, 1141910.0, 1337081.0, 1175099.0, 765572.0, 1017143.0, 983359.0, 714048.0, 841314.0, 660772.0, 688437.0, 723197.0, 838076.0, 734797.0, 699619.0, 868901.0, 1005693.0, 857389.0, 883350.0, 835967.0, 1342710.0, 722573.0, 1532083.0, 1222196.0, 862745.0, 669338.0, 1114103.0, 1286484.0, 687957.0, 769618.0, 676508.0, 1790411.0, 936553.0, 2055549.0, 1826203.0, 1165647.0, 889902.0, 1303529.0, 689418.0, 1366131.0, 1521711.0, 758463.0, 1684268.0, 1617241.0, 946718.0, 737550.0, 1390135.0, 1452429.0, 666904.0, 892099.0, 1021486.0, 830817.0, 821238.0, 825762.0, 657499.0, 707615.0, 20641631.0, 3044877.0, 11076748.0, 6812300.0, 2926074.0, 23859999.0, 5417733.0, 18392487.0, 2860151.0, 13519514.0, 10340485.0, 647649.0, 1352365.0, 822524.0, 1964059.0, 1673109.0, 1166571.0, 797488.0, 968654.0, 1288109.0, 1119339.0, 747232.0, 17049550.0, 2028751.0, 8867957.0, 5768883.0, 2495665.0, 19161256.0, 4768620.0, 14368208.0, 1971121.0, 10855599.0, 8305657.0, 2587408.0, 1905947.0, 1341051.0, 799457.0, 4557238.0, 1115001.0, 3432065.0, 1794297.0, 2738962.0, 1818276.0, 803610.0, 2647117.0, 18054223.0, 1138930.0, 9735697.0, 6012843.0, 2415291.0, 19302761.0, 4302732.0, 14960422.0, 1065854.0, 10780552.0, 8522209.0, 1160449.0, 663737.0, 16514139.0, 652765.0, 736686.0, 727236.0, 1147082.0, 1342605.0, 1183053.0, 767132.0, 1021429.0, 995027.0, 709196.0, 834640.0, 655915.0, 686608.0, 713009.0, 824499.0, 722892.0, 692408.0, 859222.0, 993540.0, 849852.0, 871708.0, 829417.0, 1349754.0, 743880.0, 1535831.0, 1226809.0, 863441.0, 672390.0, 1120143.0, 1301070.0, 679342.0, 758542.0, 670685.0, 649609.0, 2335619.0, 1241924.0, 756752.0, 2685470.0, 2382887.0, 1504002.0, 1181468.0, 1668127.0, 908144.0, 1777326.0, 1862936.0, 940954.0, 2076799.0, 1991363.0, 1156493.0, 920306.0, 1689487.0, 1758803.0, 727507.0, 857351.0, 674480.0, 641361.0, 693640.0, 1163359.0, 1335337.0, 1084011.0, 755970.0, 1062785.0, 1071029.0, 717815.0, 642673.0, 648139.0, 744753.0, 700832.0, 697574.0, 834236.0, 801355.0, 704125.0, 756576.0, 936664.0, 698971.0, 774608.0, 722991.0, 26643087.0, 4088348.0, 14440801.0, 8507567.0, 3910158.0, 30946874.0, 7179562.0, 23696689.0, 3869767.0, 17320016.0, 13626858.0, 789825.0, 878593.0, 829781.0, 1818640.0, 775749.0, 1108998.0, 2655433.0, 2262175.0, 691053.0, 1539809.0, 1115624.0, 1331758.0, 764653.0, 1761887.0, 1529817.0, 998538.0, 763349.0, 21802295.0, 2697954.0, 11457265.0, 7140679.0, 3308493.0, 24604391.0, 6300437.0, 18269938.0, 2627337.0, 13788464.0, 10815927.0, 3579026.0, 2547730.0, 1846338.0, 1078281.0, 735619.0, 6207968.0, 1513571.0, 4680211.0, 2418404.0, 3670101.0, 2537867.0, 1124042.0, 865856.0, 3564130.0, 23064061.0, 1540618.0, 12594463.0, 7429286.0, 3174539.0, 24738906.0, 5665991.0, 19016478.0, 1451363.0, 13649915.0, 11088991.0, 1531391.0, 896031.0, 21040261.0, 808917.0, 916066.0, 903812.0, 698173.0, 769482.0, 1431154.0, 723972.0, 1680584.0, 1475211.0, 950988.0, 729596.0, 1253732.0, 1220550.0, 898579.0, 1063711.0, 733396.0, 826787.0, 863851.0, 927079.0, 1085790.0, 774580.0, 944193.0, 893858.0, 1099030.0, 1279658.0, 1090893.0, 717431.0, 1113166.0, 1050969.0, 660300.0, 684876.0, 1736736.0, 964749.0, 1988152.0, 1584367.0, 1103905.0, 884247.0, 1426346.0, 1664850.0, 870554.0, 979038.0, 796039.0, 761641.0, 854197.0, 701978.0, 1784491.0, 873141.0, 2035189.0, 1811343.0, 1153869.0, 881320.0, 1286758.0, 695251.0, 1339938.0, 1510886.0, 700273.0, 1662574.0, 1597789.0, 934677.0, 727897.0, 1372841.0, 1427320.0, 641150.0, 843002.0, 962869.0, 783210.0, 774898.0, 763805.0, 655710.0, 19949150.0, 2760299.0, 9988164.0, 7004652.0, 3139977.0, 22893092.0, 5130195.0, 17716590.0, 2599619.0, 12960371.0, 9932721.0, 1286247.0, 743197.0, 1835655.0, 1574878.0, 1089345.0, 746310.0, 940545.0, 1237094.0, 1077670.0, 719054.0, 16473193.0, 1836398.0, 7973493.0, 5918466.0, 2674452.0, 18402809.0, 4524507.0, 13854665.0, 1783669.0, 10416346.0, 7986463.0, 2636144.0, 1793795.0, 1310854.0, 830137.0, 4495686.0, 1075850.0, 3409815.0, 1694479.0, 2695924.0, 1799762.0, 772403.0, 2620709.0, 17313006.0, 966504.0, 8677310.0, 6174515.0, 2579077.0, 18397406.0, 4054345.0, 14306775.0, 905140.0, 10264447.0, 8132959.0, 1063252.0, 15782100.0, 706102.0, 696932.0, 1099817.0, 1281080.0, 1130829.0, 730865.0, 974407.0, 935954.0, 688841.0, 801483.0, 659332.0, 684966.0, 789064.0, 691660.0, 658234.0, 832612.0, 954567.0, 818734.0, 837429.0, 793112.0, 1290717.0, 663153.0, 1457255.0, 1167167.0, 820865.0, 1070763.0, 1232579.0, 660980.0, 731881.0, 647663.0, 1829667.0, 912534.0, 644333.0, 2081924.0, 1851255.0, 1185890.0, 896034.0, 1314950.0, 705271.0, 1376653.0, 1526889.0, 721537.0, 1676075.0, 1610534.0, 943301.0, 732774.0, 1386726.0, 1446981.0, 874878.0, 995655.0, 808706.0, 802053.0, 795230.0, 659534.0, 673353.0, 20463184.0, 2756018.0, 10415979.0, 7113339.0, 3104239.0, 23389575.0, 5278997.0, 18062894.0, 2603753.0, 13305486.0, 10084089.0, 660300.0, 1293878.0, 754639.0, 1831850.0, 1573760.0, 1092312.0, 739538.0, 957157.0, 1250622.0, 1088068.0, 730429.0, 16913145.0, 1838749.0, 8334983.0, 6018796.0, 2645975.0, 18838503.0, 4666905.0, 14147073.0, 1788785.0, 10717468.0, 8121035.0, 2618144.0, 1782302.0, 1321870.0, 818076.0, 4460199.0, 1069764.0, 3380576.0, 1688357.0, 2672966.0, 1787233.0, 754725.0, 2595306.0, 17845040.0, 973716.0, 9094109.0, 6295263.0, 2566288.0, 18929376.0, 4209233.0, 14682318.0, 915396.0, 10632520.0, 8296856.0, 1077125.0, 16243197.0, 644997.0, 721758.0, 712524.0, 1139921.0, 1321278.0, 1164826.0, 757438.0, 1007059.0, 977928.0, 686917.0, 796672.0, 659875.0, 706802.0, 809393.0, 710405.0, 680557.0, 858875.0, 979986.0, 839633.0, 859996.0, 820493.0, 1317539.0, 689820.0, 1482276.0, 1186374.0, 837092.0, 645184.0, 1093022.0, 1263053.0, 670579.0, 739627.0, 658912.0, 1852905.0, 944692.0, 642347.0, 2105879.0, 1874303.0, 1199291.0, 906588.0, 1330501.0, 705197.0, 1400682.0, 1518120.0, 734307.0, 1664899.0, 1599906.0, 938076.0, 726823.0, 1377113.0, 1442582.0, 644498.0, 890029.0, 1009685.0, 819253.0, 815294.0, 812501.0, 664727.0, 677933.0, 20705933.0, 2735962.0, 10788503.0, 7074977.0, 3002720.0, 23602162.0, 5323835.0, 18230146.0, 2587205.0, 13410961.0, 10191201.0, 669799.0, 1298012.0, 768707.0, 1824947.0, 1569733.0, 1086295.0, 738652.0, 962455.0, 1253138.0, 1090110.0, 731256.0, 17119848.0, 1827548.0, 8649905.0, 5991342.0, 2559920.0, 19028715.0, 4711836.0, 14292077.0, 1778714.0, 10815170.0, 8213545.0, 2560568.0, 1757753.0, 1314701.0, 791637.0, 4373483.0, 1046036.0, 3317636.0, 1667585.0, 2613398.0, 1760085.0, 734115.0, 2540402.0, 18145365.0, 978209.0, 9473802.0, 6283340.0, 2493328.0, 19228679.0, 4277799.0, 14912510.0, 919620.0, 10797563.0, 8431116.0, 1090832.0, 645443.0, 16488313.0, 652035.0, 728473.0, 719243.0, 1142527.0, 1321710.0, 1165775.0, 757066.0, 1007195.0, 986082.0, 698042.0, 806187.0, 642909.0, 673699.0, 719463.0, 818940.0, 719991.0, 696030.0, 873046.0, 993023.0, 851502.0, 872725.0, 836888.0, 1335548.0, 716417.0, 1498180.0, 1199644.0, 844429.0, 653751.0, 1106781.0, 1285448.0, 684675.0, 752861.0, 675282.0, 1842722.0, 955938.0, 2090761.0, 1861362.0, 1189843.0, 900918.0, 1322851.0, 693419.0, 1397342.0, 1527677.0, 751606.0, 1670025.0, 1605565.0, 940430.0, 729595.0, 1385732.0, 1457065.0, 887209.0, 997809.0, 815530.0, 806183.0, 816053.0, 672353.0, 645927.0, 676548.0, 20718567.0, 2672177.0, 10990434.0, 6993207.0, 2883666.0, 23539484.0, 5276931.0, 18215038.0, 2529582.0, 13364211.0, 10175273.0, 668660.0, 1284749.0, 769118.0, 1793479.0, 1545851.0, 1069800.0, 723679.0, 950257.0, 1233541.0, 1073953.0, 720051.0, 17149510.0, 1785926.0, 8834200.0, 5931204.0, 2459359.0, 19010689.0, 4676417.0, 14309701.0, 1739005.0, 10795387.0, 8215302.0, 2475741.0, 1707571.0, 1287977.0, 760020.0, 4233560.0, 1001017.0, 3223110.0, 1622312.0, 2527397.0, 1706163.0, 706001.0, 2454643.0, 18242826.0, 964606.0, 9702457.0, 6233187.0, 2405674.0, 19305924.0, 4275914.0, 14991928.0, 907270.0, 10836814.0, 8469110.0, 1087478.0, 644155.0, 16556046.0, 661497.0, 737428.0, 728300.0, 1158830.0, 1336264.0, 1180425.0, 764528.0, 1020868.0, 1007029.0, 692495.0, 796702.0, 670745.0, 718040.0, 814329.0, 716051.0, 696964.0, 883179.0, 1002004.0, 860456.0, 880939.0, 848398.0, 1332639.0, 727988.0, 1489713.0, 1194498.0, 840325.0, 649388.0, 1104803.0, 1286238.0, 682401.0, 748392.0, 674587.0, 2342272.0, 1238693.0, 773905.0, 2669178.0, 2369158.0, 1497778.0, 1171400.0, 1653357.0, 904569.0, 1764609.0, 1851018.0, 926780.0, 647836.0, 2045262.0, 1963159.0, 1138979.0, 906283.0, 1667800.0, 1746593.0, 700942.0, 812022.0, 646419.0, 666484.0, 1128110.0, 1284042.0, 1040759.0, 726033.0, 1026280.0, 1028186.0, 678121.0, 641212.0, 732362.0, 688058.0, 700198.0, 826409.0, 793333.0, 697450.0, 719668.0, 876787.0, 653667.0, 728833.0, 684011.0, 26130316.0, 3642908.0, 14086279.0, 8521615.0, 3716622.0, 29967424.0, 6891337.0, 23009096.0, 3455755.0, 16765238.0, 13202186.0, 799583.0, 884062.0, 834313.0, 1701895.0, 670050.0, 1034869.0, 2423566.0, 2082895.0, 1405555.0, 1018011.0, 1299508.0, 745487.0, 1690835.0, 1468856.0, 962076.0, 728759.0, 21403531.0, 2398118.0, 11197600.0, 7159034.0, 3144518.0, 23899270.0, 6071816.0, 17793779.0, 2336481.0, 13389446.0, 10509824.0, 3385544.0, 2327769.0, 1789378.0, 1009124.0, 657109.0, 5783380.0, 1380536.0, 4389957.0, 2215494.0, 3388060.0, 2395320.0, 1004973.0, 826785.0, 3299703.0, 22744772.0, 1315139.0, 12296901.0, 7512491.0, 3059513.0, 24184044.0, 5510801.0, 18619139.0, 1240261.0, 13377178.0, 10806866.0, 1418593.0, 864050.0, 20599567.0, 794238.0, 890980.0, 879522.0, 681423.0, 753895.0, 1408620.0, 707991.0, 1637732.0, 1440151.0, 926546.0, 711186.0, 1223865.0, 1204057.0, 870645.0, 1014142.0, 705685.0, 796952.0, 836425.0, 908915.0, 1047427.0, 749273.0, 912950.0, 876809.0, 1091871.0, 1252407.0, 1071881.0, 701249.0, 1090393.0, 1040766.0, 641230.0, 661019.0, 1687645.0, 934696.0, 1907028.0, 1523763.0, 1059744.0, 847284.0, 1384726.0, 1623895.0, 854002.0, 945705.0, 774665.0, 741435.0, 840998.0, 691807.0, 1842015.0, 885695.0, 672508.0, 2078618.0, 1852108.0, 1182695.0, 895923.0, 1312194.0, 705127.0, 1373491.0, 1505207.0, 679282.0, 1638197.0, 1575972.0, 922255.0, 715942.0, 1358155.0, 1423083.0, 827191.0, 927504.0, 760922.0, 750685.0, 749596.0, 639763.0, 19876488.0, 2418022.0, 9730002.0, 7213982.0, 3100173.0, 22462179.0, 4939974.0, 17475659.0, 2282064.0, 12727540.0, 9734639.0, 652580.0, 1218677.0, 687416.0, 1682408.0, 1457708.0, 1000828.0, 681580.0, 918155.0, 1184963.0, 1034038.0, 691712.0, 16443630.0, 1604811.0, 7801352.0, 6091357.0, 2638633.0, 18136153.0, 4380507.0, 13731992.0, 1559301.0, 10277722.0, 7858431.0, 2516827.0, 1601579.0, 1244133.0, 791507.0, 4174947.0, 962372.0, 3203112.0, 1518453.0, 2486205.0, 1688742.0, 681262.0, 2427493.0, 17359661.0, 816443.0, 8485869.0, 6422475.0, 2562445.0, 18287232.0, 3977602.0, 14272547.0, 763611.0, 10241335.0, 8045897.0, 1001146.0, 15708660.0, 705028.0, 696025.0, 1098022.0, 1260727.0, 1116600.0, 720257.0, 963281.0, 937137.0, 668040.0, 761671.0, 641186.0, 670098.0, 758914.0, 667742.0, 643334.0, 837577.0, 944787.0, 814228.0, 830455.0, 793305.0, 1296368.0, 654139.0, 1441202.0, 1158680.0, 811342.0, 1075754.0, 1241638.0, 655362.0, 714759.0, 642963.0, 1858654.0, 911943.0, 670668.0, 2094670.0, 1865715.0, 1194153.0, 900517.0, 1319095.0, 709302.0, 1385368.0, 1519390.0, 700730.0, 1650586.0, 1587944.0, 929511.0, 721075.0, 1371421.0, 1441092.0, 856564.0, 956758.0, 783606.0, 775093.0, 779255.0, 661224.0, 20260434.0, 2394173.0, 10087701.0, 7286988.0, 3042367.0, 22811229.0, 5043481.0, 17721192.0, 2264145.0, 12971980.0, 9839249.0, 664764.0, 1216774.0, 693326.0, 1667253.0, 1447667.0, 994918.0, 672335.0, 930648.0, 1194089.0, 1041769.0, 699009.0, 16783638.0, 1593258.0, 8108691.0, 6164118.0, 2592568.0, 18458635.0, 4483117.0, 13951742.0, 1550153.0, 10502089.0, 7956546.0, 2486695.0, 1579512.0, 1250476.0, 775437.0, 4118446.0, 948042.0, 3161156.0, 1499687.0, 2450064.0, 1668382.0, 661204.0, 2388884.0, 17773739.0, 814661.0, 8837225.0, 6511551.0, 2529346.0, 18692783.0, 4095439.0, 14560036.0, 764458.0, 10521916.0, 8170867.0, 1006049.0, 16069751.0, 648948.0, 718839.0, 709859.0, 1136114.0, 1298750.0, 1148309.0, 744221.0, 995094.0, 977724.0, 666072.0, 756915.0, 641467.0, 690707.0, 778063.0, 685408.0, 665089.0, 857068.0, 962185.0, 828166.0, 846969.0, 813264.0, 1306568.0, 671506.0, 1447910.0, 1164733.0, 817577.0, 1083902.0, 1255079.0, 662274.0, 720178.0, 651345.0, 1870405.0, 938084.0, 665174.0, 2107288.0, 1877627.0, 1201409.0, 905879.0, 1325195.0, 710867.0, 1396421.0, 1491534.0, 700673.0, 1620523.0, 1558640.0, 913099.0, 707424.0, 1344668.0, 1417045.0, 859053.0, 959045.0, 784968.0, 776455.0, 782918.0, 652303.0, 20258530.0, 2375538.0, 10294744.0, 7184502.0, 2927430.0, 22782214.0, 5038935.0, 17697001.0, 2248043.0, 12948357.0, 9833857.0, 669099.0, 1218701.0, 705092.0, 1661529.0, 1444001.0, 989405.0, 672124.0, 933315.0, 1194345.0, 1041850.0, 698451.0, 16767811.0, 1580031.0, 8274876.0, 6077161.0, 2492721.0, 18424789.0, 4479718.0, 13921637.0, 1538139.0, 10479890.0, 7944899.0, 2438037.0, 1560482.0, 1249894.0, 750885.0, 4047434.0, 927307.0, 3110991.0, 1483037.0, 2398224.0, 1649210.0, 648059.0, 2339356.0, 17820493.0, 815056.0, 9044850.0, 6433617.0, 2441257.0, 18734780.0, 4111628.0, 14586010.0, 765006.0, 10550133.0, 8184647.0, 1013470.0, 16085433.0, 646827.0, 716278.0, 707387.0, 1125418.0, 1286125.0, 1138445.0, 736498.0, 983049.0, 971472.0, 667926.0, 757347.0, 645207.0, 692595.0, 778446.0, 685620.0, 668515.0, 856817.0, 961150.0, 827789.0, 845975.0, 814678.0, 1315196.0, 691055.0, 1454708.0, 1169943.0, 820623.0, 1089971.0, 1266983.0, 666093.0, 722913.0, 656923.0, 1865629.0, 952419.0, 656191.0, 2099424.0, 1870224.0, 1196000.0, 903424.0, 1324071.0, 702876.0, 1396548.0, 1512725.0, 724033.0, 1639095.0, 1577130.0, 922672.0, 716423.0, 1363923.0, 1442658.0, 863187.0, 961635.0, 787751.0, 780546.0, 789147.0, 659809.0, 20326910.0, 2330217.0, 10525303.0, 7122950.0, 2817657.0, 22796127.0, 5021920.0, 17728344.0, 2207240.0, 12938787.0, 9857340.0, 663364.0, 1203802.0, 704318.0, 1631691.0, 1420167.0, 972700.0, 658991.0, 923359.0, 1178960.0, 1029101.0, 688869.0, 16854788.0, 1551745.0, 8488520.0, 6036996.0, 2401155.0, 18478416.0, 4470576.0, 13984271.0, 1511242.0, 10495882.0, 7982534.0, 2369154.0, 1522986.0, 1234821.0, 722846.0, 3937479.0, 897272.0, 3031420.0, 1449101.0, 2328023.0, 1609456.0, 2275941.0, 17957756.0, 807231.0, 9290482.0, 6400104.0, 2360831.0, 18858648.0, 4124648.0, 14696924.0, 758139.0, 10610764.0, 8247884.0, 1008073.0, 16202475.0, 654474.0, 723405.0, 714610.0, 1138551.0, 1297979.0, 1149107.0, 742891.0, 995848.0, 989496.0, 666737.0, 753760.0, 646057.0, 696368.0, 780173.0, 687421.0, 673775.0, 866664.0, 969289.0, 835876.0, 853853.0, 825784.0, 1315406.0, 703931.0, 1450793.0, 1167868.0, 817165.0, 1091911.0, 1271019.0, 667209.0, 722515.0, 659683.0, 2355276.0, 1227318.0, 798439.0, 2659775.0, 2363664.0, 1494666.0, 1165109.0, 1640126.0, 910140.0, 1749635.0, 1822040.0, 889598.0, 661706.0, 1993524.0, 1915568.0, 1110433.0, 883091.0, 1631609.0, 1718620.0, 678045.0, 772022.0, 643246.0, 1087970.0, 1219262.0, 994862.0, 689025.0, 978921.0, 987772.0, 647458.0, 720182.0, 677116.0, 698185.0, 814841.0, 781941.0, 687480.0, 681851.0, 817132.0, 682484.0, 25520090.0, 3188339.0, 13456096.0, 8634084.0, 3608545.0, 28887064.0, 6528187.0, 22293394.0, 3026903.0, 16163170.0, 12723894.0, 802299.0, 882027.0, 832697.0, 1589190.0, 947871.0, 2201279.0, 1910222.0, 1276765.0, 924514.0, 1258435.0, 717655.0, 1610427.0, 1402298.0, 918939.0, 691488.0, 20934250.0, 2089135.0, 10724780.0, 7249980.0, 3051594.0, 23115489.0, 5778046.0, 17304816.0, 2035423.0, 12956240.0, 10159249.0, 3241460.0, 2089449.0, 1719372.0, 958635.0, 5392371.0, 1241147.0, 4139140.0, 1993062.0, 3131245.0, 2261126.0, 893737.0, 784260.0, 3064925.0, 22278630.0, 1098890.0, 11736724.0, 7675449.0, 2983630.0, 23494693.0, 5287040.0, 18154254.0, 1033841.0, 13031925.0, 10462768.0, 1307542.0, 826167.0, 20050564.0, 786018.0, 874180.0, 863096.0, 671477.0, 738567.0, 1383733.0, 677641.0, 1589612.0, 1401569.0, 899168.0, 690444.0, 1192113.0, 1181918.0, 832752.0, 953385.0, 669349.0, 759511.0, 800907.0, 876478.0, 995945.0, 713003.0, 870579.0, 842093.0, 1073366.0, 1213593.0, 1042952.0, 680409.0, 1058887.0, 1014654.0, 1653008.0, 899294.0, 1842803.0, 1478196.0, 1023477.0, 819326.0, 1356205.0, 1590100.0, 828930.0, 906166.0, 747611.0, 715895.0, 816697.0, 670534.0, 1828037.0, 912968.0, 655147.0, 2050560.0, 1829965.0, 1165606.0, 884954.0, 1300677.0, 679992.0, 1370568.0, 1477651.0, 688503.0, 1596307.0, 1536759.0, 899335.0, 696972.0, 1329483.0, 1408994.0, 810428.0, 905039.0, 742230.0, 734574.0, 736591.0, 19492455.0, 2165536.0, 9841751.0, 6974429.0, 2815812.0, 21797528.0, 4721106.0, 17032189.0, 2048249.0, 12353078.0, 9444450.0, 1140524.0, 648883.0, 1534404.0, 1342946.0, 910806.0, 886101.0, 1127765.0, 986502.0, 657997.0, 16172743.0, 1439031.0, 7951272.0, 5895497.0, 2399257.0, 17685057.0, 4205649.0, 13456446.0, 1399873.0, 10033405.0, 7651652.0, 2288070.0, 1426874.0, 1174647.0, 702644.0, 3759655.0, 839516.0, 2911180.0, 1357219.0, 2215050.0, 1544605.0, 2177762.0, 17204385.0, 738662.0, 8667104.0, 6271785.0, 2360322.0, 18037873.0, 3881590.0, 14121009.0, 691030.0, 10138028.0, 7899845.0, 946801.0, 15507295.0, 700420.0, 691743.0, 1089162.0, 1239428.0, 1100323.0, 708203.0, 949104.0, 939537.0, 714360.0, 660442.0, 738830.0, 650918.0, 832197.0, 927800.0, 802969.0, 818228.0, 792425.0, 1260131.0, 659913.0, 1386427.0, 1115988.0, 779115.0, 1050043.0, 1215972.0, 650535.0, 702233.0]\n"
          ]
        }
      ]
    },
    {
      "cell_type": "code",
      "source": [
        "# Transformed the data using log.\n",
        "df['log_total_bene_th_elig'] = np.log(df['total_bene_th_elig'])"
      ],
      "metadata": {
        "id": "-5ePP1H_AD2f"
      },
      "execution_count": 26,
      "outputs": []
    },
    {
      "cell_type": "markdown",
      "source": [
        "### total_partb_enrl#\n",
        "\n",
        "Transformed the values in this column using log to normalize the distribution."
      ],
      "metadata": {
        "id": "OQS8sKQp1SVC"
      }
    },
    {
      "cell_type": "code",
      "source": [
        "# Detecting Outliers\n",
        "threshold_lower = percentile25_elig - 1.5 * iqr_partb\n",
        "threshold_upper = percentile75_elig + 1.5 * iqr_partb\n",
        "\n",
        "outliers = [x for x in df['total_partb_enrl'] if x < threshold_lower or x > threshold_upper]\n",
        "\n",
        "print(\"Outliers:\", outliers)"
      ],
      "metadata": {
        "colab": {
          "base_uri": "https://localhost:8080/"
        },
        "id": "hjdJ1L1D1RNh",
        "outputId": "18b6efcd-eab2-4979-f218-0fcf341ba653"
      },
      "execution_count": 27,
      "outputs": [
        {
          "output_type": "stream",
          "name": "stdout",
          "text": [
            "Outliers: [2536430.0, 1345191.0, 823838.0, 2918669.0, 2590252.0, 1591110.0, 1327559.0, 1759298.0, 962555.0, 1956114.0, 1898146.0, 950420.0, 2120457.0, 2030225.0, 1158492.0, 961965.0, 1713843.0, 1804940.0, 748380.0, 883975.0, 1204872.0, 1381856.0, 1122734.0, 768653.0, 1088608.0, 1118261.0, 772855.0, 851666.0, 817747.0, 781595.0, 968133.0, 799412.0, 754564.0, 27673258.0, 4301866.0, 14833158.0, 8952949.0, 4094427.0, 32182399.0, 7494962.0, 24561110.0, 4102255.0, 17603222.0, 14579177.0, 878542.0, 974055.0, 913114.0, 1941259.0, 816362.0, 1173726.0, 2816371.0, 2400773.0, 1557649.0, 1258722.0, 1523047.0, 864275.0, 1972492.0, 1705419.0, 1063629.0, 908864.0, 22389570.0, 2835465.0, 11623146.0, 7436002.0, 3430892.0, 25325506.0, 6559300.0, 18704379.0, 2771193.0, 13926458.0, 11399048.0, 3644858.0, 2571357.0, 1855033.0, 1118698.0, 747702.0, 6292790.0, 1538075.0, 4737902.0, 2453756.0, 3643562.0, 2649228.0, 1123419.0, 897269.0, 3589920.0, 24028400.0, 1730509.0, 12978125.0, 7834251.0, 3346725.0, 25889609.0, 5956887.0, 19823209.0, 1648498.0, 13959660.0, 11929949.0, 1692952.0, 1075223.0, 21735586.0, 827518.0, 938488.0, 925619.0, 793425.0, 1467660.0, 1724181.0, 1511940.0, 960570.0, 763612.0, 1274662.0, 1272620.0, 916286.0, 1086603.0, 748852.0, 838388.0, 885595.0, 945781.0, 1108078.0, 788184.0, 962043.0, 921637.0, 1119193.0, 1306635.0, 1112703.0, 1130736.0, 1076533.0, 1812418.0, 995348.0, 2077258.0, 1654405.0, 1123030.0, 954228.0, 1464801.0, 1753505.0, 891054.0, 1004271.0, 815626.0, 774687.0, 876382.0, 756960.0, 2543014.0, 1372636.0, 814911.0, 2925700.0, 2596271.0, 1595293.0, 1330407.0, 1763507.0, 961777.0, 1963923.0, 1897114.0, 967264.0, 2118382.0, 2028493.0, 1157545.0, 960837.0, 1713008.0, 1810570.0, 747107.0, 880917.0, 1205101.0, 1381763.0, 1122525.0, 768392.0, 1089363.0, 1122539.0, 773917.0, 848698.0, 814757.0, 780003.0, 964340.0, 797237.0, 756823.0, 27674658.0, 4282646.0, 15110980.0, 8828750.0, 3931117.0, 32153492.0, 7480675.0, 24547881.0, 4083940.0, 17581964.0, 14571528.0, 880938.0, 976346.0, 915136.0, 1925810.0, 807205.0, 1181481.0, 2788768.0, 2379334.0, 1542633.0, 1246135.0, 1520414.0, 877906.0, 1968485.0, 1701436.0, 1061199.0, 907286.0, 22397179.0, 2823209.0, 11856067.0, 7340721.0, 3294950.0, 25314948.0, 6549149.0, 18704790.0, 2759570.0, 13916346.0, 11398602.0, 3546243.0, 2543464.0, 1844121.0, 1076618.0, 6161664.0, 1503119.0, 4642147.0, 2426899.0, 3558189.0, 2603475.0, 1093861.0, 886460.0, 3502436.0, 24128415.0, 1739182.0, 13266859.0, 7752132.0, 3233655.0, 25991829.0, 5977556.0, 19905734.0, 1657041.0, 14023775.0, 11968054.0, 1694907.0, 1082025.0, 21812512.0, 824548.0, 934866.0, 922236.0, 794335.0, 1459735.0, 1714923.0, 1503545.0, 955310.0, 759613.0, 1269469.0, 1275919.0, 916572.0, 1085703.0, 749348.0, 838336.0, 889900.0, 946030.0, 1104686.0, 785521.0, 960157.0, 926235.0, 1120422.0, 1306302.0, 1112877.0, 1130823.0, 1082346.0, 1815424.0, 1014896.0, 2078616.0, 1656889.0, 1123288.0, 955328.0, 1467443.0, 1763643.0, 892391.0, 1004091.0, 816432.0, 775066.0, 881278.0, 758786.0, 2564566.0, 1414828.0, 806268.0, 2949279.0, 2617254.0, 1606398.0, 1342881.0, 1775485.0, 959859.0, 1989420.0, 1901101.0, 990362.0, 2122474.0, 2032564.0, 1158734.0, 963740.0, 1715682.0, 1822933.0, 750227.0, 883240.0, 1212784.0, 1389503.0, 1128931.0, 772035.0, 1095591.0, 1134991.0, 780928.0, 853901.0, 819668.0, 782516.0, 966091.0, 799433.0, 763507.0, 27824821.0, 4290683.0, 15524231.0, 8710172.0, 3776349.0, 32301435.0, 7495089.0, 24680180.0, 4090747.0, 17638028.0, 14663407.0, 891586.0, 987603.0, 925309.0, 1929339.0, 804016.0, 1206846.0, 2786367.0, 2381004.0, 1538241.0, 1248126.0, 1535428.0, 908354.0, 1985278.0, 1716071.0, 1067922.0, 917357.0, 22500987.0, 2827300.0, 12175873.0, 7247544.0, 3166695.0, 25417411.0, 6562471.0, 18793496.0, 2763641.0, 13956130.0, 11461281.0, 3458984.0, 2524187.0, 1841301.0, 1036309.0, 6050581.0, 1473231.0, 4561406.0, 2408878.0, 3482248.0, 2568333.0, 1067713.0, 876699.0, 3428817.0, 24365836.0, 1766496.0, 13682931.0, 7673863.0, 3127565.0, 26250854.0, 6021859.0, 20118775.0, 1681869.0, 14155780.0, 12095074.0, 1718654.0, 1108580.0, 21988595.0, 828785.0, 939281.0, 926749.0, 802160.0, 1467949.0, 764587.0, 1725061.0, 1513247.0, 959287.0, 765774.0, 1274807.0, 1291312.0, 920555.0, 1089162.0, 752712.0, 841327.0, 897807.0, 951078.0, 1107993.0, 788284.0, 963162.0, 935774.0, 1128234.0, 1313599.0, 1119920.0, 1136699.0, 1094302.0, 1830988.0, 1047990.0, 2094167.0, 1671501.0, 1129344.0, 964823.0, 1477701.0, 1788611.0, 897581.0, 1007869.0, 820711.0, 778094.0, 890924.0, 765424.0, 2571711.0, 1443400.0, 796703.0, 2956928.0, 2623485.0, 1611029.0, 1345899.0, 1780665.0, 955745.0, 2001183.0, 1899544.0, 1008020.0, 2120405.0, 2030642.0, 1158232.0, 962173.0, 1714623.0, 1828243.0, 750646.0, 883054.0, 1215775.0, 1391604.0, 1130609.0, 773158.0, 1098468.0, 1143590.0, 784161.0, 855542.0, 821098.0, 782746.0, 965481.0, 799468.0, 767132.0, 27879925.0, 4290684.0, 15839279.0, 8590992.0, 3624998.0, 32345953.0, 7491347.0, 24729167.0, 4092468.0, 17660809.0, 14685144.0, 894656.0, 991089.0, 928503.0, 1923945.0, 799632.0, 1220341.0, 2773948.0, 2372537.0, 1531610.0, 1242338.0, 1535106.0, 923656.0, 1983937.0, 1714817.0, 1067686.0, 916251.0, 22548881.0, 2827855.0, 12438060.0, 7154116.0, 3040102.0, 25460132.0, 6560936.0, 18838204.0, 2764887.0, 13978249.0, 11481884.0, 3377161.0, 2510132.0, 1836008.0, 999610.0, 5950376.0, 1443940.0, 4490763.0, 2396803.0, 3415901.0, 2534474.0, 1047933.0, 864816.0, 3364037.0, 24502765.0, 1780552.0, 14003271.0, 7591383.0, 3020372.0, 26395577.0, 6047407.0, 20238403.0, 1695665.0, 14244908.0, 12150669.0, 1726015.0, 1119121.0, 22096096.0, 832102.0, 942679.0, 930186.0, 807270.0, 1471494.0, 779966.0, 1729598.0, 1517911.0, 961297.0, 768302.0, 1278615.0, 1300136.0, 921253.0, 1089410.0, 753636.0, 842095.0, 901946.0, 953445.0, 1109450.0, 789912.0, 964444.0, 941035.0, 1133732.0, 1318670.0, 1125642.0, 1140855.0, 1102443.0, 1835488.0, 1071223.0, 2096752.0, 1675233.0, 1130530.0, 966222.0, 1481973.0, 1801417.0, 900150.0, 1009453.0, 822775.0, 779694.0, 896992.0, 768389.0, 2553930.0, 1394014.0, 810430.0, 2937644.0, 2606815.0, 1600958.0, 1336686.0, 1769739.0, 959984.0, 1977660.0, 1898976.0, 979016.0, 2120429.0, 2030481.0, 1158251.0, 962179.0, 1714289.0, 1816672.0, 749090.0, 882797.0, 1209633.0, 1386181.0, 1126200.0, 770560.0, 1093007.0, 1129845.0, 777965.0, 852452.0, 818318.0, 781715.0, 966011.0, 798888.0, 760506.0, 27763166.0, 4291470.0, 15326912.0, 8770716.0, 3856723.0, 32245820.0, 7490518.0, 24629585.0, 4092352.0, 17621006.0, 14624814.0, 886430.0, 982273.0, 920515.0, 1930088.0, 806804.0, 1195598.0, 2791363.0, 2383412.0, 1542533.0, 1248830.0, 1528499.0, 893547.0, 1977548.0, 1709436.0, 1065109.0, 912439.0, 22459154.0, 2828457.0, 12023287.0, 7294596.0, 3233160.0, 25379499.0, 6557964.0, 18760217.0, 2764823.0, 13944296.0, 11435204.0, 3506812.0, 2537285.0, 1844116.0, 1057809.0, 6113853.0, 1489591.0, 4608055.0, 2421584.0, 3524975.0, 2588878.0, 1083232.0, 881311.0, 3471302.0, 24256354.0, 1754185.0, 13482797.0, 7712907.0, 3182079.0, 26131967.0, 6000927.0, 20021530.0, 1670768.0, 14096031.0, 12035937.0, 1708132.0, 1096237.0, 21908197.0, 828238.0, 938829.0, 926197.0, 799298.0, 1466709.0, 753617.0, 1723441.0, 1511661.0, 959116.0, 764325.0, 1274388.0, 1284997.0, 918667.0, 1087720.0, 751137.0, 840037.0, 893812.0, 949083.0, 1107552.0, 787975.0, 962451.0, 931170.0, 1125395.0, 1311302.0, 1117786.0, 1134778.0, 1088906.0, 1823580.0, 1032364.0, 2086698.0, 1664507.0, 1126548.0, 960150.0, 1472979.0, 1776794.0, 895294.0, 1006421.0, 818886.0, 776885.0, 886394.0, 762390.0, 2507147.0, 1319947.0, 831305.0, 2860383.0, 2538211.0, 1562488.0, 1297895.0, 1722274.0, 946203.0, 1914179.0, 1868691.0, 925852.0, 2070016.0, 1984623.0, 1131282.0, 938734.0, 1679221.0, 1777673.0, 828639.0, 1159037.0, 1318879.0, 1069401.0, 1045065.0, 1065486.0, 751090.0, 835056.0, 801187.0, 898193.0, 26858070.0, 3821154.0, 14290339.0, 8893168.0, 3858388.0, 30863049.0, 7122366.0, 23622314.0, 3655197.0, 16881370.0, 13981679.0, 868687.0, 958443.0, 897845.0, 1793669.0, 1079851.0, 2543297.0, 2186967.0, 1405955.0, 1137342.0, 1465513.0, 832189.0, 1872560.0, 1619340.0, 1012392.0, 860168.0, 21774946.0, 2514956.0, 11228043.0, 7405795.0, 3234556.0, 24383349.0, 6258604.0, 18065288.0, 2459872.0, 13410147.0, 10973203.0, 3410259.0, 2343305.0, 1779358.0, 1033341.0, 5817482.0, 1394641.0, 4407274.0, 2244887.0, 3331390.0, 2486092.0, 995572.0, 848740.0, 3304476.0, 23447811.0, 1477849.0, 12510981.0, 7859827.0, 3196910.0, 25045567.0, 5727726.0, 19215040.0, 1410310.0, 13549980.0, 11495587.0, 1547724.0, 1023820.0, 21078874.0, 803257.0, 902412.0, 890472.0, 767911.0, 1429682.0, 1665024.0, 1462104.0, 927756.0, 1235891.0, 1241536.0, 881558.0, 1029516.0, 803136.0, 851769.0, 918391.0, 1059595.0, 755697.0, 922496.0, 894482.0, 1100619.0, 1265911.0, 1082156.0, 1097516.0, 1055894.0, 1743646.0, 953394.0, 1974161.0, 1577218.0, 1067861.0, 906301.0, 1408920.0, 1692885.0, 866076.0, 961566.0, 786660.0, 748315.0, 855233.0, 2509227.0, 1343265.0, 821671.0, 2861337.0, 2538668.0, 1564239.0, 1297098.0, 1724501.0, 941899.0, 1919438.0, 1863531.0, 938921.0, 2061558.0, 1976630.0, 1127211.0, 934348.0, 1675101.0, 1778926.0, 823128.0, 1156396.0, 1314868.0, 1066315.0, 1043153.0, 1066459.0, 750025.0, 832944.0, 799147.0, 892591.0, 26809627.0, 3776832.0, 14503684.0, 8764682.0, 3712823.0, 30758021.0, 7086698.0, 23553927.0, 3615732.0, 16824982.0, 13933039.0, 867828.0, 956946.0, 896258.0, 1772628.0, 1079260.0, 2503442.0, 2155375.0, 1384342.0, 1119100.0, 1454563.0, 838114.0, 1855974.0, 1604692.0, 1003953.0, 852021.0, 21753578.0, 2489263.0, 11418940.0, 7307986.0, 3113877.0, 24330065.0, 6232882.0, 18038380.0, 2435586.0, 13381844.0, 10948221.0, 3314672.0, 2298899.0, 1756366.0, 993670.0, 5671946.0, 1353444.0, 4303217.0, 2204986.0, 3239765.0, 2432181.0, 960892.0, 830744.0, 3218262.0, 23494955.0, 1477933.0, 12747318.0, 7771012.0, 3089812.0, 25086075.0, 5733254.0, 19250710.0, 1410745.0, 13585217.0, 11500858.0, 1542550.0, 1025230.0, 21111803.0, 801935.0, 900215.0, 888391.0, 768293.0, 1423797.0, 1656781.0, 1455282.0, 923009.0, 1232309.0, 1244042.0, 877554.0, 1022381.0, 799871.0, 851778.0, 917728.0, 1055880.0, 753226.0, 920110.0, 896625.0, 1100506.0, 1262866.0, 1080171.0, 1095857.0, 1058930.0, 1741633.0, 968537.0, 1968212.0, 1574034.0, 1064650.0, 903562.0, 1408444.0, 1697737.0, 864478.0, 957548.0, 784367.0, 856697.0, 2534054.0, 1384464.0, 815010.0, 2887463.0, 2562240.0, 1577059.0, 1310404.0, 1737900.0, 944971.0, 1942492.0, 1867830.0, 960223.0, 2064313.0, 1979555.0, 1128447.0, 935866.0, 1677258.0, 1788908.0, 824054.0, 1161046.0, 1317027.0, 1069585.0, 1044966.0, 1074659.0, 756840.0, 838939.0, 804902.0, 893533.0, 26955788.0, 3757931.0, 14874711.0, 8657381.0, 3584740.0, 30874763.0, 7092012.0, 23664665.0, 3599156.0, 16873295.0, 14001468.0, 876513.0, 965780.0, 904330.0, 1775687.0, 1098687.0, 2493886.0, 2150886.0, 1377715.0, 1116171.0, 1467690.0, 863705.0, 1867279.0, 1615234.0, 1008278.0, 859001.0, 21860263.0, 2478199.0, 11713110.0, 7222741.0, 3006051.0, 24420101.0, 6240251.0, 18120726.0, 2425281.0, 13421251.0, 10998850.0, 3252798.0, 2267637.0, 1753306.0, 962238.0, 5574258.0, 1321959.0, 4237205.0, 2177165.0, 3175390.0, 2398867.0, 936195.0, 821622.0, 3155413.0, 23702990.0, 1490295.0, 13121405.0, 7695143.0, 2993662.0, 25300505.0, 5770053.0, 19427459.0, 1421991.0, 13697905.0, 11602601.0, 1557691.0, 1045657.0, 21264688.0, 808212.0, 906571.0, 894771.0, 775725.0, 1431014.0, 1663024.0, 1461666.0, 925586.0, 1237217.0, 1256698.0, 879037.0, 1021639.0, 800705.0, 856604.0, 922414.0, 1057213.0, 754258.0, 922158.0, 905338.0, 1108840.0, 1269926.0, 1087014.0, 1102181.0, 1069343.0, 1755191.0, 997251.0, 1979614.0, 1585134.0, 1068995.0, 910619.0, 1416846.0, 1716969.0, 869448.0, 961295.0, 788592.0, 749146.0, 864357.0, 2544087.0, 1413737.0, 806271.0, 2897956.0, 2571977.0, 1583822.0, 1314134.0, 1742829.0, 945262.0, 1952694.0, 1865087.0, 976504.0, 2060221.0, 1975919.0, 1127149.0, 933071.0, 1674390.0, 1792026.0, 822765.0, 1155673.0, 1301328.0, 1063605.0, 1032944.0, 1079647.0, 760086.0, 841505.0, 807354.0, 892718.0, 26983156.0, 3742055.0, 15152395.0, 8535670.0, 3444851.0, 30874971.0, 7070602.0, 23687122.0, 3587120.0, 16877832.0, 13997140.0, 879966.0, 969255.0, 907712.0, 1769657.0, 1109094.0, 2478458.0, 2140496.0, 1370079.0, 1108379.0, 1466928.0, 876770.0, 1864654.0, 1613605.0, 1007602.0, 857052.0, 21882545.0, 2466691.0, 11945484.0, 7125085.0, 2887402.0, 24424661.0, 6223679.0, 18142206.0, 2414961.0, 13426971.0, 10997691.0, 3184784.0, 2243121.0, 1747463.0, 930038.0, 5477192.0, 1286933.0, 4175380.0, 2156247.0, 3113719.0, 2363473.0, 917295.0, 811957.0, 3088658.0, 23798372.0, 1498934.0, 13404933.0, 7605632.0, 2888281.0, 25397780.0, 5783669.0, 19511742.0, 1430873.0, 13764113.0, 11633667.0, 1561163.0, 1052697.0, 21336003.0, 810700.0, 908964.0, 897230.0, 779412.0, 1432453.0, 746549.0, 1663661.0, 1462751.0, 925895.0, 1238453.0, 1263196.0, 878494.0, 1019595.0, 799996.0, 859017.0, 924249.0, 1058182.0, 755699.0, 922938.0, 909417.0, 1113827.0, 1274971.0, 1091909.0, 1106566.0, 1075752.0, 1757288.0, 1016904.0, 1979583.0, 1586727.0, 1069353.0, 910230.0, 1418864.0, 1724419.0, 870681.0, 961761.0, 789849.0, 749605.0, 867955.0, 2523629.0, 1365353.0, 818564.0, 2876785.0, 2552774.0, 1571902.0, 1304883.0, 1731876.0, 944584.0, 1932201.0, 1866285.0, 950375.0, 2064027.0, 1979182.0, 1128522.0, 935505.0, 1676492.0, 1784383.0, 824646.0, 1158038.0, 1313026.0, 1067226.0, 1041532.0, 1071563.0, 754510.0, 837111.0, 803148.0, 894259.0, 26901660.0, 3774493.0, 14705282.0, 8712725.0, 3650201.0, 30842701.0, 7092920.0, 23632007.0, 3614301.0, 16864370.0, 13978332.0, 873249.0, 962606.0, 901536.0, 1777910.0, 1091723.0, 2504771.0, 2158431.0, 1384523.0, 1120248.0, 1463673.0, 852694.0, 1865117.0, 1613218.0, 1008056.0, 857061.0, 21817833.0, 2487277.0, 11576394.0, 7265402.0, 3060472.0, 24389544.0, 6238854.0, 18091650.0, 2433925.0, 13410053.0, 10979491.0, 3290628.0, 2288240.0, 1759123.0, 979822.0, 5635219.0, 1339244.0, 4280769.0, 2195821.0, 3215066.0, 2420153.0, 952489.0, 828266.0, 3191702.0, 23611032.0, 1486253.0, 12946159.0, 7732904.0, 3042166.0, 25207482.0, 5753676.0, 19351238.0, 1418480.0, 13649304.0, 11558178.0, 1552282.0, 1036851.0, 21197842.0, 806026.0, 904541.0, 892716.0, 772835.0, 1429237.0, 1662123.0, 1460451.0, 925562.0, 1235968.0, 1251368.0, 879161.0, 1023283.0, 800927.0, 854792.0, 920696.0, 1057718.0, 754720.0, 921926.0, 901466.0, 1105948.0, 1268419.0, 1085313.0, 1100530.0, 1064980.0, 1749440.0, 984021.0, 1975392.0, 1580778.0, 1067715.0, 907678.0, 1413269.0, 1708002.0, 867671.0, 960543.0, 787367.0, 748361.0, 861061.0, 2499946.0, 1291438.0, 854139.0, 2825871.0, 2509530.0, 1548320.0, 1277551.0, 1698377.0, 947755.0, 1878116.0, 1834977.0, 885648.0, 2013526.0, 1932566.0, 1102368.0, 911158.0, 1639433.0, 1745357.0, 786178.0, 1108932.0, 1239683.0, 1013550.0, 988119.0, 1019049.0, 821206.0, 787746.0, 834684.0, 26148639.0, 3334599.0, 13588112.0, 8995549.0, 3732980.0, 29651240.0, 6731747.0, 22803380.0, 3193276.0, 16235783.0, 13415457.0, 863083.0, 947065.0, 887137.0, 1660146.0, 979026.0, 2292662.0, 1989269.0, 1269636.0, 1023026.0, 1411460.0, 794304.0, 1776618.0, 1539389.0, 963285.0, 813333.0, 21251677.0, 2187062.0, 10718212.0, 7492835.0, 3128469.0, 23526578.0, 5943863.0, 17524444.0, 2139475.0, 12954320.0, 10572258.0, 3237838.0, 2093190.0, 1691893.0, 975393.0, 5386161.0, 1244511.0, 4126481.0, 2010245.0, 3055215.0, 2330946.0, 874866.0, 803290.0, 3047023.0, 22910802.0, 1241409.0, 11896219.0, 8020156.0, 3107295.0, 24265079.0, 5487236.0, 18676899.0, 1183031.0, 13180568.0, 11084511.0, 1417797.0, 973328.0, 20479554.0, 791546.0, 880898.0, 869402.0, 749636.0, 1399097.0, 1609488.0, 1416562.0, 897068.0, 1201826.0, 1214473.0, 841556.0, 965669.0, 764033.0, 813892.0, 883214.0, 1003581.0, 877091.0, 857906.0, 1081242.0, 1224870.0, 1051252.0, 1065211.0, 1029248.0, 1701380.0, 912872.0, 1901352.0, 1524734.0, 1029398.0, 871953.0, 1376217.0, 1652195.0, 838844.0, 919636.0, 757690.0, 828636.0, 2506765.0, 1317387.0, 845776.0, 2832527.0, 2515644.0, 1552555.0, 1279972.0, 1701600.0, 948904.0, 1883623.0, 1832031.0, 899622.0, 2008538.0, 1928073.0, 1100035.0, 908504.0, 1637176.0, 1747380.0, 782724.0, 1107723.0, 1237944.0, 1012047.0, 987317.0, 1020462.0, 820148.0, 786656.0, 828398.0, 26114302.0, 3296504.0, 13802028.0, 8875381.0, 3594823.0, 29568736.0, 6695049.0, 22758644.0, 3158220.0, 16192484.0, 13376252.0, 864254.0, 947646.0, 887735.0, 1644162.0, 980229.0, 2261824.0, 1965844.0, 1252661.0, 1009163.0, 1405126.0, 802197.0, 1766200.0, 1530520.0, 957908.0, 808292.0, 21232705.0, 2163081.0, 10905217.0, 7397784.0, 3012015.0, 23478097.0, 5915936.0, 17504529.0, 2116645.0, 12929958.0, 10548138.0, 3165440.0, 2057561.0, 1681514.0, 943071.0, 5274187.0, 1208971.0, 4050218.0, 1977220.0, 2983369.0, 2290818.0, 849142.0, 791697.0, 2975054.0, 22948863.0, 1238942.0, 12120514.0, 7932311.0, 3002782.0, 24294548.0, 5486078.0, 18708427.0, 1181000.0, 13209114.0, 11085434.0, 1412683.0, 974503.0, 20503042.0, 792197.0, 881123.0, 869706.0, 750799.0, 1396218.0, 1604420.0, 1412869.0, 894393.0, 1199360.0, 1217744.0, 837739.0, 959236.0, 760554.0, 813290.0, 882518.0, 1000910.0, 875073.0, 859352.0, 1080143.0, 1221343.0, 1048872.0, 1062844.0, 1030135.0, 1700452.0, 928089.0, 1896753.0, 1522367.0, 1027081.0, 869672.0, 1376230.0, 1656457.0, 837589.0, 916469.0, 756080.0, 829762.0, 2532498.0, 1360016.0, 838999.0, 2860144.0, 2541067.0, 1565695.0, 1294448.0, 1713330.0, 955993.0, 1904150.0, 1837912.0, 921677.0, 2013444.0, 1933020.0, 1101465.0, 911979.0, 1639727.0, 1757824.0, 785260.0, 1113762.0, 1244015.0, 1017614.0, 991380.0, 1027891.0, 822728.0, 789038.0, 826965.0, 26255581.0, 3285103.0, 14163951.0, 8771673.0, 3469202.0, 29689930.0, 6700523.0, 22873559.0, 3148463.0, 16241669.0, 13448261.0, 874498.0, 958010.0, 897307.0, 1652482.0, 1002687.0, 2262006.0, 1969590.0, 1250362.0, 1011644.0, 1424582.0, 832490.0, 1784986.0, 1547659.0, 965154.0, 819832.0, 21321808.0, 2153969.0, 11181561.0, 7312467.0, 2905154.0, 23553151.0, 5920891.0, 17574395.0, 2108452.0, 12961519.0, 10591633.0, 3126096.0, 2035351.0, 1695485.0, 916318.0, 5209341.0, 1185067.0, 4009346.0, 1957280.0, 2935156.0, 2274185.0, 833285.0, 789025.0, 2925905.0, 23129485.0, 1249751.0, 12468466.0, 7855356.0, 2907015.0, 24480588.0, 5515456.0, 18864213.0, 1191183.0, 13306513.0, 11174076.0, 1428721.0, 995961.0, 20627246.0, 798235.0, 887108.0, 875749.0, 757617.0, 1404592.0, 1612601.0, 1421174.0, 897772.0, 1203197.0, 1229002.0, 839599.0, 959544.0, 761157.0, 817671.0, 887640.0, 1004866.0, 878230.0, 866588.0, 1085897.0, 1226121.0, 1053932.0, 1066528.0, 1037076.0, 1715887.0, 957366.0, 1910713.0, 1535496.0, 1032740.0, 877973.0, 1385296.0, 1676450.0, 841844.0, 919753.0, 759911.0, 836222.0, 2543133.0, 1388971.0, 830838.0, 2871370.0, 2551046.0, 1571939.0, 1299430.0, 1718052.0, 958673.0, 1912696.0, 1837960.0, 938158.0, 2012356.0, 1932050.0, 1101058.0, 911299.0, 1639282.0, 1762968.0, 785459.0, 1115677.0, 1246390.0, 1019553.0, 993131.0, 1031866.0, 822159.0, 788345.0, 824018.0, 26292320.0, 3279485.0, 14426873.0, 8664235.0, 3341571.0, 29712164.0, 6695722.0, 22901324.0, 3145125.0, 16251804.0, 13460360.0, 878218.0, 961810.0, 900946.0, 1648622.0, 1012949.0, 2250624.0, 1961663.0, 1243613.0, 1007011.0, 1426087.0, 846321.0, 1785537.0, 1547979.0, 965451.0, 820086.0, 21348054.0, 2148209.0, 11397757.0, 7225937.0, 2796587.0, 23568491.0, 5916579.0, 17594477.0, 2103425.0, 12968546.0, 10599945.0, 3080094.0, 2019410.0, 1703182.0, 890026.0, 5144142.0, 1165315.0, 3964031.0, 1943757.0, 2890082.0, 2254060.0, 818869.0, 782416.0, 2879422.0, 23212226.0, 1260075.0, 12723692.0, 7774208.0, 2810047.0, 24568022.0, 5530406.0, 18937294.0, 1201369.0, 13361722.0, 11206300.0, 1431756.0, 1003120.0, 20689069.0, 800373.0, 889226.0, 877960.0, 761178.0, 1404978.0, 1612817.0, 1421941.0, 897744.0, 1203301.0, 1234358.0, 839496.0, 958276.0, 760571.0, 819893.0, 889503.0, 1006339.0, 879178.0, 870218.0, 1088310.0, 1228337.0, 1056473.0, 1068012.0, 1040722.0, 1720638.0, 976769.0, 1913659.0, 1538597.0, 1034475.0, 879183.0, 1389178.0, 1685675.0, 842715.0, 919891.0, 760709.0, 839236.0, 2520585.0, 1339453.0, 842438.0, 2847478.0, 2529322.0, 1559627.0, 1287850.0, 1707840.0, 952832.0, 1894646.0, 1835720.0, 911276.0, 2011966.0, 1931427.0, 1101231.0, 910735.0, 1638905.0, 1753382.0, 784905.0, 1111524.0, 1242008.0, 1015691.0, 989987.0, 1024817.0, 821560.0, 787946.0, 828516.0, 26202711.0, 3298923.0, 13995241.0, 8826710.0, 3534644.0, 29655517.0, 6705760.0, 22834227.0, 3161271.0, 16230435.0, 13425083.0, 870014.0, 953633.0, 893281.0, 1651353.0, 993723.0, 2266779.0, 1971591.0, 1254068.0, 1012711.0, 1416814.0, 818828.0, 1778335.0, 1541387.0, 962949.0, 815386.0, 21288561.0, 2163080.0, 11050687.0, 7357256.0, 2960556.0, 23531579.0, 5924317.0, 17549461.0, 2117000.0, 12953586.0, 10577994.0, 3152367.0, 2051378.0, 1693019.0, 931202.0, 5253458.0, 1200966.0, 4037519.0, 1972125.0, 2965956.0, 2287502.0, 844040.0, 791607.0, 2956851.0, 23050344.0, 1247544.0, 12302223.0, 7895508.0, 2956785.0, 24402059.0, 5504794.0, 18796708.0, 1189146.0, 13264479.0, 11137580.0, 1422739.0, 986728.0, 20574728.0, 795588.0, 884589.0, 873204.0, 754807.0, 1401221.0, 1609832.0, 1418137.0, 896744.0, 1201921.0, 1223894.0, 839598.0, 960681.0, 761579.0, 816187.0, 885719.0, 1003924.0, 877393.0, 863516.0, 1083898.0, 1225168.0, 1052632.0, 1065649.0, 1034295.0, 1709590.0, 943774.0, 1905619.0, 1530299.0, 1030924.0, 874696.0, 1381730.0, 1667694.0, 840248.0, 918937.0, 758598.0, 833464.0, 2502547.0, 1335010.0, 836693.0, 2814188.0, 2502641.0, 1541068.0, 1273120.0, 1681697.0, 942643.0, 1871545.0, 1797013.0, 893014.0, 1958545.0, 1881177.0, 1071947.0, 886597.0, 1595910.0, 1720302.0, 754288.0, 1079068.0, 1203227.0, 983794.0, 959114.0, 990554.0, 805289.0, 771994.0, 774460.0, 25483004.0, 3015857.0, 13627429.0, 8617798.0, 3377384.0, 28638468.0, 6403074.0, 22120251.0, 2891779.0, 15665046.0, 12973421.0, 858813.0, 937679.0, 878145.0, 1560923.0, 932103.0, 2107297.0, 1845752.0, 1160969.0, 946327.0, 1386279.0, 805640.0, 1723049.0, 1495612.0, 930306.0, 792743.0, 20694389.0, 1968971.0, 10778679.0, 7165316.0, 2823473.0, 22736439.0, 5667392.0, 17011544.0, 1927342.0, 12515739.0, 10220700.0, 3002960.0, 1881054.0, 1631787.0, 876447.0, 4927549.0, 1096958.0, 3815378.0, 1811015.0, 2759835.0, 2167713.0, 764899.0, 757124.0, 2751258.0, 22480043.0, 1134802.0, 11995642.0, 7741350.0, 2839124.0, 23710919.0, 5306116.0, 18304873.0, 1080763.0, 12905211.0, 10805708.0, 1342398.0, 965925.0, 19985181.0, 788767.0, 872528.0, 861450.0, 747692.0, 1383129.0, 1578691.0, 1394300.0, 878306.0, 1174160.0, 1207792.0, 792552.0, 898802.0, 771639.0, 859115.0, 966130.0, 844646.0, 838907.0, 1058964.0, 1187294.0, 1023480.0, 1034290.0, 1011742.0, 1648733.0, 916718.0, 1825508.0, 1465719.0, 984710.0, 840798.0, 1333864.0, 1611085.0, 820164.0, 890866.0, 805949.0]\n"
          ]
        }
      ]
    },
    {
      "cell_type": "code",
      "source": [
        "# Applied log\n",
        "df['log_total_partb_enrl'] = np.log(df['total_partb_enrl'])"
      ],
      "metadata": {
        "id": "K78f9YHTBl35"
      },
      "execution_count": 28,
      "outputs": []
    },
    {
      "cell_type": "markdown",
      "source": [
        "### total_bene_telehealth\n",
        "\n",
        "Transformed the values in this column using log to normalize the distribution."
      ],
      "metadata": {
        "id": "q7M3FhDH1Q59"
      }
    },
    {
      "cell_type": "code",
      "source": [
        "# Detecting Outliers\n",
        "threshold_lower = percentile25_elig - 1.5 * iqr_telehealth\n",
        "threshold_upper = percentile75_elig + 1.5 * iqr_telehealth\n",
        "\n",
        "outliers = [x for x in df['total_bene_telehealth'] if x < threshold_lower or x > threshold_upper]\n",
        "\n",
        "print(\"Outliers:\", outliers)"
      ],
      "metadata": {
        "colab": {
          "base_uri": "https://localhost:8080/"
        },
        "id": "xrpzbslZ1Qgu",
        "outputId": "c5da0832-0e5a-4cfd-d217-e727cdebf2f9"
      },
      "execution_count": 29,
      "outputs": [
        {
          "output_type": "stream",
          "name": "stdout",
          "text": [
            "Outliers: [1280549.0, 365839.0, 675701.0, 435615.0, 1665085.0, 1359089.0, 348715.0, 1001349.0, 663736.0, 1034544.0, 529806.0, 359609.0, 1297972.0, 1032393.0, 777437.0, 520535.0, 493310.0, 382743.0, 1045270.0, 549629.0, 362490.0, 1171775.0, 976346.0, 688637.0, 483138.0, 994841.0, 891779.0, 446752.0, 1048037.0, 944917.0, 609761.0, 438276.0, 651333.0, 401418.0, 646619.0, 599127.0, 683371.0, 661199.0, 391970.0, 551727.0, 566845.0, 357632.0, 431439.0, 375657.0, 350201.0, 432873.0, 417049.0, 366567.0, 8457771.0, 1700400.0, 4332321.0, 2905669.0, 1323861.0, 10262251.0, 1921249.0, 8325061.0, 1603771.0, 5990903.0, 4271348.0, 623679.0, 366239.0, 956470.0, 844598.0, 597341.0, 359129.0, 445705.0, 628656.0, 563263.0, 380952.0, 6838066.0, 1141354.0, 3386703.0, 2404242.0, 1099894.0, 8032193.0, 1671925.0, 6351189.0, 1108869.0, 4669235.0, 3362958.0, 1369986.0, 1122835.0, 700857.0, 430671.0, 2531441.0, 535865.0, 1990693.0, 1061847.0, 1570701.0, 960740.0, 441094.0, 353785.0, 1473718.0, 7087785.0, 577565.0, 3631464.0, 2474998.0, 1046783.0, 7730810.0, 1385384.0, 6334368.0, 541924.0, 4420202.0, 3310608.0, 515376.0, 6558475.0, 383745.0, 378914.0, 550879.0, 675651.0, 597873.0, 392607.0, 505951.0, 460175.0, 367845.0, 389256.0, 471680.0, 419175.0, 403978.0, 376218.0, 553873.0, 657663.0, 546053.0, 384498.0, 462820.0, 523288.0, 764288.0, 393591.0, 910013.0, 820342.0, 536604.0, 373409.0, 551533.0, 363405.0, 546608.0, 452058.0, 523615.0, 506858.0, 416766.0, 424025.0, 5392831.0, 1301253.0, 2835523.0, 1800365.0, 825114.0, 6762255.0, 1176739.0, 5574566.0, 1231120.0, 4039593.0, 2722662.0, 402178.0, 646831.0, 574869.0, 407402.0, 354280.0, 508336.0, 454759.0, 4233559.0, 861075.0, 2156695.0, 1445962.0, 663647.0, 5127379.0, 1001130.0, 4120030.0, 838877.0, 3056789.0, 2070590.0, 1006074.0, 881190.0, 522743.0, 1913995.0, 386798.0, 1523573.0, 836946.0, 1187379.0, 726616.0, 1088527.0, 4386757.0, 420063.0, 2312780.0, 1489138.0, 626279.0, 4848260.0, 789941.0, 4050993.0, 394174.0, 2852214.0, 1996046.0, 4038852.0, 401748.0, 361385.0, 444421.0, 536244.0, 448021.0, 361917.0, 414073.0, 734061.0, 389376.0, 877448.0, 788236.0, 517589.0, 359859.0, 535733.0, 347472.0, 529976.0, 357915.0, 419017.0, 404678.0, 5283072.0, 1290816.0, 2868537.0, 1719887.0, 753788.0, 6633028.0, 1238587.0, 5384692.0, 1225960.0, 3968881.0, 2664147.0, 358633.0, 585513.0, 523317.0, 370823.0, 472219.0, 419584.0, 4211556.0, 870469.0, 2224029.0, 1402578.0, 614206.0, 5111282.0, 1070714.0, 4034766.0, 848851.0, 3053377.0, 2057905.0, 935486.0, 869483.0, 500740.0, 1827619.0, 386112.0, 1438237.0, 829045.0, 1134084.0, 693535.0, 1066850.0, 4347586.0, 421333.0, 2367797.0, 1436456.0, 579823.0, 4805409.0, 852475.0, 3946455.0, 396915.0, 2834797.0, 1970612.0, 4044432.0, 401757.0, 356690.0, 381650.0, 461915.0, 383231.0, 360627.0, 1375227.0, 714191.0, 462748.0, 1602924.0, 1439205.0, 926742.0, 676182.0, 991044.0, 588656.0, 1014268.0, 884258.0, 432799.0, 1000400.0, 966461.0, 573149.0, 427251.0, 808977.0, 836532.0, 350406.0, 511400.0, 610826.0, 524192.0, 358794.0, 467361.0, 459163.0, 374707.0, 440009.0, 417337.0, 355604.0, 473725.0, 577879.0, 555917.0, 487696.0, 422512.0, 350510.0, 456287.0, 355911.0, 371152.0, 12371797.0, 2322325.0, 6495729.0, 4133910.0, 1874967.0, 14826931.0, 2858288.0, 11944144.0, 2192810.0, 8625823.0, 6201108.0, 405729.0, 457145.0, 440200.0, 877932.0, 418648.0, 523417.0, 1331645.0, 1172260.0, 370290.0, 823298.0, 508347.0, 681371.0, 376682.0, 940292.0, 836449.0, 563803.0, 376489.0, 9975464.0, 1541782.0, 5069660.0, 3415402.0, 1556533.0, 11583377.0, 2483070.0, 9086608.0, 1499108.0, 6720690.0, 4862687.0, 1923165.0, 1519340.0, 995216.0, 595258.0, 382632.0, 3492446.0, 754753.0, 2730953.0, 1439035.0, 2145046.0, 1347400.0, 602371.0, 513594.0, 1997600.0, 10448632.0, 802985.0, 5500513.0, 3538652.0, 1492335.0, 11334485.0, 2103535.0, 9213191.0, 753775.0, 6480777.0, 4853708.0, 729274.0, 426698.0, 9585777.0, 442231.0, 509810.0, 503402.0, 391598.0, 424105.0, 742146.0, 367587.0, 899888.0, 795540.0, 522715.0, 377173.0, 671277.0, 624692.0, 375070.0, 463253.0, 359034.0, 361397.0, 425354.0, 515904.0, 373720.0, 445620.0, 406995.0, 540119.0, 648854.0, 573164.0, 372690.0, 556362.0, 520640.0, 862425.0, 461967.0, 1010216.0, 834875.0, 585492.0, 424724.0, 711241.0, 816961.0, 387979.0, 446336.0, 375841.0, 344343.0, 381729.0, 769015.0, 382969.0, 911408.0, 821213.0, 538004.0, 373404.0, 548810.0, 370367.0, 541041.0, 369850.0, 357020.0, 4918251.0, 1181546.0, 2516188.0, 1702404.0, 763717.0, 6163855.0, 1107909.0, 5047603.0, 1125396.0, 3693564.0, 2470291.0, 544786.0, 489556.0, 345923.0, 450161.0, 402168.0, 3884666.0, 794745.0, 1927897.0, 1376566.0, 613441.0, 4712649.0, 955842.0, 3751654.0, 775196.0, 2817955.0, 1894694.0, 938344.0, 819344.0, 489252.0, 1781361.0, 359658.0, 1418678.0, 783715.0, 1102778.0, 678583.0, 1028176.0, 3979907.0, 362202.0, 2026936.0, 1412384.0, 580972.0, 4382494.0, 748251.0, 3628925.0, 2590786.0, 1791708.0, 3684473.0, 403291.0, 356446.0, 409538.0, 577097.0, 697623.0, 630268.0, 415793.0, 415400.0, 399408.0, 3321579.0, 934889.0, 1764809.0, 1120786.0, 478231.0, 4298715.0, 721692.0, 3571028.0, 894201.0, 2599145.0, 1699570.0, 393250.0, 357896.0, 2589617.0, 626849.0, 1340433.0, 895299.0, 375340.0, 3237921.0, 620575.0, 2613799.0, 612910.0, 1953579.0, 1284342.0, 670362.0, 656157.0, 364369.0, 1342325.0, 1088860.0, 630169.0, 829202.0, 513123.0, 768576.0, 2651217.0, 1400440.0, 919104.0, 358114.0, 2956390.0, 470353.0, 2482168.0, 1769943.0, 1186447.0, 2469345.0, 507560.0, 617381.0, 556257.0, 369917.0, 373191.0, 356628.0, 2958433.0, 829085.0, 1614273.0, 977271.0, 402007.0, 3822636.0, 664704.0, 3152075.0, 792904.0, 2321708.0, 1500928.0, 2326242.0, 557767.0, 1240121.0, 787514.0, 2901922.0, 573383.0, 2325031.0, 545349.0, 1759341.0, 1142581.0, 571195.0, 577774.0, 1161781.0, 935135.0, 555274.0, 721501.0, 440280.0, 673012.0, 2387238.0, 1299083.0, 808010.0, 2660855.0, 439999.0, 2216940.0, 1600207.0, 1060648.0, 2228910.0, 481400.0, 585595.0, 526316.0, 352608.0, 358098.0, 2893533.0, 792235.0, 1610549.0, 938993.0, 374513.0, 3716290.0, 650906.0, 3060161.0, 759551.0, 2262971.0, 1453319.0, 2297415.0, 537977.0, 1251760.0, 763737.0, 2851127.0, 565651.0, 2282320.0, 526439.0, 1732796.0, 1118331.0, 534089.0, 548916.0, 1093896.0, 880330.0, 528813.0, 682203.0, 411693.0, 641627.0, 2359444.0, 1311930.0, 782412.0, 2622394.0, 439075.0, 2179831.0, 1580768.0, 1041626.0, 2209500.0, 1212352.0, 627569.0, 412322.0, 1419167.0, 1274220.0, 828809.0, 590358.0, 862949.0, 547015.0, 872152.0, 584864.0, 670765.0, 646647.0, 392504.0, 539807.0, 555889.0, 375928.0, 349243.0, 435576.0, 417790.0, 364708.0, 8411312.0, 1744172.0, 4420049.0, 2842561.0, 1242988.0, 10249770.0, 1899837.0, 8334190.0, 1656966.0, 6065028.0, 4184742.0, 367307.0, 354411.0, 566577.0, 881511.0, 789735.0, 553862.0, 507578.0, 711597.0, 634215.0, 434051.0, 6696151.0, 1158213.0, 3414949.0, 2320320.0, 1009705.0, 7903187.0, 1648922.0, 6244974.0, 1128179.0, 4666048.0, 3237139.0, 1442537.0, 1187670.0, 765712.0, 438633.0, 2664478.0, 546186.0, 2113636.0, 1133408.0, 1635030.0, 1029448.0, 424448.0, 409807.0, 1513471.0, 6968775.0, 556502.0, 3654337.0, 2403928.0, 970525.0, 7585292.0, 1353651.0, 6220554.0, 523558.0, 4429998.0, 3155294.0, 457063.0, 6389716.0, 352740.0, 348421.0, 532605.0, 657582.0, 582894.0, 390241.0, 490195.0, 438960.0, 346460.0, 428159.0, 376291.0, 365136.0, 591125.0, 696772.0, 578724.0, 408881.0, 492960.0, 562895.0, 569436.0, 679589.0, 615084.0, 406005.0, 411761.0, 395706.0, 3362881.0, 817007.0, 1722862.0, 1187834.0, 494865.0, 4222568.0, 721718.0, 3494541.0, 780300.0, 2552860.0, 1669708.0, 353888.0, 2658025.0, 547506.0, 1329066.0, 960017.0, 391595.0, 3228184.0, 626523.0, 2597943.0, 534550.0, 1947790.0, 1280394.0, 641901.0, 578177.0, 1235202.0, 1002077.0, 555306.0, 765974.0, 469228.0, 714135.0, 2720980.0, 1383541.0, 991917.0, 373078.0, 2987366.0, 490681.0, 2492464.0, 1786886.0, 1200480.0, 2514049.0, 496143.0, 593764.0, 538049.0, 356438.0, 363530.0, 347555.0, 2741621.0, 680485.0, 1440722.0, 951871.0, 380931.0, 3454009.0, 560915.0, 2888183.0, 652123.0, 2095397.0, 1358612.0, 2170082.0, 457688.0, 1114366.0, 771747.0, 2644777.0, 487110.0, 2154786.0, 447709.0, 1602148.0, 1042629.0, 515848.0, 484197.0, 1011336.0, 827311.0, 466287.0, 627917.0, 383419.0, 586444.0, 2225773.0, 1162893.0, 797130.0, 2442673.0, 378525.0, 2060872.0, 1467480.0, 975193.0, 2058333.0, 495965.0, 593105.0, 537541.0, 355617.0, 362899.0, 348836.0, 2717513.0, 655576.0, 1448773.0, 934676.0, 363347.0, 3402372.0, 558364.0, 2839044.0, 628094.0, 2059503.0, 1342869.0, 2152081.0, 440309.0, 1122294.0, 758478.0, 2607746.0, 485100.0, 2119697.0, 430799.0, 1575779.0, 1031967.0, 495052.0, 464468.0, 969886.0, 793184.0, 447268.0, 601548.0, 368338.0, 559776.0, 2222461.0, 1179345.0, 787460.0, 2432486.0, 383219.0, 2045860.0, 1457955.0, 974531.0, 2047970.0, 485856.0, 579976.0, 524427.0, 349593.0, 358766.0, 345046.0, 2709706.0, 639241.0, 1465833.0, 919310.0, 351805.0, 3376189.0, 552764.0, 2818765.0, 613436.0, 2054162.0, 1322027.0, 2160062.0, 431353.0, 1144524.0, 750869.0, 2605875.0, 482422.0, 2120618.0, 422199.0, 1583044.0, 1022831.0, 482638.0, 450744.0, 942859.0, 771513.0, 434840.0, 586436.0, 356423.0, 547919.0, 2227068.0, 1200449.0, 777342.0, 2433330.0, 382950.0, 2047252.0, 1467726.0, 965604.0, 2057956.0, 1100786.0, 565517.0, 382274.0, 1278126.0, 1153542.0, 751021.0, 527105.0, 784678.0, 488408.0, 789718.0, 502861.0, 567107.0, 547752.0, 460262.0, 480232.0, 362266.0, 347433.0, 7102409.0, 1327233.0, 3691970.0, 2476249.0, 1008931.0, 8504383.0, 1485693.0, 7005270.0, 1262302.0, 5042698.0, 3461685.0, 438029.0, 665671.0, 604920.0, 421949.0, 414954.0, 575771.0, 514672.0, 354998.0, 5680548.0, 878021.0, 2874808.0, 2029491.0, 815954.0, 6598274.0, 1298894.0, 5291661.0, 855473.0, 3903676.0, 2694598.0, 1161472.0, 921924.0, 617097.0, 351851.0, 2109270.0, 402228.0, 1703339.0, 881945.0, 1294048.0, 815222.0, 1192513.0, 5940937.0, 405309.0, 3074873.0, 2124398.0, 790533.0, 6395113.0, 1083465.0, 5301931.0, 380357.0, 3748650.0, 2646463.0, 350244.0, 5405761.0, 489195.0, 590772.0, 529850.0, 352041.0, 442596.0, 402327.0, 498222.0, 576695.0, 481915.0, 420283.0, 478647.0, 472170.0, 562384.0, 506561.0, 352379.0, 2552871.0, 596529.0, 1348899.0, 884904.0, 346154.0, 3176486.0, 526852.0, 2644917.0, 572085.0, 1926164.0, 1250322.0, 2040520.0, 402886.0, 1056491.0, 722523.0, 2458006.0, 460237.0, 1994815.0, 394058.0, 1489348.0, 968658.0, 456645.0, 423036.0, 888935.0, 726203.0, 407992.0, 549974.0, 521921.0, 2096226.0, 1099319.0, 750167.0, 2287551.0, 365875.0, 1918714.0, 1376190.0, 911361.0, 1936085.0]\n"
          ]
        }
      ]
    },
    {
      "cell_type": "code",
      "source": [
        "# Applied log. The variable 'epsilon' was used to avoid dividing by zero.\n",
        "epsilon = 1e-10\n",
        "df['log_total_bene_telehealth'] = np.log(df['total_bene_telehealth'] + epsilon)"
      ],
      "metadata": {
        "id": "ga-4bN1QCDIG"
      },
      "execution_count": 30,
      "outputs": []
    },
    {
      "cell_type": "markdown",
      "source": [
        "### pct_telehealth\n",
        "\n",
        "Outliers was detected in this column, however, I decided to include the outliers because because they might provide valuable information. Log was not applied in this case because the output became negative."
      ],
      "metadata": {
        "id": "ejuRzvLR1QNc"
      }
    },
    {
      "cell_type": "code",
      "source": [
        "threshold_lower = percentile25_elig - 1.5 * iqr_pct\n",
        "threshold_upper = percentile75_elig + 1.5 * iqr_pct\n",
        "\n",
        "outliers = [x for x in df['pct_telehealth'] if x < threshold_lower or x > threshold_upper]\n",
        "\n",
        "print(\"Outliers:\", outliers)"
      ],
      "metadata": {
        "colab": {
          "base_uri": "https://localhost:8080/"
        },
        "id": "rrkSolTz1s2_",
        "outputId": "8caa76fe-8e23-4eb5-dd2d-213933d8017e"
      },
      "execution_count": 31,
      "outputs": [
        {
          "output_type": "stream",
          "name": "stdout",
          "text": [
            "Outliers: [0.0507, 0.0772, 0.053, 0.0505, 0.0443, 0.0554, 0.0487, 0.0583, 0.0784, 0.061, 0.0603, 0.0488, 0.0658, 0.042, 0.0553, 0.0498, 0.0556, 0.0594, 0.0544, 0.0675, 0.1321, 0.0697, 0.0652, 0.0606, 0.0758, 0.078, 0.0746, 0.1327, 0.0862, 0.0806, 0.0703, 0.1062, 0.0507, 0.0878, 0.0749, 0.0714, 0.1068, 0.0655, 0.057, 0.1168, 0.0591, 0.0565, 0.0526, 0.0617, 0.0477, 0.0641, 0.1186, 0.1024, 0.0655, 0.0569, 0.0486, 0.0501, 0.0837, 0.066, 0.0616, 0.0895, 0.0581, 0.0405, 0.0826, 0.041, 0.0396, 0.0422, 0.0472, 0.0495, 0.0453, 0.0847, 0.0484, 0.0503, 0.0431, 0.0562, 0.0346, 0.0551, 0.0428, 0.0465, 0.0781, 0.0396, 0.0866, 0.1255, 0.0899, 0.0869, 0.0782, 0.0915, 0.0739, 0.0937, 0.1272, 0.1054, 0.0964, 0.0851, 0.0943, 0.0825, 0.1118, 0.0846, 0.0931, 0.1042, 0.0848, 0.074, 0.152, 0.0774, 0.0706, 0.0708, 0.0835, 0.0663, 0.0888, 0.1535, 0.127, 0.0894, 0.0761, 0.0821, 0.0691, 0.1035, 0.0844, 0.083, 0.1217, 0.0752, 0.0752, 0.1542, 0.0848, 0.0753, 0.058, 0.0867, 0.0795, 0.0871, 0.1553, 0.1122, 0.091, 0.081, 0.123, 0.0673, 0.098, 0.1043, 0.0851, 0.1083, 0.0768, 0.0727, 0.135, 0.0787, 0.0703, 0.0575, 0.0795, 0.0769, 0.0807, 0.1377, 0.0993, 0.0836, 0.0741, 0.0734, 0.086, 0.1007, 0.0782, 0.0967, 0.0764, 0.0668, 0.0795, 0.0695, 0.0648, 0.0611, 0.0684, 0.0685, 0.082, 0.0506, 0.0716, 0.0637, 0.0, 0.0615, 0.0629, 0.071, 0.0781, 0.068, 0.0688, 0.0522, 0.0854, 0.0535, 0.0526, 0.0492, 0.0555, 0.0459, 0.0559, 0.0862, 0.0804, 0.0588, 0.0511, 0.0596, 0.0452, 0.0552, 0.0754, 0.0538, 0.0733, 0.0523, 0.0416, 0.0733, 0.0449, 0.0403, 0.0349, 0.0462, 0.0438, 0.0469, 0.0748, 0.0607, 0.0497, 0.0417, 0.0765, 0.0428, 0.0439, 0.0426, 0.047, 0.0581, 0.0434, 0.0496, 0.0784, 0.0518, 0.05, 0.0462, 0.0523, 0.053, 0.052, 0.0804, 0.0779, 0.0558, 0.0481, 0.0455, 0.0435, 0.0527, 0.0657, 0.0558, 0.0519, 0.0377, 0.0873, 0.0404, 0.0366, 0.0319, 0.0446, 0.0379, 0.0492, 0.0869, 0.089, 0.0483, 0.0401, 0.0403, 0.0415, 0.0824, 0.0422, 0.0447, 0.0718, 0.0388, 0.0604, 0.1034, 0.0617, 0.062, 0.0565, 0.0661, 0.0404, 0.0719, 0.1032, 0.1039, 0.0703, 0.0605, 0.109, 0.0631, 0.0953, 0.0792, 0.0617, 0.094, 0.0587, 0.0372, 0.0975, 0.0395, 0.0367, 0.0321, 0.0463, 0.0412, 0.0484, 0.0989, 0.0671, 0.0488, 0.043, 0.0683, 0.0439, 0.068, 0.0591, 0.0448, 0.0816, 0.0366, 0.0348, 0.1149, 0.0362, 0.0318, 0.037, 0.0434, 0.0447, 0.0416, 0.1166, 0.0649, 0.0457, 0.0403, 0.0457, 0.0408, 0.0562, 0.0477, 0.0432, 0.1105, 0.0315, 0.0326, 0.0962, 0.0339, 0.0313, 0.0316, 0.04, 0.0425, 0.0378, 0.0972, 0.0585, 0.0425, 0.0368, 0.0408, 0.0251, 0.045, 0.0351, 0.0401, 0.0867, 0.0324, 0.0483, 0.0924, 0.0507, 0.0461, 0.0452, 0.0569, 0.0597, 0.0539, 0.0933, 0.0624, 0.0617, 0.0509, 0.0512, 0.0561, 0.0605, 0.0571, 0.0846, 0.0469, 0.0625, 0.0977, 0.067, 0.0609, 0.0539, 0.069, 0.0685, 0.0691, 0.0969, 0.1081, 0.0729, 0.0639, 0.0824, 0.0505, 0.0698, 0.0699, 0.069, 0.0789, 0.0651, 0.0556, 0.1402, 0.0629, 0.0543, 0.0435, 0.0729, 0.0696, 0.0771, 0.1407, 0.1225, 0.0776, 0.0668, 0.0541, 0.045, 0.1016, 0.0846, 0.0726, 0.1026, 0.0567, 0.0677, 0.1216, 0.0727, 0.0657, 0.0576, 0.0745, 0.064, 0.0751, 0.1238, 0.0805, 0.0802, 0.0662, 0.1217, 0.0744, 0.0737, 0.0721, 0.0744, 0.0913, 0.0708, 0.1191, 0.223, 0.1272, 0.1178, 0.1009, 0.1364, 0.1349, 0.1365, 0.2241, 0.1624, 0.1439, 0.1264, 0.173, 0.1074, 0.1542, 0.1584, 0.1346, 0.1784, 0.1209, 0.0689, 0.1334, 0.0731, 0.0666, 0.0628, 0.0815, 0.0682, 0.0858, 0.1345, 0.1025, 0.0868, 0.0744, 0.0894, 0.0747, 0.1038, 0.0815, 0.0786, 0.121, 0.0686, 0.0699, 0.1724, 0.0746, 0.0677, 0.0665, 0.0898, 0.0733, 0.0989, 0.1727, 0.1603, 0.0959, 0.0819, 0.1, 0.0817, 0.1364, 0.1114, 0.0876, 0.1583, 0.0718, 0.0591, 0.0934, 0.0616, 0.0577, 0.0537, 0.0654, 0.0625, 0.0698, 0.095, 0.0696, 0.0708, 0.0579, 0.0687, 0.0513, 0.0633, 0.0635, 0.0663, 0.0763, 0.0611, 0.0366, 0.0968, 0.0386, 0.0363, 0.035, 0.0469, 0.0458, 0.0475, 0.096, 0.1098, 0.0493, 0.0438, 0.0654, 0.0374, 0.0668, 0.0592, 0.0454, 0.0938, 0.0359, 0.0393, 0.1107, 0.0418, 0.0386, 0.0318, 0.0475, 0.0471, 0.0483, 0.1121, 0.0721, 0.0527, 0.0412, 0.0492, 0.0515, 0.0635, 0.062, 0.0472, 0.0868, 0.0397, 0.0621, 0.1157, 0.0649, 0.0616, 0.0561, 0.0694, 0.056, 0.0734, 0.1174, 0.0902, 0.0736, 0.0639, 0.0513, 0.0942, 0.0539, 0.0519, 0.0429, 0.0633, 0.0603, 0.0668, 0.0953, 0.0781, 0.0671, 0.0578, 0.068, 0.1034, 0.0663, 0.0711, 0.0693, 0.0716, 0.0476, 0.0731, 0.1068, 0.0895, 0.0728, 0.0698, 0.0657, 0.0996, 0.0685, 0.0649, 0.0599, 0.0759, 0.0583, 0.079, 0.1022, 0.0806, 0.0819, 0.0671, 0.0705, 0.1155, 0.0721, 0.0706, 0.0677, 0.0811, 0.0646, 0.0837, 0.1194, 0.0869, 0.0875, 0.0723, 0.061, 0.1206, 0.064, 0.0604, 0.0545, 0.0677, 0.0556, 0.0717, 0.1212, 0.0998, 0.0715, 0.0627, 0.0815, 0.1248, 0.0899, 0.0799, 0.0665, 0.0991, 0.0904, 0.102, 0.1266, 0.093, 0.104, 0.0916, 0.079, 0.0824, 0.0901, 0.0953, 0.1044, 0.0589, 0.0997, 0.061, 0.0589, 0.0536, 0.0616, 0.0461, 0.0661, 0.1011, 0.0875, 0.065, 0.0574, 0.051, 0.061, 0.065, 0.0665, 0.0612, 0.0304, 0.0793, 0.0311, 0.0301, 0.0297, 0.0352, 0.0368, 0.0335, 0.0797, 0.0641, 0.0372, 0.0326, 0.0463, 0.0258, 0.0322, 0.0362, 0.0351, 0.0711, 0.0297, 0.0636, 0.1123, 0.0647, 0.0643, 0.0591, 0.0696, 0.0696, 0.0697, 0.1143, 0.0905, 0.0739, 0.0642, 0.0524, 0.0643, 0.0852, 0.0782, 0.0681, 0.0999, 0.0626, 0.0779, 0.1752, 0.0819, 0.0779, 0.0679, 0.0925, 0.0881, 0.0958, 0.1759, 0.1388, 0.0989, 0.084, 0.0772, 0.1151, 0.1025, 0.0925, 0.1555, 0.0806, 0.085, 0.1363, 0.0915, 0.0852, 0.0705, 0.0908, 0.0772, 0.0911, 0.1382, 0.1081, 0.0938, 0.0867, 0.0875, 0.078, 0.0918, 0.0912, 0.0914, 0.1013, 0.0887, 0.0589, 0.1029, 0.0623, 0.056, 0.0538, 0.0651, 0.0542, 0.0732, 0.1069, 0.061, 0.0717, 0.0566, 0.0432, 0.0527, 0.0722, 0.0671, 0.0665, 0.0841, 0.0592, 0.0864, 0.1691, 0.0947, 0.0839, 0.0716, 0.098, 0.0852, 0.0998, 0.1725, 0.1009, 0.1026, 0.0919, 0.0888, 0.0968, 0.0995, 0.1047, 0.0972, 0.1359, 0.0832, 0.0479, 0.0954, 0.0504, 0.0475, 0.0408, 0.055, 0.0514, 0.0567, 0.0968, 0.0708, 0.059, 0.0497, 0.0629, 0.0443, 0.0579, 0.0591, 0.0544, 0.0758, 0.05, 0.0335, 0.1054, 0.0311, 0.0336, 0.0428, 0.0425, 0.0452, 0.0387, 0.1045, 0.1135, 0.0451, 0.0391, 0.0573, 0.0662, 0.0971, 0.064, 0.0413, 0.1123, 0.0284, 0.0636, 0.1141, 0.0665, 0.0634, 0.0568, 0.0709, 0.0643, 0.0736, 0.1148, 0.0992, 0.0748, 0.0661, 0.0865, 0.0716, 0.0915, 0.0909, 0.069, 0.1057, 0.0632, 0.0424, 0.0812, 0.0452, 0.041, 0.0385, 0.0485, 0.048, 0.0489, 0.0808, 0.088, 0.052, 0.0437, 0.052, 0.0376, 0.0597, 0.0452, 0.0477, 0.0732, 0.0426, 0.0637, 0.1227, 0.068, 0.0624, 0.0516, 0.0724, 0.0611, 0.0801, 0.1232, 0.1102, 0.0783, 0.0649, 0.0788, 0.0677, 0.1189, 0.0787, 0.0716, 0.1011, 0.0651, 0.0648, 0.1251, 0.0693, 0.0658, 0.0505, 0.0732, 0.0509, 0.0769, 0.1259, 0.1016, 0.0757, 0.0698, 0.0833, 0.0635, 0.107, 0.1084, 0.0698, 0.0982, 0.0675, 0.0424, 0.113, 0.1749, 0.116, 0.1176, 0.0963, 0.1211, 0.1346, 0.1211, 0.1774, 0.123, 0.1269, 0.1132, 0.0765, 0.1208, 0.1057, 0.123, 0.1319, 0.1187, 0.0373, 0.06, 0.038, 0.0375, 0.0346, 0.0399, 0.0356, 0.0409, 0.0611, 0.0484, 0.0422, 0.037, 0.0406, 0.0307, 0.0392, 0.0418, 0.0402, 0.0541, 0.0381, 0.0358, 0.0772, 0.0369, 0.0342, 0.0371, 0.0407, 0.0479, 0.029, 0.0752, 0.0973, 0.0419, 0.0392, 0.0514, 0.0512, 0.0528, 0.0384, 0.04, 0.066, 0.0356, 0.0317, 0.0707, 0.035, 0.0295, 0.026, 0.0369, 0.0359, 0.0375, 0.0716, 0.0559, 0.0399, 0.0331, 0.041, 0.0229, 0.037, 0.0336, 0.037, 0.0559, 0.0333, 0.0173, 0.0737, 0.1248, 0.0754, 0.0744, 0.0687, 0.0799, 0.0692, 0.0826, 0.1297, 0.0957, 0.085, 0.0733, 0.0972, 0.0724, 0.1037, 0.0798, 0.0774, 0.1087, 0.0739, 0.0458, 0.1068, 0.0501, 0.0429, 0.0381, 0.0524, 0.046, 0.0542, 0.1089, 0.069, 0.0568, 0.0469, 0.0326, 0.0502, 0.0749, 0.0566, 0.0522, 0.0978, 0.0463, 0.0856, 0.1912, 0.0948, 0.0794, 0.0759, 0.1027, 0.0926, 0.1312, 0.1895, 0.3348, 0.1104, 0.0929, 0.0976, 0.172, 0.1286, 0.1026, 0.1497, 0.0873, 0.0418, 0.051, 0.0895, 0.0533, 0.05, 0.0467, 0.0551, 0.0396, 0.0586, 0.0905, 0.0749, 0.0577, 0.0517, 0.0904, 0.0592, 0.0571, 0.0651, 0.0542, 0.0744, 0.0521, 0.0579, 0.0965, 0.06, 0.0565, 0.0566, 0.0627, 0.0601, 0.0634, 0.0961, 0.1032, 0.0668, 0.0575, 0.0649, 0.0524, 0.0801, 0.0622, 0.0628, 0.0873, 0.0579, 0.0458, 0.0908, 0.0493, 0.0434, 0.039, 0.0549, 0.0519, 0.0565, 0.0913, 0.0688, 0.0602, 0.0482, 0.0447, 0.0569, 0.0633, 0.0548, 0.0814, 0.0454, 0.0434, 0.1001, 0.0448, 0.043, 0.0422, 0.0528, 0.0475, 0.0558, 0.1011, 0.0822, 0.0556, 0.0491, 0.0591, 0.0403, 0.083, 0.0657, 0.0516, 0.0902, 0.0421, 0.0451, 0.1278, 0.0481, 0.0438, 0.0413, 0.0553, 0.0519, 0.0612, 0.1252, 0.2, 0.0598, 0.0497, 0.0628, 0.0822, 0.1225, 0.0684, 0.0541, 0.1157, 0.0456, 0.3663, 0.4408, 0.37, 0.368, 0.3533, 0.3798, 0.3413, 0.3963, 0.4434, 0.4123, 0.4015, 0.3509, 0.3631, 0.3425, 0.4008, 0.3486, 0.376, 0.3986, 0.3751, 0.4379, 0.579, 0.445, 0.4299, 0.4184, 0.4566, 0.4424, 0.4736, 0.5872, 0.4098, 0.4788, 0.4304, 0.537, 0.4013, 0.5253, 0.4818, 0.4421, 0.5396, 0.4289, 0.4372, 0.5657, 0.4406, 0.4399, 0.4306, 0.4484, 0.3949, 0.4576, 0.5549, 0.6726, 0.4646, 0.4286, 0.5635, 0.4508, 0.5366, 0.4774, 0.4389, 0.5325, 0.4379, 0.3465, 0.4464, 0.3432, 0.3482, 0.3591, 0.3629, 0.3324, 0.3888, 0.4479, 0.427, 0.3811, 0.3381, 0.4287, 0.3328, 0.4022, 0.3319, 0.359, 0.4223, 0.3483, 0.5438, 0.6134, 0.5451, 0.5461, 0.5352, 0.5525, 0.485, 0.561, 0.6204, 0.5366, 0.57, 0.5298, 0.5199, 0.577, 0.5968, 0.5613, 0.5414, 0.6023, 0.5255, 0.4261, 0.6003, 0.4258, 0.4215, 0.4425, 0.4472, 0.3605, 0.4745, 0.6051, 0.5087, 0.4616, 0.4295, 0.487, 0.4765, 0.5475, 0.474, 0.4411, 0.5675, 0.4215, 0.611, 0.7737, 0.6343, 0.6097, 0.5688, 0.635, 0.5937, 0.6369, 0.7788, 0.6424, 0.646, 0.6202, 0.7818, 0.6312, 0.6882, 0.7214, 0.6247, 0.6932, 0.6081, 0.6029, 0.7299, 0.615, 0.6046, 0.5551, 0.6171, 0.5988, 0.6254, 0.7359, 0.657, 0.6287, 0.6022, 0.7826, 0.6372, 0.6742, 0.6784, 0.6063, 0.6715, 0.6076, 0.5921, 0.6395, 0.6002, 0.5914, 0.565, 0.599, 0.599, 0.6479, 0.5553, 0.623, 0.5641, 0.6142, 0.6165, 0.685, 0.5555, 0.6273, 0.5776, 0.4199, 0.5282, 0.4233, 0.4231, 0.4098, 0.4309, 0.3494, 0.4343, 0.53, 0.5259, 0.4416, 0.4173, 0.4021, 0.4142, 0.4447, 0.5258, 0.4216, 0.492, 0.4202, 0.374, 0.4653, 0.3778, 0.3728, 0.3673, 0.3874, 0.3425, 0.3998, 0.4739, 0.4083, 0.4066, 0.3625, 0.4235, 0.4044, 0.4067, 0.3897, 0.3822, 0.4279, 0.3777, 0.436, 0.4865, 0.4238, 0.447, 0.4536, 0.4407, 0.3779, 0.4699, 0.4914, 0.4723, 0.4525, 0.4268, 0.5059, 0.4389, 0.4565, 0.4193, 0.4442, 0.4204, 0.4434, 0.2845, 0.4665, 0.2874, 0.2831, 0.2831, 0.3096, 0.269, 0.3374, 0.4658, 0.4503, 0.324, 0.2922, 0.3243, 0.3217, 0.4387, 0.3033, 0.3094, 0.4207, 0.2865, 0.4461, 0.5944, 0.4458, 0.4498, 0.4494, 0.466, 0.3191, 0.5002, 0.5943, 0.5967, 0.4809, 0.4463, 0.5585, 0.5316, 0.6203, 0.5619, 0.4393, 0.5822, 0.4354, 0.4365, 0.6025, 0.4389, 0.4397, 0.4291, 0.462, 0.4096, 0.4834, 0.6054, 0.557, 0.474, 0.4459, 0.5385, 0.469, 0.5867, 0.4885, 0.4542, 0.5783, 0.4304, 0.3206, 0.5448, 0.3135, 0.3106, 0.3648, 0.3449, 0.3093, 0.3866, 0.5488, 0.4548, 0.3584, 0.3273, 0.3606, 0.3382, 0.4871, 0.3821, 0.3428, 0.5611, 0.3075, 0.2613, 0.4443, 0.2631, 0.2563, 0.2748, 0.2841, 0.2544, 0.311, 0.4411, 0.4934, 0.2942, 0.2711, 0.3469, 0.2663, 0.3632, 0.2761, 0.2814, 0.4339, 0.2597, 0.4273, 0.5614, 0.4327, 0.4249, 0.4244, 0.4546, 0.4505, 0.4587, 0.5599, 0.6153, 0.4718, 0.4327, 0.4833, 0.4127, 0.4864, 0.457, 0.4537, 0.5264, 0.4283, 0.4087, 0.5288, 0.4155, 0.4071, 0.4026, 0.4312, 0.4299, 0.4314, 0.5273, 0.5606, 0.4523, 0.4038, 0.4568, 0.3407, 0.4687, 0.4362, 0.4207, 0.4953, 0.4063, 0.4714, 0.6637, 0.4934, 0.4718, 0.4209, 0.5102, 0.4841, 0.544, 0.6642, 0.6005, 0.5216, 0.4955, 0.4301, 0.5081, 0.589, 0.5789, 0.5094, 0.5685, 0.4786, 0.5928, 0.6921, 0.5949, 0.5952, 0.5814, 0.6057, 0.5282, 0.6106, 0.6995, 0.5915, 0.6233, 0.5809, 0.6236, 0.6463, 0.6389, 0.5979, 0.5924, 0.6557, 0.5944, 0.7183, 0.8177, 0.7267, 0.7239, 0.6829, 0.7347, 0.6827, 0.7368, 0.8202, 0.702, 0.7447, 0.7215, 0.7293, 0.7548, 0.7898, 0.7828, 0.728, 0.7626, 0.7244, 0.4846, 0.6307, 0.4981, 0.4802, 0.4561, 0.5127, 0.4299, 0.5399, 0.6347, 0.5506, 0.5285, 0.4916, 0.4702, 0.5536, 0.6066, 0.5147, 0.499, 0.5955, 0.4865, 0.5117, 0.7098, 0.5169, 0.5026, 0.5251, 0.5505, 0.4353, 0.6177, 0.7118, 0.6902, 0.5617, 0.536, 0.5506, 0.6213, 0.693, 0.5941, 0.5433, 0.703, 0.5114, 0.3909, 0.4825, 0.387, 0.3955, 0.4018, 0.4083, 0.3782, 0.4536, 0.4842, 0.4616, 0.4289, 0.3802, 0.2998, 0.3436, 0.4136, 0.4189, 0.407, 0.4427, 0.3951, 0.3132, 0.4867, 0.317, 0.3071, 0.3257, 0.3429, 0.2723, 0.384, 0.4857, 0.5076, 0.3532, 0.3293, 0.3902, 0.3307, 0.4738, 0.3743, 0.3327, 0.4764, 0.3117, 0.2492, 0.4418, 0.2589, 0.2461, 0.2222, 0.2718, 0.2679, 0.2797, 0.444, 0.3874, 0.284, 0.257, 0.2873, 0.2912, 0.3105, 0.3276, 0.2703, 0.3781, 0.2508, 0.4484, 0.5805, 0.4499, 0.4499, 0.4462, 0.4668, 0.3809, 0.4928, 0.5845, 0.5301, 0.4819, 0.4471, 0.4747, 0.5387, 0.4848, 0.473, 0.4514, 0.494, 0.4788, 0.5141, 0.5391, 0.5385, 0.5152, 0.4634, 0.5293, 0.5859, 0.5135, 0.541, 0.5495, 0.5345, 0.37, 0.5458, 0.6011, 0.5181, 0.5394, 0.5275, 0.4918, 0.5589, 0.4908, 0.4965, 0.4876, 0.5117, 0.3986, 0.532, 0.5689, 0.4972, 0.5391, 0.4717, 0.5039, 0.5986, 0.4979, 0.5091, 0.5185, 0.5268, 0.4191, 0.5438, 0.6107, 0.5209, 0.5519, 0.4924, 0.4381, 0.5839, 0.4397, 0.4394, 0.4349, 0.4549, 0.377, 0.4812, 0.5847, 0.5623, 0.4678, 0.4381, 0.5262, 0.6028, 0.5443, 0.5265, 0.4855, 0.5577, 0.4785, 0.584, 0.6076, 0.5302, 0.573, 0.5344, 0.5169, 0.5934, 0.5429, 0.5832, 0.5512, 0.4359, 0.5416, 0.4353, 0.4388, 0.4368, 0.4431, 0.353, 0.4697, 0.5441, 0.5301, 0.4562, 0.4268, 0.476, 0.4757, 0.4876, 0.4685, 0.4377, 0.2528, 0.4552, 0.2539, 0.244, 0.2746, 0.2735, 0.2433, 0.3044, 0.4544, 0.4649, 0.2873, 0.2555, 0.3692, 0.2465, 0.3146, 0.3212, 0.2714, 0.4476, 0.2473, 0.3968, 0.5371, 0.3969, 0.3998, 0.4002, 0.4152, 0.3546, 0.4277, 0.5356, 0.5503, 0.4318, 0.3947, 0.3799, 0.4368, 0.4871, 0.4721, 0.4011, 0.5273, 0.3892, 0.5728, 0.7319, 0.5651, 0.5862, 0.5699, 0.5968, 0.5556, 0.6265, 0.7339, 0.6542, 0.6048, 0.5862, 0.68, 0.5995, 0.6667, 0.6292, 0.5968, 0.6887, 0.5795, 0.5739, 0.6743, 0.5787, 0.5787, 0.5534, 0.5852, 0.5816, 0.5857, 0.681, 0.58, 0.5973, 0.5686, 0.6535, 0.6229, 0.5971, 0.5924, 0.5809, 0.6148, 0.5793, 0.4971, 0.6176, 0.5068, 0.4925, 0.4739, 0.5147, 0.4563, 0.5592, 0.6246, 0.5401, 0.5355, 0.4882, 0.5239, 0.559, 0.5526, 0.526, 0.5065, 0.566, 0.4986, 0.5358, 0.6859, 0.5441, 0.5372, 0.5127, 0.5571, 0.5227, 0.562, 0.6933, 0.5461, 0.5686, 0.542, 0.5677, 0.6339, 0.5826, 0.5996, 0.546, 0.6319, 0.5279, 0.3858, 0.5254, 0.3876, 0.3868, 0.3852, 0.4075, 0.3804, 0.4197, 0.5269, 0.5001, 0.4281, 0.3807, 0.4147, 0.3836, 0.4403, 0.4186, 0.4011, 0.4892, 0.3882, 0.2427, 0.4376, 0.2245, 0.2352, 0.3144, 0.2662, 0.2363, 0.3075, 0.4411, 0.3748, 0.2839, 0.2438, 0.2591, 0.35, 0.4072, 0.3229, 0.2648, 0.4522, 0.2294, 0.4549, 0.6004, 0.4606, 0.4555, 0.4409, 0.4755, 0.4492, 0.4862, 0.6018, 0.5721, 0.4886, 0.4588, 0.5824, 0.4784, 0.5639, 0.5235, 0.4682, 0.5812, 0.4528, 0.3528, 0.4827, 0.3614, 0.347, 0.3482, 0.3738, 0.3476, 0.399, 0.4787, 0.5605, 0.3935, 0.3472, 0.5248, 0.3359, 0.4262, 0.339, 0.3573, 0.4621, 0.3531, 0.4573, 0.6063, 0.4687, 0.4514, 0.4307, 0.4797, 0.4247, 0.5183, 0.6068, 0.5902, 0.494, 0.4617, 0.535, 0.4909, 0.5703, 0.5029, 0.4769, 0.5627, 0.4587, 0.5019, 0.6391, 0.511, 0.5097, 0.4625, 0.5211, 0.3878, 0.5447, 0.6412, 0.5956, 0.5291, 0.5107, 0.6197, 0.5972, 0.6449, 0.6122, 0.5084, 0.5816, 0.5078, 0.3634, 0.6618, 0.7472, 0.6557, 0.6696, 0.6642, 0.6726, 0.5221, 0.6728, 0.7498, 0.6647, 0.6812, 0.661, 0.7, 0.6316, 0.6957, 0.6879, 0.6719, 0.7015, 0.6664, 0.3077, 0.423, 0.3123, 0.3083, 0.2868, 0.3209, 0.2714, 0.3324, 0.4299, 0.3361, 0.3342, 0.3037, 0.4742, 0.3292, 0.3146, 0.3506, 0.3214, 0.3678, 0.3148, 0.3324, 0.4847, 0.3243, 0.3194, 0.399, 0.3507, 0.3302, 0.3844, 0.4818, 0.5432, 0.3675, 0.3294, 0.4248, 0.3262, 0.3824, 0.3443, 0.347, 0.4817, 0.325, 0.2577, 0.4205, 0.2676, 0.2499, 0.2448, 0.2797, 0.2515, 0.2946, 0.4233, 0.3746, 0.2954, 0.259, 0.3381, 0.2637, 0.3016, 0.3033, 0.277, 0.3682, 0.2629, 0.1442, 0.4435, 0.564, 0.4414, 0.4471, 0.4532, 0.4589, 0.3837, 0.4781, 0.5684, 0.547, 0.4772, 0.4355, 0.5077, 0.4783, 0.5323, 0.4839, 0.4448, 0.5517, 0.4399, 0.3604, 0.5431, 0.3729, 0.3535, 0.3391, 0.3811, 0.3439, 0.3916, 0.5432, 0.5386, 0.3932, 0.3662, 0.453, 0.3972, 0.4741, 0.4013, 0.3783, 0.5099, 0.3641, 0.5616, 0.7117, 0.5638, 0.5682, 0.5447, 0.5855, 0.5464, 0.6978, 0.7109, 0.7621, 0.5988, 0.5686, 0.7568, 0.6408, 0.7009, 0.6407, 0.5848, 0.6421, 0.5669, 0.3099, 0.4338, 0.5499, 0.4355, 0.4377, 0.427, 0.447, 0.3744, 0.4636, 0.5509, 0.547, 0.4606, 0.4289, 0.5075, 0.5224, 0.4739, 0.5056, 0.4379, 0.519, 0.436, 0.4069, 0.5168, 0.4159, 0.4013, 0.3967, 0.4207, 0.3828, 0.4318, 0.5149, 0.536, 0.4356, 0.4022, 0.4366, 0.4156, 0.5062, 0.4418, 0.4177, 0.4896, 0.4072, 0.4012, 0.5389, 0.4071, 0.3979, 0.392, 0.4293, 0.39, 0.4495, 0.5393, 0.5131, 0.4515, 0.4007, 0.6071, 0.3914, 0.4663, 0.4485, 0.4285, 0.5088, 0.4011, 0.3974, 0.5785, 0.3975, 0.3958, 0.4069, 0.427, 0.3677, 0.4623, 0.5821, 0.5073, 0.4402, 0.4101, 0.4516, 0.3945, 0.5895, 0.5229, 0.4196, 0.5503, 0.3922, 0.2716, 0.4699, 0.2713, 0.2697, 0.2876, 0.2958, 0.2824, 0.3219, 0.4666, 0.5595, 0.3102, 0.2781, 0.4874, 0.29, 0.382, 0.3306, 0.2913, 0.4555, 0.2704, 0.2184, 0.3096, 0.2199, 0.2169, 0.2212, 0.2346, 0.2076, 0.2461, 0.3111, 0.2871, 0.2528, 0.2103, 0.4298, 0.1968, 0.2538, 0.2223, 0.2308, 0.2764, 0.2247, 0.2919, 0.4708, 0.2912, 0.2893, 0.3024, 0.3147, 0.282, 0.3478, 0.4772, 0.2954, 0.3367, 0.2885, 0.3726, 0.2938, 0.408, 0.3324, 0.3025, 0.4149, 0.2825, 0.3421, 0.5034, 0.3417, 0.347, 0.3456, 0.3552, 0.3151, 0.3622, 0.4937, 0.5962, 0.3712, 0.3353, 0.4827, 0.3612, 0.4458, 0.4036, 0.3434, 0.4665, 0.3419, 0.1945, 0.3013, 0.1898, 0.1934, 0.2199, 0.2114, 0.1876, 0.2315, 0.3018, 0.2862, 0.2249, 0.1931, 0.2772, 0.1717, 0.2511, 0.2109, 0.2071, 0.2924, 0.1925, 0.4269, 0.5523, 0.4287, 0.4262, 0.426, 0.4424, 0.3915, 0.4487, 0.5582, 0.4774, 0.4601, 0.4191, 0.4374, 0.4652, 0.5052, 0.4858, 0.4228, 0.5216, 0.4018, 0.219, 0.4381, 0.2212, 0.2114, 0.2326, 0.2442, 0.1877, 0.2621, 0.4438, 0.3251, 0.2602, 0.224, 0.3187, 0.2417, 0.3221, 0.2906, 0.2375, 0.3976, 0.2133, 0.284, 0.5577, 0.3047, 0.2733, 0.2597, 0.3225, 0.3003, 0.3236, 0.5659, 0.3529, 0.3357, 0.3047, 0.4612, 0.3081, 0.3911, 0.4408, 0.3101, 0.4507, 0.2688, 0.3497, 0.5509, 0.3604, 0.3475, 0.3149, 0.3712, 0.3167, 0.3957, 0.5547, 0.4642, 0.3875, 0.3496, 0.4615, 0.3968, 0.4377, 0.4451, 0.3581, 0.4806, 0.3531, 0.3748, 0.5015, 0.3966, 0.365, 0.3429, 0.3968, 0.3968, 0.5056, 0.4729, 0.4117, 0.3748, 0.3259, 0.4145, 0.5144, 0.3574, 0.4616, 0.3529, 0.2999, 0.4369, 0.2986, 0.3019, 0.3052, 0.3132, 0.2501, 0.3159, 0.4398, 0.4123, 0.327, 0.2956, 0.3168, 0.3038, 0.332, 0.4196, 0.3026, 0.4151, 0.2962, 0.2198, 0.3313, 0.2205, 0.2182, 0.2268, 0.2354, 0.2121, 0.2417, 0.3394, 0.2701, 0.2527, 0.2131, 0.3171, 0.256, 0.2725, 0.2364, 0.2262, 0.3011, 0.2209, 0.378, 0.4563, 0.3614, 0.3849, 0.4197, 0.3848, 0.2849, 0.4314, 0.4612, 0.4371, 0.397, 0.3702, 0.3529, 0.3999, 0.3891, 0.3606, 0.3636, 0.3892, 0.3843, 0.1671, 0.3248, 0.1679, 0.1644, 0.1765, 0.188, 0.1492, 0.215, 0.3235, 0.3336, 0.2009, 0.1722, 0.2288, 0.1964, 0.3095, 0.193, 0.1872, 0.2965, 0.1668, 0.2043, 0.387, 0.2053, 0.2008, 0.2161, 0.2272, 0.156, 0.2437, 0.3885, 0.3459, 0.2416, 0.2079, 0.3077, 0.242, 0.3463, 0.2913, 0.2091, 0.3633, 0.1938, 0.1831, 0.3713, 0.186, 0.1799, 0.1864, 0.2103, 0.1698, 0.2267, 0.3745, 0.3098, 0.2233, 0.1927, 0.3396, 0.2184, 0.3166, 0.2586, 0.2034, 0.3524, 0.1756, 0.1469, 0.3678, 0.1357, 0.1348, 0.2085, 0.1694, 0.1553, 0.186, 0.3718, 0.252, 0.1818, 0.153, 0.2361, 0.1683, 0.2697, 0.2001, 0.1679, 0.407, 0.1313, 0.1304, 0.3078, 0.1265, 0.1249, 0.1604, 0.1512, 0.1436, 0.1581, 0.3063, 0.3121, 0.1634, 0.1352, 0.224, 0.1329, 0.208, 0.1507, 0.149, 0.3164, 0.1261, 0.2165, 0.3792, 0.2166, 0.2133, 0.2356, 0.2481, 0.269, 0.2251, 0.3775, 0.4328, 0.2667, 0.2247, 0.3472, 0.2131, 0.2769, 0.2624, 0.2475, 0.3641, 0.2084, 0.2084, 0.3345, 0.2076, 0.2076, 0.2258, 0.2308, 0.2417, 0.2269, 0.3353, 0.3317, 0.248, 0.2084, 0.275, 0.1794, 0.2584, 0.2364, 0.2232, 0.3098, 0.2022, 0.2083, 0.4209, 0.2296, 0.1956, 0.1833, 0.2514, 0.2306, 0.2784, 0.4218, 0.3636, 0.2644, 0.2347, 0.2494, 0.2729, 0.3378, 0.3689, 0.2496, 0.3359, 0.2057, 0.3409, 0.5153, 0.3444, 0.3385, 0.3383, 0.3629, 0.2588, 0.3695, 0.5213, 0.4099, 0.3803, 0.3381, 0.432, 0.4021, 0.397, 0.3753, 0.3482, 0.4595, 0.3423, 0.4336, 0.6461, 0.441, 0.4331, 0.4141, 0.4677, 0.4483, 0.4685, 0.6488, 0.5128, 0.4829, 0.4474, 0.5013, 0.4839, 0.5614, 0.5389, 0.4582, 0.5769, 0.4309, 0.2042, 0.3915, 0.2134, 0.1954, 0.1957, 0.2386, 0.1773, 0.2589, 0.3952, 0.2986, 0.2527, 0.2197, 0.2565, 0.2747, 0.3258, 0.2567, 0.2261, 0.3594, 0.2036, 0.272, 0.533, 0.2812, 0.2588, 0.282, 0.32, 0.2234, 0.3761, 0.5347, 0.5032, 0.3338, 0.302, 0.3954, 0.3927, 0.4926, 0.3684, 0.3104, 0.5185, 0.2733, 0.2112, 0.3163, 0.2031, 0.2163, 0.2393, 0.2304, 0.2104, 0.2603, 0.3186, 0.2812, 0.247, 0.2077, 0.2094, 0.1859, 0.2449, 0.2277, 0.2258, 0.2927, 0.208, 0.1484, 0.3328, 0.147, 0.1404, 0.1782, 0.1782, 0.1465, 0.1964, 0.3347, 0.2864, 0.1894, 0.1634, 0.2526, 0.1688, 0.267, 0.2136, 0.1713, 0.3441, 0.1422, 0.1272, 0.3024, 0.1303, 0.1235, 0.1246, 0.1464, 0.1429, 0.1533, 0.3054, 0.2073, 0.1562, 0.1342, 0.1783, 0.157, 0.2152, 0.1632, 0.1446, 0.2568, 0.1258, 0.2598, 0.4218, 0.2601, 0.2588, 0.2674, 0.2815, 0.214, 0.3017, 0.4249, 0.3727, 0.2963, 0.262, 0.3348, 0.4148, 0.3443, 0.331, 0.3279, 0.3589, 0.3427, 0.3807, 0.4116, 0.4491, 0.3765, 0.3334, 0.3612, 0.4533, 0.3416, 0.3702, 0.4068, 0.3699, 0.2421, 0.3784, 0.4656, 0.3956, 0.3747, 0.3629, 0.2943, 0.3982, 0.2954, 0.2942, 0.3002, 0.3251, 0.2432, 0.3395, 0.407, 0.3353, 0.3448, 0.2962, 0.3647, 0.4812, 0.3564, 0.3701, 0.3964, 0.3927, 0.3185, 0.4046, 0.4884, 0.43, 0.4145, 0.3627, 0.2468, 0.4183, 0.2473, 0.2455, 0.252, 0.2656, 0.2067, 0.2854, 0.4195, 0.3735, 0.279, 0.248, 0.3744, 0.4536, 0.3831, 0.3716, 0.3591, 0.4074, 0.3336, 0.4319, 0.4577, 0.3889, 0.4197, 0.3888, 0.4035, 0.4333, 0.3837, 0.4674, 0.3969, 0.2428, 0.3677, 0.2425, 0.2434, 0.2474, 0.2508, 0.182, 0.271, 0.3687, 0.3571, 0.264, 0.2342, 0.3254, 0.3116, 0.2831, 0.3203, 0.2439, 0.1109, 0.3055, 0.1068, 0.1054, 0.139, 0.1293, 0.1119, 0.147, 0.3062, 0.2604, 0.1395, 0.1157, 0.2139, 0.1113, 0.1796, 0.1494, 0.128, 0.3051, 0.1047, 0.2523, 0.4358, 0.2554, 0.2495, 0.2622, 0.2754, 0.1993, 0.2913, 0.433, 0.461, 0.2894, 0.258, 0.2905, 0.3315, 0.3815, 0.3486, 0.2535, 0.421, 0.2435, 0.2771, 0.5114, 0.2746, 0.277, 0.2898, 0.3103, 0.2875, 0.3271, 0.5125, 0.4195, 0.3264, 0.2892, 0.5, 0.2987, 0.3648, 0.3666, 0.3103, 0.4906, 0.2794, 0.2739, 0.4541, 0.2796, 0.2721, 0.2645, 0.2935, 0.28, 0.2938, 0.4607, 0.3355, 0.3068, 0.2751, 0.3896, 0.3221, 0.3125, 0.3063, 0.2889, 0.3829, 0.2773, 0.3417, 0.4915, 0.3498, 0.3378, 0.3256, 0.3628, 0.3011, 0.4093, 0.4949, 0.4529, 0.382, 0.3381, 0.436, 0.3992, 0.378, 0.3816, 0.3456, 0.4424, 0.3395, 0.2727, 0.4724, 0.2785, 0.2697, 0.2647, 0.3005, 0.249, 0.3075, 0.4795, 0.3263, 0.3125, 0.2843, 0.2971, 0.3491, 0.3434, 0.3617, 0.2873, 0.42, 0.2575, 0.2148, 0.3661, 0.2142, 0.2118, 0.2322, 0.2373, 0.2208, 0.2447, 0.3683, 0.3288, 0.256, 0.2129, 0.3003, 0.2188, 0.2671, 0.252, 0.231, 0.3498, 0.2124, 0.1044, 0.2839, 0.0911, 0.098, 0.1629, 0.1255, 0.1272, 0.123, 0.2847, 0.2559, 0.1355, 0.1125, 0.1528, 0.1667, 0.152, 0.1824, 0.1238, 0.295, 0.0936, 0.2014, 0.3931, 0.2053, 0.1967, 0.2032, 0.2271, 0.2124, 0.2331, 0.3955, 0.3231, 0.2405, 0.2101, 0.291, 0.233, 0.2962, 0.2648, 0.2216, 0.3811, 0.1967, 0.1947, 0.3285, 0.1962, 0.19, 0.2114, 0.2155, 0.202, 0.2281, 0.3267, 0.3743, 0.2313, 0.1941, 0.3647, 0.1805, 0.2531, 0.195, 0.1997, 0.328, 0.1905, 0.2702, 0.4481, 0.2805, 0.2635, 0.2464, 0.2956, 0.2561, 0.3234, 0.4494, 0.4028, 0.3112, 0.276, 0.3524, 0.3203, 0.408, 0.3326, 0.2917, 0.4002, 0.2702, 0.2231, 0.4214, 0.2309, 0.2197, 0.2074, 0.2495, 0.1706, 0.2632, 0.4243, 0.3464, 0.2601, 0.2356, 0.3258, 0.3179, 0.3743, 0.3257, 0.2376, 0.3758, 0.2239, 0.2552, 0.3681, 0.5444, 0.3679, 0.3677, 0.3706, 0.3897, 0.1951, 0.3901, 0.5497, 0.3985, 0.4097, 0.3627, 0.4184, 0.313, 0.4076, 0.4263, 0.3882, 0.4873, 0.3701, 0.204, 0.3325, 0.2061, 0.2032, 0.1989, 0.2184, 0.1847, 0.2261, 0.3357, 0.269, 0.2295, 0.204, 0.3408, 0.2097, 0.2244, 0.2442, 0.2168, 0.2994, 0.2085, 0.1505, 0.3057, 0.1372, 0.1465, 0.2224, 0.1684, 0.1686, 0.1682, 0.3023, 0.3832, 0.1797, 0.1539, 0.2549, 0.1528, 0.1633, 0.1698, 0.164, 0.3209, 0.1404, 0.1299, 0.2938, 0.1329, 0.1233, 0.1383, 0.1508, 0.142, 0.1554, 0.2984, 0.2148, 0.1646, 0.1326, 0.1986, 0.1576, 0.1846, 0.1671, 0.1472, 0.2685, 0.13, 0.0673, 0.331, 0.4827, 0.3244, 0.3359, 0.3596, 0.35, 0.2845, 0.3666, 0.4839, 0.4889, 0.3677, 0.3273, 0.3618, 0.3623, 0.4184, 0.4364, 0.3249, 0.4974, 0.3219, 0.2086, 0.4212, 0.2185, 0.2007, 0.1924, 0.2311, 0.1999, 0.24, 0.4258, 0.3202, 0.2431, 0.2161, 0.3342, 0.2494, 0.3266, 0.2511, 0.2276, 0.3969, 0.2101, 0.2986, 0.505, 0.3045, 0.2967, 0.2878, 0.3299, 0.2899, 0.4432, 0.504, 0.5633, 0.3453, 0.3099, 0.6389, 0.3506, 0.4444, 0.3918, 0.3283, 0.4246, 0.3014, 0.2055, 0.2367, 0.3929, 0.2359, 0.2372, 0.2453, 0.253, 0.1882, 0.2677, 0.395, 0.3582, 0.268, 0.233, 0.3455, 0.3306, 0.2812, 0.3119, 0.2438, 0.3678, 0.2372, 0.2254, 0.3631, 0.2337, 0.217, 0.2226, 0.2417, 0.2069, 0.252, 0.3623, 0.3645, 0.2566, 0.223, 0.2969, 0.2411, 0.3241, 0.28, 0.2379, 0.3397, 0.2235, 0.194, 0.3361, 0.1957, 0.1906, 0.2013, 0.2222, 0.1873, 0.2404, 0.3358, 0.324, 0.2388, 0.201, 0.4167, 0.1842, 0.2592, 0.2446, 0.2213, 0.3189, 0.19, 0.1801, 0.3635, 0.1796, 0.1736, 0.2013, 0.2083, 0.1757, 0.2276, 0.3655, 0.3051, 0.2214, 0.1913, 0.2592, 0.1974, 0.3161, 0.2866, 0.2029, 0.3457, 0.1727, 0.1072, 0.2883, 0.1098, 0.1001, 0.1236, 0.1287, 0.1252, 0.1365, 0.2867, 0.3761, 0.1401, 0.1145, 0.2939, 0.1255, 0.218, 0.1453, 0.1254, 0.2949, 0.1039, 0.1899, 0.2794, 0.1928, 0.187, 0.1903, 0.2056, 0.1854, 0.2143, 0.2827, 0.2389, 0.222, 0.1839, 0.3064, 0.1641, 0.207, 0.1904, 0.2057, 0.2457, 0.1966, 0.3265, 0.5091, 0.3286, 0.3155, 0.3455, 0.3498, 0.3179, 0.3839, 0.5196, 0.2814, 0.3757, 0.319, 0.4235, 0.3316, 0.4228, 0.3479, 0.3363, 0.4564, 0.3162, 0.294, 0.4639, 0.2974, 0.2956, 0.2855, 0.3069, 0.2723, 0.3129, 0.4577, 0.5209, 0.3221, 0.288, 0.4316, 0.3045, 0.3865, 0.3389, 0.2974, 0.4148, 0.2947, 0.1922, 0.2964, 0.1884, 0.1889, 0.2205, 0.2085, 0.1888, 0.2248, 0.2982, 0.2601, 0.2231, 0.1887, 0.2551, 0.1675, 0.237, 0.1998, 0.2056, 0.2879, 0.1906, 0.41, 0.5478, 0.4158, 0.4065, 0.4011, 0.4269, 0.3888, 0.4316, 0.5541, 0.4604, 0.444, 0.4044, 0.4237, 0.4356, 0.4865, 0.4672, 0.411, 0.504, 0.3879, 0.2712, 0.4825, 0.2744, 0.2644, 0.2772, 0.2954, 0.2482, 0.3104, 0.4878, 0.3773, 0.3138, 0.2726, 0.3433, 0.2846, 0.3545, 0.3435, 0.2893, 0.4412, 0.2664, 0.2875, 0.5509, 0.3101, 0.2759, 0.2579, 0.3244, 0.2908, 0.3259, 0.5587, 0.3571, 0.3399, 0.3037, 0.4601, 0.2896, 0.3835, 0.4293, 0.3142, 0.4446, 0.2755, 0.3229, 0.5377, 0.3381, 0.3112, 0.2908, 0.3455, 0.294, 0.3691, 0.5441, 0.4237, 0.3649, 0.3199, 0.44, 0.3339, 0.4079, 0.4087, 0.3341, 0.4694, 0.3256, 0.3635, 0.502, 0.3875, 0.3553, 0.3146, 0.3865, 0.3865, 0.506, 0.455, 0.4056, 0.358, 0.3455, 0.3975, 0.4438, 0.363, 0.4452, 0.3475, 0.2352, 0.3798, 0.2402, 0.2341, 0.2256, 0.2488, 0.2153, 0.2502, 0.3844, 0.323, 0.2614, 0.2326, 0.2659, 0.23, 0.257, 0.3281, 0.2414, 0.3284, 0.2361, 0.1864, 0.3006, 0.189, 0.1828, 0.1891, 0.2022, 0.1833, 0.2072, 0.3083, 0.2364, 0.2173, 0.1824, 0.2651, 0.2165, 0.2296, 0.1957, 0.1954, 0.2668, 0.1884, 0.3414, 0.4418, 0.3297, 0.3474, 0.3704, 0.3496, 0.2823, 0.3811, 0.452, 0.3945, 0.3583, 0.3392, 0.358, 0.3534, 0.3323, 0.3401, 0.3455, 0.368, 0.3474, 0.1851, 0.3479, 0.1857, 0.1851, 0.1873, 0.2061, 0.1699, 0.2312, 0.3481, 0.3242, 0.2206, 0.1887, 0.2348, 0.2101, 0.3068, 0.1928, 0.206, 0.3101, 0.1867, 0.239, 0.4253, 0.2394, 0.2364, 0.25, 0.262, 0.2097, 0.274, 0.4278, 0.3659, 0.2782, 0.2404, 0.3274, 0.2705, 0.3541, 0.3146, 0.2483, 0.3954, 0.2304, 0.2155, 0.4072, 0.2172, 0.2133, 0.219, 0.2428, 0.2092, 0.2563, 0.4123, 0.3091, 0.2566, 0.2242, 0.3885, 0.2209, 0.3234, 0.2838, 0.2378, 0.3829, 0.2097, 0.1871, 0.4061, 0.1771, 0.1758, 0.248, 0.2098, 0.191, 0.232, 0.4095, 0.3171, 0.2228, 0.1927, 0.2423, 0.1884, 0.3134, 0.2233, 0.2087, 0.4399, 0.1734, 0.1682, 0.3459, 0.1667, 0.1626, 0.1911, 0.189, 0.181, 0.196, 0.3451, 0.3367, 0.203, 0.1707, 0.2242, 0.1552, 0.2369, 0.187, 0.1874, 0.3526, 0.1649, 0.2391, 0.3981, 0.2378, 0.2339, 0.263, 0.2692, 0.2889, 0.2478, 0.4004, 0.3289, 0.2908, 0.2421, 0.3233, 0.2237, 0.271, 0.2604, 0.2702, 0.3876, 0.2297, 0.1533, 0.2662, 0.1524, 0.1512, 0.1685, 0.1726, 0.1763, 0.1711, 0.2713, 0.2088, 0.1877, 0.1529, 0.1702, 0.1405, 0.1929, 0.1727, 0.1672, 0.2406, 0.1489, 0.2238, 0.4369, 0.2398, 0.2166, 0.1961, 0.2663, 0.2597, 0.2747, 0.4386, 0.305, 0.2838, 0.2439, 0.2569, 0.2276, 0.2889, 0.3268, 0.2657, 0.3562, 0.2192, 0.3226, 0.5116, 0.3313, 0.3178, 0.3046, 0.3463, 0.2577, 0.3519, 0.5173, 0.3893, 0.3656, 0.3189, 0.4167, 0.3768, 0.3722, 0.3498, 0.3356, 0.4447, 0.3255, 0.4145, 0.6392, 0.4235, 0.412, 0.3914, 0.4503, 0.4592, 0.45, 0.6421, 0.4758, 0.4665, 0.4288, 0.5165, 0.443, 0.525, 0.5262, 0.4419, 0.5659, 0.412, 0.2574, 0.4444, 0.2672, 0.2502, 0.2412, 0.2917, 0.2542, 0.304, 0.4488, 0.3415, 0.3076, 0.2705, 0.3293, 0.3131, 0.3491, 0.3087, 0.2833, 0.4077, 0.2589, 0.2791, 0.5395, 0.2924, 0.2645, 0.2763, 0.3268, 0.247, 0.3727, 0.5421, 0.4725, 0.3425, 0.3065, 0.4258, 0.3697, 0.4775, 0.3624, 0.3185, 0.5207, 0.2818, 0.1674, 0.2654, 0.1627, 0.1694, 0.1868, 0.1849, 0.1668, 0.2124, 0.2696, 0.2046, 0.1988, 0.166, 0.166, 0.1223, 0.1885, 0.1969, 0.184, 0.2362, 0.1673, 0.1661, 0.3464, 0.1674, 0.1561, 0.1901, 0.1951, 0.1722, 0.2083, 0.3491, 0.2865, 0.208, 0.1782, 0.2235, 0.1602, 0.2578, 0.22, 0.1906, 0.3539, 0.1616, 0.1882, 0.3691, 0.195, 0.1836, 0.1707, 0.2081, 0.2071, 0.2102, 0.3733, 0.2674, 0.2211, 0.1923, 0.2217, 0.2114, 0.25, 0.2366, 0.2069, 0.3201, 0.1875, 0.2559, 0.4239, 0.259, 0.2525, 0.2576, 0.278, 0.2286, 0.2928, 0.4286, 0.3461, 0.2936, 0.2576, 0.3321, 0.413, 0.3416, 0.3268, 0.3188, 0.3556, 0.3452, 0.3697, 0.4114, 0.4204, 0.3739, 0.3292, 0.3357, 0.4454, 0.3197, 0.3428, 0.377, 0.3459, 0.2426, 0.3531, 0.458, 0.375, 0.3507, 0.3389, 0.2652, 0.3783, 0.2677, 0.2615, 0.2686, 0.2981, 0.2157, 0.3128, 0.3893, 0.2977, 0.3179, 0.2692, 0.3356, 0.467, 0.3313, 0.3381, 0.3558, 0.3666, 0.3163, 0.3748, 0.4778, 0.3881, 0.3887, 0.336, 0.247, 0.4291, 0.2508, 0.2431, 0.2461, 0.2668, 0.2245, 0.2808, 0.4306, 0.3619, 0.2813, 0.2478, 0.3616, 0.4562, 0.3734, 0.3545, 0.3406, 0.401, 0.3463, 0.4191, 0.462, 0.3594, 0.4141, 0.3814, 0.3983, 0.4087, 0.3586, 0.4392, 0.403, 0.2408, 0.3699, 0.2432, 0.2389, 0.2401, 0.2489, 0.1981, 0.2638, 0.3724, 0.3334, 0.263, 0.2312, 0.3242, 0.2899, 0.2562, 0.2983, 0.2449, 0.1431, 0.3394, 0.1372, 0.1366, 0.181, 0.1617, 0.1507, 0.1727, 0.342, 0.2698, 0.1739, 0.1457, 0.2399, 0.1429, 0.2012, 0.1774, 0.1607, 0.3518, 0.136, 0.2546, 0.4412, 0.2598, 0.2494, 0.2579, 0.2777, 0.2115, 0.2916, 0.4399, 0.443, 0.2944, 0.2569, 0.2986, 0.315, 0.3763, 0.3347, 0.2593, 0.4182, 0.2478, 0.2737, 0.518, 0.2743, 0.2706, 0.2821, 0.3081, 0.2785, 0.33, 0.5199, 0.3946, 0.3276, 0.2826, 0.3803, 0.2927, 0.3423, 0.3593, 0.3077, 0.493, 0.2773, 0.2723, 0.4566, 0.2814, 0.2694, 0.2534, 0.2922, 0.2944, 0.2924, 0.4645, 0.3197, 0.3072, 0.2716, 0.3427, 0.3094, 0.3046, 0.3111, 0.2883, 0.3785, 0.2771, 0.3832, 0.525, 0.3917, 0.3767, 0.3673, 0.4031, 0.3608, 0.4348, 0.5291, 0.471, 0.424, 0.3763, 0.4274, 0.4139, 0.4179, 0.429, 0.3887, 0.4794, 0.3809, 0.2706, 0.4774, 0.2768, 0.2663, 0.2623, 0.2992, 0.2824, 0.3015, 0.4856, 0.3089, 0.313, 0.2809, 0.3237, 0.3241, 0.3138, 0.3369, 0.293, 0.4163, 0.2584, 0.2025, 0.3564, 0.2042, 0.1972, 0.213, 0.2249, 0.2058, 0.2335, 0.3595, 0.2949, 0.2434, 0.2009, 0.2619, 0.1958, 0.2437, 0.2344, 0.2214, 0.3263, 0.2031, 0.1157, 0.2941, 0.1034, 0.1078, 0.1773, 0.1365, 0.1398, 0.1318, 0.2961, 0.2308, 0.1484, 0.1215, 0.1813, 0.1654, 0.1888, 0.1796, 0.1343, 0.3053, 0.1056, 0.2403, 0.438, 0.2455, 0.2343, 0.2383, 0.2664, 0.2628, 0.2678, 0.4402, 0.3591, 0.2836, 0.2446, 0.3125, 0.2351, 0.3167, 0.3105, 0.2628, 0.4235, 0.2364, 0.2208, 0.3552, 0.2254, 0.2141, 0.2279, 0.2414, 0.2248, 0.2571, 0.355, 0.3658, 0.2588, 0.218, 0.3604, 0.1866, 0.2787, 0.2133, 0.2291, 0.3438, 0.2193, 0.2776, 0.4502, 0.2909, 0.2661, 0.2486, 0.3022, 0.2519, 0.3375, 0.4506, 0.4151, 0.3185, 0.2816, 0.3497, 0.3128, 0.4079, 0.3267, 0.2991, 0.4033, 0.2778, 0.2527, 0.459, 0.2631, 0.2466, 0.2301, 0.2799, 0.2353, 0.2874, 0.4623, 0.3648, 0.2922, 0.2638, 0.4025, 0.3064, 0.3614, 0.3537, 0.272, 0.4044, 0.2552, 0.2417, 0.3954, 0.5804, 0.3975, 0.3912, 0.3978, 0.4182, 0.2754, 0.4185, 0.5844, 0.432, 0.4421, 0.3861, 0.4286, 0.3902, 0.4317, 0.4625, 0.4166, 0.5223, 0.3974, 0.1726, 0.298, 0.1763, 0.1698, 0.165, 0.1866, 0.1648, 0.1916, 0.3001, 0.2492, 0.197, 0.173, 0.31, 0.1755, 0.1887, 0.2048, 0.1857, 0.2705, 0.1768, 0.1729, 0.3308, 0.1596, 0.1717, 0.2425, 0.1909, 0.1934, 0.1868, 0.3277, 0.3855, 0.2044, 0.1738, 0.2579, 0.1778, 0.203, 0.2236, 0.1872, 0.3414, 0.1643, 0.1362, 0.2942, 0.139, 0.1306, 0.1415, 0.1559, 0.1463, 0.1609, 0.2998, 0.2027, 0.1698, 0.1376, 0.2014, 0.1358, 0.1689, 0.1755, 0.1546, 0.2655, 0.1375, 0.0584, 0.2828, 0.4328, 0.281, 0.2844, 0.2971, 0.3008, 0.2543, 0.3124, 0.4377, 0.4053, 0.3171, 0.2798, 0.3386, 0.2989, 0.3498, 0.365, 0.2828, 0.4315, 0.2772, 0.2214, 0.4287, 0.2327, 0.2116, 0.2004, 0.2428, 0.2266, 0.2475, 0.4335, 0.3162, 0.2574, 0.2248, 0.2879, 0.238, 0.2991, 0.2507, 0.2413, 0.3888, 0.2248, 0.2873, 0.5094, 0.2931, 0.2834, 0.2804, 0.3205, 0.3072, 0.3569, 0.5084, 0.5696, 0.3392, 0.2964, 0.625, 0.2915, 0.4468, 0.4075, 0.3192, 0.4285, 0.2891, 0.1346, 0.2213, 0.3826, 0.2251, 0.2184, 0.2187, 0.2376, 0.1872, 0.2488, 0.3855, 0.3257, 0.2521, 0.2183, 0.2743, 0.3176, 0.2488, 0.2923, 0.231, 0.3493, 0.223, 0.2333, 0.3777, 0.2415, 0.2238, 0.2313, 0.2502, 0.2168, 0.2601, 0.3761, 0.3739, 0.2649, 0.2318, 0.3012, 0.2589, 0.3324, 0.2676, 0.2466, 0.3529, 0.2314, 0.2275, 0.3675, 0.2298, 0.2216, 0.2356, 0.2548, 0.2195, 0.273, 0.3685, 0.3162, 0.2744, 0.23, 0.4821, 0.1872, 0.2845, 0.2916, 0.2543, 0.3525, 0.2233, 0.2146, 0.3999, 0.2147, 0.209, 0.232, 0.2432, 0.2218, 0.2559, 0.4027, 0.3315, 0.2598, 0.2219, 0.3035, 0.2225, 0.3225, 0.3072, 0.2391, 0.3807, 0.2081, 0.1649, 0.3335, 0.1612, 0.162, 0.1977, 0.1848, 0.1635, 0.2299, 0.3319, 0.3818, 0.1984, 0.1677, 0.3069, 0.1642, 0.2458, 0.2011, 0.1826, 0.342, 0.1615, 0.4121, 0.4534, 0.4043, 0.4292, 0.4093, 0.4204, 0.3791, 0.4384, 0.4513, 0.5051, 0.4466, 0.3868, 0.5437, 0.3378, 0.41, 0.3691, 0.4239, 0.4257, 0.4191, 0.4604, 0.6015, 0.4504, 0.4761, 0.4806, 0.4774, 0.4535, 0.5045, 0.6044, 0.5096, 0.5078, 0.4435, 0.581, 0.4329, 0.5407, 0.48, 0.4614, 0.5685, 0.4504, 0.5016, 0.5854, 0.4888, 0.5262, 0.5088, 0.5093, 0.4417, 0.5217, 0.5727, 0.7382, 0.528, 0.4868, 0.6146, 0.4786, 0.5665, 0.5089, 0.5042, 0.5527, 0.5035, 0.385, 0.453, 0.3688, 0.4025, 0.4125, 0.3966, 0.3669, 0.4221, 0.4515, 0.5055, 0.4195, 0.3666, 0.4523, 0.3171, 0.4162, 0.3428, 0.3958, 0.4481, 0.3841, 0.5888, 0.6501, 0.5751, 0.6115, 0.5933, 0.5969, 0.5412, 0.604, 0.6502, 0.6554, 0.6162, 0.5723, 0.5767, 0.5952, 0.6199, 0.6018, 0.5941, 0.6482, 0.5707, 0.4389, 0.5921, 0.4273, 0.4542, 0.4663, 0.4572, 0.3789, 0.4831, 0.5918, 0.6056, 0.478, 0.4322, 0.4869, 0.4376, 0.5274, 0.4732, 0.4542, 0.5645, 0.435, 0.5643, 0.7138, 0.5561, 0.5848, 0.5523, 0.5861, 0.5354, 0.5885, 0.7151, 0.6702, 0.6007, 0.567, 0.7204, 0.5246, 0.615, 0.6399, 0.5823, 0.648, 0.5589, 0.606, 0.6938, 0.5995, 0.6285, 0.5838, 0.6162, 0.5964, 0.625, 0.6935, 0.7265, 0.6305, 0.5977, 0.6615, 0.5762, 0.6527, 0.6373, 0.6108, 0.6505, 0.6102, 0.5789, 0.6305, 0.5754, 0.5968, 0.5612, 0.5881, 0.5881, 0.6262, 0.6582, 0.612, 0.554, 0.5152, 0.6016, 0.6425, 0.5634, 0.6193, 0.5664, 0.4747, 0.5377, 0.46, 0.4975, 0.4789, 0.4817, 0.398, 0.4853, 0.5342, 0.604, 0.4956, 0.4642, 0.4527, 0.4252, 0.4661, 0.5377, 0.4788, 0.5153, 0.4756, 0.3987, 0.4621, 0.3884, 0.4174, 0.4048, 0.4087, 0.3704, 0.4191, 0.4601, 0.4904, 0.4304, 0.3811, 0.448, 0.3939, 0.4156, 0.3712, 0.4086, 0.4394, 0.4015, 0.5107, 0.5242, 0.4786, 0.5452, 0.5591, 0.5131, 0.4274, 0.5549, 0.509, 0.6091, 0.5283, 0.4951, 0.5391, 0.5264, 0.465, 0.4665, 0.4989, 0.4575, 0.5209, 0.317, 0.4639, 0.3072, 0.3327, 0.3303, 0.3368, 0.2848, 0.3746, 0.4607, 0.5385, 0.3564, 0.314, 0.3714, 0.3271, 0.4162, 0.3055, 0.3381, 0.4234, 0.3195, 0.4396, 0.5732, 0.4195, 0.4635, 0.4701, 0.4574, 0.3445, 0.4836, 0.5696, 0.6496, 0.4746, 0.435, 0.521, 0.4663, 0.5776, 0.5103, 0.4398, 0.5738, 0.4287, 0.4274, 0.5693, 0.4131, 0.4505, 0.4425, 0.4491, 0.3985, 0.4695, 0.5683, 0.6091, 0.4658, 0.4272, 0.538, 0.4032, 0.5462, 0.4716, 0.4437, 0.5664, 0.4199, 0.3308, 0.5301, 0.3093, 0.3381, 0.3948, 0.3519, 0.3154, 0.396, 0.5298, 0.5476, 0.3682, 0.3312, 0.4101, 0.2979, 0.4689, 0.3597, 0.3511, 0.555, 0.3196, 0.293, 0.4589, 0.2804, 0.3039, 0.3246, 0.3132, 0.288, 0.3359, 0.4549, 0.5575, 0.3283, 0.2939, 0.367, 0.2509, 0.3725, 0.2897, 0.3124, 0.4645, 0.2903, 0.4372, 0.5418, 0.4271, 0.4514, 0.459, 0.4588, 0.464, 0.4528, 0.5392, 0.6466, 0.4849, 0.4269, 0.4831, 0.3739, 0.4623, 0.4291, 0.4602, 0.5355, 0.4318, 0.4074, 0.495, 0.3988, 0.4254, 0.4188, 0.4245, 0.4241, 0.4244, 0.4898, 0.5827, 0.4495, 0.393, 0.4856, 0.3068, 0.4404, 0.4135, 0.4219, 0.4743, 0.4052, 0.4378, 0.5871, 0.4317, 0.4569, 0.4235, 0.4678, 0.4503, 0.4903, 0.5858, 0.6369, 0.4842, 0.4472, 0.4077, 0.411, 0.515, 0.5211, 0.4677, 0.5283, 0.4368, 0.5781, 0.6756, 0.566, 0.5988, 0.5813, 0.5908, 0.5162, 0.5955, 0.6763, 0.6728, 0.612, 0.5614, 0.6, 0.5853, 0.6127, 0.5588, 0.5852, 0.6408, 0.5801, 0.6791, 0.7622, 0.6626, 0.7089, 0.6741, 0.6927, 0.6678, 0.6937, 0.7627, 0.7495, 0.7062, 0.6751, 0.6806, 0.6291, 0.7247, 0.7008, 0.6926, 0.72, 0.6832, 0.4633, 0.5866, 0.4548, 0.4831, 0.4616, 0.4871, 0.4222, 0.5092, 0.5862, 0.6023, 0.5069, 0.4616, 0.4731, 0.4771, 0.5506, 0.4786, 0.4791, 0.5703, 0.4626, 0.4778, 0.6619, 0.4622, 0.4912, 0.5103, 0.5116, 0.4083, 0.5721, 0.6599, 0.7446, 0.5284, 0.4907, 0.5658, 0.5081, 0.628, 0.5135, 0.5066, 0.6484, 0.4792, 0.4165, 0.482, 0.4, 0.4412, 0.4382, 0.4295, 0.4006, 0.473, 0.4789, 0.5383, 0.4543, 0.3968, 0.33, 0.3138, 0.4211, 0.4069, 0.4341, 0.4583, 0.4188, 0.3282, 0.4884, 0.3179, 0.3349, 0.3637, 0.3552, 0.2965, 0.3893, 0.4855, 0.5577, 0.3707, 0.3356, 0.4235, 0.2983, 0.4484, 0.3656, 0.3485, 0.4966, 0.3246, 0.2888, 0.4655, 0.2832, 0.3035, 0.2856, 0.3084, 0.3052, 0.3149, 0.4648, 0.496, 0.3252, 0.2888, 0.3361, 0.301, 0.348, 0.3366, 0.3071, 0.4194, 0.2884, 0.4644, 0.568, 0.4498, 0.4859, 0.4795, 0.4791, 0.3981, 0.504, 0.5667, 0.6044, 0.498, 0.4551, 0.5163, 0.5645, 0.5178, 0.5295, 0.4997, 0.5317, 0.5208, 0.5464, 0.5575, 0.6461, 0.5586, 0.4948, 0.5137, 0.5727, 0.4834, 0.5444, 0.56, 0.5203, 0.3794, 0.5305, 0.5706, 0.6059, 0.526, 0.512, 0.4827, 0.5397, 0.472, 0.5092, 0.4971, 0.5015, 0.4078, 0.5182, 0.5358, 0.5724, 0.5347, 0.4557, 0.5116, 0.6001, 0.4926, 0.5388, 0.5482, 0.5337, 0.453, 0.5468, 0.5983, 0.6196, 0.5646, 0.4932, 0.4575, 0.5715, 0.4425, 0.4783, 0.4705, 0.4708, 0.3941, 0.4974, 0.5706, 0.6226, 0.4874, 0.4496, 0.5373, 0.5964, 0.539, 0.552, 0.5201, 0.5626, 0.4987, 0.5835, 0.595, 0.6186, 0.5845, 0.5309, 0.5542, 0.5814, 0.5359, 0.5932, 0.5605, 0.453, 0.5212, 0.4367, 0.4763, 0.4701, 0.4582, 0.3713, 0.4845, 0.5194, 0.591, 0.4748, 0.4377, 0.5145, 0.4657, 0.4762, 0.4762, 0.4556, 0.2628, 0.4513, 0.2473, 0.2705, 0.3086, 0.2814, 0.2529, 0.3108, 0.4479, 0.5278, 0.2971, 0.2613, 0.3986, 0.2319, 0.322, 0.306, 0.2804, 0.468, 0.256, 0.4255, 0.5427, 0.4133, 0.446, 0.4421, 0.4406, 0.3687, 0.4562, 0.5389, 0.6048, 0.461, 0.4161, 0.4313, 0.452, 0.5079, 0.4744, 0.4299, 0.544, 0.4181, 0.5317, 0.6655, 0.5041, 0.5677, 0.5576, 0.5513, 0.5115, 0.582, 0.6655, 0.702, 0.5661, 0.5325, 0.6979, 0.4923, 0.57, 0.5697, 0.5529, 0.6541, 0.5338, 0.5467, 0.6312, 0.5325, 0.5728, 0.5418, 0.5565, 0.5468, 0.557, 0.6338, 0.6073, 0.5705, 0.5376, 0.6132, 0.5461, 0.546, 0.535, 0.5609, 0.5847, 0.5512, 0.5328, 0.615, 0.5268, 0.5495, 0.5259, 0.545, 0.4892, 0.5869, 0.6134, 0.6441, 0.5722, 0.5116, 0.5672, 0.5535, 0.5428, 0.5488, 0.5409, 0.5798, 0.5343, 0.5186, 0.6348, 0.5077, 0.5402, 0.5139, 0.5355, 0.5082, 0.5393, 0.6365, 0.5957, 0.5497, 0.517, 0.5308, 0.5545, 0.5289, 0.5367, 0.5354, 0.5982, 0.5118, 0.4174, 0.532, 0.4036, 0.4374, 0.4379, 0.4355, 0.4097, 0.4471, 0.5291, 0.5772, 0.4611, 0.4033, 0.4746, 0.3624, 0.4506, 0.4124, 0.4343, 0.5096, 0.4184, 0.2364, 0.4232, 0.2087, 0.2437, 0.3259, 0.2579, 0.244, 0.2777, 0.4242, 0.4217, 0.2764, 0.2353, 0.2773, 0.2835, 0.3629, 0.3273, 0.2561, 0.45, 0.2243, 0.4588, 0.5682, 0.4456, 0.483, 0.4694, 0.4751, 0.4567, 0.4825, 0.5677, 0.6021, 0.4942, 0.4515, 0.5653, 0.4315, 0.5267, 0.4936, 0.472, 0.5674, 0.4553, 0.3901, 0.4963, 0.3856, 0.3989, 0.3991, 0.4073, 0.3813, 0.4321, 0.4917, 0.6078, 0.4316, 0.3757, 0.578, 0.3211, 0.4337, 0.3463, 0.3924, 0.492, 0.3883, 0.4704, 0.5983, 0.4667, 0.4854, 0.4596, 0.4894, 0.4383, 0.5253, 0.5943, 0.6849, 0.5097, 0.4648, 0.5539, 0.4612, 0.5577, 0.4974, 0.4881, 0.5564, 0.4723, 0.4915, 0.5995, 0.4809, 0.5204, 0.4826, 0.5071, 0.4014, 0.5254, 0.5969, 0.6599, 0.5195, 0.4912, 0.5636, 0.5117, 0.5893, 0.5461, 0.4998, 0.5606, 0.4954, 0.3949, 0.6585, 0.685, 0.6367, 0.6901, 0.6692, 0.6622, 0.4858, 0.6627, 0.6852, 0.6928, 0.6776, 0.6422, 0.648, 0.556, 0.629, 0.6168, 0.6693, 0.6574, 0.6633, 0.3672, 0.4503, 0.36, 0.3835, 0.362, 0.3773, 0.3277, 0.3888, 0.4489, 0.4519, 0.3934, 0.3569, 0.5129, 0.3307, 0.355, 0.3786, 0.3822, 0.4081, 0.3732, 0.3212, 0.4704, 0.301, 0.3341, 0.3937, 0.3383, 0.3298, 0.3523, 0.4644, 0.6154, 0.3569, 0.3156, 0.4297, 0.2782, 0.3392, 0.3528, 0.3343, 0.4728, 0.3147, 0.2903, 0.432, 0.287, 0.2965, 0.2996, 0.3097, 0.2847, 0.3227, 0.4311, 0.4479, 0.3298, 0.2839, 0.3846, 0.2547, 0.3266, 0.3086, 0.3084, 0.4028, 0.2926, 0.1452, 0.4966, 0.5812, 0.4788, 0.5217, 0.5236, 0.5081, 0.434, 0.5269, 0.5753, 0.6468, 0.5304, 0.4803, 0.5516, 0.4895, 0.5485, 0.5352, 0.4986, 0.5978, 0.4907, 0.3866, 0.5466, 0.3881, 0.3954, 0.3679, 0.4045, 0.3655, 0.416, 0.5426, 0.6113, 0.4203, 0.3852, 0.4642, 0.3831, 0.4457, 0.3918, 0.4045, 0.5174, 0.3899, 0.531, 0.6743, 0.5134, 0.5593, 0.5407, 0.5525, 0.5172, 0.6534, 0.6732, 0.7778, 0.572, 0.5284, 0.75, 0.5262, 0.6391, 0.6106, 0.5528, 0.6204, 0.5325, 0.3112, 0.4457, 0.5326, 0.431, 0.4681, 0.4595, 0.4559, 0.3847, 0.4721, 0.5283, 0.6125, 0.4737, 0.4327, 0.4966, 0.4974, 0.4641, 0.4819, 0.4521, 0.5175, 0.4469, 0.4149, 0.5089, 0.4047, 0.4286, 0.4299, 0.4269, 0.3875, 0.4387, 0.5036, 0.6185, 0.4457, 0.4042, 0.4567, 0.3941, 0.4865, 0.4315, 0.4271, 0.4947, 0.4137, 0.418, 0.5181, 0.4095, 0.432, 0.4294, 0.4388, 0.3975, 0.4601, 0.5168, 0.5657, 0.47, 0.4009, 0.5584, 0.342, 0.4488, 0.4216, 0.4392, 0.5096, 0.4144, 0.3756, 0.5403, 0.3602, 0.3951, 0.4081, 0.4016, 0.3574, 0.4285, 0.5384, 0.5908, 0.4177, 0.3816, 0.4482, 0.3425, 0.529, 0.4717, 0.3969, 0.5297, 0.3689, 0.2804, 0.4642, 0.2674, 0.2935, 0.3199, 0.3014, 0.2849, 0.3367, 0.4598, 0.6408, 0.3225, 0.2767, 0.4824, 0.2667, 0.3934, 0.3284, 0.298, 0.4755, 0.2776, 0.1774, 0.2766, 0.1824, 0.1737, 0.174, 0.1936, 0.1737, 0.202, 0.2796, 0.2298, 0.21, 0.1718, 0.2798, 0.157, 0.2013, 0.1931, 0.1922, 0.2349, 0.1841, 0.273, 0.4676, 0.2783, 0.261, 0.2792, 0.2966, 0.2664, 0.3289, 0.4758, 0.2776, 0.3218, 0.2671, 0.3708, 0.2581, 0.3821, 0.2968, 0.2832, 0.4031, 0.2622, 0.306, 0.4852, 0.3125, 0.3053, 0.2923, 0.3186, 0.2817, 0.3249, 0.4843, 0.5008, 0.3343, 0.2991, 0.4348, 0.3213, 0.3994, 0.3494, 0.3095, 0.43, 0.3058, 0.1918, 0.317, 0.1911, 0.1892, 0.206, 0.2103, 0.1891, 0.2274, 0.3183, 0.2843, 0.2238, 0.1921, 0.2567, 0.1562, 0.2446, 0.201, 0.2068, 0.2899, 0.1921, 0.4309, 0.5745, 0.4386, 0.4263, 0.4234, 0.4478, 0.4028, 0.4534, 0.5804, 0.4986, 0.4663, 0.4237, 0.4402, 0.4755, 0.5089, 0.4945, 0.4265, 0.5327, 0.4038, 0.2327, 0.4681, 0.2423, 0.2239, 0.2204, 0.2581, 0.218, 0.271, 0.4736, 0.3531, 0.2747, 0.2376, 0.342, 0.2379, 0.3199, 0.3014, 0.2528, 0.4043, 0.2275, 0.2804, 0.5534, 0.3107, 0.2669, 0.2477, 0.3171, 0.2748, 0.3191, 0.561, 0.3584, 0.3331, 0.2957, 0.4299, 0.2908, 0.3901, 0.4338, 0.3053, 0.4413, 0.2647, 0.3361, 0.5583, 0.3475, 0.3326, 0.3096, 0.3582, 0.2956, 0.3874, 0.5611, 0.4926, 0.3784, 0.3318, 0.3725, 0.3874, 0.4365, 0.4386, 0.344, 0.4932, 0.3362, 0.3516, 0.4912, 0.3818, 0.3366, 0.3098, 0.3734, 0.3734, 0.4953, 0.4367, 0.3936, 0.3433, 0.3094, 0.3852, 0.4654, 0.3449, 0.4274, 0.3366, 0.2084, 0.3677, 0.2166, 0.206, 0.1954, 0.2225, 0.1995, 0.2234, 0.3731, 0.3001, 0.2352, 0.206, 0.229, 0.2057, 0.2307, 0.3027, 0.2151, 0.3001, 0.2097, 0.1847, 0.3074, 0.1878, 0.182, 0.1862, 0.2006, 0.1827, 0.2052, 0.3143, 0.2506, 0.2153, 0.1814, 0.2326, 0.2096, 0.2332, 0.2062, 0.1929, 0.2667, 0.1863, 0.2908, 0.4281, 0.2914, 0.2881, 0.304, 0.302, 0.2462, 0.3273, 0.4364, 0.3994, 0.3086, 0.2939, 0.3418, 0.3029, 0.3212, 0.2945, 0.3037, 0.3376, 0.2976, 0.1598, 0.3232, 0.1632, 0.1571, 0.1577, 0.18, 0.1557, 0.1965, 0.3231, 0.2921, 0.191, 0.1667, 0.1971, 0.1897, 0.2529, 0.1782, 0.1795, 0.2757, 0.1617, 0.2099, 0.4056, 0.2135, 0.2069, 0.2139, 0.2336, 0.1794, 0.2461, 0.4084, 0.3476, 0.2497, 0.2122, 0.3668, 0.2466, 0.3384, 0.2948, 0.2177, 0.363, 0.1999, 0.1902, 0.4016, 0.1951, 0.1866, 0.1883, 0.2193, 0.1912, 0.2306, 0.4071, 0.2981, 0.233, 0.2011, 0.3667, 0.2041, 0.3116, 0.2425, 0.214, 0.3624, 0.1844, 0.1447, 0.3759, 0.1376, 0.1355, 0.187, 0.1678, 0.1546, 0.1833, 0.3806, 0.2598, 0.1794, 0.1529, 0.2107, 0.1547, 0.2701, 0.1869, 0.1665, 0.387, 0.1316, 0.141, 0.3356, 0.1435, 0.1339, 0.1536, 0.1624, 0.1546, 0.1693, 0.3363, 0.302, 0.1762, 0.1445, 0.196, 0.1406, 0.2081, 0.1644, 0.1609, 0.317, 0.1387, 0.2199, 0.4095, 0.2254, 0.213, 0.2216, 0.2531, 0.2764, 0.229, 0.4118, 0.3359, 0.2718, 0.2298, 0.313, 0.1878, 0.2595, 0.245, 0.2541, 0.3741, 0.214, 0.1381, 0.261, 0.139, 0.134, 0.1507, 0.1578, 0.1566, 0.1578, 0.266, 0.2001, 0.1719, 0.1395, 0.2391, 0.1264, 0.1822, 0.164, 0.151, 0.2279, 0.133, 0.2418, 0.464, 0.2616, 0.2344, 0.2155, 0.2853, 0.2784, 0.2942, 0.4649, 0.4074, 0.3009, 0.2655, 0.3325, 0.2452, 0.3286, 0.3788, 0.2841, 0.3774, 0.2368, 0.322, 0.5258, 0.3341, 0.3155, 0.3039, 0.347, 0.2482, 0.3534, 0.5315, 0.4094, 0.3677, 0.3176, 0.4265, 0.3821, 0.379, 0.355, 0.3334, 0.4456, 0.3247, 0.4181, 0.6476, 0.4326, 0.4128, 0.3919, 0.4535, 0.4898, 0.452, 0.65, 0.5111, 0.4717, 0.4292, 0.5156, 0.4538, 0.5239, 0.5321, 0.4448, 0.5685, 0.4132, 0.2349, 0.4407, 0.2476, 0.2277, 0.2158, 0.2718, 0.2258, 0.2867, 0.4446, 0.3406, 0.2878, 0.2505, 0.3055, 0.2961, 0.3412, 0.2897, 0.2615, 0.3898, 0.2361, 0.2277, 0.5204, 0.2458, 0.216, 0.2118, 0.2823, 0.2077, 0.3269, 0.5242, 0.4137, 0.2962, 0.2643, 0.3557, 0.3263, 0.4467, 0.3402, 0.2729, 0.4773, 0.231, 0.1479, 0.256, 0.1451, 0.1484, 0.1612, 0.1658, 0.1564, 0.1796, 0.261, 0.1897, 0.1793, 0.1474, 0.1843, 0.1125, 0.1775, 0.1803, 0.1624, 0.2214, 0.147, 0.1416, 0.3447, 0.1465, 0.134, 0.1487, 0.1724, 0.1545, 0.1823, 0.3481, 0.266, 0.1851, 0.1559, 0.2366, 0.1644, 0.2492, 0.2043, 0.1665, 0.3265, 0.1393, 0.1463, 0.3312, 0.154, 0.1439, 0.1228, 0.1657, 0.1632, 0.1707, 0.3353, 0.2155, 0.1769, 0.1521, 0.1633, 0.182, 0.2222, 0.1884, 0.1648, 0.2723, 0.1458, 0.2465, 0.4281, 0.2519, 0.243, 0.2432, 0.2692, 0.216, 0.2849, 0.4329, 0.3491, 0.285, 0.2487, 0.3154, 0.4093, 0.3271, 0.3097, 0.3001, 0.3415, 0.3269, 0.3612, 0.4095, 0.4008, 0.3621, 0.3119, 0.3471, 0.4549, 0.3298, 0.3517, 0.3897, 0.357, 0.2283, 0.3658, 0.4692, 0.3832, 0.3624, 0.349, 0.2635, 0.3823, 0.2691, 0.2582, 0.2612, 0.2968, 0.2134, 0.3109, 0.3933, 0.2995, 0.3176, 0.2665, 0.3323, 0.4704, 0.3323, 0.3289, 0.3497, 0.3639, 0.3062, 0.3732, 0.4806, 0.3928, 0.3859, 0.3334, 0.2358, 0.4328, 0.2418, 0.2326, 0.2294, 0.2561, 0.2113, 0.2708, 0.4346, 0.3617, 0.2705, 0.2372, 0.356, 0.4568, 0.3732, 0.3494, 0.3258, 0.3962, 0.3343, 0.4161, 0.4625, 0.3593, 0.4091, 0.377, 0.3854, 0.4339, 0.3554, 0.439, 0.3923, 0.2299, 0.3748, 0.2336, 0.2287, 0.2253, 0.2382, 0.1846, 0.2537, 0.3775, 0.3398, 0.2524, 0.2203, 0.3071, 0.2859, 0.2542, 0.289, 0.2335, 0.1098, 0.3188, 0.1079, 0.1047, 0.1292, 0.1288, 0.1145, 0.1432, 0.3216, 0.2385, 0.1396, 0.1146, 0.2141, 0.0973, 0.1805, 0.1457, 0.1272, 0.3061, 0.1033, 0.2398, 0.4377, 0.247, 0.2328, 0.2431, 0.2628, 0.1989, 0.2762, 0.4392, 0.4194, 0.2793, 0.2422, 0.2731, 0.304, 0.3665, 0.3301, 0.2429, 0.4056, 0.2313, 0.2865, 0.5416, 0.2889, 0.284, 0.2897, 0.3217, 0.294, 0.3418, 0.5436, 0.4406, 0.3425, 0.2948, 0.4925, 0.272, 0.3455, 0.3874, 0.3215, 0.4962, 0.2907, 0.281, 0.473, 0.2897, 0.2805, 0.2632, 0.3007, 0.3082, 0.3009, 0.4808, 0.3409, 0.3167, 0.2787, 0.368, 0.3265, 0.3159, 0.3237, 0.2959, 0.3877, 0.2846, 0.3408, 0.5001, 0.354, 0.3332, 0.3135, 0.3619, 0.3156, 0.3949, 0.5075, 0.4045, 0.3842, 0.3332, 0.4004, 0.3789, 0.3901, 0.3803, 0.3485, 0.4397, 0.3378, 0.2859, 0.5013, 0.2919, 0.2831, 0.2791, 0.3148, 0.3118, 0.3152, 0.5096, 0.3342, 0.3306, 0.2938, 0.3259, 0.348, 0.3227, 0.3462, 0.3097, 0.4336, 0.271, 0.1965, 0.3608, 0.2021, 0.1913, 0.1952, 0.2191, 0.1994, 0.2276, 0.3639, 0.306, 0.237, 0.1959, 0.2405, 0.1999, 0.2377, 0.2321, 0.2154, 0.3136, 0.1987, 0.092, 0.2638, 0.0917, 0.0855, 0.1085, 0.1119, 0.1151, 0.1075, 0.2659, 0.1953, 0.1196, 0.1022, 0.1568, 0.1308, 0.1859, 0.167, 0.1091, 0.2536, 0.084, 0.2157, 0.4329, 0.2239, 0.2095, 0.2064, 0.2436, 0.2372, 0.246, 0.436, 0.3402, 0.2596, 0.2233, 0.3436, 0.2297, 0.3024, 0.286, 0.2391, 0.3968, 0.2131, 0.2121, 0.3672, 0.2174, 0.208, 0.2123, 0.2346, 0.2195, 0.2489, 0.3689, 0.3542, 0.2511, 0.2126, 0.3522, 0.1904, 0.2789, 0.2161, 0.2223, 0.3428, 0.2109, 0.2705, 0.4504, 0.2861, 0.2604, 0.2387, 0.295, 0.2513, 0.3259, 0.4516, 0.4015, 0.3116, 0.2741, 0.3603, 0.3108, 0.403, 0.3158, 0.2915, 0.3944, 0.2699, 0.2495, 0.4699, 0.2614, 0.2453, 0.2251, 0.277, 0.2273, 0.2853, 0.4734, 0.3831, 0.2895, 0.2608, 0.3728, 0.3074, 0.3602, 0.3587, 0.2686, 0.408, 0.2504, 0.2028, 0.3545, 0.5737, 0.3558, 0.3513, 0.3584, 0.3802, 0.2733, 0.3804, 0.5792, 0.3914, 0.4063, 0.3453, 0.4235, 0.3564, 0.4069, 0.4394, 0.3773, 0.4958, 0.3556, 0.1731, 0.2978, 0.1761, 0.1717, 0.1689, 0.186, 0.1697, 0.1899, 0.2987, 0.2618, 0.1978, 0.1706, 0.2749, 0.1644, 0.1874, 0.2024, 0.1856, 0.2633, 0.1772, 0.1275, 0.2996, 0.1235, 0.1224, 0.1622, 0.1463, 0.1499, 0.1403, 0.2965, 0.3298, 0.1572, 0.1326, 0.2282, 0.1369, 0.1552, 0.1786, 0.1419, 0.2837, 0.1207, 0.1323, 0.3071, 0.1398, 0.125, 0.128, 0.153, 0.1428, 0.1582, 0.3116, 0.2292, 0.1669, 0.1346, 0.1822, 0.1525, 0.178, 0.1839, 0.1502, 0.2658, 0.1339, 0.0431, 0.2631, 0.4225, 0.2641, 0.263, 0.2703, 0.281, 0.235, 0.2924, 0.4287, 0.3833, 0.2963, 0.2613, 0.3124, 0.2856, 0.3372, 0.3408, 0.2636, 0.4027, 0.2589, 0.181, 0.3995, 0.1941, 0.173, 0.1592, 0.2031, 0.1957, 0.2052, 0.4031, 0.3174, 0.2156, 0.1875, 0.36, 0.1943, 0.2529, 0.21, 0.2006, 0.3417, 0.1852, 0.3033, 0.5344, 0.3115, 0.2978, 0.2943, 0.3376, 0.3263, 0.3691, 0.5341, 0.5125, 0.358, 0.3115, 0.5526, 0.3432, 0.443, 0.4129, 0.3368, 0.4474, 0.3032, 0.1138, 0.2246, 0.4002, 0.2289, 0.223, 0.2204, 0.2411, 0.1854, 0.2533, 0.404, 0.3361, 0.257, 0.22, 0.3211, 0.3155, 0.2619, 0.2926, 0.2337, 0.3505, 0.2269, 0.2193, 0.3709, 0.2312, 0.2104, 0.2099, 0.2364, 0.2003, 0.2472, 0.3704, 0.3631, 0.2511, 0.218, 0.2839, 0.2467, 0.3197, 0.2518, 0.2327, 0.3337, 0.2179, 0.2254, 0.3844, 0.2301, 0.2167, 0.2329, 0.2548, 0.2216, 0.2718, 0.3857, 0.327, 0.2755, 0.2285, 0.4464, 0.2089, 0.2836, 0.2828, 0.2543, 0.354, 0.2223, 0.1792, 0.3851, 0.1849, 0.1693, 0.185, 0.2103, 0.1909, 0.2218, 0.3884, 0.292, 0.2254, 0.1911, 0.2591, 0.1893, 0.2953, 0.2639, 0.2063, 0.3465, 0.1733, 0.1307, 0.3254, 0.1338, 0.1271, 0.1369, 0.1531, 0.1444, 0.1714, 0.3229, 0.4025, 0.1641, 0.1396, 0.3217, 0.1577, 0.2287, 0.1685, 0.1495, 0.3083, 0.1279, 0.0945, 0.1871, 0.1008, 0.0893, 0.0879, 0.1093, 0.0982, 0.1139, 0.1894, 0.14, 0.1188, 0.0965, 0.1629, 0.084, 0.1236, 0.1122, 0.1066, 0.1487, 0.1004, 0.1729, 0.3313, 0.1789, 0.1647, 0.1621, 0.192, 0.1869, 0.1981, 0.3355, 0.2009, 0.2074, 0.1734, 0.2664, 0.1298, 0.25, 0.1828, 0.1805, 0.2756, 0.1653, 0.194, 0.3841, 0.2024, 0.1902, 0.1761, 0.2064, 0.1828, 0.2104, 0.3872, 0.3415, 0.2172, 0.1929, 0.2778, 0.1996, 0.2814, 0.2269, 0.2005, 0.312, 0.1947, 0.1003, 0.2139, 0.1012, 0.0974, 0.108, 0.1166, 0.1049, 0.126, 0.2142, 0.1911, 0.1257, 0.1042, 0.1427, 0.0946, 0.147, 0.1114, 0.1135, 0.1854, 0.1015, 0.3154, 0.4849, 0.3269, 0.3075, 0.3028, 0.3351, 0.2918, 0.3405, 0.4905, 0.402, 0.3506, 0.3145, 0.343, 0.3595, 0.4121, 0.3717, 0.3159, 0.4228, 0.2901, 0.1502, 0.3755, 0.1598, 0.1413, 0.1342, 0.1736, 0.146, 0.1825, 0.3801, 0.2496, 0.1846, 0.1596, 0.2519, 0.162, 0.2264, 0.2069, 0.169, 0.3027, 0.1473, 0.183, 0.4478, 0.2084, 0.1693, 0.1572, 0.2176, 0.1859, 0.2191, 0.4541, 0.2603, 0.228, 0.2036, 0.3413, 0.1854, 0.279, 0.3133, 0.2078, 0.3359, 0.1698, 0.2255, 0.4562, 0.2397, 0.2184, 0.1942, 0.2477, 0.2085, 0.266, 0.4619, 0.3546, 0.2654, 0.2243, 0.283, 0.248, 0.3082, 0.3122, 0.2368, 0.3774, 0.2274, 0.2695, 0.4321, 0.3011, 0.2544, 0.2164, 0.2936, 0.2937, 0.4405, 0.3256, 0.3058, 0.2754, 0.2482, 0.3076, 0.378, 0.2649, 0.3626, 0.2486, 0.1537, 0.3159, 0.1629, 0.1497, 0.1403, 0.1677, 0.1501, 0.1685, 0.3205, 0.2468, 0.1784, 0.1539, 0.1844, 0.1509, 0.1805, 0.2405, 0.1607, 0.2448, 0.1555, 0.1217, 0.2429, 0.127, 0.1181, 0.1158, 0.137, 0.1163, 0.1423, 0.2491, 0.1817, 0.1473, 0.1234, 0.2006, 0.1423, 0.1695, 0.1355, 0.1294, 0.1995, 0.124, 0.2213, 0.3766, 0.227, 0.2171, 0.2201, 0.233, 0.1998, 0.2481, 0.3865, 0.321, 0.243, 0.2208, 0.3038, 0.2265, 0.2729, 0.2302, 0.2456, 0.2826, 0.2271, 0.0917, 0.237, 0.0969, 0.0868, 0.0856, 0.1089, 0.0948, 0.1188, 0.2369, 0.1916, 0.1174, 0.0986, 0.1204, 0.1167, 0.1667, 0.1094, 0.1082, 0.1919, 0.0939, 0.1291, 0.3059, 0.1362, 0.1244, 0.1235, 0.1499, 0.0952, 0.1625, 0.3085, 0.2403, 0.161, 0.1348, 0.2373, 0.1547, 0.2406, 0.1932, 0.1369, 0.2515, 0.1243, 0.1006, 0.2851, 0.1074, 0.0956, 0.092, 0.1249, 0.102, 0.1341, 0.2894, 0.1832, 0.1332, 0.1137, 0.2198, 0.114, 0.2006, 0.1572, 0.1203, 0.2437, 0.0976, 0.0757, 0.2741, 0.0771, 0.0693, 0.0864, 0.0946, 0.0902, 0.0996, 0.2782, 0.1548, 0.0999, 0.0876, 0.1369, 0.0931, 0.1737, 0.1129, 0.0932, 0.2605, 0.0687, 0.0824, 0.2525, 0.0865, 0.0772, 0.0835, 0.1004, 0.0964, 0.1039, 0.255, 0.18, 0.1091, 0.0889, 0.1274, 0.0857, 0.1372, 0.1008, 0.0992, 0.2261, 0.0821, 0.1127, 0.2762, 0.1175, 0.1063, 0.1125, 0.1405, 0.159, 0.1211, 0.2778, 0.1936, 0.1523, 0.1255, 0.2017, 0.0962, 0.1517, 0.1527, 0.1404, 0.2414, 0.1089, 0.0848, 0.191, 0.0882, 0.0794, 0.0873, 0.1013, 0.0943, 0.1032, 0.1948, 0.1298, 0.1109, 0.0887, 0.1521, 0.0836, 0.1242, 0.1111, 0.0946, 0.16, 0.0812, 0.1495, 0.3488, 0.1696, 0.141, 0.1196, 0.187, 0.1787, 0.1979, 0.3502, 0.2429, 0.1979, 0.1731, 0.2651, 0.1545, 0.223, 0.2405, 0.1858, 0.2644, 0.1486, 0.2176, 0.4366, 0.2307, 0.2101, 0.1957, 0.2438, 0.1646, 0.249, 0.4418, 0.3077, 0.2604, 0.2202, 0.3099, 0.2711, 0.281, 0.2497, 0.2288, 0.3504, 0.2202, 0.2903, 0.5541, 0.3085, 0.2814, 0.259, 0.3296, 0.3253, 0.3298, 0.5566, 0.3904, 0.3471, 0.306, 0.399, 0.3113, 0.3992, 0.4117, 0.3212, 0.4583, 0.2863, 0.171, 0.3763, 0.1861, 0.1612, 0.1469, 0.2064, 0.1575, 0.2226, 0.38, 0.271, 0.2197, 0.1885, 0.2307, 0.2257, 0.2826, 0.2165, 0.1959, 0.3238, 0.1729, 0.1587, 0.4423, 0.1804, 0.1473, 0.1301, 0.2094, 0.1488, 0.2459, 0.4455, 0.3355, 0.2196, 0.196, 0.2609, 0.2587, 0.3671, 0.265, 0.2005, 0.3935, 0.1637, 0.088, 0.1672, 0.0874, 0.0879, 0.0945, 0.1011, 0.0913, 0.1157, 0.1696, 0.136, 0.1103, 0.0886, 0.083, 0.0752, 0.1094, 0.1172, 0.0986, 0.1417, 0.0879, 0.0791, 0.2474, 0.0857, 0.0731, 0.0739, 0.1038, 0.0885, 0.1125, 0.251, 0.1628, 0.111, 0.0942, 0.1565, 0.1033, 0.1573, 0.1304, 0.0996, 0.2189, 0.0803, 0.087, 0.2533, 0.0939, 0.083, 0.0697, 0.104, 0.1043, 0.1032, 0.2571, 0.1425, 0.1115, 0.0947, 0.1125, 0.1099, 0.1568, 0.1406, 0.103, 0.1971, 0.0871, 0.1623, 0.3392, 0.1694, 0.1576, 0.1541, 0.1838, 0.1367, 0.1977, 0.3434, 0.2571, 0.1953, 0.1685, 0.1915, 0.2985, 0.2024, 0.1853, 0.1751, 0.2203, 0.2007, 0.2465, 0.299, 0.2752, 0.2336, 0.2008, 0.2501, 0.3745, 0.2387, 0.2511, 0.286, 0.2611, 0.158, 0.2678, 0.3866, 0.303, 0.2657, 0.2543, 0.1806, 0.3044, 0.1874, 0.1742, 0.1739, 0.2147, 0.1374, 0.2274, 0.3137, 0.2234, 0.2303, 0.1916, 0.2307, 0.38, 0.2333, 0.2253, 0.242, 0.2641, 0.2102, 0.2726, 0.3898, 0.2954, 0.2812, 0.24, 0.1531, 0.3409, 0.1608, 0.1488, 0.1419, 0.1719, 0.133, 0.1848, 0.3426, 0.2592, 0.1823, 0.1582, 0.256, 0.3682, 0.2756, 0.2465, 0.2233, 0.301, 0.2349, 0.3221, 0.3732, 0.2719, 0.3102, 0.2871, 0.2654, 0.3308, 0.2748, 0.3333, 0.2961, 0.1486, 0.2863, 0.154, 0.146, 0.1395, 0.1562, 0.1117, 0.1691, 0.2884, 0.2435, 0.1665, 0.143, 0.1858, 0.199, 0.1726, 0.1967, 0.152, 0.0676, 0.2405, 0.0691, 0.0638, 0.073, 0.0829, 0.0746, 0.0913, 0.2435, 0.1619, 0.0894, 0.0742, 0.1343, 0.0648, 0.111, 0.1023, 0.0818, 0.2162, 0.0643, 0.17, 0.3724, 0.1763, 0.1638, 0.1705, 0.1928, 0.138, 0.2044, 0.3759, 0.3205, 0.2051, 0.1773, 0.1751, 0.2138, 0.2919, 0.2379, 0.1777, 0.3286, 0.1637, 0.1903, 0.4455, 0.1964, 0.1849, 0.1872, 0.2243, 0.2078, 0.2363, 0.4472, 0.3486, 0.241, 0.2024, 0.3824, 0.1874, 0.2688, 0.2739, 0.2238, 0.4149, 0.1919, 0.1923, 0.3917, 0.2038, 0.1867, 0.175, 0.2123, 0.2024, 0.2126, 0.3993, 0.2475, 0.2252, 0.1942, 0.3404, 0.2381, 0.2306, 0.2348, 0.207, 0.3016, 0.1962, 0.2198, 0.387, 0.23, 0.2121, 0.2012, 0.2411, 0.2107, 0.2628, 0.3963, 0.2643, 0.256, 0.2215, 0.2577, 0.2447, 0.2605, 0.2618, 0.2303, 0.3229, 0.2168, 0.2059, 0.4178, 0.2129, 0.2016, 0.1982, 0.2336, 0.1996, 0.2381, 0.4246, 0.2617, 0.2462, 0.2165, 0.236, 0.2697, 0.2558, 0.2749, 0.2254, 0.3562, 0.1905, 0.1153, 0.271, 0.1227, 0.1094, 0.1078, 0.1363, 0.1246, 0.1414, 0.2737, 0.2188, 0.1485, 0.1204, 0.1443, 0.1168, 0.1544, 0.1494, 0.1327, 0.2225, 0.1184, 0.0723, 0.2243, 0.0717, 0.0724, 0.0765, 0.0889, 0.0953, 0.0799, 0.2263, 0.1519, 0.0955, 0.0804, 0.128, 0.1174, 0.1283, 0.1406, 0.0866, 0.206, 0.0671, 0.1185, 0.3154, 0.1267, 0.1121, 0.106, 0.1426, 0.1288, 0.148, 0.3184, 0.2063, 0.1525, 0.1299, 0.2157, 0.1344, 0.1957, 0.1839, 0.1383, 0.2735, 0.1178, 0.1071, 0.2333, 0.1101, 0.1039, 0.108, 0.1247, 0.1182, 0.1307, 0.2349, 0.1951, 0.1365, 0.1087, 0.1736, 0.0987, 0.1579, 0.1211, 0.1188, 0.2097, 0.1067, 0.1849, 0.3694, 0.1991, 0.1753, 0.1548, 0.2094, 0.1719, 0.2361, 0.3704, 0.3211, 0.2217, 0.1938, 0.2553, 0.2177, 0.3089, 0.216, 0.2067, 0.3046, 0.1859, 0.1465, 0.375, 0.1593, 0.1386, 0.1234, 0.174, 0.1359, 0.1804, 0.3785, 0.272, 0.1829, 0.1623, 0.32, 0.1976, 0.2552, 0.2573, 0.1659, 0.3074, 0.1481, 0.1688, 0.234, 0.456, 0.2436, 0.2294, 0.2157, 0.2593, 0.2182, 0.2594, 0.4622, 0.2673, 0.2798, 0.2314, 0.2, 0.2305, 0.2601, 0.2996, 0.2579, 0.3736, 0.2362, 0.1014, 0.2211, 0.1053, 0.0975, 0.1, 0.1136, 0.1012, 0.1166, 0.2192, 0.2126, 0.1208, 0.1041, 0.218, 0.1074, 0.1225, 0.1378, 0.1115, 0.1891, 0.1054, 0.0774, 0.2179, 0.0775, 0.0736, 0.0919, 0.0924, 0.1023, 0.0762, 0.2173, 0.2325, 0.0983, 0.0848, 0.1515, 0.0904, 0.098, 0.122, 0.0887, 0.1977, 0.0735, 0.0767, 0.2293, 0.083, 0.07, 0.0706, 0.0941, 0.0857, 0.0984, 0.2344, 0.1339, 0.103, 0.0821, 0.1311, 0.0893, 0.1169, 0.1173, 0.0917, 0.189, 0.0787, 0.0373, 0.1704, 0.3226, 0.1738, 0.1696, 0.1686, 0.187, 0.1501, 0.1962, 0.3271, 0.2867, 0.1981, 0.1726, 0.2228, 0.1936, 0.2387, 0.2249, 0.1743, 0.2833, 0.1703, 0.1124, 0.311, 0.1238, 0.1032, 0.0959, 0.1318, 0.1289, 0.1326, 0.313, 0.2372, 0.1408, 0.1205, 0.2411, 0.1135, 0.2018, 0.1352, 0.1304, 0.25, 0.1169, 0.2012, 0.4271, 0.2134, 0.1943, 0.1782, 0.233, 0.2265, 0.2505, 0.4281, 0.3298, 0.2476, 0.2141, 0.4167, 0.241, 0.3191, 0.2782, 0.2323, 0.3395, 0.2017, 0.0963, 0.141, 0.3089, 0.1467, 0.1379, 0.1337, 0.1561, 0.1098, 0.1661, 0.3134, 0.2313, 0.1674, 0.1409, 0.2329, 0.2383, 0.1724, 0.2008, 0.1489, 0.2575, 0.1437, 0.1551, 0.3058, 0.1658, 0.1477, 0.1433, 0.1715, 0.1464, 0.1792, 0.3053, 0.2885, 0.1817, 0.1588, 0.2118, 0.1729, 0.2448, 0.1727, 0.1691, 0.261, 0.1551, 0.1239, 0.2781, 0.1302, 0.116, 0.1238, 0.1519, 0.1307, 0.1628, 0.2786, 0.2479, 0.1651, 0.135, 0.2157, 0.1389, 0.1894, 0.1737, 0.1509, 0.2472, 0.122, 0.1143, 0.303, 0.1237, 0.1061, 0.1002, 0.1418, 0.1296, 0.1491, 0.3063, 0.1984, 0.1518, 0.1288, 0.1788, 0.1374, 0.2183, 0.1857, 0.1382, 0.2547, 0.1125, 0.0794, 0.2459, 0.0831, 0.0784, 0.0744, 0.0981, 0.0993, 0.0965, 0.2437, 0.3312, 0.1041, 0.0906, 0.2555, 0.114, 0.17, 0.1131, 0.0947, 0.2151, 0.0798, 0.1028, 0.1885, 0.1085, 0.0972, 0.0971, 0.1162, 0.1108, 0.1184, 0.1917, 0.1277, 0.1269, 0.1019, 0.1683, 0.0843, 0.1252, 0.1072, 0.1149, 0.1518, 0.1086, 0.1631, 0.3105, 0.1687, 0.1542, 0.1537, 0.1805, 0.1878, 0.1736, 0.3151, 0.1717, 0.1975, 0.16, 0.262, 0.109, 0.1954, 0.1587, 0.1713, 0.2544, 0.1573, 0.1672, 0.3508, 0.1753, 0.163, 0.148, 0.1788, 0.1545, 0.1829, 0.3549, 0.2916, 0.1889, 0.1661, 0.2125, 0.1622, 0.2457, 0.1923, 0.1752, 0.2734, 0.1685, 0.1043, 0.219, 0.1064, 0.1011, 0.1072, 0.1205, 0.1097, 0.1291, 0.2198, 0.1789, 0.1297, 0.1079, 0.1525, 0.1038, 0.1502, 0.1259, 0.1173, 0.1886, 0.106, 0.2739, 0.4413, 0.2849, 0.2658, 0.2607, 0.2932, 0.2639, 0.2968, 0.4459, 0.3616, 0.3084, 0.273, 0.3137, 0.3013, 0.365, 0.3163, 0.2805, 0.3698, 0.2546, 0.1274, 0.323, 0.1359, 0.12, 0.11, 0.1472, 0.1281, 0.1534, 0.3271, 0.2153, 0.1573, 0.1345, 0.2125, 0.1276, 0.193, 0.1645, 0.1446, 0.2507, 0.1268, 0.1481, 0.3779, 0.1675, 0.1373, 0.1276, 0.1777, 0.1413, 0.1793, 0.3847, 0.2094, 0.1891, 0.1623, 0.2197, 0.1433, 0.2266, 0.2397, 0.1717, 0.2741, 0.1402, 0.1753, 0.3795, 0.1902, 0.1634, 0.149, 0.1945, 0.1641, 0.2087, 0.3837, 0.2828, 0.2103, 0.1734, 0.2264, 0.2022, 0.2398, 0.2313, 0.1863, 0.3108, 0.1769, 0.2298, 0.3983, 0.2566, 0.2201, 0.1749, 0.2544, 0.2544, 0.4104, 0.2659, 0.2637, 0.2403, 0.1928, 0.2641, 0.3074, 0.2373, 0.3185, 0.2135, 0.1502, 0.2829, 0.1577, 0.1465, 0.139, 0.1616, 0.1521, 0.1621, 0.2862, 0.2331, 0.1723, 0.1477, 0.1876, 0.1434, 0.1694, 0.2259, 0.1558, 0.2276, 0.1514, 0.1194, 0.2298, 0.1246, 0.1148, 0.1142, 0.1329, 0.1207, 0.136, 0.2352, 0.1702, 0.1442, 0.118, 0.1254, 0.1275, 0.1564, 0.1277, 0.1279, 0.1923, 0.1211, 0.2664, 0.4113, 0.2689, 0.264, 0.27, 0.2772, 0.2268, 0.3003, 0.4143, 0.3739, 0.2858, 0.2667, 0.3506, 0.2738, 0.2771, 0.2797, 0.2794, 0.3219, 0.272, 0.0871, 0.2122, 0.0937, 0.0816, 0.076, 0.1018, 0.0879, 0.1115, 0.2122, 0.178, 0.1088, 0.0933, 0.1116, 0.1187, 0.1667, 0.0969, 0.1015, 0.1733, 0.0892, 0.1079, 0.2649, 0.1145, 0.1037, 0.1009, 0.126, 0.0877, 0.1348, 0.2672, 0.2053, 0.1364, 0.1119, 0.19, 0.1215, 0.195, 0.1592, 0.1166, 0.2156, 0.1042, 0.0887, 0.2461, 0.0947, 0.0842, 0.0796, 0.1088, 0.0945, 0.1145, 0.2504, 0.1519, 0.1168, 0.098, 0.1519, 0.0967, 0.1701, 0.1279, 0.1054, 0.2068, 0.0874, 0.0591, 0.2084, 0.0597, 0.0551, 0.0678, 0.0732, 0.0748, 0.071, 0.2113, 0.129, 0.0774, 0.0676, 0.1091, 0.0793, 0.1154, 0.089, 0.0724, 0.2013, 0.054, 0.0775, 0.2403, 0.082, 0.0725, 0.0756, 0.0942, 0.0933, 0.0949, 0.2429, 0.1671, 0.1018, 0.0842, 0.1171, 0.0681, 0.1242, 0.0951, 0.0933, 0.2135, 0.0777, 0.1128, 0.2672, 0.1163, 0.1077, 0.1129, 0.1385, 0.1621, 0.114, 0.2693, 0.1763, 0.1509, 0.1229, 0.216, 0.0846, 0.1288, 0.1262, 0.1399, 0.2411, 0.1077, 0.1005, 0.2061, 0.1038, 0.0956, 0.1027, 0.1169, 0.1084, 0.1192, 0.2074, 0.1719, 0.1283, 0.1019, 0.1639, 0.0877, 0.1381, 0.1369, 0.1107, 0.1742, 0.0979, 0.1117, 0.2836, 0.1272, 0.103, 0.0905, 0.1431, 0.1335, 0.1558, 0.2852, 0.1778, 0.1557, 0.1271, 0.1892, 0.1147, 0.1783, 0.1753, 0.1421, 0.2145, 0.1092, 0.1703, 0.374, 0.1824, 0.1617, 0.1505, 0.1943, 0.1229, 0.199, 0.3797, 0.2347, 0.2099, 0.1721, 0.2281, 0.2087, 0.2239, 0.1982, 0.1829, 0.2916, 0.1732, 0.2295, 0.4868, 0.247, 0.2196, 0.1982, 0.2675, 0.2648, 0.2676, 0.4896, 0.3061, 0.2834, 0.246, 0.3404, 0.2448, 0.3131, 0.3304, 0.2615, 0.3894, 0.2272, 0.1407, 0.3304, 0.1537, 0.1329, 0.1158, 0.1728, 0.1303, 0.1868, 0.3341, 0.2279, 0.1835, 0.1585, 0.1784, 0.1895, 0.2408, 0.1792, 0.1637, 0.2798, 0.1434, 0.1337, 0.3792, 0.1515, 0.1229, 0.11, 0.1769, 0.1251, 0.2083, 0.3809, 0.3035, 0.1871, 0.1634, 0.2159, 0.2145, 0.3129, 0.2262, 0.1696, 0.3356, 0.1388, 0.1007, 0.1627, 0.0985, 0.1016, 0.1098, 0.1107, 0.0987, 0.1288, 0.1655, 0.1254, 0.1206, 0.0974, 0.133, 0.0809, 0.1103, 0.1319, 0.1109, 0.1417, 0.1011, 0.074, 0.2213, 0.0795, 0.0688, 0.0697, 0.0952, 0.088, 0.0993, 0.2233, 0.164, 0.1021, 0.086, 0.1366, 0.0824, 0.1246, 0.1161, 0.0928, 0.2, 0.075, 0.0743, 0.2264, 0.0798, 0.0715, 0.0579, 0.0895, 0.0902, 0.088, 0.2292, 0.1342, 0.096, 0.0814, 0.0981, 0.0769, 0.1218, 0.1195, 0.0884, 0.1782, 0.0739, 0.1429, 0.303, 0.1496, 0.1381, 0.1339, 0.162, 0.1249, 0.1729, 0.3065, 0.2307, 0.1731, 0.1473, 0.1546, 0.2635, 0.1656, 0.147, 0.141, 0.1838, 0.1607, 0.2143, 0.2617, 0.2568, 0.1961, 0.1658, 0.2106, 0.3338, 0.1985, 0.2126, 0.2489, 0.2214, 0.1537, 0.2261, 0.3428, 0.2711, 0.226, 0.2145, 0.1556, 0.2701, 0.1629, 0.1474, 0.1481, 0.1866, 0.129, 0.196, 0.2779, 0.1976, 0.2018, 0.1643, 0.1968, 0.3369, 0.199, 0.1924, 0.2079, 0.228, 0.1898, 0.2341, 0.3445, 0.268, 0.244, 0.2056, 0.1359, 0.3052, 0.1434, 0.1314, 0.1236, 0.1525, 0.1217, 0.1627, 0.3066, 0.233, 0.1627, 0.1391, 0.2231, 0.3287, 0.2397, 0.2138, 0.1954, 0.2656, 0.2148, 0.2819, 0.333, 0.243, 0.2761, 0.2501, 0.2278, 0.2754, 0.2428, 0.2876, 0.2649, 0.1316, 0.2569, 0.1371, 0.1286, 0.1213, 0.1384, 0.1029, 0.1487, 0.2584, 0.2198, 0.1482, 0.1258, 0.1509, 0.1749, 0.1488, 0.1719, 0.1352, 0.0602, 0.2109, 0.0629, 0.0547, 0.0656, 0.0734, 0.068, 0.0786, 0.2132, 0.156, 0.0793, 0.0654, 0.1182, 0.071, 0.0884, 0.0907, 0.0726, 0.1862, 0.0583, 0.1465, 0.3367, 0.1534, 0.1402, 0.1411, 0.1676, 0.1205, 0.1776, 0.3399, 0.281, 0.1788, 0.1536, 0.1859, 0.1817, 0.2535, 0.2049, 0.155, 0.2906, 0.1419, 0.137, 0.374, 0.1451, 0.1313, 0.1243, 0.1677, 0.1587, 0.1742, 0.3768, 0.2137, 0.1812, 0.1499, 0.2838, 0.1393, 0.2009, 0.2266, 0.1669, 0.3338, 0.1405, 0.1604, 0.3506, 0.1716, 0.1543, 0.1425, 0.1792, 0.181, 0.1793, 0.358, 0.2025, 0.1914, 0.1621, 0.2731, 0.1885, 0.1913, 0.1964, 0.1758, 0.2611, 0.1648, 0.1755, 0.3179, 0.1851, 0.1676, 0.1575, 0.1932, 0.1779, 0.2041, 0.3233, 0.2323, 0.2079, 0.174, 0.1793, 0.1639, 0.2099, 0.2078, 0.1886, 0.261, 0.174, 0.1761, 0.3676, 0.1828, 0.1723, 0.1674, 0.2009, 0.1701, 0.205, 0.3738, 0.2319, 0.213, 0.1847, 0.2186, 0.212, 0.2165, 0.2338, 0.1955, 0.3102, 0.1637, 0.1084, 0.2508, 0.1153, 0.1021, 0.1007, 0.127, 0.1174, 0.1311, 0.2539, 0.1901, 0.1387, 0.1118, 0.1451, 0.1035, 0.1394, 0.1334, 0.1247, 0.2052, 0.1116, 0.0566, 0.187, 0.0567, 0.0567, 0.0586, 0.0709, 0.0787, 0.0601, 0.188, 0.1446, 0.075, 0.0656, 0.1073, 0.0929, 0.0881, 0.1004, 0.0689, 0.1722, 0.0524, 0.1016, 0.2707, 0.1095, 0.0955, 0.087, 0.1215, 0.1145, 0.1242, 0.2728, 0.1793, 0.1305, 0.11, 0.2118, 0.1098, 0.1547, 0.1539, 0.1189, 0.2319, 0.102, 0.1022, 0.2227, 0.1057, 0.0988, 0.1023, 0.1189, 0.1112, 0.1259, 0.2236, 0.2052, 0.1301, 0.1038, 0.1352, 0.0953, 0.1407, 0.1147, 0.1167, 0.1998, 0.1026, 0.1704, 0.3449, 0.1851, 0.1587, 0.1398, 0.1933, 0.1617, 0.2159, 0.3469, 0.2799, 0.2076, 0.1751, 0.2307, 0.2, 0.2571, 0.1932, 0.1918, 0.2801, 0.1722, 0.1169, 0.3194, 0.1276, 0.1104, 0.0944, 0.1407, 0.1139, 0.1451, 0.3226, 0.2198, 0.149, 0.1298, 0.2232, 0.1528, 0.2012, 0.205, 0.1348, 0.2597, 0.1185, 0.1428, 0.1775, 0.3906, 0.1849, 0.1726, 0.1644, 0.2008, 0.1419, 0.2009, 0.3972, 0.1984, 0.2185, 0.177, 0.1839, 0.1625, 0.2039, 0.2422, 0.1995, 0.3119, 0.1794, 0.0965, 0.1898, 0.0997, 0.0927, 0.0969, 0.1058, 0.0923, 0.109, 0.1878, 0.1892, 0.1139, 0.0951, 0.2063, 0.0962, 0.1075, 0.1211, 0.1052, 0.1651, 0.0997, 0.0627, 0.1684, 0.0625, 0.0638, 0.0691, 0.0743, 0.0836, 0.0589, 0.164, 0.2489, 0.0761, 0.0719, 0.1193, 0.0601, 0.0891, 0.0951, 0.0717, 0.1466, 0.0617, 0.0774, 0.2026, 0.0829, 0.072, 0.0708, 0.0914, 0.0806, 0.0969, 0.2055, 0.1417, 0.1001, 0.0798, 0.1203, 0.0812, 0.108, 0.1136, 0.0897, 0.1692, 0.0794, 0.0425, 0.1648, 0.3059, 0.1696, 0.1622, 0.1608, 0.1799, 0.152, 0.1868, 0.3086, 0.2836, 0.1912, 0.1653, 0.2032, 0.1766, 0.2252, 0.2081, 0.1702, 0.269, 0.1651, 0.0985, 0.2795, 0.1098, 0.0886, 0.0815, 0.1159, 0.1189, 0.115, 0.2824, 0.2067, 0.1236, 0.1062, 0.2199, 0.0987, 0.1565, 0.1137, 0.115, 0.2246, 0.1025, 0.1432, 0.3402, 0.1541, 0.1355, 0.1236, 0.1706, 0.169, 0.1738, 0.3413, 0.2299, 0.1859, 0.1509, 0.3243, 0.14, 0.2041, 0.2354, 0.1696, 0.2625, 0.1446, 0.1084, 0.1165, 0.2649, 0.1226, 0.1123, 0.1078, 0.1294, 0.0959, 0.1366, 0.2679, 0.1921, 0.1405, 0.1145, 0.1905, 0.1873, 0.1386, 0.1608, 0.1246, 0.2179, 0.1192, 0.1354, 0.2692, 0.1464, 0.1265, 0.1235, 0.1497, 0.1333, 0.1546, 0.2687, 0.2494, 0.1593, 0.1375, 0.1745, 0.1392, 0.2083, 0.1454, 0.1485, 0.2251, 0.1362, 0.1139, 0.249, 0.1176, 0.1084, 0.1163, 0.138, 0.1256, 0.1444, 0.2496, 0.2164, 0.1527, 0.1193, 0.3667, 0.1159, 0.1601, 0.1513, 0.1375, 0.2256, 0.1117, 0.0931, 0.2578, 0.1002, 0.0865, 0.0821, 0.1165, 0.1071, 0.1221, 0.2605, 0.169, 0.1265, 0.1035, 0.1472, 0.1093, 0.1801, 0.1455, 0.1136, 0.2143, 0.0921, 0.0705, 0.2159, 0.0728, 0.0704, 0.0681, 0.0869, 0.0888, 0.0832, 0.213, 0.3159, 0.0921, 0.0803, 0.2646, 0.1066, 0.1512, 0.1047, 0.0833, 0.1969, 0.0701, 0.0869, 0.1704, 0.0916, 0.0832, 0.0806, 0.0998, 0.0917, 0.1032, 0.1731, 0.1218, 0.1091, 0.0875, 0.1629, 0.0668, 0.1094, 0.0964, 0.0981, 0.1327, 0.0931, 0.1711, 0.3196, 0.1744, 0.1659, 0.1642, 0.1886, 0.1901, 0.1875, 0.3242, 0.184, 0.2073, 0.1663, 0.25, 0.1247, 0.2112, 0.1652, 0.1826, 0.2636, 0.1658, 0.1596, 0.3435, 0.1683, 0.1541, 0.1389, 0.1707, 0.1519, 0.1738, 0.3484, 0.2737, 0.1807, 0.158, 0.2075, 0.1512, 0.2293, 0.184, 0.1675, 0.2673, 0.1607, 0.0927, 0.1993, 0.0945, 0.0903, 0.0938, 0.1073, 0.0984, 0.1146, 0.1999, 0.1672, 0.1149, 0.097, 0.1337, 0.0854, 0.1325, 0.111, 0.1047, 0.1687, 0.0948, 0.2612, 0.4278, 0.272, 0.2525, 0.2479, 0.2801, 0.2583, 0.2828, 0.4333, 0.3369, 0.2963, 0.2586, 0.3, 0.2757, 0.346, 0.3021, 0.2707, 0.3527, 0.244, 0.1366, 0.327, 0.1448, 0.1277, 0.1223, 0.1555, 0.1376, 0.1613, 0.3313, 0.2228, 0.1672, 0.1408, 0.2043, 0.1274, 0.1886, 0.1734, 0.1534, 0.2579, 0.1357, 0.1535, 0.3778, 0.1731, 0.1414, 0.1324, 0.1819, 0.1556, 0.1831, 0.3833, 0.2174, 0.1954, 0.1639, 0.2452, 0.1439, 0.2216, 0.2432, 0.1767, 0.2773, 0.1461, 0.1657, 0.3836, 0.1781, 0.1553, 0.1415, 0.1857, 0.1579, 0.1988, 0.389, 0.2524, 0.2009, 0.1655, 0.2778, 0.1866, 0.2245, 0.2334, 0.1786, 0.3055, 0.1679, 0.2099, 0.3599, 0.2348, 0.1991, 0.1581, 0.2311, 0.2311, 0.3697, 0.2414, 0.2461, 0.2088, 0.1791, 0.2405, 0.2858, 0.2136, 0.287, 0.1968, 0.1268, 0.2547, 0.135, 0.122, 0.1144, 0.1374, 0.1249, 0.1379, 0.2578, 0.1978, 0.1474, 0.1244, 0.1628, 0.1261, 0.1434, 0.203, 0.1315, 0.2004, 0.1281, 0.1083, 0.2117, 0.1137, 0.1034, 0.1014, 0.1206, 0.0969, 0.1266, 0.2166, 0.1569, 0.1307, 0.1074, 0.1812, 0.115, 0.1404, 0.1124, 0.1165, 0.1704, 0.1111, 0.2386, 0.381, 0.2437, 0.2339, 0.2376, 0.2487, 0.2052, 0.2687, 0.3825, 0.3401, 0.2574, 0.2382, 0.2593, 0.2486, 0.2917, 0.2513, 0.2482, 0.301, 0.2429, 0.0959, 0.2246, 0.1015, 0.0919, 0.0825, 0.1107, 0.0948, 0.1218, 0.2259, 0.1696, 0.1205, 0.0987, 0.1288, 0.1157, 0.1656, 0.1054, 0.1102, 0.1846, 0.0982, 0.1117, 0.2671, 0.1175, 0.1085, 0.1036, 0.1284, 0.0847, 0.1381, 0.2699, 0.2054, 0.1387, 0.1145, 0.1753, 0.1196, 0.1905, 0.1645, 0.1198, 0.2155, 0.109, 0.0908, 0.2461, 0.0968, 0.086, 0.0812, 0.1102, 0.0981, 0.115, 0.2498, 0.1544, 0.1181, 0.0996, 0.1689, 0.094, 0.1668, 0.1321, 0.1071, 0.2087, 0.0897, 0.063, 0.2009, 0.0627, 0.0583, 0.0753, 0.0757, 0.078, 0.0729, 0.2034, 0.1187, 0.0808, 0.0691, 0.1026, 0.0699, 0.1087, 0.0922, 0.0751, 0.1994, 0.0577, 0.0757, 0.2347, 0.0792, 0.0711, 0.0752, 0.0916, 0.092, 0.0912, 0.238, 0.1426, 0.0995, 0.0813, 0.1001, 0.0662, 0.1238, 0.0913, 0.0908, 0.2087, 0.0761, 0.107, 0.2543, 0.1105, 0.1026, 0.105, 0.1311, 0.1494, 0.1122, 0.2564, 0.169, 0.1434, 0.1155, 0.1754, 0.0922, 0.1237, 0.119, 0.1322, 0.2262, 0.1033, 0.0769, 0.1723, 0.0799, 0.0722, 0.0772, 0.0912, 0.0821, 0.0938, 0.1759, 0.1135, 0.0995, 0.0802, 0.1136, 0.0637, 0.1106, 0.1013, 0.0858, 0.1409, 0.0752, 0.1168, 0.2936, 0.1303, 0.1098, 0.0963, 0.1486, 0.1399, 0.1598, 0.2951, 0.1995, 0.161, 0.1327, 0.199, 0.1182, 0.1797, 0.183, 0.1481, 0.2253, 0.1135, 0.1689, 0.3708, 0.181, 0.1597, 0.1488, 0.1925, 0.1215, 0.1971, 0.3769, 0.2281, 0.2079, 0.1705, 0.2718, 0.1979, 0.2163, 0.1987, 0.1836, 0.2886, 0.1719, 0.2223, 0.4717, 0.2403, 0.2114, 0.1884, 0.2586, 0.2569, 0.2587, 0.4746, 0.2865, 0.2759, 0.2354, 0.3405, 0.2268, 0.2924, 0.3209, 0.2534, 0.3772, 0.2205, 0.1569, 0.3397, 0.171, 0.1486, 0.1262, 0.1872, 0.1538, 0.1981, 0.3439, 0.2287, 0.1994, 0.1709, 0.2083, 0.1931, 0.2376, 0.1983, 0.1803, 0.2873, 0.1607, 0.1397, 0.3795, 0.156, 0.1297, 0.1153, 0.1813, 0.1323, 0.2108, 0.3817, 0.2921, 0.194, 0.1646, 0.2432, 0.2061, 0.3012, 0.211, 0.1748, 0.3381, 0.1448, 0.0784, 0.1311, 0.0763, 0.0793, 0.0876, 0.0868, 0.0774, 0.1009, 0.1332, 0.1033, 0.0939, 0.077, 0.1032, 0.0711, 0.0866, 0.0975, 0.0868, 0.1137, 0.0787, 0.0725, 0.2096, 0.0784, 0.0662, 0.0673, 0.0917, 0.0816, 0.0975, 0.2126, 0.1396, 0.0994, 0.0817, 0.134, 0.0797, 0.1175, 0.1063, 0.0897, 0.1855, 0.0743, 0.0831, 0.2334, 0.0887, 0.0801, 0.0659, 0.098, 0.0999, 0.0942, 0.2354, 0.163, 0.1072, 0.0867, 0.1067, 0.0952, 0.1532, 0.1328, 0.0969, 0.1856, 0.0831, 0.1397, 0.2965, 0.1465, 0.1343, 0.1299, 0.1579, 0.1233, 0.168, 0.3003, 0.217, 0.1693, 0.1428, 0.1503, 0.2542, 0.1593, 0.1435, 0.1379, 0.1778, 0.1568, 0.2053, 0.2535, 0.2339, 0.1911, 0.1585, 0.1961, 0.3171, 0.1867, 0.1969, 0.2296, 0.2065, 0.149, 0.2106, 0.3259, 0.2517, 0.2114, 0.1993, 0.1452, 0.2577, 0.1518, 0.1373, 0.1388, 0.1752, 0.1154, 0.1849, 0.2658, 0.1829, 0.1901, 0.1533, 0.1877, 0.325, 0.1904, 0.182, 0.1965, 0.2178, 0.1846, 0.2231, 0.3334, 0.247, 0.2348, 0.1939, 0.134, 0.3012, 0.1417, 0.1288, 0.121, 0.15, 0.121, 0.1595, 0.3027, 0.2232, 0.1605, 0.1361, 0.2157, 0.3215, 0.2319, 0.206, 0.1878, 0.2584, 0.2116, 0.2731, 0.326, 0.2287, 0.2699, 0.2413, 0.2198, 0.2564, 0.2301, 0.2764, 0.2614, 0.1293, 0.2522, 0.1352, 0.1255, 0.1184, 0.1358, 0.1027, 0.1454, 0.2543, 0.2067, 0.1459, 0.123, 0.1472, 0.1647, 0.1396, 0.1641, 0.1335, 0.0671, 0.2163, 0.0695, 0.0633, 0.0689, 0.0798, 0.0771, 0.0823, 0.2186, 0.1523, 0.0851, 0.0726, 0.1366, 0.0545, 0.0912, 0.1, 0.0791, 0.1901, 0.0655, 0.1408, 0.3245, 0.1464, 0.1342, 0.1392, 0.1605, 0.1173, 0.1697, 0.3286, 0.2435, 0.1729, 0.145, 0.1449, 0.1707, 0.2429, 0.2012, 0.1485, 0.2857, 0.1355, 0.1475, 0.3921, 0.156, 0.1399, 0.1363, 0.1784, 0.1699, 0.1845, 0.3946, 0.2351, 0.1948, 0.157, 0.2535, 0.1457, 0.2279, 0.2302, 0.1777, 0.35, 0.1515, 0.1681, 0.3511, 0.1804, 0.1604, 0.1476, 0.1858, 0.1872, 0.1859, 0.3583, 0.2001, 0.1987, 0.168, 0.254, 0.1797, 0.1922, 0.2004, 0.1844, 0.2592, 0.1733, 0.1789, 0.3139, 0.1861, 0.1709, 0.1679, 0.1951, 0.1874, 0.2006, 0.3196, 0.2159, 0.2098, 0.1761, 0.1772, 0.173, 0.2107, 0.2065, 0.1926, 0.2596, 0.1774, 0.1842, 0.3692, 0.1914, 0.18, 0.173, 0.2076, 0.1834, 0.2108, 0.375, 0.23, 0.2201, 0.1909, 0.2131, 0.2085, 0.2134, 0.2328, 0.2046, 0.3104, 0.174, 0.103, 0.2438, 0.1101, 0.0966, 0.0928, 0.1209, 0.1116, 0.1249, 0.2469, 0.1817, 0.1324, 0.106, 0.1488, 0.0946, 0.1299, 0.1357, 0.119, 0.1977, 0.1065, 0.0529, 0.191, 0.0524, 0.0533, 0.0573, 0.0679, 0.0747, 0.0585, 0.191, 0.1619, 0.0729, 0.0616, 0.1175, 0.0783, 0.1067, 0.0846, 0.0657, 0.1775, 0.0486, 0.1138, 0.2806, 0.1229, 0.106, 0.0957, 0.1329, 0.1244, 0.1362, 0.2829, 0.1863, 0.1433, 0.1196, 0.1942, 0.1157, 0.1578, 0.161, 0.1309, 0.2429, 0.1143, 0.096, 0.2125, 0.0991, 0.0916, 0.0984, 0.1117, 0.1043, 0.1183, 0.2138, 0.1785, 0.1225, 0.097, 0.1228, 0.0837, 0.1315, 0.1104, 0.1102, 0.1872, 0.097, 0.1712, 0.34, 0.1861, 0.1588, 0.1383, 0.1932, 0.1627, 0.2151, 0.3414, 0.2829, 0.2082, 0.1743, 0.2172, 0.1836, 0.2585, 0.1889, 0.1921, 0.2772, 0.1732, 0.1266, 0.3165, 0.1376, 0.1191, 0.1025, 0.1485, 0.1297, 0.1516, 0.3196, 0.2203, 0.1579, 0.1363, 0.2308, 0.1591, 0.1953, 0.2071, 0.1439, 0.2559, 0.1291, 0.1277, 0.1838, 0.3854, 0.1917, 0.1792, 0.1674, 0.2051, 0.1353, 0.2053, 0.3915, 0.2037, 0.2232, 0.1809, 0.3125, 0.1742, 0.2054, 0.2408, 0.204, 0.3129, 0.1854, 0.0877, 0.1766, 0.0909, 0.0835, 0.0894, 0.0964, 0.0857, 0.0989, 0.173, 0.1994, 0.1052, 0.0848, 0.1538, 0.0873, 0.0983, 0.1078, 0.0959, 0.1569, 0.0905, 0.0651, 0.1634, 0.0652, 0.0642, 0.0706, 0.0752, 0.0874, 0.055, 0.1628, 0.1677, 0.0778, 0.0719, 0.0923, 0.0573, 0.0802, 0.091, 0.0743, 0.1435, 0.0638, 0.0735, 0.1919, 0.0785, 0.0679, 0.069, 0.0865, 0.0747, 0.0924, 0.1947, 0.1359, 0.0952, 0.0748, 0.15, 0.081, 0.0995, 0.1016, 0.0851, 0.1611, 0.0755, 0.0432, 0.1501, 0.2835, 0.1543, 0.147, 0.1464, 0.1638, 0.1376, 0.1702, 0.2887, 0.2399, 0.1748, 0.1496, 0.179, 0.1652, 0.203, 0.1847, 0.1561, 0.2492, 0.1503, 0.104, 0.2769, 0.1144, 0.0953, 0.0842, 0.12, 0.1283, 0.1175, 0.2791, 0.2018, 0.1285, 0.1093, 0.2203, 0.0932, 0.1505, 0.1215, 0.1191, 0.227, 0.1073, 0.148, 0.3492, 0.1556, 0.1428, 0.1336, 0.1757, 0.1768, 0.1716, 0.35, 0.2676, 0.1906, 0.1565, 0.3636, 0.1293, 0.2014, 0.231, 0.1753, 0.2759, 0.1484, 0.0928, 0.1161, 0.2589, 0.1233, 0.1107, 0.1042, 0.1281, 0.0968, 0.1348, 0.2626, 0.1802, 0.1391, 0.1134, 0.1873, 0.1784, 0.1293, 0.1568, 0.125, 0.2134, 0.1188, 0.1423, 0.2786, 0.1533, 0.1342, 0.1273, 0.1567, 0.141, 0.1615, 0.2781, 0.2699, 0.168, 0.1427, 0.1791, 0.1449, 0.218, 0.1494, 0.1557, 0.2326, 0.1436, 0.1247, 0.2584, 0.1293, 0.1176, 0.1265, 0.1482, 0.1352, 0.1548, 0.2586, 0.2355, 0.1616, 0.1311, 0.3393, 0.1022, 0.1698, 0.1517, 0.1479, 0.2393, 0.1217, 0.096, 0.2614, 0.1025, 0.0891, 0.0869, 0.1191, 0.1139, 0.1223, 0.2644, 0.1673, 0.1294, 0.106, 0.1551, 0.1145, 0.1753, 0.1459, 0.1165, 0.2187, 0.0953, 0.0781, 0.2417, 0.0796, 0.0774, 0.0824, 0.0963, 0.097, 0.0953, 0.2367, 0.3872, 0.1038, 0.087, 0.2491, 0.0906, 0.1563, 0.1223, 0.0929, 0.2134, 0.0791, 0.2485, 0.3314, 0.2452, 0.255, 0.2511, 0.263, 0.2414, 0.2721, 0.3321, 0.3328, 0.285, 0.2346, 0.3726, 0.1953, 0.2568, 0.2341, 0.2651, 0.2971, 0.255, 0.3363, 0.5148, 0.3301, 0.3421, 0.3639, 0.3566, 0.3469, 0.3685, 0.5173, 0.4259, 0.3859, 0.3237, 0.4992, 0.272, 0.4038, 0.3242, 0.3393, 0.4668, 0.3244, 0.3849, 0.5353, 0.3757, 0.4032, 0.388, 0.3961, 0.345, 0.4052, 0.5308, 0.6064, 0.4136, 0.3748, 0.4966, 0.3659, 0.4616, 0.3932, 0.3917, 0.4766, 0.3861, 0.2611, 0.3694, 0.2495, 0.2712, 0.2885, 0.2778, 0.2529, 0.2983, 0.3679, 0.4061, 0.2965, 0.2533, 0.3325, 0.2012, 0.3071, 0.2405, 0.2755, 0.3518, 0.261, 0.5176, 0.6319, 0.5066, 0.5328, 0.5308, 0.5317, 0.4832, 0.5378, 0.6324, 0.6341, 0.5534, 0.504, 0.5286, 0.538, 0.574, 0.5522, 0.5219, 0.6047, 0.4942, 0.3002, 0.5118, 0.2968, 0.3061, 0.3087, 0.3227, 0.2826, 0.3363, 0.5136, 0.4769, 0.3432, 0.2981, 0.4047, 0.2822, 0.3735, 0.347, 0.3198, 0.4518, 0.2959, 0.3591, 0.5996, 0.3662, 0.3575, 0.3498, 0.3917, 0.3324, 0.3944, 0.6037, 0.4871, 0.4101, 0.3675, 0.458, 0.3334, 0.4472, 0.4786, 0.3841, 0.5063, 0.3444, 0.427, 0.603, 0.4231, 0.4411, 0.4166, 0.4451, 0.3932, 0.4689, 0.6026, 0.6201, 0.4669, 0.417, 0.4308, 0.439, 0.5071, 0.4883, 0.4349, 0.5537, 0.4274, 0.4612, 0.5798, 0.4743, 0.4659, 0.4205, 0.4803, 0.4803, 0.5759, 0.5955, 0.5018, 0.4496, 0.3885, 0.4871, 0.5481, 0.4663, 0.5321, 0.4456, 0.316, 0.4414, 0.3113, 0.3263, 0.3139, 0.328, 0.2963, 0.3294, 0.4422, 0.4421, 0.3446, 0.307, 0.3272, 0.2867, 0.3175, 0.3925, 0.3237, 0.3846, 0.3183, 0.2669, 0.3725, 0.2604, 0.2765, 0.2786, 0.2815, 0.2507, 0.2893, 0.374, 0.3689, 0.3014, 0.2561, 0.3333, 0.2715, 0.3065, 0.2526, 0.2766, 0.3422, 0.2682, 0.4308, 0.5199, 0.4154, 0.4457, 0.4637, 0.4392, 0.3676, 0.4738, 0.5098, 0.5865, 0.4541, 0.4215, 0.466, 0.4446, 0.4139, 0.4112, 0.4368, 0.4276, 0.4408, 0.215, 0.3705, 0.2103, 0.2231, 0.2226, 0.2341, 0.202, 0.2575, 0.3678, 0.4284, 0.2499, 0.2158, 0.2631, 0.2362, 0.2866, 0.2024, 0.235, 0.3213, 0.218, 0.2705, 0.4524, 0.2598, 0.2822, 0.2934, 0.2928, 0.2202, 0.3097, 0.4511, 0.4735, 0.3114, 0.2686, 0.4261, 0.2905, 0.403, 0.3403, 0.2776, 0.4226, 0.2605, 0.2456, 0.4446, 0.2395, 0.2546, 0.2588, 0.2729, 0.2409, 0.2858, 0.447, 0.4122, 0.2904, 0.25, 0.3849, 0.2302, 0.3704, 0.2869, 0.2679, 0.4226, 0.2392, 0.1768, 0.3965, 0.1625, 0.1786, 0.2287, 0.1984, 0.1867, 0.2121, 0.3985, 0.3574, 0.2101, 0.1835, 0.2668, 0.1641, 0.287, 0.2061, 0.1976, 0.4088, 0.1662, 0.1891, 0.3881, 0.1819, 0.1936, 0.2138, 0.2108, 0.203, 0.2177, 0.3872, 0.4112, 0.2267, 0.1906, 0.2435, 0.1563, 0.261, 0.1967, 0.2102, 0.3756, 0.1873, 0.2741, 0.4423, 0.2672, 0.2819, 0.2933, 0.3044, 0.3308, 0.2765, 0.4429, 0.4339, 0.3298, 0.2735, 0.3653, 0.2123, 0.2951, 0.2698, 0.3067, 0.4234, 0.2664, 0.2102, 0.3313, 0.2048, 0.2151, 0.2321, 0.2309, 0.2206, 0.2337, 0.3322, 0.3241, 0.2509, 0.2057, 0.2744, 0.1705, 0.2536, 0.2384, 0.2247, 0.3031, 0.2046, 0.2923, 0.4786, 0.2921, 0.3001, 0.2836, 0.3285, 0.3192, 0.341, 0.4778, 0.5167, 0.3468, 0.3062, 0.3786, 0.2541, 0.343, 0.3703, 0.3285, 0.4158, 0.2853, 0.4038, 0.5839, 0.4008, 0.4133, 0.4003, 0.4259, 0.3161, 0.4329, 0.5845, 0.5536, 0.4511, 0.3911, 0.4986, 0.4381, 0.4613, 0.4199, 0.4128, 0.5162, 0.4059, 0.4988, 0.6855, 0.4894, 0.516, 0.4967, 0.5271, 0.5384, 0.5266, 0.6861, 0.6413, 0.5473, 0.5008, 0.5823, 0.4745, 0.5781, 0.5736, 0.5229, 0.6174, 0.4964, 0.3225, 0.5049, 0.3223, 0.3314, 0.313, 0.3551, 0.3007, 0.3735, 0.5052, 0.4893, 0.3757, 0.3285, 0.3816, 0.3595, 0.4165, 0.3544, 0.3468, 0.4696, 0.3228, 0.2987, 0.5649, 0.2991, 0.3027, 0.3003, 0.3457, 0.2632, 0.3966, 0.5646, 0.5756, 0.3629, 0.3244, 0.4323, 0.3531, 0.5032, 0.3717, 0.338, 0.5274, 0.3018, 0.2308, 0.3159, 0.2172, 0.2459, 0.2589, 0.2456, 0.225, 0.2763, 0.3174, 0.3082, 0.2657, 0.2193, 0.2474, 0.1627, 0.2404, 0.2469, 0.2482, 0.293, 0.2299, 0.1868, 0.3801, 0.1833, 0.1885, 0.2044, 0.216, 0.1927, 0.2295, 0.3801, 0.3702, 0.2311, 0.1968, 0.2992, 0.1851, 0.2834, 0.2368, 0.2112, 0.3697, 0.1853, 0.1865, 0.3675, 0.1833, 0.1962, 0.1806, 0.2048, 0.2054, 0.2036, 0.3685, 0.3302, 0.2192, 0.1879, 0.2175, 0.1928, 0.2454, 0.2283, 0.2039, 0.3148, 0.1858, 0.3219, 0.4788, 0.3138, 0.3336, 0.3344, 0.342, 0.2757, 0.3622, 0.4795, 0.4759, 0.3618, 0.317, 0.3834, 0.4656, 0.3855, 0.3909, 0.3774, 0.4071, 0.3895, 0.4306, 0.4584, 0.5352, 0.4357, 0.3677, 0.4058, 0.5028, 0.3757, 0.4279, 0.471, 0.4155, 0.2884, 0.4248, 0.5038, 0.5184, 0.4222, 0.4055, 0.3329, 0.4375, 0.3278, 0.3461, 0.348, 0.3637, 0.2708, 0.3792, 0.4394, 0.4215, 0.3941, 0.3219, 0.3906, 0.5213, 0.3763, 0.4068, 0.4324, 0.4209, 0.3541, 0.4318, 0.5235, 0.5104, 0.4512, 0.3808, 0.3129, 0.483, 0.305, 0.3241, 0.3211, 0.3307, 0.2716, 0.351, 0.4829, 0.4952, 0.3485, 0.308, 0.4261, 0.5102, 0.4279, 0.4347, 0.4146, 0.4607, 0.3956, 0.4815, 0.5116, 0.4855, 0.4826, 0.4298, 0.4499, 0.4914, 0.4223, 0.4957, 0.4587, 0.3064, 0.4232, 0.2972, 0.32, 0.3172, 0.3136, 0.2456, 0.3341, 0.4221, 0.4671, 0.3312, 0.292, 0.3738, 0.3504, 0.3222, 0.3493, 0.3102, 0.1551, 0.3614, 0.147, 0.1576, 0.1856, 0.1738, 0.1597, 0.188, 0.3615, 0.3702, 0.1862, 0.1577, 0.2823, 0.1252, 0.2104, 0.1908, 0.1728, 0.3568, 0.1495, 0.3024, 0.4838, 0.2956, 0.3122, 0.323, 0.3236, 0.2541, 0.3389, 0.4822, 0.5182, 0.344, 0.2989, 0.3474, 0.3459, 0.419, 0.3601, 0.309, 0.4561, 0.2953, 0.3487, 0.5654, 0.3349, 0.3636, 0.3717, 0.378, 0.3526, 0.3973, 0.5663, 0.5561, 0.3994, 0.351, 0.5227, 0.29, 0.3908, 0.4045, 0.3791, 0.5451, 0.3504, 0.3791, 0.5378, 0.3739, 0.3918, 0.3742, 0.3959, 0.3957, 0.3961, 0.5423, 0.4651, 0.4154, 0.3695, 0.4733, 0.4023, 0.3921, 0.3967, 0.3964, 0.4695, 0.3825, 0.404, 0.5376, 0.4, 0.4159, 0.4004, 0.4222, 0.3805, 0.4522, 0.5388, 0.5269, 0.4494, 0.3887, 0.4368, 0.3973, 0.4372, 0.4316, 0.4173, 0.4812, 0.4038, 0.3781, 0.5494, 0.3683, 0.391, 0.3869, 0.4015, 0.3781, 0.4047, 0.5525, 0.4816, 0.4212, 0.3759, 0.3987, 0.4122, 0.3983, 0.4134, 0.4005, 0.5041, 0.3646, 0.2743, 0.424, 0.269, 0.2819, 0.287, 0.2955, 0.2748, 0.3045, 0.424, 0.4257, 0.3196, 0.2652, 0.3095, 0.2385, 0.3035, 0.277, 0.2954, 0.3849, 0.2765, 0.1325, 0.3121, 0.1231, 0.1411, 0.1557, 0.1521, 0.1631, 0.1365, 0.313, 0.2765, 0.1621, 0.1401, 0.2165, 0.1458, 0.2126, 0.1957, 0.1492, 0.3039, 0.1258, 0.279, 0.4694, 0.2755, 0.2879, 0.2824, 0.304, 0.289, 0.31, 0.4699, 0.4499, 0.3241, 0.2794, 0.3941, 0.2707, 0.3556, 0.3338, 0.3007, 0.4447, 0.2767, 0.2649, 0.4089, 0.2575, 0.274, 0.2855, 0.2863, 0.268, 0.3034, 0.4077, 0.4633, 0.3088, 0.2572, 0.398, 0.2084, 0.314, 0.2462, 0.2774, 0.3991, 0.2626, 0.3568, 0.5222, 0.3592, 0.3616, 0.3422, 0.3795, 0.331, 0.4146, 0.5198, 0.5781, 0.4028, 0.3514, 0.4398, 0.3557, 0.46, 0.3673, 0.3784, 0.4628, 0.3581, 0.3173, 0.5089, 0.3157, 0.3289, 0.3079, 0.3419, 0.2875, 0.3511, 0.5089, 0.5087, 0.357, 0.3226, 0.4377, 0.35, 0.4172, 0.3987, 0.3349, 0.4588, 0.3181, 0.2883, 0.4405, 0.5917, 0.4214, 0.4609, 0.4627, 0.4595, 0.3462, 0.4597, 0.5949, 0.5006, 0.488, 0.4221, 0.487, 0.3685, 0.4434, 0.4513, 0.464, 0.5341, 0.4428, 0.2448, 0.3569, 0.2388, 0.2534, 0.2566, 0.2573, 0.2308, 0.2637, 0.3536, 0.3899, 0.2729, 0.2373, 0.4041, 0.2183, 0.2457, 0.2599, 0.2598, 0.3259, 0.2493, 0.1635, 0.3322, 0.1538, 0.1713, 0.2031, 0.1815, 0.1935, 0.1614, 0.3268, 0.4559, 0.1913, 0.1695, 0.2732, 0.1489, 0.1713, 0.2077, 0.1771, 0.3183, 0.1586, 0.1897, 0.3556, 0.1895, 0.1905, 0.1963, 0.2098, 0.1914, 0.2192, 0.3572, 0.3298, 0.2283, 0.1859, 0.2627, 0.18, 0.2328, 0.2275, 0.2077, 0.3216, 0.1914, 0.0873, 0.3503, 0.4773, 0.3389, 0.3668, 0.3706, 0.3654, 0.3078, 0.3798, 0.4761, 0.5086, 0.3858, 0.3398, 0.4076, 0.3506, 0.4056, 0.3945, 0.356, 0.4728, 0.3466, 0.2422, 0.4496, 0.246, 0.2442, 0.2295, 0.2634, 0.2629, 0.2636, 0.449, 0.4537, 0.2794, 0.2439, 0.4528, 0.2126, 0.3011, 0.2425, 0.2633, 0.3943, 0.2467, 0.3558, 0.5664, 0.3434, 0.3719, 0.3711, 0.3855, 0.3756, 0.4136, 0.5659, 0.5921, 0.4078, 0.3579, 0.5714, 0.3406, 0.4313, 0.4501, 0.3862, 0.5018, 0.3526, 0.2076, 0.2955, 0.445, 0.2881, 0.3074, 0.3032, 0.3101, 0.2438, 0.3245, 0.4452, 0.4533, 0.3301, 0.2841, 0.4014, 0.3715, 0.3187, 0.3448, 0.305, 0.4114, 0.2975, 0.2973, 0.4389, 0.2956, 0.3008, 0.3044, 0.3137, 0.277, 0.3251, 0.435, 0.5129, 0.3325, 0.291, 0.3635, 0.2967, 0.3862, 0.3005, 0.3129, 0.4019, 0.2968, 0.2872, 0.428, 0.2796, 0.2946, 0.3116, 0.3139, 0.2808, 0.3309, 0.4279, 0.4505, 0.3429, 0.2786, 0.4932, 0.2419, 0.331, 0.327, 0.3138, 0.4105, 0.2829, 0.2266, 0.4323, 0.2217, 0.2309, 0.2461, 0.2567, 0.2418, 0.2659, 0.4322, 0.4194, 0.2734, 0.236, 0.3212, 0.2296, 0.3499, 0.2904, 0.2533, 0.4024, 0.2206, 0.1754, 0.3693, 0.1674, 0.1871, 0.1955, 0.1966, 0.1939, 0.2029, 0.3647, 0.5498, 0.2103, 0.1804, 0.4216, 0.1684, 0.2526, 0.2191, 0.1926, 0.3665, 0.1727, 0.1078, 0.1973, 0.1141, 0.1036, 0.1007, 0.1207, 0.1085, 0.1257, 0.2005, 0.1406, 0.1315, 0.1063, 0.2211, 0.0803, 0.128, 0.1158, 0.1198, 0.155, 0.1135, 0.1873, 0.336, 0.1933, 0.1791, 0.1806, 0.2044, 0.2081, 0.2004, 0.3409, 0.2246, 0.2233, 0.1819, 0.2654, 0.1319, 0.2247, 0.1823, 0.1982, 0.2727, 0.1825, 0.1881, 0.3865, 0.199, 0.184, 0.1643, 0.1998, 0.1779, 0.2033, 0.3922, 0.3271, 0.2114, 0.1852, 0.2272, 0.1838, 0.2662, 0.2221, 0.1956, 0.3007, 0.1889, 0.1314, 0.251, 0.1349, 0.1287, 0.1305, 0.147, 0.1284, 0.162, 0.2513, 0.2245, 0.1554, 0.1357, 0.1934, 0.1217, 0.1749, 0.1553, 0.1441, 0.213, 0.1331, 0.3091, 0.4734, 0.3199, 0.3027, 0.2973, 0.3269, 0.2845, 0.3321, 0.4786, 0.3933, 0.3433, 0.3054, 0.3456, 0.3326, 0.3906, 0.3559, 0.3138, 0.4026, 0.2881, 0.1641, 0.3711, 0.1725, 0.1574, 0.1518, 0.1837, 0.1581, 0.1917, 0.376, 0.2655, 0.1965, 0.1678, 0.2494, 0.1604, 0.2342, 0.2006, 0.1811, 0.2935, 0.1625, 0.2013, 0.4461, 0.2251, 0.1928, 0.1742, 0.2314, 0.2003, 0.2328, 0.4507, 0.3014, 0.2447, 0.2136, 0.3679, 0.1943, 0.2842, 0.3066, 0.2245, 0.3309, 0.1927, 0.2092, 0.4404, 0.221, 0.2035, 0.1856, 0.2293, 0.2029, 0.2417, 0.4446, 0.3304, 0.2446, 0.2089, 0.26, 0.2088, 0.2866, 0.2972, 0.2196, 0.3604, 0.2096, 0.248, 0.3966, 0.2724, 0.2381, 0.2071, 0.2686, 0.2686, 0.409, 0.2679, 0.2816, 0.2492, 0.2169, 0.2821, 0.3108, 0.2464, 0.3236, 0.2329, 0.1445, 0.2756, 0.1535, 0.1414, 0.131, 0.1548, 0.1418, 0.1554, 0.2789, 0.2243, 0.165, 0.1417, 0.1668, 0.1462, 0.1612, 0.2248, 0.1485, 0.2189, 0.1451, 0.125, 0.2337, 0.1318, 0.1199, 0.1186, 0.1372, 0.1157, 0.1425, 0.2391, 0.1818, 0.1481, 0.123, 0.1849, 0.13, 0.1591, 0.1388, 0.1325, 0.1895, 0.1271, 0.2798, 0.4333, 0.283, 0.2765, 0.2883, 0.2911, 0.2311, 0.3183, 0.4338, 0.4218, 0.3003, 0.2798, 0.3293, 0.2942, 0.3033, 0.2973, 0.2864, 0.3411, 0.2855, 0.0999, 0.2474, 0.1062, 0.0971, 0.087, 0.1163, 0.105, 0.124, 0.2487, 0.2028, 0.1248, 0.1061, 0.1237, 0.122, 0.1821, 0.1181, 0.1154, 0.1971, 0.1023, 0.146, 0.3191, 0.1522, 0.1446, 0.1383, 0.1642, 0.1141, 0.1751, 0.3211, 0.2672, 0.1762, 0.1482, 0.2101, 0.1626, 0.2371, 0.2095, 0.1536, 0.2591, 0.1417, 0.116, 0.2893, 0.1235, 0.112, 0.1044, 0.1372, 0.1216, 0.1434, 0.2934, 0.2017, 0.1458, 0.1257, 0.237, 0.1219, 0.2112, 0.1707, 0.133, 0.2436, 0.1129, 0.074, 0.2318, 0.0749, 0.0693, 0.0833, 0.0884, 0.0891, 0.0873, 0.235, 0.1427, 0.0947, 0.0801, 0.114, 0.0946, 0.1338, 0.1013, 0.0874, 0.2251, 0.0673, 0.1067, 0.2811, 0.1134, 0.1028, 0.0979, 0.1234, 0.1146, 0.1311, 0.2843, 0.2064, 0.1332, 0.1107, 0.1696, 0.1105, 0.1632, 0.123, 0.1221, 0.2417, 0.1066, 0.1289, 0.2929, 0.1349, 0.1204, 0.1312, 0.1544, 0.1765, 0.1322, 0.2958, 0.2036, 0.1679, 0.1374, 0.2131, 0.1, 0.1445, 0.1664, 0.1554, 0.2618, 0.1248, 0.0915, 0.1913, 0.0939, 0.0872, 0.0959, 0.1055, 0.0986, 0.1073, 0.1946, 0.1377, 0.1159, 0.0921, 0.1633, 0.0852, 0.1247, 0.1228, 0.1001, 0.1585, 0.0886, 0.1463, 0.3545, 0.1657, 0.1375, 0.1218, 0.1827, 0.1711, 0.1977, 0.3561, 0.2372, 0.1949, 0.1673, 0.2747, 0.1435, 0.2263, 0.2371, 0.1814, 0.2682, 0.1425, 0.2144, 0.4226, 0.2287, 0.2062, 0.1943, 0.2377, 0.1568, 0.2428, 0.4288, 0.2972, 0.2539, 0.2146, 0.31, 0.2545, 0.2695, 0.2403, 0.226, 0.3326, 0.2168, 0.272, 0.5315, 0.2927, 0.2613, 0.2414, 0.309, 0.3203, 0.3086, 0.534, 0.3673, 0.3269, 0.285, 0.4248, 0.2737, 0.3475, 0.3928, 0.3025, 0.4323, 0.2666, 0.1793, 0.3769, 0.1939, 0.1729, 0.1526, 0.2116, 0.1716, 0.2244, 0.3809, 0.2782, 0.2251, 0.1936, 0.2362, 0.2143, 0.2682, 0.2267, 0.2039, 0.3124, 0.182, 0.1605, 0.4139, 0.1793, 0.1523, 0.1346, 0.2054, 0.1558, 0.2345, 0.4165, 0.3182, 0.218, 0.1891, 0.2898, 0.2246, 0.3325, 0.2567, 0.1976, 0.3624, 0.1645, 0.0883, 0.1436, 0.088, 0.088, 0.0932, 0.0965, 0.0854, 0.1127, 0.1464, 0.1139, 0.1046, 0.0856, 0.058, 0.0649, 0.0938, 0.1091, 0.0975, 0.1232, 0.0887, 0.1016, 0.2664, 0.1121, 0.0938, 0.0908, 0.1238, 0.1053, 0.1339, 0.2689, 0.2028, 0.1326, 0.1125, 0.1627, 0.1141, 0.1701, 0.1517, 0.1203, 0.234, 0.1027, 0.091, 0.251, 0.0969, 0.0895, 0.072, 0.106, 0.1082, 0.1015, 0.2537, 0.1554, 0.1152, 0.0947, 0.1136, 0.1055, 0.1839, 0.1316, 0.1047, 0.1933, 0.0907, 0.1692, 0.3379, 0.1771, 0.1647, 0.1596, 0.188, 0.1461, 0.2, 0.3419, 0.2615, 0.2006, 0.1715, 0.188, 0.2946, 0.2017, 0.1788, 0.172, 0.2155, 0.1937, 0.2435, 0.2972, 0.2567, 0.2299, 0.1946, 0.2408, 0.3647, 0.2275, 0.2428, 0.2789, 0.2516, 0.1731, 0.257, 0.3745, 0.3066, 0.2561, 0.2448, 0.1799, 0.2982, 0.1878, 0.1722, 0.1736, 0.2103, 0.1383, 0.2215, 0.3072, 0.2205, 0.2273, 0.1855, 0.2303, 0.3756, 0.2334, 0.2246, 0.2412, 0.2615, 0.2197, 0.2681, 0.3844, 0.2983, 0.2799, 0.2356, 0.1616, 0.3412, 0.1704, 0.1576, 0.1484, 0.178, 0.143, 0.1892, 0.3428, 0.2673, 0.1895, 0.1629, 0.255, 0.361, 0.2727, 0.2475, 0.2265, 0.2959, 0.2401, 0.3128, 0.3657, 0.272, 0.3081, 0.2779, 0.2533, 0.3087, 0.2664, 0.3252, 0.2942, 0.1567, 0.2925, 0.163, 0.1544, 0.1456, 0.1634, 0.1234, 0.1746, 0.2946, 0.2525, 0.1745, 0.1492, 0.186, 0.2019, 0.1722, 0.2002, 0.16, 0.0754, 0.2383, 0.0816, 0.0695, 0.0715, 0.0887, 0.0791, 0.0983, 0.2431, 0.1445, 0.0945, 0.0811, 0.1297, 0.0747, 0.1199, 0.1154, 0.0873, 0.2048, 0.0729, 0.1665, 0.3555, 0.1755, 0.159, 0.1611, 0.1861, 0.1315, 0.1979, 0.3576, 0.305, 0.1968, 0.1727, 0.1867, 0.2051, 0.2764, 0.2334, 0.1719, 0.3142, 0.1601, 0.1796, 0.4403, 0.1898, 0.1738, 0.1644, 0.2117, 0.202, 0.2185, 0.4434, 0.2725, 0.231, 0.1869, 0.3167, 0.1707, 0.2734, 0.2792, 0.211, 0.3871, 0.1823, 0.2067, 0.4005, 0.2175, 0.2026, 0.1904, 0.2247, 0.2316, 0.2248, 0.4077, 0.2625, 0.2396, 0.2041, 0.3108, 0.2263, 0.2436, 0.2491, 0.221, 0.3058, 0.21, 0.2024, 0.3515, 0.2142, 0.1923, 0.1847, 0.2191, 0.214, 0.2225, 0.3579, 0.2436, 0.2337, 0.2003, 0.2233, 0.1893, 0.2278, 0.236, 0.2124, 0.2891, 0.1997, 0.2145, 0.4122, 0.2208, 0.21, 0.2103, 0.2387, 0.2129, 0.242, 0.418, 0.2757, 0.2534, 0.219, 0.2697, 0.251, 0.2555, 0.2768, 0.2326, 0.3524, 0.1994, 0.1244, 0.279, 0.1337, 0.1176, 0.1146, 0.1429, 0.1355, 0.146, 0.2822, 0.2198, 0.156, 0.126, 0.2069, 0.1163, 0.1589, 0.158, 0.1398, 0.2287, 0.1268, 0.0696, 0.2102, 0.0699, 0.0688, 0.0748, 0.0851, 0.0942, 0.0728, 0.2116, 0.179, 0.0898, 0.0793, 0.1237, 0.0909, 0.1102, 0.1208, 0.0828, 0.1909, 0.0644, 0.139, 0.3186, 0.1489, 0.1336, 0.1205, 0.1593, 0.1431, 0.1657, 0.3212, 0.229, 0.171, 0.1445, 0.2017, 0.1477, 0.1953, 0.1919, 0.1566, 0.272, 0.1391, 0.141, 0.2711, 0.1486, 0.1352, 0.1338, 0.1575, 0.1417, 0.1722, 0.2728, 0.2371, 0.1704, 0.1403, 0.1841, 0.1219, 0.1853, 0.1562, 0.1545, 0.2352, 0.1422, 0.1942, 0.3629, 0.209, 0.1844, 0.1659, 0.2152, 0.181, 0.2392, 0.3643, 0.3138, 0.2294, 0.1973, 0.2323, 0.2158, 0.2991, 0.2163, 0.2137, 0.294, 0.1957, 0.1506, 0.3589, 0.1641, 0.1441, 0.1238, 0.1735, 0.1532, 0.1768, 0.362, 0.2642, 0.1838, 0.1601, 0.2257, 0.193, 0.2305, 0.2481, 0.1678, 0.2861, 0.152, 0.1378, 0.2332, 0.4555, 0.2458, 0.2297, 0.2098, 0.2565, 0.1644, 0.2567, 0.4608, 0.3186, 0.2744, 0.2323, 0.2771, 0.2042, 0.2768, 0.3316, 0.2519, 0.377, 0.233, 0.1027, 0.2048, 0.1067, 0.098, 0.1042, 0.1119, 0.0977, 0.1151, 0.2045, 0.1869, 0.1213, 0.0995, 0.1862, 0.0951, 0.1115, 0.1334, 0.1116, 0.1831, 0.1049, 0.0726, 0.1871, 0.0736, 0.0744, 0.072, 0.0846, 0.0963, 0.0653, 0.184, 0.2309, 0.0888, 0.0794, 0.1137, 0.0776, 0.0783, 0.1076, 0.083, 0.1579, 0.0714, 0.0921, 0.2268, 0.099, 0.0867, 0.0842, 0.106, 0.0929, 0.1126, 0.2311, 0.1555, 0.1156, 0.0932, 0.17, 0.0991, 0.1227, 0.1247, 0.1043, 0.1882, 0.0937, 0.038, 0.1881, 0.3358, 0.1924, 0.1868, 0.1838, 0.2026, 0.1712, 0.2102, 0.3418, 0.2898, 0.2151, 0.1863, 0.2303, 0.1982, 0.2416, 0.235, 0.1933, 0.2944, 0.1878, 0.1181, 0.2972, 0.1328, 0.1094, 0.0941, 0.1344, 0.1382, 0.1333, 0.2997, 0.2467, 0.1452, 0.1211, 0.2222, 0.1224, 0.1824, 0.1307, 0.1334, 0.2406, 0.1214, 0.187, 0.3977, 0.1983, 0.179, 0.1756, 0.2171, 0.2263, 0.1881, 0.397, 0.4202, 0.236, 0.1934, 0.5862, 0.1659, 0.2316, 0.2588, 0.2168, 0.3237, 0.1846, 0.1251, 0.145, 0.3048, 0.1528, 0.1418, 0.1313, 0.1576, 0.1185, 0.1657, 0.3091, 0.2208, 0.1695, 0.1418, 0.2477, 0.2161, 0.1684, 0.1946, 0.1526, 0.2454, 0.1478, 0.1675, 0.3167, 0.1815, 0.1592, 0.1512, 0.1825, 0.1591, 0.1895, 0.3162, 0.3006, 0.1935, 0.1687, 0.2093, 0.1813, 0.2584, 0.1801, 0.1802, 0.2651, 0.1678, 0.1545, 0.3032, 0.1589, 0.1494, 0.1563, 0.1795, 0.1595, 0.1895, 0.3032, 0.279, 0.1965, 0.158, 0.3958, 0.1701, 0.2099, 0.1671, 0.1789, 0.2741, 0.1511, 0.1112, 0.2881, 0.1216, 0.1029, 0.0966, 0.1359, 0.1282, 0.1405, 0.2907, 0.206, 0.1471, 0.1217, 0.172, 0.1175, 0.2071, 0.1615, 0.1332, 0.2368, 0.11, 0.091, 0.2521, 0.0936, 0.0897, 0.087, 0.1079, 0.1091, 0.1038, 0.252, 0.2149, 0.1146, 0.0995, 0.254, 0.1103, 0.1662, 0.1198, 0.1048, 0.2208, 0.0901, 0.0721, 0.1433, 0.0755, 0.0697, 0.0691, 0.0823, 0.0738, 0.0857, 0.1451, 0.1099, 0.0889, 0.0734, 0.1246, 0.0603, 0.0913, 0.0848, 0.0807, 0.1117, 0.0762, 0.1523, 0.2767, 0.1569, 0.1485, 0.1378, 0.1663, 0.1755, 0.1562, 0.2819, 0.1734, 0.1816, 0.1479, 0.2363, 0.099, 0.1751, 0.1465, 0.1591, 0.2211, 0.1491, 0.153, 0.3407, 0.1633, 0.1474, 0.1322, 0.1636, 0.1469, 0.1663, 0.3477, 0.2602, 0.1722, 0.1527, 0.1752, 0.1455, 0.2165, 0.1756, 0.1613, 0.2539, 0.1541, 0.0896, 0.189, 0.0924, 0.0867, 0.0901, 0.1022, 0.0906, 0.1116, 0.1896, 0.1613, 0.1089, 0.0931, 0.1138, 0.0817, 0.1243, 0.1107, 0.0998, 0.1592, 0.0906, 0.2669, 0.4213, 0.2793, 0.2589, 0.2512, 0.2835, 0.2432, 0.2884, 0.4269, 0.3363, 0.2985, 0.2635, 0.2857, 0.2852, 0.3417, 0.2955, 0.2756, 0.3471, 0.2509, 0.1318, 0.332, 0.1401, 0.1235, 0.1215, 0.1499, 0.1262, 0.1575, 0.3363, 0.2201, 0.1601, 0.1372, 0.197, 0.1276, 0.1872, 0.162, 0.1479, 0.2555, 0.1303, 0.1677, 0.3709, 0.1908, 0.1575, 0.1417, 0.1918, 0.1668, 0.193, 0.3761, 0.2298, 0.2054, 0.1737, 0.256, 0.1485, 0.2126, 0.2398, 0.1884, 0.2684, 0.1635, 0.1645, 0.3928, 0.1815, 0.1537, 0.1306, 0.1838, 0.1572, 0.1966, 0.3994, 0.2552, 0.1991, 0.1635, 0.2264, 0.1622, 0.2202, 0.2376, 0.1777, 0.2967, 0.1674, 0.2138, 0.3575, 0.2397, 0.2036, 0.1663, 0.2338, 0.2338, 0.3666, 0.2476, 0.2476, 0.2132, 0.193, 0.2389, 0.258, 0.2249, 0.2796, 0.2046, 0.1285, 0.247, 0.1376, 0.1249, 0.1133, 0.1375, 0.118, 0.1383, 0.2502, 0.191, 0.146, 0.1266, 0.1365, 0.1293, 0.1341, 0.1937, 0.1329, 0.1898, 0.1299, 0.098, 0.1967, 0.1035, 0.094, 0.0936, 0.109, 0.0883, 0.1141, 0.2013, 0.1582, 0.1173, 0.098, 0.1547, 0.1084, 0.131, 0.1102, 0.104, 0.1599, 0.0995, 0.2376, 0.3959, 0.2498, 0.2287, 0.2324, 0.249, 0.2104, 0.2666, 0.4033, 0.3645, 0.2567, 0.2394, 0.3289, 0.2415, 0.2492, 0.2586, 0.2602, 0.3012, 0.2432, 0.0695, 0.1959, 0.0752, 0.0659, 0.0581, 0.0829, 0.0777, 0.0865, 0.1968, 0.1427, 0.0871, 0.0777, 0.0923, 0.0886, 0.1234, 0.082, 0.0822, 0.1556, 0.0709, 0.1115, 0.2603, 0.1185, 0.1076, 0.1035, 0.1265, 0.0755, 0.1377, 0.2622, 0.2012, 0.1359, 0.1138, 0.1796, 0.135, 0.1833, 0.1589, 0.1181, 0.2064, 0.1083, 0.0756, 0.221, 0.0813, 0.0715, 0.0683, 0.0926, 0.0824, 0.0967, 0.2246, 0.1422, 0.0984, 0.0849, 0.1674, 0.0852, 0.1446, 0.1232, 0.0894, 0.1843, 0.0729, 0.0546, 0.1944, 0.0549, 0.0525, 0.0603, 0.0668, 0.0685, 0.0646, 0.1973, 0.1224, 0.0711, 0.061, 0.0816, 0.0647, 0.1057, 0.085, 0.066, 0.1823, 0.0501, 0.0715, 0.2174, 0.0757, 0.0686, 0.0666, 0.085, 0.08, 0.0895, 0.2195, 0.1487, 0.0915, 0.0765, 0.1184, 0.068, 0.1173, 0.0879, 0.0839, 0.1824, 0.0718, 0.0832, 0.215, 0.0869, 0.0777, 0.0846, 0.1029, 0.1149, 0.0907, 0.2168, 0.1357, 0.1119, 0.0915, 0.144, 0.0804, 0.1078, 0.1036, 0.1029, 0.1861, 0.0808, 0.0651, 0.1503, 0.0691, 0.0603, 0.064, 0.0768, 0.0693, 0.0789, 0.1523, 0.11, 0.0835, 0.068, 0.1201, 0.0532, 0.0915, 0.0922, 0.0727, 0.1169, 0.0644, 0.1144, 0.2906, 0.1308, 0.1067, 0.0932, 0.1444, 0.1363, 0.155, 0.2919, 0.2076, 0.1555, 0.1303, 0.2267, 0.0973, 0.1631, 0.1881, 0.1435, 0.2171, 0.1119, 0.1695, 0.358, 0.1825, 0.1617, 0.1484, 0.1899, 0.1185, 0.1945, 0.3643, 0.2228, 0.2044, 0.169, 0.2261, 0.2052, 0.2094, 0.1926, 0.1816, 0.2755, 0.1715, 0.2258, 0.4633, 0.2472, 0.2146, 0.1902, 0.2582, 0.2569, 0.2582, 0.4665, 0.2776, 0.275, 0.2354, 0.3315, 0.2282, 0.2806, 0.3066, 0.2542, 0.3629, 0.2237, 0.1429, 0.3204, 0.157, 0.1357, 0.116, 0.1705, 0.1324, 0.1831, 0.3245, 0.215, 0.1812, 0.1563, 0.1795, 0.1788, 0.2183, 0.1742, 0.1641, 0.2596, 0.1459, 0.1334, 0.3696, 0.1508, 0.1261, 0.1063, 0.1733, 0.1266, 0.2014, 0.3723, 0.2736, 0.1849, 0.1581, 0.2308, 0.1953, 0.2825, 0.221, 0.1667, 0.3194, 0.1375, 0.0643, 0.1096, 0.0629, 0.0652, 0.0697, 0.0709, 0.0641, 0.0805, 0.1114, 0.092, 0.0761, 0.0638, 0.0645, 0.0482, 0.0724, 0.091, 0.0705, 0.0952, 0.0641, 0.0676, 0.205, 0.0751, 0.0621, 0.0587, 0.0855, 0.0729, 0.0924, 0.2079, 0.136, 0.0922, 0.0766, 0.1248, 0.0728, 0.1139, 0.1044, 0.0833, 0.1742, 0.0693, 0.0713, 0.2108, 0.0771, 0.0694, 0.0531, 0.0841, 0.0879, 0.0763, 0.2127, 0.1502, 0.0914, 0.075, 0.0952, 0.0722, 0.1161, 0.116, 0.083, 0.1642, 0.0705, 0.1353, 0.2842, 0.1428, 0.1306, 0.1252, 0.1514, 0.1112, 0.163, 0.288, 0.2102, 0.1615, 0.1381, 0.1341, 0.2351, 0.1442, 0.1292, 0.1181, 0.1596, 0.1393, 0.1857, 0.2372, 0.2003, 0.1703, 0.144, 0.2019, 0.3163, 0.1925, 0.2016, 0.2344, 0.2115, 0.1398, 0.2163, 0.3249, 0.2609, 0.2157, 0.2052, 0.1388, 0.247, 0.1469, 0.1304, 0.1309, 0.1661, 0.1049, 0.1754, 0.255, 0.1752, 0.1798, 0.1459, 0.1811, 0.3153, 0.1843, 0.1749, 0.1902, 0.2092, 0.1711, 0.2152, 0.3241, 0.2353, 0.2245, 0.1877, 0.1293, 0.2873, 0.1374, 0.1252, 0.1161, 0.1433, 0.1087, 0.1544, 0.2888, 0.2162, 0.1526, 0.131, 0.2074, 0.3065, 0.2222, 0.1996, 0.1843, 0.2456, 0.1924, 0.2617, 0.3109, 0.2211, 0.2563, 0.2298, 0.1982, 0.261, 0.2181, 0.2633, 0.2455, 0.1252, 0.2409, 0.1316, 0.1224, 0.1132, 0.1307, 0.0924, 0.1415, 0.2431, 0.2009, 0.1395, 0.1194, 0.1302, 0.1697, 0.1319, 0.158, 0.1281, 0.0549, 0.1998, 0.0588, 0.0522, 0.0503, 0.0663, 0.0614, 0.0709, 0.2026, 0.1242, 0.0701, 0.0611, 0.1222, 0.0621, 0.0916, 0.0808, 0.0651, 0.1646, 0.0535, 0.1378, 0.3193, 0.1463, 0.1301, 0.1304, 0.1559, 0.1171, 0.1644, 0.324, 0.2362, 0.1659, 0.1434, 0.1535, 0.1651, 0.2381, 0.1895, 0.1448, 0.2731, 0.1329, 0.1414, 0.3809, 0.1513, 0.1332, 0.1312, 0.1697, 0.1598, 0.1768, 0.3834, 0.2156, 0.1852, 0.1495, 0.1905, 0.1578, 0.2044, 0.2093, 0.1688, 0.33, 0.1442, 0.1721, 0.342, 0.1849, 0.1659, 0.1523, 0.1875, 0.1774, 0.1878, 0.3489, 0.2078, 0.2003, 0.1697, 0.278, 0.1904, 0.185, 0.1971, 0.1866, 0.2533, 0.1759, 0.1612, 0.29, 0.169, 0.1541, 0.1488, 0.1751, 0.1665, 0.181, 0.2978, 0.1721, 0.1875, 0.159, 0.1387, 0.1392, 0.191, 0.1869, 0.1742, 0.2302, 0.1604, 0.1872, 0.3624, 0.1951, 0.1821, 0.1791, 0.208, 0.1731, 0.2126, 0.3679, 0.2348, 0.2206, 0.1911, 0.1989, 0.2232, 0.2114, 0.2331, 0.2043, 0.3083, 0.1751, 0.0986, 0.231, 0.1072, 0.0921, 0.0884, 0.1141, 0.1033, 0.1186, 0.2347, 0.1718, 0.1241, 0.1011, 0.1326, 0.0976, 0.1222, 0.1216, 0.1123, 0.1838, 0.1016, 0.0579, 0.1916, 0.0587, 0.0592, 0.0575, 0.0721, 0.0805, 0.0604, 0.1935, 0.1616, 0.0764, 0.0666, 0.1034, 0.1069, 0.1114, 0.107, 0.0699, 0.1696, 0.054, 0.0937, 0.2436, 0.1021, 0.0878, 0.0792, 0.11, 0.0914, 0.1173, 0.2458, 0.1603, 0.1176, 0.1002, 0.1772, 0.1067, 0.138, 0.1412, 0.1074, 0.2043, 0.094, 0.0848, 0.1897, 0.0886, 0.0808, 0.0842, 0.0978, 0.0934, 0.1017, 0.1919, 0.1472, 0.1072, 0.085, 0.1054, 0.0695, 0.1135, 0.1, 0.0967, 0.1643, 0.0851, 0.1619, 0.3179, 0.1751, 0.1537, 0.1324, 0.1807, 0.1524, 0.201, 0.3201, 0.2595, 0.1939, 0.164, 0.1796, 0.1818, 0.2532, 0.1741, 0.1797, 0.2514, 0.1638, 0.1173, 0.299, 0.1291, 0.1112, 0.0926, 0.1365, 0.1126, 0.1404, 0.3016, 0.2145, 0.1453, 0.125, 0.1946, 0.1568, 0.1788, 0.1855, 0.1321, 0.2323, 0.119, 0.123, 0.1937, 0.3702, 0.206, 0.19, 0.1673, 0.2112, 0.1447, 0.2114, 0.3751, 0.2239, 0.2264, 0.1907, 0.2785, 0.1531, 0.2079, 0.229, 0.2117, 0.2939, 0.1962, 0.0804, 0.1612, 0.0829, 0.0771, 0.0829, 0.0876, 0.077, 0.09, 0.16, 0.1548, 0.0946, 0.0782, 0.1356, 0.0792, 0.0873, 0.0961, 0.0874, 0.1448, 0.0821, 0.0567, 0.1559, 0.0594, 0.056, 0.0535, 0.0666, 0.0774, 0.0485, 0.153, 0.2053, 0.0679, 0.0649, 0.0978, 0.0648, 0.0816, 0.0825, 0.0647, 0.1309, 0.0558, 0.0653, 0.18, 0.071, 0.06, 0.0595, 0.0767, 0.0659, 0.0821, 0.1824, 0.1255, 0.0835, 0.0676, 0.1271, 0.0711, 0.091, 0.0883, 0.0752, 0.1456, 0.0668, 0.039, 0.1378, 0.2695, 0.1424, 0.1352, 0.1332, 0.1503, 0.1236, 0.1567, 0.2749, 0.2264, 0.1596, 0.1382, 0.1714, 0.1552, 0.1853, 0.1664, 0.1439, 0.2271, 0.1385, 0.0941, 0.2598, 0.1061, 0.0866, 0.0735, 0.1085, 0.1127, 0.1073, 0.2628, 0.1931, 0.1154, 0.0998, 0.1804, 0.084, 0.1193, 0.1005, 0.1083, 0.2046, 0.0972, 0.148, 0.3332, 0.1593, 0.1431, 0.131, 0.1742, 0.176, 0.1683, 0.3314, 0.5041, 0.1872, 0.1578, 0.1374, 0.1959, 0.2096, 0.1737, 0.2631, 0.148, 0.0966, 0.1118, 0.2385, 0.1187, 0.1084, 0.1, 0.1215, 0.0897, 0.1281, 0.2425, 0.166, 0.1305, 0.1094, 0.1683, 0.1836, 0.1203, 0.1475, 0.1181, 0.1924, 0.114, 0.1419, 0.2744, 0.1549, 0.1351, 0.122, 0.1548, 0.1357, 0.1607, 0.2743, 0.2606, 0.1634, 0.1439, 0.177, 0.1444, 0.2153, 0.1365, 0.1541, 0.2222, 0.1432, 0.1055, 0.2344, 0.1086, 0.0999, 0.1123, 0.1265, 0.1158, 0.1318, 0.2347, 0.2122, 0.1375, 0.1124, 0.0904, 0.148, 0.1484, 0.126, 0.2123, 0.102, 0.0896, 0.2483, 0.0977, 0.0842, 0.0746, 0.1109, 0.1046, 0.1148, 0.251, 0.168, 0.1194, 0.1, 0.1366, 0.0997, 0.1671, 0.1357, 0.1086, 0.1992, 0.0894, 0.0677, 0.1932, 0.0684, 0.07, 0.064, 0.0806, 0.085, 0.0714, 0.1935, 0.2073, 0.0841, 0.0761, 0.2116, 0.0686, 0.119, 0.0945, 0.0778, 0.1747, 0.0667, 0.0757, 0.1352, 0.0801, 0.0729, 0.0692, 0.084, 0.0778, 0.0865, 0.1365, 0.1074, 0.0906, 0.0753, 0.1484, 0.0629, 0.087, 0.0943, 0.0835, 0.1059, 0.0797, 0.1542, 0.2635, 0.1578, 0.1511, 0.1433, 0.1665, 0.1764, 0.155, 0.2666, 0.1935, 0.1804, 0.1495, 0.2311, 0.089, 0.1728, 0.1316, 0.1617, 0.2125, 0.1521, 0.1522, 0.3257, 0.1617, 0.1477, 0.1309, 0.1621, 0.1471, 0.1645, 0.33, 0.2788, 0.1692, 0.1531, 0.172, 0.1431, 0.2098, 0.1702, 0.1602, 0.2463, 0.1534, 0.0996, 0.1908, 0.1013, 0.0977, 0.1007, 0.111, 0.0973, 0.1221, 0.1918, 0.1584, 0.1196, 0.0994, 0.1145, 0.0795, 0.1273, 0.1031, 0.1096, 0.1632, 0.1007, 0.2652, 0.4176, 0.2754, 0.2581, 0.2518, 0.2815, 0.2419, 0.2863, 0.4231, 0.3319, 0.296, 0.2622, 0.2858, 0.2853, 0.3384, 0.2909, 0.2738, 0.3436, 0.2498, 0.1286, 0.3197, 0.1352, 0.1229, 0.1166, 0.1457, 0.1246, 0.1523, 0.3237, 0.2161, 0.1544, 0.1347, 0.2128, 0.1181, 0.1711, 0.1532, 0.1446, 0.2417, 0.128, 0.1551, 0.3448, 0.1711, 0.1482, 0.1356, 0.1777, 0.1571, 0.1786, 0.3493, 0.2158, 0.1901, 0.161, 0.2654, 0.1411, 0.2029, 0.2144, 0.1752, 0.2534, 0.1502, 0.152, 0.3767, 0.1679, 0.1424, 0.1161, 0.1709, 0.1472, 0.1823, 0.3834, 0.231, 0.1861, 0.1507, 0.1728, 0.2117, 0.2166, 0.1639, 0.2786, 0.1555, 0.2064, 0.3476, 0.2328, 0.1947, 0.1577, 0.2255, 0.2255, 0.3589, 0.2206, 0.2342, 0.2123, 0.1899, 0.2289, 0.2437, 0.2206, 0.2703, 0.1974, 0.1325, 0.2486, 0.1407, 0.13, 0.1166, 0.1414, 0.1269, 0.1421, 0.2509, 0.2076, 0.1497, 0.1308, 0.152, 0.1277, 0.1371, 0.1902, 0.1376, 0.1897, 0.1345, 0.1024, 0.1989, 0.1073, 0.0984, 0.0972, 0.1128, 0.0944, 0.1173, 0.2026, 0.1568, 0.1208, 0.1022, 0.1268, 0.1224, 0.1325, 0.1119, 0.1083, 0.1623, 0.1038, 0.2293, 0.3823, 0.238, 0.2236, 0.2247, 0.2398, 0.2158, 0.2506, 0.3834, 0.3608, 0.2465, 0.2314, 0.2317, 0.2323, 0.2277, 0.246, 0.2556, 0.2891, 0.2346, 0.0639, 0.1816, 0.069, 0.0603, 0.055, 0.0765, 0.0717, 0.0799, 0.182, 0.1469, 0.081, 0.0711, 0.0832, 0.0833, 0.1214, 0.074, 0.076, 0.1413, 0.066, 0.1087, 0.2488, 0.1146, 0.1058, 0.0997, 0.1227, 0.0761, 0.133, 0.2508, 0.1892, 0.1319, 0.1103, 0.1917, 0.1231, 0.1754, 0.1493, 0.1153, 0.1979, 0.1057, 0.0751, 0.2117, 0.0805, 0.071, 0.067, 0.0909, 0.0822, 0.0943, 0.2146, 0.1323, 0.0965, 0.0833, 0.152, 0.0755, 0.1354, 0.114, 0.0883, 0.1748, 0.0733, 0.054, 0.1892, 0.0554, 0.0519, 0.0559, 0.0656, 0.0668, 0.0641, 0.1923, 0.1129, 0.0699, 0.0601, 0.0719, 0.0561, 0.1052, 0.0798, 0.0649, 0.175, 0.0502, 0.0729, 0.2161, 0.0772, 0.0705, 0.0661, 0.0861, 0.0814, 0.0901, 0.2189, 0.1487, 0.0918, 0.0785, 0.0896, 0.0615, 0.1138, 0.0884, 0.0852, 0.185, 0.0731, 0.0868, 0.2148, 0.0906, 0.0818, 0.0861, 0.1056, 0.1181, 0.093, 0.2172, 0.1347, 0.1138, 0.0953, 0.1034, 0.0792, 0.1098, 0.1111, 0.1057, 0.1876, 0.0845, 0.0673, 0.1497, 0.0702, 0.0637, 0.0669, 0.0785, 0.0752, 0.0793, 0.1512, 0.1147, 0.0859, 0.0688, 0.0922, 0.0636, 0.092, 0.0895, 0.0749, 0.118, 0.0666, 0.1049, 0.2751, 0.1201, 0.0962, 0.0863, 0.1338, 0.1277, 0.1418, 0.2765, 0.1764, 0.1441, 0.1206, 0.1798, 0.0838, 0.1462, 0.1914, 0.1331, 0.2025, 0.1037, 0.1647, 0.3419, 0.1773, 0.1565, 0.1442, 0.1839, 0.115, 0.1883, 0.348, 0.2154, 0.1978, 0.164, 0.237, 0.2112, 0.201, 0.1877, 0.1759, 0.2638, 0.1669, 0.2084, 0.4334, 0.2271, 0.1981, 0.1762, 0.2389, 0.2357, 0.239, 0.437, 0.2454, 0.2548, 0.2173, 0.3444, 0.1997, 0.2514, 0.2743, 0.2361, 0.3381, 0.2066, 0.1391, 0.3115, 0.1535, 0.1317, 0.109, 0.1658, 0.1283, 0.1781, 0.3156, 0.2058, 0.1749, 0.1537, 0.1656, 0.1687, 0.2078, 0.1766, 0.16, 0.2505, 0.1428, 0.1258, 0.3544, 0.1435, 0.1183, 0.0955, 0.1644, 0.1207, 0.1906, 0.3572, 0.2514, 0.1745, 0.1511, 0.2224, 0.1882, 0.2636, 0.2059, 0.1581, 0.3042, 0.1304, 0.0627, 0.1081, 0.0608, 0.0642, 0.069, 0.0693, 0.0607, 0.0813, 0.1093, 0.0959, 0.0747, 0.0618, 0.0738, 0.0546, 0.07, 0.088, 0.0691, 0.0916, 0.0633, 0.0685, 0.1979, 0.0749, 0.0637, 0.0604, 0.0851, 0.0768, 0.0898, 0.2005, 0.1378, 0.0909, 0.0775, 0.1325, 0.0649, 0.1082, 0.1079, 0.0833, 0.1717, 0.0699, 0.0673, 0.2009, 0.0728, 0.0662, 0.0474, 0.0793, 0.0821, 0.0736, 0.2026, 0.1409, 0.0846, 0.0728, 0.0926, 0.0835, 0.1659, 0.1077, 0.078, 0.1533, 0.0669, 0.1341, 0.276, 0.1407, 0.1301, 0.1241, 0.1493, 0.1108, 0.1604, 0.2794, 0.2059, 0.1591, 0.1366, 0.1345, 0.2309, 0.1465, 0.126, 0.1208, 0.1589, 0.1381, 0.1859, 0.2323, 0.2037, 0.1712, 0.1409, 0.1997, 0.3047, 0.1896, 0.2011, 0.232, 0.2085, 0.1388, 0.2131, 0.3137, 0.2498, 0.2123, 0.2026, 0.1371, 0.2406, 0.1442, 0.1302, 0.1291, 0.1631, 0.1053, 0.1718, 0.2475, 0.1763, 0.1765, 0.1433, 0.1776, 0.3071, 0.1792, 0.1725, 0.1887, 0.2045, 0.17, 0.2099, 0.3152, 0.2312, 0.22, 0.1827, 0.1283, 0.2787, 0.1356, 0.1248, 0.115, 0.1415, 0.1083, 0.1523, 0.2801, 0.2092, 0.1504, 0.1299, 0.2031, 0.2976, 0.2156, 0.1961, 0.1826, 0.2396, 0.1889, 0.255, 0.3016, 0.2182, 0.2508, 0.2233, 0.1937, 0.2579, 0.2118, 0.2576, 0.2393, 0.1247, 0.2345, 0.1304, 0.1224, 0.1125, 0.1298, 0.0932, 0.1403, 0.2364, 0.1956, 0.1382, 0.1191, 0.1328, 0.1677, 0.1319, 0.1553, 0.1273, 0.0588, 0.1951, 0.0617, 0.0559, 0.0574, 0.0693, 0.0628, 0.0757, 0.198, 0.1176, 0.0724, 0.0652, 0.113, 0.0556, 0.0835, 0.0812, 0.0686, 0.1732, 0.0563, 0.1304, 0.3097, 0.1375, 0.1243, 0.1225, 0.1483, 0.1096, 0.1567, 0.3141, 0.2295, 0.1582, 0.1359, 0.1511, 0.1512, 0.2277, 0.181, 0.138, 0.2615, 0.1264, 0.1352, 0.3555, 0.1437, 0.1293, 0.1215, 0.161, 0.1523, 0.1673, 0.3581, 0.1886, 0.1736, 0.1446, 0.2833, 0.1338, 0.1978, 0.1921, 0.1603, 0.3126, 0.1372, 0.1647, 0.3254, 0.1756, 0.1588, 0.1477, 0.1793, 0.159, 0.1796, 0.3319, 0.1953, 0.1915, 0.1623, 0.2291, 0.1831, 0.1797, 0.1925, 0.1777, 0.2425, 0.1682, 0.154, 0.2726, 0.1607, 0.1496, 0.1387, 0.1667, 0.1593, 0.1718, 0.2796, 0.1728, 0.1787, 0.1512, 0.1335, 0.1419, 0.1969, 0.1736, 0.1669, 0.2186, 0.1531, 0.1792, 0.3455, 0.1851, 0.1749, 0.1738, 0.199, 0.163, 0.2036, 0.3508, 0.2208, 0.2111, 0.1827, 0.1927, 0.2134, 0.205, 0.2208, 0.1951, 0.2969, 0.1672, 0.1014, 0.2256, 0.1092, 0.0963, 0.0883, 0.1157, 0.1048, 0.1203, 0.2288, 0.1688, 0.1253, 0.1032, 0.1251, 0.0987, 0.1243, 0.1249, 0.1139, 0.1779, 0.1049, 0.0506, 0.173, 0.0531, 0.0481, 0.0507, 0.0636, 0.0709, 0.0536, 0.1739, 0.1433, 0.0675, 0.0585, 0.098, 0.0828, 0.0912, 0.0923, 0.0615, 0.1589, 0.046, 0.0975, 0.2376, 0.105, 0.0917, 0.0838, 0.1124, 0.0957, 0.119, 0.2399, 0.1572, 0.1202, 0.1026, 0.163, 0.1069, 0.1391, 0.1417, 0.1101, 0.2034, 0.0975, 0.0895, 0.1909, 0.093, 0.0857, 0.0892, 0.102, 0.097, 0.1066, 0.1917, 0.1682, 0.1111, 0.0896, 0.1194, 0.0802, 0.1151, 0.0976, 0.1004, 0.1653, 0.0904, 0.1504, 0.3008, 0.1627, 0.1418, 0.1237, 0.1685, 0.1436, 0.1863, 0.3019, 0.2623, 0.1809, 0.1525, 0.174, 0.1719, 0.2419, 0.1611, 0.1672, 0.2367, 0.1523, 0.1125, 0.2859, 0.1228, 0.1067, 0.0894, 0.1307, 0.1111, 0.1339, 0.2886, 0.197, 0.1388, 0.1201, 0.1792, 0.1434, 0.17, 0.18, 0.1266, 0.2237, 0.114, 0.1173, 0.178, 0.3355, 0.1892, 0.1756, 0.149, 0.1931, 0.1558, 0.1932, 0.3406, 0.1829, 0.2085, 0.1722, 0.2892, 0.1364, 0.1917, 0.2034, 0.1936, 0.2594, 0.1817, 0.0866, 0.1667, 0.0884, 0.0839, 0.0903, 0.0936, 0.0817, 0.0964, 0.1655, 0.1646, 0.1007, 0.0843, 0.1055, 0.0757, 0.0917, 0.0999, 0.0939, 0.1506, 0.0884, 0.0585, 0.1552, 0.0617, 0.0578, 0.0521, 0.0682, 0.079, 0.0502, 0.1495, 0.2258, 0.0679, 0.0685, 0.1005, 0.0779, 0.0729, 0.0731, 0.0664, 0.1286, 0.0583, 0.0683, 0.1744, 0.0743, 0.0628, 0.061, 0.0787, 0.0686, 0.0838, 0.1763, 0.1329, 0.0856, 0.0695, 0.1352, 0.0768, 0.0878, 0.0888, 0.0777, 0.142, 0.07, 0.0516, 0.146, 0.27, 0.15, 0.1444, 0.1393, 0.1575, 0.1309, 0.1639, 0.276, 0.2188, 0.1673, 0.1448, 0.1754, 0.1592, 0.1889, 0.172, 0.1518, 0.2324, 0.1464, 0.0877, 0.2376, 0.0983, 0.0806, 0.0685, 0.1005, 0.1064, 0.0988, 0.2415, 0.1671, 0.1068, 0.0926, 0.1638, 0.0777, 0.1204, 0.095, 0.1, 0.1867, 0.0906, 0.1312, 0.3076, 0.1378, 0.1289, 0.1184, 0.1558, 0.1583, 0.1478, 0.308, 0.3181, 0.1687, 0.1395, 0.3871, 0.1432, 0.1831, 0.2034, 0.1548, 0.2374, 0.1324, 0.0876, 0.1133, 0.2388, 0.1198, 0.1093, 0.1024, 0.1226, 0.0913, 0.1291, 0.242, 0.1661, 0.1316, 0.1106, 0.1484, 0.1884, 0.121, 0.1453, 0.1194, 0.192, 0.1157, 0.1391, 0.2604, 0.1494, 0.1336, 0.1221, 0.1507, 0.1361, 0.1552, 0.26, 0.2434, 0.1589, 0.1403, 0.17, 0.1364, 0.1967, 0.1314, 0.1505, 0.2078, 0.1411, 0.1083, 0.2287, 0.1125, 0.1025, 0.1109, 0.1279, 0.1174, 0.133, 0.2285, 0.2219, 0.1382, 0.1147, 0.22, 0.1081, 0.1486, 0.1308, 0.1274, 0.2094, 0.1052, 0.0886, 0.2403, 0.0968, 0.0819, 0.0743, 0.1088, 0.1027, 0.1124, 0.2432, 0.1572, 0.1167, 0.0985, 0.1258, 0.0918, 0.1609, 0.1268, 0.1067, 0.1935, 0.0885, 0.0597, 0.1904, 0.0623, 0.0596, 0.0525, 0.073, 0.0752, 0.0685, 0.1869, 0.2494, 0.0777, 0.0671, 0.1497, 0.0614, 0.1154, 0.0826, 0.0711, 0.1653, 0.0596, 0.0663, 0.1269, 0.0687, 0.0646, 0.0632, 0.0747, 0.0672, 0.0776, 0.1289, 0.0914, 0.0813, 0.0658, 0.1219, 0.0596, 0.0775, 0.0814, 0.0741, 0.1006, 0.0697, 0.1462, 0.2686, 0.15, 0.1399, 0.1416, 0.1598, 0.1682, 0.151, 0.2729, 0.16, 0.177, 0.1391, 0.2088, 0.0888, 0.168, 0.1386, 0.1563, 0.2173, 0.1422, 0.1523, 0.3202, 0.1597, 0.1488, 0.1337, 0.1613, 0.1501, 0.1632, 0.3277, 0.2425, 0.171, 0.1492, 0.1599, 0.1353, 0.208, 0.1673, 0.1604, 0.2392, 0.1536, 0.096, 0.1865, 0.0955, 0.0955, 0.1013, 0.107, 0.0947, 0.117, 0.1878, 0.1462, 0.1153, 0.0958, 0.1386, 0.0771, 0.1223, 0.0999, 0.1056, 0.1634, 0.0964, 0.2604, 0.4099, 0.2711, 0.252, 0.2469, 0.2763, 0.2422, 0.2804, 0.4155, 0.3232, 0.2923, 0.255, 0.2803, 0.2718, 0.3278, 0.2853, 0.271, 0.3342, 0.2471, 0.1377, 0.3307, 0.1447, 0.1296, 0.1292, 0.1546, 0.1383, 0.1597, 0.3334, 0.243, 0.1665, 0.1398, 0.1993, 0.1335, 0.1827, 0.1612, 0.1533, 0.2499, 0.1377, 0.1589, 0.3433, 0.1736, 0.15, 0.1444, 0.1803, 0.1615, 0.1812, 0.347, 0.2225, 0.1933, 0.163, 0.2251, 0.1368, 0.1999, 0.2161, 0.1782, 0.2527, 0.155, 0.1491, 0.3702, 0.1603, 0.1429, 0.1203, 0.1674, 0.1411, 0.1801, 0.3764, 0.2286, 0.1825, 0.1471, 0.1778, 0.2055, 0.2161, 0.1609, 0.2781, 0.1519, 0.2, 0.3347, 0.2244, 0.1896, 0.1483, 0.218, 0.218, 0.3418, 0.2184, 0.2278, 0.2032, 0.1681, 0.2205, 0.2464, 0.2123, 0.261, 0.1917, 0.1213, 0.2388, 0.1293, 0.1184, 0.1061, 0.1301, 0.1157, 0.1307, 0.241, 0.194, 0.1388, 0.1189, 0.1496, 0.1174, 0.1264, 0.1773, 0.1266, 0.1787, 0.1235, 0.0968, 0.1891, 0.1015, 0.0923, 0.0933, 0.1066, 0.0863, 0.1115, 0.194, 0.1418, 0.1149, 0.0957, 0.1236, 0.1112, 0.1244, 0.1103, 0.1025, 0.1552, 0.0981, 0.2111, 0.3686, 0.2223, 0.2016, 0.2052, 0.2216, 0.1928, 0.2346, 0.3685, 0.3435, 0.2319, 0.2089, 0.2805, 0.2119, 0.254, 0.2217, 0.2392, 0.2716, 0.2165, 0.0697, 0.1907, 0.0738, 0.0659, 0.0638, 0.0822, 0.079, 0.0845, 0.1893, 0.1755, 0.0885, 0.0747, 0.086, 0.069, 0.1254, 0.0839, 0.0819, 0.153, 0.0711, 0.1124, 0.2516, 0.1168, 0.1095, 0.1077, 0.1261, 0.0755, 0.1373, 0.2542, 0.1902, 0.1361, 0.1126, 0.1618, 0.1269, 0.176, 0.1556, 0.1191, 0.2036, 0.1092, 0.0756, 0.2039, 0.0807, 0.0703, 0.0716, 0.0901, 0.0818, 0.0934, 0.2068, 0.1352, 0.0958, 0.0826, 0.1393, 0.0777, 0.1277, 0.1116, 0.088, 0.1677, 0.0745, 0.0531, 0.1947, 0.0542, 0.0509, 0.0562, 0.0649, 0.0665, 0.063, 0.1971, 0.1284, 0.0693, 0.0593, 0.1042, 0.0628, 0.0974, 0.0725, 0.0643, 0.1749, 0.0501, 0.072, 0.2087, 0.0758, 0.0697, 0.0654, 0.0843, 0.0821, 0.0862, 0.2109, 0.1426, 0.0904, 0.0764, 0.0958, 0.0676, 0.104, 0.0877, 0.0836, 0.1806, 0.0722, 0.0775, 0.203, 0.0815, 0.0713, 0.0785, 0.0955, 0.1062, 0.0849, 0.2049, 0.125, 0.104, 0.0849, 0.1, 0.0578, 0.1028, 0.0984, 0.0956, 0.1751, 0.0757, 0.0616, 0.1433, 0.0645, 0.0587, 0.0598, 0.0725, 0.0674, 0.0738, 0.1447, 0.1152, 0.0796, 0.0632, 0.1111, 0.0473, 0.0856, 0.0875, 0.0689, 0.1117, 0.0612, 0.1028, 0.2701, 0.1174, 0.0952, 0.0824, 0.1307, 0.1248, 0.1383, 0.272, 0.1688, 0.1394, 0.1196, 0.2234, 0.0873, 0.1434, 0.1803, 0.1297, 0.1987, 0.1022, 0.168, 0.3368, 0.1793, 0.1607, 0.1471, 0.186, 0.1186, 0.1902, 0.3436, 0.2026, 0.2012, 0.1641, 0.2283, 0.2014, 0.2003, 0.1937, 0.1795, 0.2624, 0.1701, 0.2121, 0.4305, 0.2299, 0.2018, 0.1792, 0.2407, 0.2401, 0.2407, 0.4339, 0.248, 0.2579, 0.2175, 0.3222, 0.2108, 0.2491, 0.2712, 0.2386, 0.3365, 0.2107, 0.1442, 0.3124, 0.1573, 0.1376, 0.1147, 0.1697, 0.132, 0.1821, 0.3159, 0.2223, 0.1806, 0.1552, 0.1673, 0.1752, 0.2092, 0.1783, 0.1645, 0.2544, 0.1478, 0.1363, 0.3648, 0.1523, 0.1291, 0.1071, 0.1746, 0.1293, 0.2018, 0.3676, 0.2631, 0.1869, 0.1585, 0.2174, 0.1864, 0.2695, 0.2187, 0.1688, 0.3151, 0.1412, 0.0539, 0.1004, 0.0529, 0.0544, 0.0589, 0.0604, 0.0515, 0.0728, 0.1012, 0.0866, 0.0651, 0.054, 0.0548, 0.0538, 0.0624, 0.0727, 0.0599, 0.0828, 0.0547, 0.07, 0.199, 0.0763, 0.0653, 0.0614, 0.0862, 0.0788, 0.0904, 0.2013, 0.1477, 0.0931, 0.0772, 0.1436, 0.0742, 0.1068, 0.1035, 0.0845, 0.172, 0.0718, 0.0731, 0.2123, 0.0783, 0.0707, 0.0566, 0.0856, 0.0886, 0.0795, 0.2144, 0.1506, 0.093, 0.0766, 0.1041, 0.0852, 0.1261, 0.114, 0.0841, 0.165, 0.0725, 0.1333, 0.2743, 0.1393, 0.1291, 0.1249, 0.1481, 0.1101, 0.159, 0.2779, 0.2025, 0.1588, 0.1341, 0.1308, 0.2282, 0.1418, 0.1215, 0.121, 0.1554, 0.1377, 0.1782, 0.2305, 0.1938, 0.1662, 0.1396, 0.1928, 0.302, 0.1824, 0.1945, 0.2268, 0.2018, 0.1336, 0.2063, 0.3101, 0.2465, 0.2067, 0.1944, 0.134, 0.2366, 0.1405, 0.1268, 0.1289, 0.1594, 0.0992, 0.1684, 0.2438, 0.1713, 0.1736, 0.1383, 0.1748, 0.3015, 0.1762, 0.169, 0.1875, 0.2009, 0.1659, 0.2063, 0.3104, 0.2201, 0.2172, 0.1779, 0.1282, 0.278, 0.1348, 0.1244, 0.1162, 0.141, 0.1079, 0.1516, 0.2794, 0.2101, 0.1508, 0.1281, 0.2037, 0.296, 0.2149, 0.1964, 0.1855, 0.2395, 0.1893, 0.2545, 0.3001, 0.2129, 0.2519, 0.2215, 0.1918, 0.2505, 0.211, 0.2545, 0.2407, 0.124, 0.2335, 0.1292, 0.1215, 0.1131, 0.129, 0.0928, 0.1393, 0.2356, 0.1938, 0.1383, 0.1171, 0.1282, 0.1625, 0.1274, 0.1526, 0.127, 0.0636, 0.1993, 0.0647, 0.0612, 0.0674, 0.0738, 0.0678, 0.0796, 0.2017, 0.1429, 0.0785, 0.0676, 0.1027, 0.0614, 0.1006, 0.0871, 0.0731, 0.1795, 0.0611, 0.1291, 0.3061, 0.1358, 0.1218, 0.1245, 0.1463, 0.1153, 0.1529, 0.3108, 0.2158, 0.1576, 0.1322, 0.1385, 0.1536, 0.2174, 0.1819, 0.1364, 0.2557, 0.1259, 0.1393, 0.3557, 0.1462, 0.1355, 0.1253, 0.164, 0.1574, 0.1687, 0.3581, 0.2069, 0.1774, 0.1466, 0.2069, 0.1411, 0.2032, 0.1977, 0.1631, 0.3129, 0.1417, 0.17, 0.3298, 0.1796, 0.1648, 0.1533, 0.1843, 0.1573, 0.1847, 0.3361, 0.2022, 0.1987, 0.1644, 0.2658, 0.1853, 0.1843, 0.2022, 0.183, 0.253, 0.1726, 0.1583, 0.2751, 0.1666, 0.1524, 0.1397, 0.1707, 0.1679, 0.1728, 0.2819, 0.1851, 0.1843, 0.1531, 0.1419, 0.1386, 0.1984, 0.1774, 0.1705, 0.2279, 0.1562, 0.1882, 0.353, 0.1914, 0.1853, 0.1869, 0.2075, 0.1695, 0.2124, 0.3582, 0.2308, 0.2207, 0.1898, 0.2055, 0.2209, 0.2151, 0.2334, 0.2034, 0.315, 0.174, 0.0973, 0.2212, 0.1045, 0.0909, 0.0883, 0.1112, 0.1002, 0.1158, 0.2243, 0.1613, 0.1209, 0.0986, 0.1298, 0.089, 0.1166, 0.1135, 0.11, 0.1741, 0.1007, 0.0543, 0.19, 0.0564, 0.0541, 0.0516, 0.0685, 0.0758, 0.0587, 0.1904, 0.1712, 0.0721, 0.0639, 0.1079, 0.0915, 0.0897, 0.108, 0.0663, 0.1674, 0.0509, 0.0997, 0.2422, 0.1068, 0.094, 0.0863, 0.1145, 0.0943, 0.1225, 0.2448, 0.162, 0.1233, 0.1035, 0.1495, 0.1076, 0.1379, 0.1402, 0.1126, 0.2094, 0.0995, 0.087, 0.1907, 0.0904, 0.082, 0.0898, 0.0995, 0.0923, 0.1057, 0.1923, 0.1572, 0.1097, 0.0857, 0.1133, 0.0795, 0.1172, 0.0984, 0.0978, 0.1634, 0.0882, 0.1507, 0.3057, 0.1636, 0.1402, 0.1256, 0.1692, 0.1413, 0.1891, 0.3056, 0.2912, 0.181, 0.154, 0.1851, 0.1651, 0.2331, 0.166, 0.1679, 0.2403, 0.1528, 0.12, 0.2914, 0.1305, 0.114, 0.0951, 0.1377, 0.1206, 0.1404, 0.2948, 0.2015, 0.1474, 0.1249, 0.2048, 0.1489, 0.1722, 0.1863, 0.1341, 0.2302, 0.1216, 0.1131, 0.1831, 0.336, 0.1923, 0.177, 0.1684, 0.1973, 0.1603, 0.1974, 0.3402, 0.2054, 0.2129, 0.1763, 0.3171, 0.1359, 0.2057, 0.2128, 0.1973, 0.2746, 0.1848, 0.0821, 0.1625, 0.0842, 0.0781, 0.0875, 0.0889, 0.0807, 0.0908, 0.1614, 0.1562, 0.0969, 0.0784, 0.1528, 0.0694, 0.0844, 0.0954, 0.0896, 0.1459, 0.0839, 0.0627, 0.1571, 0.0661, 0.0615, 0.0567, 0.0722, 0.086, 0.0494, 0.1547, 0.2091, 0.0725, 0.0719, 0.1075, 0.0705, 0.0796, 0.0898, 0.0702, 0.1337, 0.0625, 0.0655, 0.1675, 0.0701, 0.0612, 0.0595, 0.0753, 0.0645, 0.0806, 0.1699, 0.1159, 0.0825, 0.0656, 0.1, 0.0689, 0.0821, 0.0864, 0.0745, 0.139, 0.0668, 0.0432, 0.1356, 0.2556, 0.1388, 0.1331, 0.1323, 0.1463, 0.1217, 0.1523, 0.2628, 0.1932, 0.1561, 0.1336, 0.1518, 0.1481, 0.1784, 0.1552, 0.1417, 0.2222, 0.1356, 0.0899, 0.2412, 0.0999, 0.0829, 0.0706, 0.1025, 0.1112, 0.0999, 0.2444, 0.175, 0.1103, 0.0927, 0.1668, 0.0812, 0.1221, 0.0932, 0.1024, 0.1862, 0.0932, 0.1394, 0.3219, 0.1481, 0.1346, 0.1281, 0.1648, 0.1664, 0.1596, 0.3193, 0.5266, 0.1781, 0.1481, 0.1481, 0.2058, 0.2078, 0.1638, 0.2524, 0.1402, 0.0781, 0.112, 0.2341, 0.1185, 0.1086, 0.0989, 0.121, 0.0888, 0.1276, 0.2372, 0.1676, 0.1304, 0.1083, 0.1438, 0.1897, 0.1167, 0.1464, 0.118, 0.1914, 0.1143, 0.1418, 0.2655, 0.1516, 0.1376, 0.1221, 0.1535, 0.1404, 0.1576, 0.2645, 0.2594, 0.1633, 0.1412, 0.1698, 0.1404, 0.2091, 0.1369, 0.1531, 0.2123, 0.144, 0.1059, 0.2269, 0.109, 0.1019, 0.1068, 0.1251, 0.1182, 0.1284, 0.2266, 0.2146, 0.1356, 0.1118, 0.2558, 0.0949, 0.1423, 0.1353, 0.1247, 0.2081, 0.1029, 0.0916, 0.2431, 0.0988, 0.0855, 0.0781, 0.1113, 0.1042, 0.1155, 0.2452, 0.1726, 0.1196, 0.1007, 0.1296, 0.1067, 0.1635, 0.1385, 0.109, 0.1975, 0.0915, 0.0638, 0.1901, 0.0665, 0.0647, 0.0518, 0.0765, 0.0801, 0.0688, 0.1905, 0.1831, 0.082, 0.0696, 0.0977, 0.0576, 0.107, 0.0808, 0.0756, 0.1638, 0.0643, 0.1861, 0.2541, 0.1845, 0.1905, 0.1854, 0.1969, 0.179, 0.2042, 0.255, 0.2511, 0.2134, 0.1757, 0.3296, 0.1346, 0.1865, 0.1795, 0.1997, 0.2202, 0.1918, 0.2921, 0.4287, 0.2872, 0.2997, 0.3041, 0.3068, 0.3188, 0.2937, 0.4299, 0.3849, 0.3324, 0.2779, 0.4229, 0.1916, 0.3119, 0.2428, 0.2981, 0.3729, 0.2872, 0.3156, 0.4719, 0.3126, 0.3272, 0.3033, 0.3258, 0.2847, 0.3328, 0.4719, 0.4982, 0.3412, 0.307, 0.3386, 0.2798, 0.3767, 0.3166, 0.3259, 0.3873, 0.3185, 0.2382, 0.3192, 0.2285, 0.2487, 0.2531, 0.2495, 0.2153, 0.2776, 0.3182, 0.3498, 0.266, 0.2279, 0.2919, 0.188, 0.2597, 0.2081, 0.2492, 0.2973, 0.2391, 0.4674, 0.5828, 0.4608, 0.4788, 0.4714, 0.4805, 0.4207, 0.488, 0.5836, 0.5747, 0.5025, 0.4524, 0.4726, 0.4772, 0.5145, 0.4792, 0.4784, 0.5366, 0.4514, 0.2737, 0.4637, 0.2711, 0.2786, 0.2794, 0.2918, 0.2569, 0.3034, 0.4642, 0.4387, 0.3105, 0.2694, 0.3744, 0.2373, 0.3214, 0.2802, 0.293, 0.3855, 0.2733, 0.3363, 0.5273, 0.3404, 0.3401, 0.3245, 0.3605, 0.31, 0.3628, 0.5291, 0.4675, 0.3804, 0.3345, 0.465, 0.2894, 0.3763, 0.392, 0.3596, 0.4335, 0.3321, 0.3442, 0.5371, 0.3485, 0.3504, 0.3162, 0.3619, 0.3329, 0.3756, 0.5385, 0.5092, 0.3824, 0.3352, 0.3667, 0.3211, 0.4083, 0.4087, 0.3548, 0.4608, 0.3465, 0.3989, 0.5125, 0.4145, 0.4019, 0.3513, 0.4159, 0.4159, 0.5149, 0.476, 0.4344, 0.3893, 0.3306, 0.4146, 0.4427, 0.4193, 0.4496, 0.3935, 0.276, 0.3734, 0.2757, 0.284, 0.2626, 0.2845, 0.2507, 0.2859, 0.3732, 0.3851, 0.2986, 0.2667, 0.2772, 0.2499, 0.2597, 0.335, 0.2821, 0.316, 0.2794, 0.2236, 0.3119, 0.2203, 0.2295, 0.2287, 0.2345, 0.199, 0.2433, 0.3131, 0.3166, 0.2508, 0.2138, 0.264, 0.2283, 0.2509, 0.2121, 0.2315, 0.2815, 0.2251, 0.4178, 0.5151, 0.4051, 0.4312, 0.4449, 0.4264, 0.3635, 0.4566, 0.5033, 0.6055, 0.442, 0.408, 0.4327, 0.4282, 0.3828, 0.4119, 0.4282, 0.4196, 0.4273, 0.1576, 0.3066, 0.1568, 0.1626, 0.153, 0.1743, 0.1585, 0.1858, 0.3047, 0.3399, 0.1851, 0.1617, 0.1849, 0.1633, 0.2165, 0.153, 0.1745, 0.2519, 0.1608, 0.2397, 0.3961, 0.2331, 0.2501, 0.248, 0.2567, 0.1739, 0.2753, 0.3939, 0.4219, 0.2723, 0.2364, 0.3234, 0.2581, 0.3348, 0.2886, 0.2461, 0.3534, 0.234, 0.187, 0.3558, 0.1863, 0.1914, 0.1872, 0.2083, 0.1871, 0.2168, 0.3576, 0.3341, 0.221, 0.1918, 0.3034, 0.1719, 0.2827, 0.229, 0.2045, 0.3228, 0.183, 0.1259, 0.2954, 0.1198, 0.1287, 0.1456, 0.1413, 0.1403, 0.1424, 0.2965, 0.2677, 0.1497, 0.1308, 0.1889, 0.1158, 0.1908, 0.1401, 0.1409, 0.2867, 0.12, 0.1691, 0.3445, 0.1672, 0.1744, 0.1701, 0.1863, 0.1726, 0.1985, 0.3446, 0.3432, 0.199, 0.1701, 0.2196, 0.142, 0.2237, 0.1735, 0.1858, 0.3135, 0.169, 0.1971, 0.3446, 0.1956, 0.1965, 0.2106, 0.2209, 0.2401, 0.2014, 0.3462, 0.3023, 0.2405, 0.1971, 0.25, 0.1519, 0.2093, 0.2068, 0.2224, 0.3232, 0.1925, 0.1588, 0.2625, 0.1567, 0.1614, 0.1683, 0.1746, 0.1666, 0.1768, 0.2631, 0.2519, 0.1901, 0.1551, 0.2265, 0.1236, 0.1893, 0.1902, 0.1706, 0.2268, 0.1571, 0.2253, 0.4042, 0.231, 0.2278, 0.2093, 0.2573, 0.2466, 0.2713, 0.4037, 0.4072, 0.2714, 0.24, 0.3502, 0.1651, 0.2829, 0.3012, 0.2566, 0.3318, 0.2234, 0.346, 0.5111, 0.3486, 0.351, 0.3305, 0.3647, 0.2521, 0.3718, 0.5137, 0.4557, 0.388, 0.3324, 0.3976, 0.38, 0.3888, 0.3514, 0.3555, 0.4332, 0.3496, 0.4173, 0.6108, 0.4179, 0.4258, 0.399, 0.4446, 0.451, 0.4443, 0.6119, 0.5296, 0.4659, 0.4166, 0.512, 0.3722, 0.4543, 0.4654, 0.4444, 0.5216, 0.4183, 0.2891, 0.4526, 0.2923, 0.2965, 0.2676, 0.316, 0.2622, 0.3342, 0.4534, 0.4296, 0.3341, 0.2928, 0.3252, 0.3059, 0.3523, 0.3086, 0.3112, 0.3976, 0.2927, 0.2639, 0.5005, 0.268, 0.2702, 0.2472, 0.3042, 0.2326, 0.3482, 0.5005, 0.4932, 0.3214, 0.2828, 0.3805, 0.2853, 0.4195, 0.3212, 0.298, 0.4492, 0.2684, 0.1635, 0.213, 0.1528, 0.1755, 0.1824, 0.1714, 0.1483, 0.2044, 0.2129, 0.2284, 0.1847, 0.154, 0.1359, 0.1191, 0.158, 0.1759, 0.176, 0.1977, 0.1637, 0.1631, 0.3275, 0.1656, 0.1632, 0.1604, 0.1856, 0.1599, 0.2002, 0.3274, 0.3249, 0.1979, 0.17, 0.2657, 0.1479, 0.2244, 0.2062, 0.1828, 0.2999, 0.1644, 0.1495, 0.3119, 0.1478, 0.1607, 0.1319, 0.1644, 0.1694, 0.1539, 0.312, 0.3067, 0.1775, 0.1492, 0.1845, 0.1422, 0.2198, 0.1897, 0.1628, 0.2545, 0.1494, 0.2783, 0.4163, 0.2744, 0.2868, 0.2796, 0.2944, 0.2276, 0.3142, 0.417, 0.4107, 0.312, 0.2721, 0.2889, 0.3868, 0.296, 0.2887, 0.2794, 0.3152, 0.2889, 0.3492, 0.3828, 0.4209, 0.3392, 0.2818, 0.3574, 0.4492, 0.3317, 0.3751, 0.4147, 0.3661, 0.2518, 0.3742, 0.4499, 0.4653, 0.3726, 0.3562, 0.2756, 0.373, 0.2741, 0.2829, 0.2838, 0.3024, 0.2088, 0.3167, 0.3748, 0.3573, 0.3305, 0.2636, 0.3297, 0.4579, 0.3181, 0.3414, 0.3667, 0.3575, 0.298, 0.367, 0.4599, 0.441, 0.3863, 0.3193, 0.2714, 0.4203, 0.2681, 0.2799, 0.2674, 0.2854, 0.2248, 0.3058, 0.4203, 0.4269, 0.3013, 0.2652, 0.3583, 0.4412, 0.3589, 0.367, 0.3495, 0.3912, 0.3241, 0.4115, 0.4425, 0.4172, 0.4133, 0.3605, 0.3511, 0.4266, 0.3529, 0.4195, 0.3891, 0.2667, 0.3688, 0.262, 0.2768, 0.265, 0.2722, 0.2049, 0.292, 0.3679, 0.4051, 0.2877, 0.2529, 0.2868, 0.3159, 0.2679, 0.2987, 0.2696, 0.1345, 0.3012, 0.1321, 0.1371, 0.1426, 0.1483, 0.133, 0.1637, 0.3028, 0.2913, 0.1556, 0.1389, 0.221, 0.1225, 0.1715, 0.1588, 0.1474, 0.2846, 0.1309, 0.2563, 0.4311, 0.254, 0.2618, 0.261, 0.2748, 0.2159, 0.288, 0.4301, 0.4301, 0.291, 0.2553, 0.276, 0.2895, 0.3634, 0.2987, 0.2635, 0.3924, 0.2511, 0.2867, 0.5053, 0.2826, 0.2947, 0.2866, 0.3136, 0.302, 0.3221, 0.5071, 0.4312, 0.3344, 0.2874, 0.4125, 0.2413, 0.3364, 0.331, 0.3139, 0.4677, 0.289, 0.3526, 0.4953, 0.3504, 0.3626, 0.3412, 0.3664, 0.3445, 0.3669, 0.5003, 0.414, 0.3869, 0.3388, 0.4161, 0.3671, 0.346, 0.3606, 0.3691, 0.4207, 0.3565, 0.3163, 0.4359, 0.3147, 0.3227, 0.3103, 0.3302, 0.3136, 0.3415, 0.4386, 0.3876, 0.3537, 0.301, 0.3012, 0.2688, 0.3358, 0.3343, 0.3326, 0.3726, 0.318, 0.3535, 0.4966, 0.3452, 0.3634, 0.3617, 0.3716, 0.3239, 0.378, 0.499, 0.4423, 0.3915, 0.3458, 0.3636, 0.3733, 0.3657, 0.3782, 0.3713, 0.4622, 0.3404, 0.2322, 0.3618, 0.2327, 0.2351, 0.229, 0.2486, 0.2307, 0.2561, 0.3628, 0.3512, 0.268, 0.2241, 0.2885, 0.1965, 0.2478, 0.2278, 0.2494, 0.317, 0.2355, 0.1127, 0.2671, 0.1081, 0.1209, 0.1202, 0.1292, 0.1443, 0.1079, 0.267, 0.2921, 0.1362, 0.1207, 0.1846, 0.1351, 0.15, 0.1696, 0.1265, 0.2453, 0.1087, 0.229, 0.3811, 0.2303, 0.2338, 0.2183, 0.2471, 0.2127, 0.2608, 0.3821, 0.3609, 0.2635, 0.2271, 0.2825, 0.2195, 0.2772, 0.2669, 0.2451, 0.3465, 0.229, 0.2171, 0.3385, 0.2151, 0.2202, 0.2261, 0.2334, 0.2145, 0.2505, 0.3371, 0.3798, 0.2532, 0.2076, 0.2749, 0.168, 0.249, 0.2041, 0.231, 0.3179, 0.2171, 0.3076, 0.4564, 0.3106, 0.3108, 0.2923, 0.3268, 0.2852, 0.3568, 0.4538, 0.5206, 0.3482, 0.3008, 0.3501, 0.2987, 0.4076, 0.298, 0.327, 0.3854, 0.3115, 0.2574, 0.4352, 0.2619, 0.2636, 0.2318, 0.2778, 0.2433, 0.2835, 0.4354, 0.4253, 0.2923, 0.2594, 0.3345, 0.2864, 0.3208, 0.3205, 0.2735, 0.3704, 0.2597, 0.2318, 0.3893, 0.5155, 0.3833, 0.4058, 0.3754, 0.404, 0.2879, 0.4042, 0.519, 0.4867, 0.4279, 0.3727, 0.5182, 0.3021, 0.3889, 0.4014, 0.4068, 0.4514, 0.3939, 0.1981, 0.2834, 0.1948, 0.2016, 0.2092, 0.2066, 0.1831, 0.2121, 0.2799, 0.3236, 0.2212, 0.1879, 0.2953, 0.1592, 0.1851, 0.2073, 0.2106, 0.2641, 0.2007, 0.1284, 0.2521, 0.1256, 0.1373, 0.1303, 0.141, 0.161, 0.1072, 0.246, 0.385, 0.1446, 0.1368, 0.1908, 0.1205, 0.1285, 0.153, 0.1386, 0.2233, 0.1276, 0.1624, 0.2942, 0.1641, 0.1629, 0.1597, 0.1766, 0.1531, 0.1884, 0.2955, 0.2762, 0.1908, 0.1582, 0.2395, 0.1521, 0.1898, 0.1803, 0.1754, 0.2584, 0.1644, 0.095, 0.3014, 0.4105, 0.2939, 0.3148, 0.3081, 0.3129, 0.2598, 0.326, 0.412, 0.4204, 0.3316, 0.2897, 0.3377, 0.3031, 0.3375, 0.3178, 0.3099, 0.388, 0.301, 0.1977, 0.3688, 0.2058, 0.1964, 0.1754, 0.2139, 0.2213, 0.2116, 0.3681, 0.3891, 0.2273, 0.1975, 0.3335, 0.1586, 0.2295, 0.1775, 0.2154, 0.3081, 0.2022, 0.2809, 0.469, 0.2775, 0.2899, 0.2814, 0.3077, 0.3129, 0.2909, 0.4668, 0.7204, 0.3285, 0.2824, 0.575, 0.2449, 0.3151, 0.3287, 0.3079, 0.4108, 0.2782, 0.1967, 0.2512, 0.3742, 0.2499, 0.2587, 0.2423, 0.2616, 0.2009, 0.2744, 0.3748, 0.3653, 0.2779, 0.2405, 0.3208, 0.3282, 0.2526, 0.284, 0.259, 0.3318, 0.2539, 0.2791, 0.4027, 0.2798, 0.2841, 0.2715, 0.2922, 0.2619, 0.3016, 0.3992, 0.4679, 0.3076, 0.2734, 0.321, 0.2602, 0.351, 0.2491, 0.2936, 0.3493, 0.2816, 0.2382, 0.3699, 0.233, 0.2437, 0.2549, 0.261, 0.238, 0.2726, 0.3682, 0.4288, 0.286, 0.2307, 0.4154, 0.2138, 0.2794, 0.25, 0.261, 0.3477, 0.2352, 0.1862, 0.366, 0.187, 0.1886, 0.1841, 0.2108, 0.2031, 0.2157, 0.3657, 0.3548, 0.2248, 0.1937, 0.2557, 0.175, 0.2831, 0.2188, 0.2087, 0.321, 0.1844, 0.1449, 0.31, 0.1397, 0.1576, 0.1435, 0.1616, 0.1676, 0.1476, 0.3056, 0.4346, 0.1723, 0.149, 0.3427, 0.1422, 0.2151, 0.1659, 0.1585, 0.2894, 0.1439, 0.0636, 0.122, 0.0663, 0.0619, 0.0603, 0.0713, 0.0661, 0.0732, 0.1233, 0.094, 0.0775, 0.063, 0.109, 0.0638, 0.0764, 0.0688, 0.0703, 0.0955, 0.0668, 0.145, 0.2646, 0.1494, 0.1386, 0.1396, 0.158, 0.1682, 0.1465, 0.269, 0.1664, 0.1709, 0.1425, 0.2155, 0.0967, 0.168, 0.1369, 0.1524, 0.2192, 0.1398, 0.146, 0.3157, 0.1539, 0.1428, 0.1265, 0.1549, 0.1526, 0.1553, 0.3222, 0.2385, 0.1633, 0.1443, 0.1633, 0.1259, 0.1982, 0.1577, 0.154, 0.2314, 0.1474, 0.0948, 0.1955, 0.0968, 0.0918, 0.0984, 0.107, 0.0906, 0.1203, 0.1958, 0.1722, 0.1145, 0.097, 0.1313, 0.0872, 0.1261, 0.0981, 0.1052, 0.167, 0.0954, 0.2583, 0.4143, 0.2699, 0.2503, 0.2419, 0.2743, 0.253, 0.2768, 0.421, 0.3135, 0.2896, 0.254, 0.291, 0.2625, 0.3307, 0.2796, 0.2709, 0.3298, 0.2467, 0.1383, 0.3324, 0.1458, 0.1308, 0.1287, 0.155, 0.1419, 0.159, 0.3365, 0.2431, 0.1654, 0.142, 0.1912, 0.1346, 0.1807, 0.1629, 0.1538, 0.2558, 0.1372, 0.1512, 0.3387, 0.1668, 0.144, 0.1334, 0.1728, 0.1615, 0.1733, 0.3425, 0.2187, 0.1861, 0.1551, 0.2147, 0.1336, 0.1904, 0.2158, 0.1704, 0.2441, 0.1478, 0.1466, 0.3604, 0.16, 0.1378, 0.1201, 0.1638, 0.1382, 0.1763, 0.3677, 0.2237, 0.1775, 0.1455, 0.1785, 0.1968, 0.2023, 0.1578, 0.263, 0.1501, 0.1919, 0.305, 0.2086, 0.187, 0.156, 0.2061, 0.2062, 0.3141, 0.1975, 0.213, 0.1957, 0.159, 0.2037, 0.2114, 0.2114, 0.2303, 0.1921, 0.117, 0.2333, 0.1247, 0.1143, 0.1032, 0.1254, 0.1137, 0.1259, 0.2361, 0.1846, 0.1335, 0.1149, 0.1323, 0.1107, 0.1204, 0.166, 0.1224, 0.1739, 0.1189, 0.0939, 0.1925, 0.0985, 0.09, 0.0905, 0.1039, 0.0847, 0.1085, 0.1961, 0.1542, 0.112, 0.0933, 0.097, 0.11, 0.1244, 0.1044, 0.0994, 0.1554, 0.0952, 0.2005, 0.3624, 0.2108, 0.1947, 0.1913, 0.2107, 0.1885, 0.2205, 0.3586, 0.3389, 0.2184, 0.2012, 0.24, 0.2047, 0.2242, 0.2047, 0.2253, 0.2751, 0.2046, 0.0675, 0.1902, 0.0724, 0.0644, 0.0591, 0.0804, 0.0776, 0.0822, 0.1899, 0.1759, 0.0853, 0.0744, 0.0858, 0.07, 0.1342, 0.0791, 0.08, 0.151, 0.0694, 0.1092, 0.2523, 0.1136, 0.107, 0.1046, 0.1237, 0.0763, 0.134, 0.2553, 0.1946, 0.1336, 0.1103, 0.1467, 0.124, 0.1721, 0.1515, 0.1169, 0.1982, 0.1066, 0.074, 0.2034, 0.0785, 0.0702, 0.0688, 0.0886, 0.0805, 0.0918, 0.2069, 0.125, 0.0945, 0.0807, 0.1818, 0.0785, 0.1293, 0.1079, 0.0862, 0.1661, 0.0726, 0.0553, 0.2047, 0.0563, 0.0539, 0.0575, 0.0675, 0.07, 0.0645, 0.2081, 0.1358, 0.0716, 0.0622, 0.1092, 0.071, 0.094, 0.0846, 0.0668, 0.1845, 0.0522, 0.0686, 0.2005, 0.072, 0.0659, 0.065, 0.0801, 0.0788, 0.0813, 0.2028, 0.1355, 0.0864, 0.072, 0.1079, 0.0631, 0.1006, 0.0735, 0.0798, 0.1735, 0.0688, 0.0771, 0.198, 0.0798, 0.0721, 0.0802, 0.0936, 0.1061, 0.0816, 0.1996, 0.1217, 0.1018, 0.0832, 0.081, 0.094, 0.0959, 0.0937, 0.1733, 0.0744, 0.0596, 0.1396, 0.0629, 0.0558, 0.0587, 0.0696, 0.0625, 0.0715, 0.1408, 0.1068, 0.0758, 0.0614, 0.1538, 0.0568, 0.0828, 0.0814, 0.066, 0.1055, 0.0597, 0.1188, 0.2971, 0.1344, 0.1132, 0.0935, 0.1483, 0.1425, 0.1557, 0.2982, 0.2078, 0.1589, 0.135, 0.1949, 0.1038, 0.1519, 0.1902, 0.1478, 0.2222, 0.1173, 0.1619, 0.331, 0.1728, 0.154, 0.1465, 0.1794, 0.118, 0.1832, 0.3374, 0.1999, 0.1934, 0.1594, 0.2275, 0.2008, 0.1979, 0.1807, 0.1716, 0.2586, 0.1632, 0.2104, 0.4349, 0.2288, 0.2002, 0.1793, 0.239, 0.2444, 0.2388, 0.4381, 0.257, 0.2555, 0.2169, 0.3565, 0.1984, 0.2537, 0.2685, 0.2368, 0.3364, 0.2076, 0.1434, 0.3177, 0.1582, 0.1348, 0.1153, 0.1698, 0.1351, 0.1808, 0.3218, 0.2171, 0.181, 0.1551, 0.1797, 0.1758, 0.2081, 0.1789, 0.1646, 0.2519, 0.1479, 0.1461, 0.3819, 0.1634, 0.1402, 0.1137, 0.1868, 0.1414, 0.2135, 0.385, 0.2781, 0.2002, 0.1694, 0.2132, 0.2057, 0.2879, 0.2333, 0.1809, 0.3269, 0.1516, 0.0548, 0.0973, 0.0528, 0.0549, 0.0648, 0.0604, 0.0545, 0.0685, 0.0979, 0.0862, 0.0649, 0.0544, 0.0609, 0.0484, 0.0624, 0.0648, 0.0601, 0.0823, 0.0551, 0.0703, 0.2045, 0.0752, 0.0667, 0.0646, 0.0867, 0.0822, 0.0891, 0.2075, 0.1361, 0.0933, 0.0781, 0.1175, 0.0787, 0.1037, 0.1127, 0.0853, 0.1745, 0.072, 0.0727, 0.2162, 0.0779, 0.07, 0.0577, 0.0852, 0.0888, 0.0781, 0.218, 0.1451, 0.0927, 0.0761, 0.1079, 0.0857, 0.1584, 0.1136, 0.0835, 0.1642, 0.0723, 0.131, 0.2755, 0.1371, 0.1269, 0.1229, 0.1457, 0.1116, 0.1553, 0.2793, 0.2006, 0.1559, 0.1324, 0.1337, 0.236, 0.1464, 0.124, 0.121, 0.1588, 0.1425, 0.1798, 0.2388, 0.194, 0.1697, 0.1429, 0.1849, 0.3019, 0.1765, 0.1839, 0.2167, 0.1945, 0.1346, 0.1985, 0.3106, 0.2422, 0.1979, 0.1892, 0.1331, 0.2357, 0.1396, 0.1268, 0.1274, 0.1579, 0.1014, 0.166, 0.2428, 0.1706, 0.1713, 0.1382, 0.168, 0.2986, 0.1701, 0.1621, 0.1788, 0.1945, 0.1642, 0.1993, 0.3083, 0.2141, 0.2105, 0.1722, 0.1262, 0.28, 0.1329, 0.1226, 0.1151, 0.139, 0.1094, 0.1482, 0.2815, 0.2084, 0.1484, 0.1266, 0.1996, 0.2965, 0.2125, 0.1918, 0.1791, 0.2364, 0.1917, 0.2495, 0.3006, 0.2125, 0.2483, 0.2194, 0.1978, 0.2415, 0.2075, 0.2468, 0.2397, 0.1218, 0.2349, 0.1268, 0.1196, 0.1121, 0.1268, 0.0943, 0.1359, 0.2375, 0.1912, 0.1357, 0.1154, 0.13, 0.1572, 0.1271, 0.1473, 0.1248, 0.0633, 0.204, 0.0652, 0.0607, 0.0654, 0.0738, 0.0666, 0.0809, 0.2063, 0.1584, 0.0774, 0.069, 0.1181, 0.0476, 0.1097, 0.0836, 0.0728, 0.183, 0.0608, 0.1314, 0.2975, 0.1367, 0.1261, 0.1282, 0.1471, 0.1198, 0.153, 0.3047, 0.1907, 0.1576, 0.1341, 0.1562, 0.1506, 0.2199, 0.1727, 0.1382, 0.2492, 0.1283, 0.1462, 0.3702, 0.1526, 0.1419, 0.1357, 0.1719, 0.1664, 0.1754, 0.3726, 0.2107, 0.1878, 0.1514, 0.2909, 0.1466, 0.1829, 0.2051, 0.1712, 0.3266, 0.1478, 0.1555, 0.3109, 0.1648, 0.1504, 0.1417, 0.1691, 0.1527, 0.1694, 0.317, 0.1931, 0.1823, 0.1508, 0.2217, 0.1615, 0.1736, 0.1796, 0.1683, 0.2278, 0.1591, 0.1463, 0.2672, 0.1516, 0.1426, 0.1355, 0.1585, 0.1539, 0.1616, 0.2746, 0.1668, 0.1716, 0.1414, 0.1283, 0.1259, 0.1825, 0.1685, 0.1573, 0.217, 0.1441, 0.1807, 0.3476, 0.1841, 0.1774, 0.1799, 0.1999, 0.1718, 0.2032, 0.3527, 0.2232, 0.2127, 0.1827, 0.2017, 0.2065, 0.2026, 0.2186, 0.1971, 0.3007, 0.1677, 0.0927, 0.2169, 0.1003, 0.0868, 0.0829, 0.1061, 0.0959, 0.1104, 0.2196, 0.1693, 0.115, 0.0947, 0.1203, 0.0905, 0.1131, 0.1122, 0.1046, 0.1704, 0.0956, 0.0577, 0.1956, 0.0589, 0.0577, 0.0577, 0.072, 0.0815, 0.0594, 0.1967, 0.1623, 0.0756, 0.0675, 0.1073, 0.0741, 0.1084, 0.1042, 0.0699, 0.1727, 0.0544, 0.0963, 0.2395, 0.1033, 0.0912, 0.0834, 0.1109, 0.0937, 0.1176, 0.2421, 0.1532, 0.1184, 0.1016, 0.1872, 0.1082, 0.1365, 0.1387, 0.1087, 0.2021, 0.0966, 0.0914, 0.1991, 0.095, 0.0875, 0.0908, 0.1038, 0.0961, 0.1107, 0.2011, 0.1617, 0.1144, 0.0897, 0.1207, 0.0824, 0.1243, 0.1017, 0.1019, 0.1701, 0.0925, 0.1506, 0.3129, 0.1637, 0.141, 0.126, 0.1697, 0.1441, 0.1877, 0.3125, 0.3007, 0.1815, 0.1547, 0.1778, 0.1726, 0.2468, 0.1549, 0.1686, 0.2405, 0.1532, 0.113, 0.2833, 0.1227, 0.1074, 0.0926, 0.13, 0.1175, 0.1319, 0.2865, 0.1942, 0.1393, 0.1178, 0.1869, 0.1315, 0.1636, 0.1702, 0.1269, 0.2234, 0.114, 0.1032, 0.173, 0.3296, 0.1791, 0.1717, 0.1603, 0.1873, 0.1635, 0.1874, 0.3341, 0.2292, 0.202, 0.1676, 0.3014, 0.1142, 0.172, 0.1937, 0.1884, 0.2688, 0.1749, 0.0786, 0.1645, 0.0795, 0.0751, 0.0891, 0.0855, 0.078, 0.0872, 0.1628, 0.1637, 0.0932, 0.0755, 0.1773, 0.0695, 0.0854, 0.0947, 0.0854, 0.1474, 0.0804, 0.0667, 0.1686, 0.0695, 0.0675, 0.0601, 0.077, 0.0918, 0.0527, 0.1664, 0.2209, 0.0774, 0.0766, 0.1181, 0.0655, 0.1014, 0.0969, 0.075, 0.1422, 0.0667, 0.0672, 0.171, 0.0723, 0.0623, 0.0636, 0.0771, 0.0668, 0.0821, 0.1724, 0.1467, 0.0838, 0.0681, 0.1409, 0.0771, 0.0866, 0.0905, 0.0761, 0.1414, 0.0685, 0.0425, 0.1386, 0.2602, 0.1413, 0.1373, 0.1349, 0.1492, 0.1248, 0.1551, 0.2687, 0.1943, 0.1586, 0.1371, 0.1471, 0.1483, 0.1854, 0.1521, 0.1453, 0.2199, 0.1393, 0.0906, 0.2497, 0.1012, 0.0842, 0.0698, 0.1035, 0.1158, 0.0999, 0.2532, 0.17, 0.1093, 0.0963, 0.1631, 0.1042, 0.1386, 0.098, 0.1024, 0.1988, 0.0932, 0.1449, 0.3366, 0.1548, 0.141, 0.1227, 0.1717, 0.1741, 0.1636, 0.3355, 0.3421, 0.1873, 0.1521, 0.4615, 0.1521, 0.1912, 0.2211, 0.1712, 0.2619, 0.1455, 0.0749, 0.1063, 0.2349, 0.1117, 0.1029, 0.0977, 0.1152, 0.0844, 0.1214, 0.2381, 0.1573, 0.1244, 0.1029, 0.1619, 0.1781, 0.113, 0.1413, 0.112, 0.1835, 0.1081, 0.1367, 0.2625, 0.1478, 0.1301, 0.1213, 0.1482, 0.1371, 0.1516, 0.2613, 0.2552, 0.1583, 0.1356, 0.1633, 0.1351, 0.2046, 0.1283, 0.1479, 0.2068, 0.1389, 0.1006, 0.2225, 0.1019, 0.0975, 0.1079, 0.1195, 0.116, 0.1211, 0.222, 0.2194, 0.1297, 0.1066, 0.2667, 0.0923, 0.1379, 0.1105, 0.1193, 0.2044, 0.0969, 0.0938, 0.2544, 0.1021, 0.0873, 0.0789, 0.1149, 0.1095, 0.1181, 0.2581, 0.1663, 0.1237, 0.1038, 0.138, 0.0945, 0.1716, 0.144, 0.1126, 0.2052, 0.0938, 0.0688, 0.2028, 0.0736, 0.0663, 0.0575, 0.0818, 0.0879, 0.0695, 0.2022, 0.2079, 0.085, 0.0779, 0.1336, 0.0722, 0.1255, 0.086, 0.0805, 0.1765, 0.069]\n"
          ]
        }
      ]
    },
    {
      "cell_type": "markdown",
      "source": [
        "**____________________________________________________________________________________________________________**"
      ],
      "metadata": {
        "id": "8ANRLlwqVkWG"
      }
    },
    {
      "cell_type": "markdown",
      "source": [
        "# **4. Automated Analysis**\n",
        "\n",
        "Output of the automatic analysis is saved in file named automatic_eda_report.html"
      ],
      "metadata": {
        "id": "toOBbNWHB8Pv"
      }
    },
    {
      "cell_type": "code",
      "source": [
        "report = ProfileReport(df)\n",
        "report.to_file('automatic_eda_report.html')"
      ],
      "metadata": {
        "colab": {
          "base_uri": "https://localhost:8080/",
          "height": 145,
          "referenced_widgets": [
            "424367c7fa7848849b543850e336bd66",
            "85cec010d67c4016bbf9f116bc34676c",
            "4474157d28dd4479a26478c101802c66",
            "4929888aab124e6190c9c31ce6096128",
            "93c6c296277f400fa975020dc4902d4b",
            "3bc3a39754b848c0b53452d5d5b2f9d0",
            "a8f8d9e3fb154c0399b93c9a46dfbe01",
            "f434da9cae3d4e05888dfd24811ead65",
            "600c3507bae44b6291ad98a235134705",
            "8d36555241ed416bbd8f936a8dea78f0",
            "693f8b5bed3f4f41b1b2c658319d835a",
            "06d0645a4f5a46c7b472533ab5ec8422",
            "acb2950ca53345abafbbaa8bf7a3a767",
            "9fbf7717ab024629945346e92ae7086e",
            "0f561ab6e86946ab876ccfd86224c973",
            "d162797e17254072b4492667a57844cc",
            "8ad0505168f64a15b13a47d187e2e943",
            "16001de6a4b04bc3aa95112b2bc065aa",
            "c12b13ecfb9c456e9281075c1a52d527",
            "6cb8aed003e34e9494fe88a2cbc678d3",
            "b0d267c21d8a4433a8f76a0bb33a80ca",
            "7295ab3ceadc4a9ca1bcf4d1b6e7c408",
            "74b1871ab26541b8b6482ed249a901ca",
            "b3a2d9c06b8849af9f3df680a81cd835",
            "732480fabe2a49b2b4e69e7e38193afa",
            "c14915f47d724f22a819d9a866135bdf",
            "a93d9abac83c46a58fe9ee82cd911a0c",
            "2b0c84bd182c42d982283347df2aab10",
            "ee51f3ce8ecd43bfb3ede83ce66abc28",
            "a769df5fb6084c2c9c98d59bc95b7681",
            "0848f83475804954a0f5b8e745ba6ca2",
            "4d76a774013e406ba91e6edc8a021816",
            "15826a09c0ce4beb98684f563ca9712f",
            "40b906ecebc2498bb6e0d4584d1be047",
            "d7581237cb914f3785576640bf99efbd",
            "d6c8f123efdf4f5c9e2b8bc4f204bc82",
            "8cbf96c98b1f4244a253fea515ef0a10",
            "bec72189b89f44deafbdc5bc853e26cb",
            "cd94381f4c3c4083964c76be9c125ac2",
            "c7f0acbce1354358bd08f2878b75def8",
            "cb8ed752cb7944ecae9c6c7b2b534496",
            "0ef829756311460e9df505a7ebd212f5",
            "afde966927704f668aa3958ca7683e39",
            "529a03d9c0fe4a21a18d22fdb79107f2"
          ]
        },
        "id": "kxPOMcUQe5yr",
        "outputId": "a3b02603-2b6e-4ac2-eb6c-3122b4df21f6"
      },
      "execution_count": 36,
      "outputs": [
        {
          "output_type": "display_data",
          "data": {
            "text/plain": [
              "Summarize dataset:   0%|          | 0/5 [00:00<?, ?it/s]"
            ],
            "application/vnd.jupyter.widget-view+json": {
              "version_major": 2,
              "version_minor": 0,
              "model_id": "424367c7fa7848849b543850e336bd66"
            }
          },
          "metadata": {}
        },
        {
          "output_type": "display_data",
          "data": {
            "text/plain": [
              "Generate report structure:   0%|          | 0/1 [00:00<?, ?it/s]"
            ],
            "application/vnd.jupyter.widget-view+json": {
              "version_major": 2,
              "version_minor": 0,
              "model_id": "06d0645a4f5a46c7b472533ab5ec8422"
            }
          },
          "metadata": {}
        },
        {
          "output_type": "display_data",
          "data": {
            "text/plain": [
              "Render HTML:   0%|          | 0/1 [00:00<?, ?it/s]"
            ],
            "application/vnd.jupyter.widget-view+json": {
              "version_major": 2,
              "version_minor": 0,
              "model_id": "74b1871ab26541b8b6482ed249a901ca"
            }
          },
          "metadata": {}
        },
        {
          "output_type": "display_data",
          "data": {
            "text/plain": [
              "Export report to file:   0%|          | 0/1 [00:00<?, ?it/s]"
            ],
            "application/vnd.jupyter.widget-view+json": {
              "version_major": 2,
              "version_minor": 0,
              "model_id": "40b906ecebc2498bb6e0d4584d1be047"
            }
          },
          "metadata": {}
        }
      ]
    }
  ]
}