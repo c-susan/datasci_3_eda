{
  "nbformat": 4,
  "nbformat_minor": 0,
  "metadata": {
    "colab": {
      "provenance": [],
      "collapsed_sections": [
        "xG5EuMdAUxCy",
        "67DKGJFzVujg",
        "m8FsckcWWKAI"
      ],
      "authorship_tag": "ABX9TyOzlA0OqQ1t6TsUmNPzEo94",
      "include_colab_link": true
    },
    "kernelspec": {
      "name": "python3",
      "display_name": "Python 3"
    },
    "language_info": {
      "name": "python"
    }
  },
  "cells": [
    {
      "cell_type": "markdown",
      "metadata": {
        "id": "view-in-github",
        "colab_type": "text"
      },
      "source": [
        "<a href=\"https://colab.research.google.com/github/c-susan/datasci_3_eda/blob/main/hha507assignment3.ipynb\" target=\"_parent\"><img src=\"https://colab.research.google.com/assets/colab-badge.svg\" alt=\"Open In Colab\"/></a>"
      ]
    },
    {
      "cell_type": "markdown",
      "source": [
        "## Load Packages"
      ],
      "metadata": {
        "id": "lt5vjdNYAPap"
      }
    },
    {
      "cell_type": "code",
      "source": [
        "import pandas as pd\n",
        "import matplotlib.pyplot as plt"
      ],
      "metadata": {
        "id": "DxGVkQLECCSw"
      },
      "execution_count": 192,
      "outputs": []
    },
    {
      "cell_type": "markdown",
      "source": [
        "## Loading and Cleaning Dataset"
      ],
      "metadata": {
        "id": "x3X9cDLeATYf"
      }
    },
    {
      "cell_type": "code",
      "source": [
        "df = pd.read_csv('https://raw.githubusercontent.com/c-susan/datasci_3_eda/main/datasets/medicare_telehealth_trends_q12023.csv')"
      ],
      "metadata": {
        "id": "5zoCWuIWCCwM"
      },
      "execution_count": 193,
      "outputs": []
    },
    {
      "cell_type": "code",
      "source": [
        "# Checking for number of rows and columns\n",
        "print(f'Rows: {df.shape[0]}')\n",
        "print(f'Columns: {df.shape[1]}')"
      ],
      "metadata": {
        "colab": {
          "base_uri": "https://localhost:8080/"
        },
        "id": "sMH432EA00oH",
        "outputId": "6d847fc9-14c6-4112-c45d-f846db0ea1a3"
      },
      "execution_count": 194,
      "outputs": [
        {
          "output_type": "stream",
          "name": "stdout",
          "text": [
            "Rows: 19264\n",
            "Columns: 13\n"
          ]
        }
      ]
    },
    {
      "cell_type": "code",
      "source": [
        "# Preview of data\n",
        "df.sample(10)"
      ],
      "metadata": {
        "colab": {
          "base_uri": "https://localhost:8080/",
          "height": 413
        },
        "id": "NecP0Oto02Pf",
        "outputId": "858e0bf4-1d28-41cc-ad65-e218f43d75c6"
      },
      "execution_count": 195,
      "outputs": [
        {
          "output_type": "execute_result",
          "data": {
            "text/plain": [
              "       Year  quarter Bene_Geo_Desc Bene_Mdcd_Mdcr_Enrl_Stus  \\\n",
              "7793   2021        2      National                      All   \n",
              "9920   2021        4      Illinois                      All   \n",
              "13584  2022        2        Kansas                      All   \n",
              "12940  2022        1      Oklahoma                      All   \n",
              "17323  2022  Overall      Michigan                      All   \n",
              "4635   2020        4     Tennessee                      All   \n",
              "6550   2021        1      Missouri                      All   \n",
              "1752   2020        2       Montana                      All   \n",
              "8788   2021        3      Kentucky                      All   \n",
              "11483  2021  Overall      National                      All   \n",
              "\n",
              "               Bene_Race_Desc Bene_Sex_Desc Bene_Mdcr_Entlmt_Stus  \\\n",
              "7793                      All           All                   All   \n",
              "9920   Black/African American           All                   All   \n",
              "13584                     All           All                   All   \n",
              "12940  Asian/Pacific Islander           All                   All   \n",
              "17323                     All           All                   All   \n",
              "4635                      All           All                  ESRD   \n",
              "6550                      All           All                   All   \n",
              "1752                      All           All                   All   \n",
              "8788                      All           All                   All   \n",
              "11483           Other/Unknown           All                   All   \n",
              "\n",
              "      Bene_Age_Desc Bene_RUCA_Desc  Total_Bene_TH_Elig  Total_PartB_Enrl  \\\n",
              "7793           0-64            All           2756018.0         3776832.0   \n",
              "9920            All            All             87822.0          117942.0   \n",
              "13584   85 and over            All             39166.0           45731.0   \n",
              "12940           All            All              2674.0            4220.0   \n",
              "17323           All            All            817132.0          828516.0   \n",
              "4635            All            All              7860.0            8234.0   \n",
              "6550    85 and over            All             58929.0           74028.0   \n",
              "1752           0-64            All             12086.0           18683.0   \n",
              "8788          75-84            All            100774.0          120628.0   \n",
              "11483          0-64            All                 NaN               NaN   \n",
              "\n",
              "       Total_Bene_Telehealth  Pct_Telehealth  \n",
              "7793                934889.0          0.3392  \n",
              "9920                 16729.0          0.1905  \n",
              "13584                 2608.0          0.0666  \n",
              "12940                  326.0          0.1219  \n",
              "17323               258198.0          0.3160  \n",
              "4635                  1593.0          0.2027  \n",
              "6550                  8763.0          0.1487  \n",
              "1752                  5339.0          0.4418  \n",
              "8788                 10851.0          0.1077  \n",
              "11483                    NaN             NaN  "
            ],
            "text/html": [
              "\n",
              "  <div id=\"df-528556b2-c03b-4788-89a7-e5b2e0611be2\" class=\"colab-df-container\">\n",
              "    <div>\n",
              "<style scoped>\n",
              "    .dataframe tbody tr th:only-of-type {\n",
              "        vertical-align: middle;\n",
              "    }\n",
              "\n",
              "    .dataframe tbody tr th {\n",
              "        vertical-align: top;\n",
              "    }\n",
              "\n",
              "    .dataframe thead th {\n",
              "        text-align: right;\n",
              "    }\n",
              "</style>\n",
              "<table border=\"1\" class=\"dataframe\">\n",
              "  <thead>\n",
              "    <tr style=\"text-align: right;\">\n",
              "      <th></th>\n",
              "      <th>Year</th>\n",
              "      <th>quarter</th>\n",
              "      <th>Bene_Geo_Desc</th>\n",
              "      <th>Bene_Mdcd_Mdcr_Enrl_Stus</th>\n",
              "      <th>Bene_Race_Desc</th>\n",
              "      <th>Bene_Sex_Desc</th>\n",
              "      <th>Bene_Mdcr_Entlmt_Stus</th>\n",
              "      <th>Bene_Age_Desc</th>\n",
              "      <th>Bene_RUCA_Desc</th>\n",
              "      <th>Total_Bene_TH_Elig</th>\n",
              "      <th>Total_PartB_Enrl</th>\n",
              "      <th>Total_Bene_Telehealth</th>\n",
              "      <th>Pct_Telehealth</th>\n",
              "    </tr>\n",
              "  </thead>\n",
              "  <tbody>\n",
              "    <tr>\n",
              "      <th>7793</th>\n",
              "      <td>2021</td>\n",
              "      <td>2</td>\n",
              "      <td>National</td>\n",
              "      <td>All</td>\n",
              "      <td>All</td>\n",
              "      <td>All</td>\n",
              "      <td>All</td>\n",
              "      <td>0-64</td>\n",
              "      <td>All</td>\n",
              "      <td>2756018.0</td>\n",
              "      <td>3776832.0</td>\n",
              "      <td>934889.0</td>\n",
              "      <td>0.3392</td>\n",
              "    </tr>\n",
              "    <tr>\n",
              "      <th>9920</th>\n",
              "      <td>2021</td>\n",
              "      <td>4</td>\n",
              "      <td>Illinois</td>\n",
              "      <td>All</td>\n",
              "      <td>Black/African American</td>\n",
              "      <td>All</td>\n",
              "      <td>All</td>\n",
              "      <td>All</td>\n",
              "      <td>All</td>\n",
              "      <td>87822.0</td>\n",
              "      <td>117942.0</td>\n",
              "      <td>16729.0</td>\n",
              "      <td>0.1905</td>\n",
              "    </tr>\n",
              "    <tr>\n",
              "      <th>13584</th>\n",
              "      <td>2022</td>\n",
              "      <td>2</td>\n",
              "      <td>Kansas</td>\n",
              "      <td>All</td>\n",
              "      <td>All</td>\n",
              "      <td>All</td>\n",
              "      <td>All</td>\n",
              "      <td>85 and over</td>\n",
              "      <td>All</td>\n",
              "      <td>39166.0</td>\n",
              "      <td>45731.0</td>\n",
              "      <td>2608.0</td>\n",
              "      <td>0.0666</td>\n",
              "    </tr>\n",
              "    <tr>\n",
              "      <th>12940</th>\n",
              "      <td>2022</td>\n",
              "      <td>1</td>\n",
              "      <td>Oklahoma</td>\n",
              "      <td>All</td>\n",
              "      <td>Asian/Pacific Islander</td>\n",
              "      <td>All</td>\n",
              "      <td>All</td>\n",
              "      <td>All</td>\n",
              "      <td>All</td>\n",
              "      <td>2674.0</td>\n",
              "      <td>4220.0</td>\n",
              "      <td>326.0</td>\n",
              "      <td>0.1219</td>\n",
              "    </tr>\n",
              "    <tr>\n",
              "      <th>17323</th>\n",
              "      <td>2022</td>\n",
              "      <td>Overall</td>\n",
              "      <td>Michigan</td>\n",
              "      <td>All</td>\n",
              "      <td>All</td>\n",
              "      <td>All</td>\n",
              "      <td>All</td>\n",
              "      <td>All</td>\n",
              "      <td>All</td>\n",
              "      <td>817132.0</td>\n",
              "      <td>828516.0</td>\n",
              "      <td>258198.0</td>\n",
              "      <td>0.3160</td>\n",
              "    </tr>\n",
              "    <tr>\n",
              "      <th>4635</th>\n",
              "      <td>2020</td>\n",
              "      <td>4</td>\n",
              "      <td>Tennessee</td>\n",
              "      <td>All</td>\n",
              "      <td>All</td>\n",
              "      <td>All</td>\n",
              "      <td>ESRD</td>\n",
              "      <td>All</td>\n",
              "      <td>All</td>\n",
              "      <td>7860.0</td>\n",
              "      <td>8234.0</td>\n",
              "      <td>1593.0</td>\n",
              "      <td>0.2027</td>\n",
              "    </tr>\n",
              "    <tr>\n",
              "      <th>6550</th>\n",
              "      <td>2021</td>\n",
              "      <td>1</td>\n",
              "      <td>Missouri</td>\n",
              "      <td>All</td>\n",
              "      <td>All</td>\n",
              "      <td>All</td>\n",
              "      <td>All</td>\n",
              "      <td>85 and over</td>\n",
              "      <td>All</td>\n",
              "      <td>58929.0</td>\n",
              "      <td>74028.0</td>\n",
              "      <td>8763.0</td>\n",
              "      <td>0.1487</td>\n",
              "    </tr>\n",
              "    <tr>\n",
              "      <th>1752</th>\n",
              "      <td>2020</td>\n",
              "      <td>2</td>\n",
              "      <td>Montana</td>\n",
              "      <td>All</td>\n",
              "      <td>All</td>\n",
              "      <td>All</td>\n",
              "      <td>All</td>\n",
              "      <td>0-64</td>\n",
              "      <td>All</td>\n",
              "      <td>12086.0</td>\n",
              "      <td>18683.0</td>\n",
              "      <td>5339.0</td>\n",
              "      <td>0.4418</td>\n",
              "    </tr>\n",
              "    <tr>\n",
              "      <th>8788</th>\n",
              "      <td>2021</td>\n",
              "      <td>3</td>\n",
              "      <td>Kentucky</td>\n",
              "      <td>All</td>\n",
              "      <td>All</td>\n",
              "      <td>All</td>\n",
              "      <td>All</td>\n",
              "      <td>75-84</td>\n",
              "      <td>All</td>\n",
              "      <td>100774.0</td>\n",
              "      <td>120628.0</td>\n",
              "      <td>10851.0</td>\n",
              "      <td>0.1077</td>\n",
              "    </tr>\n",
              "    <tr>\n",
              "      <th>11483</th>\n",
              "      <td>2021</td>\n",
              "      <td>Overall</td>\n",
              "      <td>National</td>\n",
              "      <td>All</td>\n",
              "      <td>Other/Unknown</td>\n",
              "      <td>All</td>\n",
              "      <td>All</td>\n",
              "      <td>0-64</td>\n",
              "      <td>All</td>\n",
              "      <td>NaN</td>\n",
              "      <td>NaN</td>\n",
              "      <td>NaN</td>\n",
              "      <td>NaN</td>\n",
              "    </tr>\n",
              "  </tbody>\n",
              "</table>\n",
              "</div>\n",
              "    <div class=\"colab-df-buttons\">\n",
              "\n",
              "  <div class=\"colab-df-container\">\n",
              "    <button class=\"colab-df-convert\" onclick=\"convertToInteractive('df-528556b2-c03b-4788-89a7-e5b2e0611be2')\"\n",
              "            title=\"Convert this dataframe to an interactive table.\"\n",
              "            style=\"display:none;\">\n",
              "\n",
              "  <svg xmlns=\"http://www.w3.org/2000/svg\" height=\"24px\" viewBox=\"0 -960 960 960\">\n",
              "    <path d=\"M120-120v-720h720v720H120Zm60-500h600v-160H180v160Zm220 220h160v-160H400v160Zm0 220h160v-160H400v160ZM180-400h160v-160H180v160Zm440 0h160v-160H620v160ZM180-180h160v-160H180v160Zm440 0h160v-160H620v160Z\"/>\n",
              "  </svg>\n",
              "    </button>\n",
              "\n",
              "  <style>\n",
              "    .colab-df-container {\n",
              "      display:flex;\n",
              "      gap: 12px;\n",
              "    }\n",
              "\n",
              "    .colab-df-convert {\n",
              "      background-color: #E8F0FE;\n",
              "      border: none;\n",
              "      border-radius: 50%;\n",
              "      cursor: pointer;\n",
              "      display: none;\n",
              "      fill: #1967D2;\n",
              "      height: 32px;\n",
              "      padding: 0 0 0 0;\n",
              "      width: 32px;\n",
              "    }\n",
              "\n",
              "    .colab-df-convert:hover {\n",
              "      background-color: #E2EBFA;\n",
              "      box-shadow: 0px 1px 2px rgba(60, 64, 67, 0.3), 0px 1px 3px 1px rgba(60, 64, 67, 0.15);\n",
              "      fill: #174EA6;\n",
              "    }\n",
              "\n",
              "    .colab-df-buttons div {\n",
              "      margin-bottom: 4px;\n",
              "    }\n",
              "\n",
              "    [theme=dark] .colab-df-convert {\n",
              "      background-color: #3B4455;\n",
              "      fill: #D2E3FC;\n",
              "    }\n",
              "\n",
              "    [theme=dark] .colab-df-convert:hover {\n",
              "      background-color: #434B5C;\n",
              "      box-shadow: 0px 1px 3px 1px rgba(0, 0, 0, 0.15);\n",
              "      filter: drop-shadow(0px 1px 2px rgba(0, 0, 0, 0.3));\n",
              "      fill: #FFFFFF;\n",
              "    }\n",
              "  </style>\n",
              "\n",
              "    <script>\n",
              "      const buttonEl =\n",
              "        document.querySelector('#df-528556b2-c03b-4788-89a7-e5b2e0611be2 button.colab-df-convert');\n",
              "      buttonEl.style.display =\n",
              "        google.colab.kernel.accessAllowed ? 'block' : 'none';\n",
              "\n",
              "      async function convertToInteractive(key) {\n",
              "        const element = document.querySelector('#df-528556b2-c03b-4788-89a7-e5b2e0611be2');\n",
              "        const dataTable =\n",
              "          await google.colab.kernel.invokeFunction('convertToInteractive',\n",
              "                                                    [key], {});\n",
              "        if (!dataTable) return;\n",
              "\n",
              "        const docLinkHtml = 'Like what you see? Visit the ' +\n",
              "          '<a target=\"_blank\" href=https://colab.research.google.com/notebooks/data_table.ipynb>data table notebook</a>'\n",
              "          + ' to learn more about interactive tables.';\n",
              "        element.innerHTML = '';\n",
              "        dataTable['output_type'] = 'display_data';\n",
              "        await google.colab.output.renderOutput(dataTable, element);\n",
              "        const docLink = document.createElement('div');\n",
              "        docLink.innerHTML = docLinkHtml;\n",
              "        element.appendChild(docLink);\n",
              "      }\n",
              "    </script>\n",
              "  </div>\n",
              "\n",
              "\n",
              "<div id=\"df-ce381035-128b-4b7a-b02d-9ace9ce40035\">\n",
              "  <button class=\"colab-df-quickchart\" onclick=\"quickchart('df-ce381035-128b-4b7a-b02d-9ace9ce40035')\"\n",
              "            title=\"Suggest charts.\"\n",
              "            style=\"display:none;\">\n",
              "\n",
              "<svg xmlns=\"http://www.w3.org/2000/svg\" height=\"24px\"viewBox=\"0 0 24 24\"\n",
              "     width=\"24px\">\n",
              "    <g>\n",
              "        <path d=\"M19 3H5c-1.1 0-2 .9-2 2v14c0 1.1.9 2 2 2h14c1.1 0 2-.9 2-2V5c0-1.1-.9-2-2-2zM9 17H7v-7h2v7zm4 0h-2V7h2v10zm4 0h-2v-4h2v4z\"/>\n",
              "    </g>\n",
              "</svg>\n",
              "  </button>\n",
              "\n",
              "<style>\n",
              "  .colab-df-quickchart {\n",
              "      --bg-color: #E8F0FE;\n",
              "      --fill-color: #1967D2;\n",
              "      --hover-bg-color: #E2EBFA;\n",
              "      --hover-fill-color: #174EA6;\n",
              "      --disabled-fill-color: #AAA;\n",
              "      --disabled-bg-color: #DDD;\n",
              "  }\n",
              "\n",
              "  [theme=dark] .colab-df-quickchart {\n",
              "      --bg-color: #3B4455;\n",
              "      --fill-color: #D2E3FC;\n",
              "      --hover-bg-color: #434B5C;\n",
              "      --hover-fill-color: #FFFFFF;\n",
              "      --disabled-bg-color: #3B4455;\n",
              "      --disabled-fill-color: #666;\n",
              "  }\n",
              "\n",
              "  .colab-df-quickchart {\n",
              "    background-color: var(--bg-color);\n",
              "    border: none;\n",
              "    border-radius: 50%;\n",
              "    cursor: pointer;\n",
              "    display: none;\n",
              "    fill: var(--fill-color);\n",
              "    height: 32px;\n",
              "    padding: 0;\n",
              "    width: 32px;\n",
              "  }\n",
              "\n",
              "  .colab-df-quickchart:hover {\n",
              "    background-color: var(--hover-bg-color);\n",
              "    box-shadow: 0 1px 2px rgba(60, 64, 67, 0.3), 0 1px 3px 1px rgba(60, 64, 67, 0.15);\n",
              "    fill: var(--button-hover-fill-color);\n",
              "  }\n",
              "\n",
              "  .colab-df-quickchart-complete:disabled,\n",
              "  .colab-df-quickchart-complete:disabled:hover {\n",
              "    background-color: var(--disabled-bg-color);\n",
              "    fill: var(--disabled-fill-color);\n",
              "    box-shadow: none;\n",
              "  }\n",
              "\n",
              "  .colab-df-spinner {\n",
              "    border: 2px solid var(--fill-color);\n",
              "    border-color: transparent;\n",
              "    border-bottom-color: var(--fill-color);\n",
              "    animation:\n",
              "      spin 1s steps(1) infinite;\n",
              "  }\n",
              "\n",
              "  @keyframes spin {\n",
              "    0% {\n",
              "      border-color: transparent;\n",
              "      border-bottom-color: var(--fill-color);\n",
              "      border-left-color: var(--fill-color);\n",
              "    }\n",
              "    20% {\n",
              "      border-color: transparent;\n",
              "      border-left-color: var(--fill-color);\n",
              "      border-top-color: var(--fill-color);\n",
              "    }\n",
              "    30% {\n",
              "      border-color: transparent;\n",
              "      border-left-color: var(--fill-color);\n",
              "      border-top-color: var(--fill-color);\n",
              "      border-right-color: var(--fill-color);\n",
              "    }\n",
              "    40% {\n",
              "      border-color: transparent;\n",
              "      border-right-color: var(--fill-color);\n",
              "      border-top-color: var(--fill-color);\n",
              "    }\n",
              "    60% {\n",
              "      border-color: transparent;\n",
              "      border-right-color: var(--fill-color);\n",
              "    }\n",
              "    80% {\n",
              "      border-color: transparent;\n",
              "      border-right-color: var(--fill-color);\n",
              "      border-bottom-color: var(--fill-color);\n",
              "    }\n",
              "    90% {\n",
              "      border-color: transparent;\n",
              "      border-bottom-color: var(--fill-color);\n",
              "    }\n",
              "  }\n",
              "</style>\n",
              "\n",
              "  <script>\n",
              "    async function quickchart(key) {\n",
              "      const quickchartButtonEl =\n",
              "        document.querySelector('#' + key + ' button');\n",
              "      quickchartButtonEl.disabled = true;  // To prevent multiple clicks.\n",
              "      quickchartButtonEl.classList.add('colab-df-spinner');\n",
              "      try {\n",
              "        const charts = await google.colab.kernel.invokeFunction(\n",
              "            'suggestCharts', [key], {});\n",
              "      } catch (error) {\n",
              "        console.error('Error during call to suggestCharts:', error);\n",
              "      }\n",
              "      quickchartButtonEl.classList.remove('colab-df-spinner');\n",
              "      quickchartButtonEl.classList.add('colab-df-quickchart-complete');\n",
              "    }\n",
              "    (() => {\n",
              "      let quickchartButtonEl =\n",
              "        document.querySelector('#df-ce381035-128b-4b7a-b02d-9ace9ce40035 button');\n",
              "      quickchartButtonEl.style.display =\n",
              "        google.colab.kernel.accessAllowed ? 'block' : 'none';\n",
              "    })();\n",
              "  </script>\n",
              "</div>\n",
              "    </div>\n",
              "  </div>\n"
            ]
          },
          "metadata": {},
          "execution_count": 195
        }
      ]
    },
    {
      "cell_type": "code",
      "source": [
        "# Cleaning column names\n",
        "columnNames = list(df)\n",
        "df.columns = [name.strip().lower() for name in columnNames]\n",
        "df"
      ],
      "metadata": {
        "colab": {
          "base_uri": "https://localhost:8080/",
          "height": 456
        },
        "id": "FVo1ELOm1UXz",
        "outputId": "9ef6ad8b-565c-45b5-d1c4-89b3c171aa10"
      },
      "execution_count": 196,
      "outputs": [
        {
          "output_type": "execute_result",
          "data": {
            "text/plain": [
              "       year quarter bene_geo_desc bene_mdcd_mdcr_enrl_stus  \\\n",
              "0      2020       1       Alabama                      All   \n",
              "1      2020       1       Alabama                      All   \n",
              "2      2020       1       Alabama                      All   \n",
              "3      2020       1       Alabama                      All   \n",
              "4      2020       1       Alabama                      All   \n",
              "...     ...     ...           ...                      ...   \n",
              "19259  2023       1       Wyoming                      All   \n",
              "19260  2023       1       Wyoming                      All   \n",
              "19261  2023       1       Wyoming                      All   \n",
              "19262  2023       1       Wyoming      Medicare & Medicaid   \n",
              "19263  2023       1       Wyoming            Medicare Only   \n",
              "\n",
              "           bene_race_desc bene_sex_desc bene_mdcr_entlmt_stus bene_age_desc  \\\n",
              "0                     All           All                  Aged           All   \n",
              "1                     All           All                   All          0-64   \n",
              "2                     All           All                   All         65-74   \n",
              "3                     All           All                   All         75-84   \n",
              "4                     All           All                   All   85 and over   \n",
              "...                   ...           ...                   ...           ...   \n",
              "19259            Hispanic           All                   All           All   \n",
              "19260  Non-Hispanic White           All                   All           All   \n",
              "19261       Other/Unknown           All                   All           All   \n",
              "19262                 All           All                   All           All   \n",
              "19263                 All           All                   All           All   \n",
              "\n",
              "      bene_ruca_desc  total_bene_th_elig  total_partb_enrl  \\\n",
              "0                All            321952.0          410710.0   \n",
              "1                All             68081.0           93955.0   \n",
              "2                All            163291.0          217543.0   \n",
              "3                All            113008.0          136957.0   \n",
              "4                All             49169.0           59755.0   \n",
              "...              ...                 ...               ...   \n",
              "19259            All              2476.0            3786.0   \n",
              "19260            All             59795.0           89194.0   \n",
              "19261            All                 NaN               NaN   \n",
              "19262            All              7781.0           10302.0   \n",
              "19263            All             57582.0           87532.0   \n",
              "\n",
              "       total_bene_telehealth  pct_telehealth  \n",
              "0                    16321.0          0.0507  \n",
              "1                     5254.0          0.0772  \n",
              "2                     8652.0          0.0530  \n",
              "3                     5712.0          0.0505  \n",
              "4                     2178.0          0.0443  \n",
              "...                      ...             ...  \n",
              "19259                  213.0          0.0860  \n",
              "19260                 4813.0          0.0805  \n",
              "19261                    NaN             NaN  \n",
              "19262                 1373.0          0.1765  \n",
              "19263                 3976.0          0.0690  \n",
              "\n",
              "[19264 rows x 13 columns]"
            ],
            "text/html": [
              "\n",
              "  <div id=\"df-6e9f3dd2-3c63-4675-b0a7-f9ac187ed60f\" class=\"colab-df-container\">\n",
              "    <div>\n",
              "<style scoped>\n",
              "    .dataframe tbody tr th:only-of-type {\n",
              "        vertical-align: middle;\n",
              "    }\n",
              "\n",
              "    .dataframe tbody tr th {\n",
              "        vertical-align: top;\n",
              "    }\n",
              "\n",
              "    .dataframe thead th {\n",
              "        text-align: right;\n",
              "    }\n",
              "</style>\n",
              "<table border=\"1\" class=\"dataframe\">\n",
              "  <thead>\n",
              "    <tr style=\"text-align: right;\">\n",
              "      <th></th>\n",
              "      <th>year</th>\n",
              "      <th>quarter</th>\n",
              "      <th>bene_geo_desc</th>\n",
              "      <th>bene_mdcd_mdcr_enrl_stus</th>\n",
              "      <th>bene_race_desc</th>\n",
              "      <th>bene_sex_desc</th>\n",
              "      <th>bene_mdcr_entlmt_stus</th>\n",
              "      <th>bene_age_desc</th>\n",
              "      <th>bene_ruca_desc</th>\n",
              "      <th>total_bene_th_elig</th>\n",
              "      <th>total_partb_enrl</th>\n",
              "      <th>total_bene_telehealth</th>\n",
              "      <th>pct_telehealth</th>\n",
              "    </tr>\n",
              "  </thead>\n",
              "  <tbody>\n",
              "    <tr>\n",
              "      <th>0</th>\n",
              "      <td>2020</td>\n",
              "      <td>1</td>\n",
              "      <td>Alabama</td>\n",
              "      <td>All</td>\n",
              "      <td>All</td>\n",
              "      <td>All</td>\n",
              "      <td>Aged</td>\n",
              "      <td>All</td>\n",
              "      <td>All</td>\n",
              "      <td>321952.0</td>\n",
              "      <td>410710.0</td>\n",
              "      <td>16321.0</td>\n",
              "      <td>0.0507</td>\n",
              "    </tr>\n",
              "    <tr>\n",
              "      <th>1</th>\n",
              "      <td>2020</td>\n",
              "      <td>1</td>\n",
              "      <td>Alabama</td>\n",
              "      <td>All</td>\n",
              "      <td>All</td>\n",
              "      <td>All</td>\n",
              "      <td>All</td>\n",
              "      <td>0-64</td>\n",
              "      <td>All</td>\n",
              "      <td>68081.0</td>\n",
              "      <td>93955.0</td>\n",
              "      <td>5254.0</td>\n",
              "      <td>0.0772</td>\n",
              "    </tr>\n",
              "    <tr>\n",
              "      <th>2</th>\n",
              "      <td>2020</td>\n",
              "      <td>1</td>\n",
              "      <td>Alabama</td>\n",
              "      <td>All</td>\n",
              "      <td>All</td>\n",
              "      <td>All</td>\n",
              "      <td>All</td>\n",
              "      <td>65-74</td>\n",
              "      <td>All</td>\n",
              "      <td>163291.0</td>\n",
              "      <td>217543.0</td>\n",
              "      <td>8652.0</td>\n",
              "      <td>0.0530</td>\n",
              "    </tr>\n",
              "    <tr>\n",
              "      <th>3</th>\n",
              "      <td>2020</td>\n",
              "      <td>1</td>\n",
              "      <td>Alabama</td>\n",
              "      <td>All</td>\n",
              "      <td>All</td>\n",
              "      <td>All</td>\n",
              "      <td>All</td>\n",
              "      <td>75-84</td>\n",
              "      <td>All</td>\n",
              "      <td>113008.0</td>\n",
              "      <td>136957.0</td>\n",
              "      <td>5712.0</td>\n",
              "      <td>0.0505</td>\n",
              "    </tr>\n",
              "    <tr>\n",
              "      <th>4</th>\n",
              "      <td>2020</td>\n",
              "      <td>1</td>\n",
              "      <td>Alabama</td>\n",
              "      <td>All</td>\n",
              "      <td>All</td>\n",
              "      <td>All</td>\n",
              "      <td>All</td>\n",
              "      <td>85 and over</td>\n",
              "      <td>All</td>\n",
              "      <td>49169.0</td>\n",
              "      <td>59755.0</td>\n",
              "      <td>2178.0</td>\n",
              "      <td>0.0443</td>\n",
              "    </tr>\n",
              "    <tr>\n",
              "      <th>...</th>\n",
              "      <td>...</td>\n",
              "      <td>...</td>\n",
              "      <td>...</td>\n",
              "      <td>...</td>\n",
              "      <td>...</td>\n",
              "      <td>...</td>\n",
              "      <td>...</td>\n",
              "      <td>...</td>\n",
              "      <td>...</td>\n",
              "      <td>...</td>\n",
              "      <td>...</td>\n",
              "      <td>...</td>\n",
              "      <td>...</td>\n",
              "    </tr>\n",
              "    <tr>\n",
              "      <th>19259</th>\n",
              "      <td>2023</td>\n",
              "      <td>1</td>\n",
              "      <td>Wyoming</td>\n",
              "      <td>All</td>\n",
              "      <td>Hispanic</td>\n",
              "      <td>All</td>\n",
              "      <td>All</td>\n",
              "      <td>All</td>\n",
              "      <td>All</td>\n",
              "      <td>2476.0</td>\n",
              "      <td>3786.0</td>\n",
              "      <td>213.0</td>\n",
              "      <td>0.0860</td>\n",
              "    </tr>\n",
              "    <tr>\n",
              "      <th>19260</th>\n",
              "      <td>2023</td>\n",
              "      <td>1</td>\n",
              "      <td>Wyoming</td>\n",
              "      <td>All</td>\n",
              "      <td>Non-Hispanic White</td>\n",
              "      <td>All</td>\n",
              "      <td>All</td>\n",
              "      <td>All</td>\n",
              "      <td>All</td>\n",
              "      <td>59795.0</td>\n",
              "      <td>89194.0</td>\n",
              "      <td>4813.0</td>\n",
              "      <td>0.0805</td>\n",
              "    </tr>\n",
              "    <tr>\n",
              "      <th>19261</th>\n",
              "      <td>2023</td>\n",
              "      <td>1</td>\n",
              "      <td>Wyoming</td>\n",
              "      <td>All</td>\n",
              "      <td>Other/Unknown</td>\n",
              "      <td>All</td>\n",
              "      <td>All</td>\n",
              "      <td>All</td>\n",
              "      <td>All</td>\n",
              "      <td>NaN</td>\n",
              "      <td>NaN</td>\n",
              "      <td>NaN</td>\n",
              "      <td>NaN</td>\n",
              "    </tr>\n",
              "    <tr>\n",
              "      <th>19262</th>\n",
              "      <td>2023</td>\n",
              "      <td>1</td>\n",
              "      <td>Wyoming</td>\n",
              "      <td>Medicare &amp; Medicaid</td>\n",
              "      <td>All</td>\n",
              "      <td>All</td>\n",
              "      <td>All</td>\n",
              "      <td>All</td>\n",
              "      <td>All</td>\n",
              "      <td>7781.0</td>\n",
              "      <td>10302.0</td>\n",
              "      <td>1373.0</td>\n",
              "      <td>0.1765</td>\n",
              "    </tr>\n",
              "    <tr>\n",
              "      <th>19263</th>\n",
              "      <td>2023</td>\n",
              "      <td>1</td>\n",
              "      <td>Wyoming</td>\n",
              "      <td>Medicare Only</td>\n",
              "      <td>All</td>\n",
              "      <td>All</td>\n",
              "      <td>All</td>\n",
              "      <td>All</td>\n",
              "      <td>All</td>\n",
              "      <td>57582.0</td>\n",
              "      <td>87532.0</td>\n",
              "      <td>3976.0</td>\n",
              "      <td>0.0690</td>\n",
              "    </tr>\n",
              "  </tbody>\n",
              "</table>\n",
              "<p>19264 rows × 13 columns</p>\n",
              "</div>\n",
              "    <div class=\"colab-df-buttons\">\n",
              "\n",
              "  <div class=\"colab-df-container\">\n",
              "    <button class=\"colab-df-convert\" onclick=\"convertToInteractive('df-6e9f3dd2-3c63-4675-b0a7-f9ac187ed60f')\"\n",
              "            title=\"Convert this dataframe to an interactive table.\"\n",
              "            style=\"display:none;\">\n",
              "\n",
              "  <svg xmlns=\"http://www.w3.org/2000/svg\" height=\"24px\" viewBox=\"0 -960 960 960\">\n",
              "    <path d=\"M120-120v-720h720v720H120Zm60-500h600v-160H180v160Zm220 220h160v-160H400v160Zm0 220h160v-160H400v160ZM180-400h160v-160H180v160Zm440 0h160v-160H620v160ZM180-180h160v-160H180v160Zm440 0h160v-160H620v160Z\"/>\n",
              "  </svg>\n",
              "    </button>\n",
              "\n",
              "  <style>\n",
              "    .colab-df-container {\n",
              "      display:flex;\n",
              "      gap: 12px;\n",
              "    }\n",
              "\n",
              "    .colab-df-convert {\n",
              "      background-color: #E8F0FE;\n",
              "      border: none;\n",
              "      border-radius: 50%;\n",
              "      cursor: pointer;\n",
              "      display: none;\n",
              "      fill: #1967D2;\n",
              "      height: 32px;\n",
              "      padding: 0 0 0 0;\n",
              "      width: 32px;\n",
              "    }\n",
              "\n",
              "    .colab-df-convert:hover {\n",
              "      background-color: #E2EBFA;\n",
              "      box-shadow: 0px 1px 2px rgba(60, 64, 67, 0.3), 0px 1px 3px 1px rgba(60, 64, 67, 0.15);\n",
              "      fill: #174EA6;\n",
              "    }\n",
              "\n",
              "    .colab-df-buttons div {\n",
              "      margin-bottom: 4px;\n",
              "    }\n",
              "\n",
              "    [theme=dark] .colab-df-convert {\n",
              "      background-color: #3B4455;\n",
              "      fill: #D2E3FC;\n",
              "    }\n",
              "\n",
              "    [theme=dark] .colab-df-convert:hover {\n",
              "      background-color: #434B5C;\n",
              "      box-shadow: 0px 1px 3px 1px rgba(0, 0, 0, 0.15);\n",
              "      filter: drop-shadow(0px 1px 2px rgba(0, 0, 0, 0.3));\n",
              "      fill: #FFFFFF;\n",
              "    }\n",
              "  </style>\n",
              "\n",
              "    <script>\n",
              "      const buttonEl =\n",
              "        document.querySelector('#df-6e9f3dd2-3c63-4675-b0a7-f9ac187ed60f button.colab-df-convert');\n",
              "      buttonEl.style.display =\n",
              "        google.colab.kernel.accessAllowed ? 'block' : 'none';\n",
              "\n",
              "      async function convertToInteractive(key) {\n",
              "        const element = document.querySelector('#df-6e9f3dd2-3c63-4675-b0a7-f9ac187ed60f');\n",
              "        const dataTable =\n",
              "          await google.colab.kernel.invokeFunction('convertToInteractive',\n",
              "                                                    [key], {});\n",
              "        if (!dataTable) return;\n",
              "\n",
              "        const docLinkHtml = 'Like what you see? Visit the ' +\n",
              "          '<a target=\"_blank\" href=https://colab.research.google.com/notebooks/data_table.ipynb>data table notebook</a>'\n",
              "          + ' to learn more about interactive tables.';\n",
              "        element.innerHTML = '';\n",
              "        dataTable['output_type'] = 'display_data';\n",
              "        await google.colab.output.renderOutput(dataTable, element);\n",
              "        const docLink = document.createElement('div');\n",
              "        docLink.innerHTML = docLinkHtml;\n",
              "        element.appendChild(docLink);\n",
              "      }\n",
              "    </script>\n",
              "  </div>\n",
              "\n",
              "\n",
              "<div id=\"df-72c441d1-e42b-46e0-b93e-6586adef4059\">\n",
              "  <button class=\"colab-df-quickchart\" onclick=\"quickchart('df-72c441d1-e42b-46e0-b93e-6586adef4059')\"\n",
              "            title=\"Suggest charts.\"\n",
              "            style=\"display:none;\">\n",
              "\n",
              "<svg xmlns=\"http://www.w3.org/2000/svg\" height=\"24px\"viewBox=\"0 0 24 24\"\n",
              "     width=\"24px\">\n",
              "    <g>\n",
              "        <path d=\"M19 3H5c-1.1 0-2 .9-2 2v14c0 1.1.9 2 2 2h14c1.1 0 2-.9 2-2V5c0-1.1-.9-2-2-2zM9 17H7v-7h2v7zm4 0h-2V7h2v10zm4 0h-2v-4h2v4z\"/>\n",
              "    </g>\n",
              "</svg>\n",
              "  </button>\n",
              "\n",
              "<style>\n",
              "  .colab-df-quickchart {\n",
              "      --bg-color: #E8F0FE;\n",
              "      --fill-color: #1967D2;\n",
              "      --hover-bg-color: #E2EBFA;\n",
              "      --hover-fill-color: #174EA6;\n",
              "      --disabled-fill-color: #AAA;\n",
              "      --disabled-bg-color: #DDD;\n",
              "  }\n",
              "\n",
              "  [theme=dark] .colab-df-quickchart {\n",
              "      --bg-color: #3B4455;\n",
              "      --fill-color: #D2E3FC;\n",
              "      --hover-bg-color: #434B5C;\n",
              "      --hover-fill-color: #FFFFFF;\n",
              "      --disabled-bg-color: #3B4455;\n",
              "      --disabled-fill-color: #666;\n",
              "  }\n",
              "\n",
              "  .colab-df-quickchart {\n",
              "    background-color: var(--bg-color);\n",
              "    border: none;\n",
              "    border-radius: 50%;\n",
              "    cursor: pointer;\n",
              "    display: none;\n",
              "    fill: var(--fill-color);\n",
              "    height: 32px;\n",
              "    padding: 0;\n",
              "    width: 32px;\n",
              "  }\n",
              "\n",
              "  .colab-df-quickchart:hover {\n",
              "    background-color: var(--hover-bg-color);\n",
              "    box-shadow: 0 1px 2px rgba(60, 64, 67, 0.3), 0 1px 3px 1px rgba(60, 64, 67, 0.15);\n",
              "    fill: var(--button-hover-fill-color);\n",
              "  }\n",
              "\n",
              "  .colab-df-quickchart-complete:disabled,\n",
              "  .colab-df-quickchart-complete:disabled:hover {\n",
              "    background-color: var(--disabled-bg-color);\n",
              "    fill: var(--disabled-fill-color);\n",
              "    box-shadow: none;\n",
              "  }\n",
              "\n",
              "  .colab-df-spinner {\n",
              "    border: 2px solid var(--fill-color);\n",
              "    border-color: transparent;\n",
              "    border-bottom-color: var(--fill-color);\n",
              "    animation:\n",
              "      spin 1s steps(1) infinite;\n",
              "  }\n",
              "\n",
              "  @keyframes spin {\n",
              "    0% {\n",
              "      border-color: transparent;\n",
              "      border-bottom-color: var(--fill-color);\n",
              "      border-left-color: var(--fill-color);\n",
              "    }\n",
              "    20% {\n",
              "      border-color: transparent;\n",
              "      border-left-color: var(--fill-color);\n",
              "      border-top-color: var(--fill-color);\n",
              "    }\n",
              "    30% {\n",
              "      border-color: transparent;\n",
              "      border-left-color: var(--fill-color);\n",
              "      border-top-color: var(--fill-color);\n",
              "      border-right-color: var(--fill-color);\n",
              "    }\n",
              "    40% {\n",
              "      border-color: transparent;\n",
              "      border-right-color: var(--fill-color);\n",
              "      border-top-color: var(--fill-color);\n",
              "    }\n",
              "    60% {\n",
              "      border-color: transparent;\n",
              "      border-right-color: var(--fill-color);\n",
              "    }\n",
              "    80% {\n",
              "      border-color: transparent;\n",
              "      border-right-color: var(--fill-color);\n",
              "      border-bottom-color: var(--fill-color);\n",
              "    }\n",
              "    90% {\n",
              "      border-color: transparent;\n",
              "      border-bottom-color: var(--fill-color);\n",
              "    }\n",
              "  }\n",
              "</style>\n",
              "\n",
              "  <script>\n",
              "    async function quickchart(key) {\n",
              "      const quickchartButtonEl =\n",
              "        document.querySelector('#' + key + ' button');\n",
              "      quickchartButtonEl.disabled = true;  // To prevent multiple clicks.\n",
              "      quickchartButtonEl.classList.add('colab-df-spinner');\n",
              "      try {\n",
              "        const charts = await google.colab.kernel.invokeFunction(\n",
              "            'suggestCharts', [key], {});\n",
              "      } catch (error) {\n",
              "        console.error('Error during call to suggestCharts:', error);\n",
              "      }\n",
              "      quickchartButtonEl.classList.remove('colab-df-spinner');\n",
              "      quickchartButtonEl.classList.add('colab-df-quickchart-complete');\n",
              "    }\n",
              "    (() => {\n",
              "      let quickchartButtonEl =\n",
              "        document.querySelector('#df-72c441d1-e42b-46e0-b93e-6586adef4059 button');\n",
              "      quickchartButtonEl.style.display =\n",
              "        google.colab.kernel.accessAllowed ? 'block' : 'none';\n",
              "    })();\n",
              "  </script>\n",
              "</div>\n",
              "    </div>\n",
              "  </div>\n"
            ]
          },
          "metadata": {},
          "execution_count": 196
        }
      ]
    },
    {
      "cell_type": "code",
      "source": [
        "# Look for missingness in data\n",
        "df.isnull().sum()"
      ],
      "metadata": {
        "colab": {
          "base_uri": "https://localhost:8080/"
        },
        "id": "cTzQIfQ14oUD",
        "outputId": "7f1190dd-2a7c-427f-9c00-c0cccdced321"
      },
      "execution_count": 197,
      "outputs": [
        {
          "output_type": "execute_result",
          "data": {
            "text/plain": [
              "year                           0\n",
              "quarter                        0\n",
              "bene_geo_desc                  0\n",
              "bene_mdcd_mdcr_enrl_stus       0\n",
              "bene_race_desc                 0\n",
              "bene_sex_desc                  0\n",
              "bene_mdcr_entlmt_stus          0\n",
              "bene_age_desc                  0\n",
              "bene_ruca_desc                 0\n",
              "total_bene_th_elig          2040\n",
              "total_partb_enrl            2040\n",
              "total_bene_telehealth       2058\n",
              "pct_telehealth              2061\n",
              "dtype: int64"
            ]
          },
          "metadata": {},
          "execution_count": 197
        }
      ]
    },
    {
      "cell_type": "code",
      "source": [
        "df.dtypes"
      ],
      "metadata": {
        "colab": {
          "base_uri": "https://localhost:8080/"
        },
        "id": "29jNhi54LIIT",
        "outputId": "2ac0d67c-0a42-4603-b8ce-5c623ee3c8e3"
      },
      "execution_count": 198,
      "outputs": [
        {
          "output_type": "execute_result",
          "data": {
            "text/plain": [
              "year                          int64\n",
              "quarter                      object\n",
              "bene_geo_desc                object\n",
              "bene_mdcd_mdcr_enrl_stus     object\n",
              "bene_race_desc               object\n",
              "bene_sex_desc                object\n",
              "bene_mdcr_entlmt_stus        object\n",
              "bene_age_desc                object\n",
              "bene_ruca_desc               object\n",
              "total_bene_th_elig          float64\n",
              "total_partb_enrl            float64\n",
              "total_bene_telehealth       float64\n",
              "pct_telehealth              float64\n",
              "dtype: object"
            ]
          },
          "metadata": {},
          "execution_count": 198
        }
      ]
    },
    {
      "cell_type": "code",
      "source": [
        "# Converting the 'year' column to a string variable instead of an integer.\n",
        "df['year'] = df['year'].astype(str)\n",
        "df.dtypes"
      ],
      "metadata": {
        "colab": {
          "base_uri": "https://localhost:8080/"
        },
        "id": "zdIXVxPy8HuM",
        "outputId": "91671a1c-f85f-4510-dba4-b5c5ac21765b"
      },
      "execution_count": 199,
      "outputs": [
        {
          "output_type": "execute_result",
          "data": {
            "text/plain": [
              "year                         object\n",
              "quarter                      object\n",
              "bene_geo_desc                object\n",
              "bene_mdcd_mdcr_enrl_stus     object\n",
              "bene_race_desc               object\n",
              "bene_sex_desc                object\n",
              "bene_mdcr_entlmt_stus        object\n",
              "bene_age_desc                object\n",
              "bene_ruca_desc               object\n",
              "total_bene_th_elig          float64\n",
              "total_partb_enrl            float64\n",
              "total_bene_telehealth       float64\n",
              "pct_telehealth              float64\n",
              "dtype: object"
            ]
          },
          "metadata": {},
          "execution_count": 199
        }
      ]
    },
    {
      "cell_type": "markdown",
      "source": [
        "**____________________________________________________________________________________________________________**"
      ],
      "metadata": {
        "id": "m2Ui5yhmVSbW"
      }
    },
    {
      "cell_type": "markdown",
      "source": [
        "# **1. Univariate Analysis**\n",
        "\n",
        ">Performing a univariate analysis of each numerical variable\n",
        "\n"
      ],
      "metadata": {
        "id": "ca1u3yqjBf7y"
      }
    },
    {
      "cell_type": "code",
      "source": [
        "# Summary of statistical measures\n",
        "df.describe()"
      ],
      "metadata": {
        "colab": {
          "base_uri": "https://localhost:8080/",
          "height": 297
        },
        "id": "6yoPTnQvBuMT",
        "outputId": "6d4c110e-4417-4aee-f073-b0b4baab5da4"
      },
      "execution_count": 200,
      "outputs": [
        {
          "output_type": "execute_result",
          "data": {
            "text/plain": [
              "       total_bene_th_elig  total_partb_enrl  total_bene_telehealth  \\\n",
              "count        1.722400e+04      1.722400e+04           1.720600e+04   \n",
              "mean         5.152660e+05      6.501606e+05           1.250889e+05   \n",
              "std          2.107823e+06      2.635736e+06           5.707911e+05   \n",
              "min          1.100000e+01      1.700000e+01           0.000000e+00   \n",
              "25%          1.831050e+04      2.393050e+04           3.783250e+03   \n",
              "50%          8.157700e+04      1.050960e+05           1.581000e+04   \n",
              "75%          2.666505e+05      3.438480e+05           5.468900e+04   \n",
              "max          3.094687e+07      3.234595e+07           1.482693e+07   \n",
              "\n",
              "       pct_telehealth  \n",
              "count    17203.000000  \n",
              "mean         0.244604  \n",
              "std          0.143762  \n",
              "min          0.000000  \n",
              "25%          0.132600  \n",
              "50%          0.211700  \n",
              "75%          0.331850  \n",
              "max          0.820200  "
            ],
            "text/html": [
              "\n",
              "  <div id=\"df-5d79f939-b417-40bf-8d82-f80883c90701\" class=\"colab-df-container\">\n",
              "    <div>\n",
              "<style scoped>\n",
              "    .dataframe tbody tr th:only-of-type {\n",
              "        vertical-align: middle;\n",
              "    }\n",
              "\n",
              "    .dataframe tbody tr th {\n",
              "        vertical-align: top;\n",
              "    }\n",
              "\n",
              "    .dataframe thead th {\n",
              "        text-align: right;\n",
              "    }\n",
              "</style>\n",
              "<table border=\"1\" class=\"dataframe\">\n",
              "  <thead>\n",
              "    <tr style=\"text-align: right;\">\n",
              "      <th></th>\n",
              "      <th>total_bene_th_elig</th>\n",
              "      <th>total_partb_enrl</th>\n",
              "      <th>total_bene_telehealth</th>\n",
              "      <th>pct_telehealth</th>\n",
              "    </tr>\n",
              "  </thead>\n",
              "  <tbody>\n",
              "    <tr>\n",
              "      <th>count</th>\n",
              "      <td>1.722400e+04</td>\n",
              "      <td>1.722400e+04</td>\n",
              "      <td>1.720600e+04</td>\n",
              "      <td>17203.000000</td>\n",
              "    </tr>\n",
              "    <tr>\n",
              "      <th>mean</th>\n",
              "      <td>5.152660e+05</td>\n",
              "      <td>6.501606e+05</td>\n",
              "      <td>1.250889e+05</td>\n",
              "      <td>0.244604</td>\n",
              "    </tr>\n",
              "    <tr>\n",
              "      <th>std</th>\n",
              "      <td>2.107823e+06</td>\n",
              "      <td>2.635736e+06</td>\n",
              "      <td>5.707911e+05</td>\n",
              "      <td>0.143762</td>\n",
              "    </tr>\n",
              "    <tr>\n",
              "      <th>min</th>\n",
              "      <td>1.100000e+01</td>\n",
              "      <td>1.700000e+01</td>\n",
              "      <td>0.000000e+00</td>\n",
              "      <td>0.000000</td>\n",
              "    </tr>\n",
              "    <tr>\n",
              "      <th>25%</th>\n",
              "      <td>1.831050e+04</td>\n",
              "      <td>2.393050e+04</td>\n",
              "      <td>3.783250e+03</td>\n",
              "      <td>0.132600</td>\n",
              "    </tr>\n",
              "    <tr>\n",
              "      <th>50%</th>\n",
              "      <td>8.157700e+04</td>\n",
              "      <td>1.050960e+05</td>\n",
              "      <td>1.581000e+04</td>\n",
              "      <td>0.211700</td>\n",
              "    </tr>\n",
              "    <tr>\n",
              "      <th>75%</th>\n",
              "      <td>2.666505e+05</td>\n",
              "      <td>3.438480e+05</td>\n",
              "      <td>5.468900e+04</td>\n",
              "      <td>0.331850</td>\n",
              "    </tr>\n",
              "    <tr>\n",
              "      <th>max</th>\n",
              "      <td>3.094687e+07</td>\n",
              "      <td>3.234595e+07</td>\n",
              "      <td>1.482693e+07</td>\n",
              "      <td>0.820200</td>\n",
              "    </tr>\n",
              "  </tbody>\n",
              "</table>\n",
              "</div>\n",
              "    <div class=\"colab-df-buttons\">\n",
              "\n",
              "  <div class=\"colab-df-container\">\n",
              "    <button class=\"colab-df-convert\" onclick=\"convertToInteractive('df-5d79f939-b417-40bf-8d82-f80883c90701')\"\n",
              "            title=\"Convert this dataframe to an interactive table.\"\n",
              "            style=\"display:none;\">\n",
              "\n",
              "  <svg xmlns=\"http://www.w3.org/2000/svg\" height=\"24px\" viewBox=\"0 -960 960 960\">\n",
              "    <path d=\"M120-120v-720h720v720H120Zm60-500h600v-160H180v160Zm220 220h160v-160H400v160Zm0 220h160v-160H400v160ZM180-400h160v-160H180v160Zm440 0h160v-160H620v160ZM180-180h160v-160H180v160Zm440 0h160v-160H620v160Z\"/>\n",
              "  </svg>\n",
              "    </button>\n",
              "\n",
              "  <style>\n",
              "    .colab-df-container {\n",
              "      display:flex;\n",
              "      gap: 12px;\n",
              "    }\n",
              "\n",
              "    .colab-df-convert {\n",
              "      background-color: #E8F0FE;\n",
              "      border: none;\n",
              "      border-radius: 50%;\n",
              "      cursor: pointer;\n",
              "      display: none;\n",
              "      fill: #1967D2;\n",
              "      height: 32px;\n",
              "      padding: 0 0 0 0;\n",
              "      width: 32px;\n",
              "    }\n",
              "\n",
              "    .colab-df-convert:hover {\n",
              "      background-color: #E2EBFA;\n",
              "      box-shadow: 0px 1px 2px rgba(60, 64, 67, 0.3), 0px 1px 3px 1px rgba(60, 64, 67, 0.15);\n",
              "      fill: #174EA6;\n",
              "    }\n",
              "\n",
              "    .colab-df-buttons div {\n",
              "      margin-bottom: 4px;\n",
              "    }\n",
              "\n",
              "    [theme=dark] .colab-df-convert {\n",
              "      background-color: #3B4455;\n",
              "      fill: #D2E3FC;\n",
              "    }\n",
              "\n",
              "    [theme=dark] .colab-df-convert:hover {\n",
              "      background-color: #434B5C;\n",
              "      box-shadow: 0px 1px 3px 1px rgba(0, 0, 0, 0.15);\n",
              "      filter: drop-shadow(0px 1px 2px rgba(0, 0, 0, 0.3));\n",
              "      fill: #FFFFFF;\n",
              "    }\n",
              "  </style>\n",
              "\n",
              "    <script>\n",
              "      const buttonEl =\n",
              "        document.querySelector('#df-5d79f939-b417-40bf-8d82-f80883c90701 button.colab-df-convert');\n",
              "      buttonEl.style.display =\n",
              "        google.colab.kernel.accessAllowed ? 'block' : 'none';\n",
              "\n",
              "      async function convertToInteractive(key) {\n",
              "        const element = document.querySelector('#df-5d79f939-b417-40bf-8d82-f80883c90701');\n",
              "        const dataTable =\n",
              "          await google.colab.kernel.invokeFunction('convertToInteractive',\n",
              "                                                    [key], {});\n",
              "        if (!dataTable) return;\n",
              "\n",
              "        const docLinkHtml = 'Like what you see? Visit the ' +\n",
              "          '<a target=\"_blank\" href=https://colab.research.google.com/notebooks/data_table.ipynb>data table notebook</a>'\n",
              "          + ' to learn more about interactive tables.';\n",
              "        element.innerHTML = '';\n",
              "        dataTable['output_type'] = 'display_data';\n",
              "        await google.colab.output.renderOutput(dataTable, element);\n",
              "        const docLink = document.createElement('div');\n",
              "        docLink.innerHTML = docLinkHtml;\n",
              "        element.appendChild(docLink);\n",
              "      }\n",
              "    </script>\n",
              "  </div>\n",
              "\n",
              "\n",
              "<div id=\"df-377b3a1a-d332-46c1-8245-c8045c538e29\">\n",
              "  <button class=\"colab-df-quickchart\" onclick=\"quickchart('df-377b3a1a-d332-46c1-8245-c8045c538e29')\"\n",
              "            title=\"Suggest charts.\"\n",
              "            style=\"display:none;\">\n",
              "\n",
              "<svg xmlns=\"http://www.w3.org/2000/svg\" height=\"24px\"viewBox=\"0 0 24 24\"\n",
              "     width=\"24px\">\n",
              "    <g>\n",
              "        <path d=\"M19 3H5c-1.1 0-2 .9-2 2v14c0 1.1.9 2 2 2h14c1.1 0 2-.9 2-2V5c0-1.1-.9-2-2-2zM9 17H7v-7h2v7zm4 0h-2V7h2v10zm4 0h-2v-4h2v4z\"/>\n",
              "    </g>\n",
              "</svg>\n",
              "  </button>\n",
              "\n",
              "<style>\n",
              "  .colab-df-quickchart {\n",
              "      --bg-color: #E8F0FE;\n",
              "      --fill-color: #1967D2;\n",
              "      --hover-bg-color: #E2EBFA;\n",
              "      --hover-fill-color: #174EA6;\n",
              "      --disabled-fill-color: #AAA;\n",
              "      --disabled-bg-color: #DDD;\n",
              "  }\n",
              "\n",
              "  [theme=dark] .colab-df-quickchart {\n",
              "      --bg-color: #3B4455;\n",
              "      --fill-color: #D2E3FC;\n",
              "      --hover-bg-color: #434B5C;\n",
              "      --hover-fill-color: #FFFFFF;\n",
              "      --disabled-bg-color: #3B4455;\n",
              "      --disabled-fill-color: #666;\n",
              "  }\n",
              "\n",
              "  .colab-df-quickchart {\n",
              "    background-color: var(--bg-color);\n",
              "    border: none;\n",
              "    border-radius: 50%;\n",
              "    cursor: pointer;\n",
              "    display: none;\n",
              "    fill: var(--fill-color);\n",
              "    height: 32px;\n",
              "    padding: 0;\n",
              "    width: 32px;\n",
              "  }\n",
              "\n",
              "  .colab-df-quickchart:hover {\n",
              "    background-color: var(--hover-bg-color);\n",
              "    box-shadow: 0 1px 2px rgba(60, 64, 67, 0.3), 0 1px 3px 1px rgba(60, 64, 67, 0.15);\n",
              "    fill: var(--button-hover-fill-color);\n",
              "  }\n",
              "\n",
              "  .colab-df-quickchart-complete:disabled,\n",
              "  .colab-df-quickchart-complete:disabled:hover {\n",
              "    background-color: var(--disabled-bg-color);\n",
              "    fill: var(--disabled-fill-color);\n",
              "    box-shadow: none;\n",
              "  }\n",
              "\n",
              "  .colab-df-spinner {\n",
              "    border: 2px solid var(--fill-color);\n",
              "    border-color: transparent;\n",
              "    border-bottom-color: var(--fill-color);\n",
              "    animation:\n",
              "      spin 1s steps(1) infinite;\n",
              "  }\n",
              "\n",
              "  @keyframes spin {\n",
              "    0% {\n",
              "      border-color: transparent;\n",
              "      border-bottom-color: var(--fill-color);\n",
              "      border-left-color: var(--fill-color);\n",
              "    }\n",
              "    20% {\n",
              "      border-color: transparent;\n",
              "      border-left-color: var(--fill-color);\n",
              "      border-top-color: var(--fill-color);\n",
              "    }\n",
              "    30% {\n",
              "      border-color: transparent;\n",
              "      border-left-color: var(--fill-color);\n",
              "      border-top-color: var(--fill-color);\n",
              "      border-right-color: var(--fill-color);\n",
              "    }\n",
              "    40% {\n",
              "      border-color: transparent;\n",
              "      border-right-color: var(--fill-color);\n",
              "      border-top-color: var(--fill-color);\n",
              "    }\n",
              "    60% {\n",
              "      border-color: transparent;\n",
              "      border-right-color: var(--fill-color);\n",
              "    }\n",
              "    80% {\n",
              "      border-color: transparent;\n",
              "      border-right-color: var(--fill-color);\n",
              "      border-bottom-color: var(--fill-color);\n",
              "    }\n",
              "    90% {\n",
              "      border-color: transparent;\n",
              "      border-bottom-color: var(--fill-color);\n",
              "    }\n",
              "  }\n",
              "</style>\n",
              "\n",
              "  <script>\n",
              "    async function quickchart(key) {\n",
              "      const quickchartButtonEl =\n",
              "        document.querySelector('#' + key + ' button');\n",
              "      quickchartButtonEl.disabled = true;  // To prevent multiple clicks.\n",
              "      quickchartButtonEl.classList.add('colab-df-spinner');\n",
              "      try {\n",
              "        const charts = await google.colab.kernel.invokeFunction(\n",
              "            'suggestCharts', [key], {});\n",
              "      } catch (error) {\n",
              "        console.error('Error during call to suggestCharts:', error);\n",
              "      }\n",
              "      quickchartButtonEl.classList.remove('colab-df-spinner');\n",
              "      quickchartButtonEl.classList.add('colab-df-quickchart-complete');\n",
              "    }\n",
              "    (() => {\n",
              "      let quickchartButtonEl =\n",
              "        document.querySelector('#df-377b3a1a-d332-46c1-8245-c8045c538e29 button');\n",
              "      quickchartButtonEl.style.display =\n",
              "        google.colab.kernel.accessAllowed ? 'block' : 'none';\n",
              "    })();\n",
              "  </script>\n",
              "</div>\n",
              "    </div>\n",
              "  </div>\n"
            ]
          },
          "metadata": {},
          "execution_count": 200
        }
      ]
    },
    {
      "cell_type": "markdown",
      "source": [
        "### total_bene_th_elig\n",
        "\"Total Telehealth Eligible Users\"\n",
        "\n",
        "This column represents the number of Medicare beneficiaries who received telehealth eligible services (either via Telehealth or non-telehealth)."
      ],
      "metadata": {
        "id": "-Hp2pnXoUNgz"
      }
    },
    {
      "cell_type": "code",
      "source": [
        "# Measures of central tendency\n",
        "mean_elig = df['total_bene_th_elig'].mean()\n",
        "median_elig = df['total_bene_th_elig'].median()\n",
        "mode_elig = df['total_bene_th_elig'].mode().iloc[0]\n",
        "print(f'Mean: {mean_elig} \\n Median: {median_elig} \\n Mode: {mode_elig}')"
      ],
      "metadata": {
        "colab": {
          "base_uri": "https://localhost:8080/"
        },
        "id": "k_g157qGPS_L",
        "outputId": "7c9a8a51-f89f-4ea5-a315-d63bf4aec80a"
      },
      "execution_count": 201,
      "outputs": [
        {
          "output_type": "stream",
          "name": "stdout",
          "text": [
            "Mean: 515266.04638875986 \n",
            " Median: 81577.0 \n",
            " Mode: 339.0\n"
          ]
        }
      ]
    },
    {
      "cell_type": "code",
      "source": [
        "# Measures of spread\n",
        "range_elig = df['total_bene_th_elig'].max() - df['total_bene_th_elig'].min()\n",
        "variance_elig = df['total_bene_th_elig'].var()\n",
        "std_elig = df['total_bene_th_elig'].std()\n",
        "percentile25_elig = df['total_bene_th_elig'].quantile(0.25)\n",
        "percentile50_elig = df['total_bene_th_elig'].quantile(0.5)\n",
        "percentile75_elig = df['total_bene_th_elig'].quantile(0.75)\n",
        "iqr_elig = percentile75_elig - percentile25_elig\n",
        "print(f'Range: {range_elig} \\n Variance: {variance_elig} \\n Standard Deviation: {std_elig}')\n",
        "print(f'25th Percentile: {percentile25_elig} \\n 50th Percentile (Median): {percentile50_elig} \\n 75th Percentile {percentile75_elig} \\n Interquartile Range: {iqr_elig}')"
      ],
      "metadata": {
        "colab": {
          "base_uri": "https://localhost:8080/"
        },
        "id": "d_clq_5iPXGK",
        "outputId": "de8d90ca-e821-40d7-90e8-8c9c936041b1"
      },
      "execution_count": 202,
      "outputs": [
        {
          "output_type": "stream",
          "name": "stdout",
          "text": [
            "Range: 30946863.0 \n",
            " Variance: 4442918756419.851 \n",
            " Standard Deviation: 2107823.2270330098\n",
            "25th Percentile: 18310.5 \n",
            " 50th Percentile (Median): 81577.0 \n",
            " 75th Percentile 266650.5 \n",
            " Interquartile Range: 248340.0\n"
          ]
        }
      ]
    },
    {
      "cell_type": "code",
      "source": [
        "# Visualization\n",
        "plt.hist(df['total_bene_th_elig'], bins=8, density=True, alpha=0.5, color='blue', label='Normal Distribution')\n",
        "plt.title('Distribution of Total Telehealth Eligible Users')\n",
        "plt.xlabel('Value')\n",
        "plt.ylabel('Probability Density')\n",
        "plt.legend()\n",
        "plt.grid(True)\n",
        "plt.show()\n"
      ],
      "metadata": {
        "colab": {
          "base_uri": "https://localhost:8080/",
          "height": 472
        },
        "id": "2ol8W02fVGLY",
        "outputId": "538df1a6-a184-4580-f83b-1a319dd4ca14"
      },
      "execution_count": 213,
      "outputs": [
        {
          "output_type": "display_data",
          "data": {
            "text/plain": [
              "<Figure size 640x480 with 1 Axes>"
            ],
            "image/png": "[encoded data removed]"
          },
          "metadata": {}
        }
      ]
    },
    {
      "cell_type": "markdown",
      "source": [
        "### total_partb_enrl\n",
        "\"Total Medicare Part B Enrollment\"\n",
        "\n",
        "Represents the total Medicare population with Part B Fee-for-Service (FFS) Insurance."
      ],
      "metadata": {
        "id": "xG5EuMdAUxCy"
      }
    },
    {
      "cell_type": "code",
      "source": [
        "# Measures of central tendency\n",
        "mean_partb = df['total_partb_enrl'].mean()\n",
        "median_partb = df['total_partb_enrl'].median()\n",
        "mode_partb = df['total_partb_enrl'].mode().iloc[0]\n",
        "print(f'Mean: {mean_partb} \\n Median: {median_partb} \\n Mode: {mode_partb}')"
      ],
      "metadata": {
        "colab": {
          "base_uri": "https://localhost:8080/"
        },
        "id": "9-DfciZDUKiu",
        "outputId": "d1174fa0-dd55-49d1-daaa-c0c8189bb98e"
      },
      "execution_count": 204,
      "outputs": [
        {
          "output_type": "stream",
          "name": "stdout",
          "text": [
            "Mean: 650160.6333604273 \n",
            " Median: 105096.0 \n",
            " Mode: 436.0\n"
          ]
        }
      ]
    },
    {
      "cell_type": "code",
      "source": [
        "# Measures of spread\n",
        "range_partb = df['total_partb_enrl'].max() - df['total_partb_enrl'].min()\n",
        "variance_partb = df['total_partb_enrl'].var()\n",
        "std_partb = df['total_partb_enrl'].std()\n",
        "percentile25_partb = df['total_partb_enrl'].quantile(0.25)\n",
        "percentile50_partb = df['total_partb_enrl'].quantile(0.5)\n",
        "percentile75_partb = df['total_partb_enrl'].quantile(0.75)\n",
        "iqr_partb = percentile75_partb - percentile25_partb\n",
        "print(f'Range: {range_partb} \\n Variance: {variance_partb} \\n Standard Deviation: {std_partb}')\n",
        "print(f'25th Percentile: {percentile25_partb} \\n 50th Percentile (Median): {percentile50_partb} \\n 75th Percentile {percentile75_partb} \\n Interquartile Range: {iqr_partb}')"
      ],
      "metadata": {
        "colab": {
          "base_uri": "https://localhost:8080/"
        },
        "id": "wq4_rKwwVLmf",
        "outputId": "8de0966e-404f-41ab-eea7-cf5c40ae8280"
      },
      "execution_count": 205,
      "outputs": [
        {
          "output_type": "stream",
          "name": "stdout",
          "text": [
            "Range: 32345936.0 \n",
            " Variance: 6947105630087.491 \n",
            " Standard Deviation: 2635736.2595843105\n",
            "25th Percentile: 23930.5 \n",
            " 50th Percentile (Median): 105096.0 \n",
            " 75th Percentile 343848.0 \n",
            " Interquartile Range: 319917.5\n"
          ]
        }
      ]
    },
    {
      "cell_type": "code",
      "source": [
        "# Visualization\n",
        "plt.hist(df['total_partb_enrl'], bins=8, density=True, alpha=0.5, color='blue', label='Normal Distribution')\n",
        "plt.title('Distribution of Total Medicare Part B Enrollment')\n",
        "plt.xlabel('Value')\n",
        "plt.ylabel('Probability Density')\n",
        "plt.legend()\n",
        "plt.grid(True)\n",
        "plt.show()\n"
      ],
      "metadata": {
        "colab": {
          "base_uri": "https://localhost:8080/",
          "height": 472
        },
        "id": "vuCEvloKVLdZ",
        "outputId": "68e0b89f-205b-44fd-fcc8-a70dd85b737e"
      },
      "execution_count": 214,
      "outputs": [
        {
          "output_type": "display_data",
          "data": {
            "text/plain": [
              "<Figure size 640x480 with 1 Axes>"
            ],
            "image/png": "[encoded data removed]"
          },
          "metadata": {}
        }
      ]
    },
    {
      "cell_type": "markdown",
      "source": [
        "### total_bene_telehealth\n",
        "\"Total Telehealth Users\"\n",
        "\n",
        "Represents the total number of Medicare beneficiaries with telehealth visit (includes audio-only telehealth visits)."
      ],
      "metadata": {
        "id": "67DKGJFzVujg"
      }
    },
    {
      "cell_type": "code",
      "source": [
        "# Measures of central tendency\n",
        "mean_telehealth = df['total_bene_telehealth'].mean()\n",
        "median_telehealth = df['total_bene_telehealth'].median()\n",
        "mode_telehealth = df['total_bene_telehealth'].mode().iloc[0]\n",
        "print(f'Mean: {mean_telehealth} \\n Median: {median_telehealth} \\n Mode: {mode_telehealth}')"
      ],
      "metadata": {
        "colab": {
          "base_uri": "https://localhost:8080/"
        },
        "id": "n3WRdnU5WCWM",
        "outputId": "53179809-6aeb-43a9-b650-22f7bc359569"
      },
      "execution_count": 207,
      "outputs": [
        {
          "output_type": "stream",
          "name": "stdout",
          "text": [
            "Mean: 125088.92031849355 \n",
            " Median: 15810.0 \n",
            " Mode: 23.0\n"
          ]
        }
      ]
    },
    {
      "cell_type": "code",
      "source": [
        "# Measures of spread\n",
        "range_telehealth = df['total_bene_telehealth'].max() - df['total_bene_telehealth'].min()\n",
        "variance_telehealth = df['total_bene_telehealth'].var()\n",
        "std_telehealth = df['total_bene_telehealth'].std()\n",
        "percentile25_telehealth = df['total_bene_telehealth'].quantile(0.25)\n",
        "percentile50_telehealth = df['total_bene_telehealth'].quantile(0.5)\n",
        "percentile75_telehealth = df['total_bene_telehealth'].quantile(0.75)\n",
        "iqr_telehealth = percentile75_telehealth - percentile25_telehealth\n",
        "print(f'Range: {range_telehealth} \\n Variance: {variance_telehealth} \\n Standard Deviation: {std_telehealth}')\n",
        "print(f'25th Percentile: {percentile25_telehealth} \\n 50th Percentile (Median): {percentile50_telehealth} \\n 75th Percentile {percentile75_telehealth} \\n Interquartile Range: {iqr_telehealth}')"
      ],
      "metadata": {
        "colab": {
          "base_uri": "https://localhost:8080/"
        },
        "id": "hPsmk_e0WC4w",
        "outputId": "e5f3e278-4c54-4e19-bbcd-fb8ac1901a48"
      },
      "execution_count": 208,
      "outputs": [
        {
          "output_type": "stream",
          "name": "stdout",
          "text": [
            "Range: 14826931.0 \n",
            " Variance: 325802495871.20233 \n",
            " Standard Deviation: 570791.1140436599\n",
            "25th Percentile: 3783.25 \n",
            " 50th Percentile (Median): 15810.0 \n",
            " 75th Percentile 54689.0 \n",
            " Interquartile Range: 50905.75\n"
          ]
        }
      ]
    },
    {
      "cell_type": "code",
      "source": [
        "# Visualization\n",
        "plt.hist(df['total_bene_telehealth'], bins=8, density=True, alpha=0.5, color='blue', label='Normal Distribution')\n",
        "plt.title('Distribution of Total Telehealth Users')\n",
        "plt.xlabel('Value')\n",
        "plt.ylabel('Probability Density')\n",
        "plt.legend()\n",
        "plt.grid(True)\n",
        "plt.show()\n"
      ],
      "metadata": {
        "colab": {
          "base_uri": "https://localhost:8080/",
          "height": 472
        },
        "id": "0ZZokHeJWCvs",
        "outputId": "3c32a014-2ea4-4d3f-a42d-3569361853ef"
      },
      "execution_count": 215,
      "outputs": [
        {
          "output_type": "display_data",
          "data": {
            "text/plain": [
              "<Figure size 640x480 with 1 Axes>"
            ],
            "image/png": "[encoded data removed]"
          },
          "metadata": {}
        }
      ]
    },
    {
      "cell_type": "markdown",
      "source": [
        "### pct_telehealth\n",
        "\"Percentage of Medicare Users with a Telehealth Service\"\n",
        "\n",
        "Represents the percent of Medicare users who received at least one telehealth service. Calculated by dividing Total Telehealth Users (total_bene_telehealth) by Total Telehealth Eligible Users (total_bene_th_elig)."
      ],
      "metadata": {
        "id": "m8FsckcWWKAI"
      }
    },
    {
      "cell_type": "code",
      "source": [
        "# Measures of central tendency\n",
        "mean_pct = df['pct_telehealth'].mean()\n",
        "median_pct = df['pct_telehealth'].median()\n",
        "mode_pct = df['pct_telehealth'].mode().iloc[0]\n",
        "print(f'Mean: {mean_pct} \\n Median: {median_pct} \\n Mode: {mode_pct}')"
      ],
      "metadata": {
        "colab": {
          "base_uri": "https://localhost:8080/"
        },
        "id": "fSwsTH1cXNDn",
        "outputId": "4af6478f-4bb2-4d04-ebf9-5b70d9d2e349"
      },
      "execution_count": 210,
      "outputs": [
        {
          "output_type": "stream",
          "name": "stdout",
          "text": [
            "Mean: 0.2446041969423938 \n",
            " Median: 0.2117 \n",
            " Mode: 0.0668\n"
          ]
        }
      ]
    },
    {
      "cell_type": "code",
      "source": [
        "# Measures of spread\n",
        "range_pct = df['pct_telehealth'].max() - df['pct_telehealth'].min()\n",
        "variance_pct = df['pct_telehealth'].var()\n",
        "std_pct = df['pct_telehealth'].std()\n",
        "percentile25_pct = df['pct_telehealth'].quantile(0.25)\n",
        "percentile50_pct = df['pct_telehealth'].quantile(0.5)\n",
        "percentile75_pct = df['pct_telehealth'].quantile(0.75)\n",
        "iqr_pct = percentile75_pct - percentile25_pct\n",
        "print(f'Range: {range_pct} \\n Variance: {variance_pct} \\n Standard Deviation: {std_pct}')\n",
        "print(f'25th Percentile: {percentile25_pct} \\n 50th Percentile (Median): {percentile50_pct} \\n 75th Percentile {percentile75_pct} \\n Interquartile Range: {iqr_pct}')"
      ],
      "metadata": {
        "colab": {
          "base_uri": "https://localhost:8080/"
        },
        "id": "0A8kjRZTXM8j",
        "outputId": "7179d21e-f56c-4596-b6ff-d1dae7800b93"
      },
      "execution_count": 211,
      "outputs": [
        {
          "output_type": "stream",
          "name": "stdout",
          "text": [
            "Range: 0.8202 \n",
            " Variance: 0.020667650874141425 \n",
            " Standard Deviation: 0.143762480759555\n",
            "25th Percentile: 0.1326 \n",
            " 50th Percentile (Median): 0.2117 \n",
            " 75th Percentile 0.33185 \n",
            " Interquartile Range: 0.19924999999999998\n"
          ]
        }
      ]
    },
    {
      "cell_type": "code",
      "source": [
        "# Visualization\n",
        "plt.hist(df['pct_telehealth'], bins=30, density=True, alpha=0.5, color='blue', label='Normal Distribution')\n",
        "plt.title('Distribution of Total Medicare Part B Enrollment')\n",
        "plt.xlabel('Value')\n",
        "plt.ylabel('Probability Density')\n",
        "plt.legend()\n",
        "plt.grid(True)\n",
        "plt.show()\n"
      ],
      "metadata": {
        "colab": {
          "base_uri": "https://localhost:8080/",
          "height": 472
        },
        "id": "ygkR_iThXM0Q",
        "outputId": "5362cb78-d53c-47aa-a910-2dc4aeee24de"
      },
      "execution_count": 212,
      "outputs": [
        {
          "output_type": "display_data",
          "data": {
            "text/plain": [
              "<Figure size 640x480 with 1 Axes>"
            ],
            "image/png": "[encoded data removed]"
          },
          "metadata": {}
        }
      ]
    },
    {
      "cell_type": "markdown",
      "source": [
        "**____________________________________________________________________________________________________________**"
      ],
      "metadata": {
        "id": "henj_B6vVakD"
      }
    },
    {
      "cell_type": "markdown",
      "source": [
        "# **2. Bivariate Analysis**"
      ],
      "metadata": {
        "id": "imqtcuXkBqJ-"
      }
    },
    {
      "cell_type": "code",
      "source": [],
      "metadata": {
        "id": "Uu4F-n5mBydA"
      },
      "execution_count": null,
      "outputs": []
    },
    {
      "cell_type": "markdown",
      "source": [
        "**____________________________________________________________________________________________________________**"
      ],
      "metadata": {
        "id": "ombthxUlVg0F"
      }
    },
    {
      "cell_type": "markdown",
      "source": [
        "# **3. Handling Outliers**"
      ],
      "metadata": {
        "id": "StwUPpRGBymk"
      }
    },
    {
      "cell_type": "code",
      "source": [],
      "metadata": {
        "id": "viUk1vTSB4vT"
      },
      "execution_count": null,
      "outputs": []
    },
    {
      "cell_type": "markdown",
      "source": [
        "**____________________________________________________________________________________________________________**"
      ],
      "metadata": {
        "id": "8ANRLlwqVkWG"
      }
    },
    {
      "cell_type": "markdown",
      "source": [
        "# **4. Automated Analysis**"
      ],
      "metadata": {
        "id": "toOBbNWHB8Pv"
      }
    },
    {
      "cell_type": "markdown",
      "source": [],
      "metadata": {
        "id": "Q0h0kZGbB-QL"
      }
    }
  ]
}